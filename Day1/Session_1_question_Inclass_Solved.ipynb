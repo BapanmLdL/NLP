{
 "cells": [
  {
   "cell_type": "code",
   "execution_count": null,
   "metadata": {
    "id": "tlM6Wrr1X2Od"
   },
   "outputs": [],
   "source": []
  },
  {
   "cell_type": "markdown",
   "metadata": {
    "id": "ELKoW_4xgr2T"
   },
   "source": [
    "# 1.Import the packages"
   ]
  },
  {
   "cell_type": "code",
   "execution_count": 1,
   "metadata": {
    "id": "NV-sKoldw8at"
   },
   "outputs": [],
   "source": [
    "import numpy as np\n",
    "import pandas as pd"
   ]
  },
  {
   "cell_type": "markdown",
   "metadata": {
    "id": "yqD5wboL06eJ"
   },
   "source": [
    "# 2.Reading the data"
   ]
  },
  {
   "cell_type": "markdown",
   "metadata": {
    "id": "i8n3VBOcxb4r"
   },
   "source": [
    "We will employ a text categorization dataset based on Reviews. Each article is assigned a specific captegory. \n",
    "#### Implement the code to load the dataset.(Hint: Use the pandas library to load the csv file.)"
   ]
  },
  {
   "cell_type": "code",
   "execution_count": 2,
   "metadata": {
    "id": "-Qf7hD11xC5n"
   },
   "outputs": [],
   "source": [
    "df = pd.read_csv(\"bbc-text.csv\")"
   ]
  },
  {
   "cell_type": "code",
   "execution_count": 3,
   "metadata": {},
   "outputs": [
    {
     "data": {
      "text/html": [
       "<div>\n",
       "<style scoped>\n",
       "    .dataframe tbody tr th:only-of-type {\n",
       "        vertical-align: middle;\n",
       "    }\n",
       "\n",
       "    .dataframe tbody tr th {\n",
       "        vertical-align: top;\n",
       "    }\n",
       "\n",
       "    .dataframe thead th {\n",
       "        text-align: right;\n",
       "    }\n",
       "</style>\n",
       "<table border=\"1\" class=\"dataframe\">\n",
       "  <thead>\n",
       "    <tr style=\"text-align: right;\">\n",
       "      <th></th>\n",
       "      <th>category</th>\n",
       "      <th>text</th>\n",
       "    </tr>\n",
       "  </thead>\n",
       "  <tbody>\n",
       "    <tr>\n",
       "      <th>0</th>\n",
       "      <td>tech</td>\n",
       "      <td>tv future in the hands of viewers with home th...</td>\n",
       "    </tr>\n",
       "    <tr>\n",
       "      <th>1</th>\n",
       "      <td>business</td>\n",
       "      <td>worldcom boss  left books alone  former worldc...</td>\n",
       "    </tr>\n",
       "    <tr>\n",
       "      <th>2</th>\n",
       "      <td>sport</td>\n",
       "      <td>tigers wary of farrell  gamble  leicester say ...</td>\n",
       "    </tr>\n",
       "    <tr>\n",
       "      <th>3</th>\n",
       "      <td>sport</td>\n",
       "      <td>yeading face newcastle in fa cup premiership s...</td>\n",
       "    </tr>\n",
       "    <tr>\n",
       "      <th>4</th>\n",
       "      <td>entertainment</td>\n",
       "      <td>ocean s twelve raids box office ocean s twelve...</td>\n",
       "    </tr>\n",
       "  </tbody>\n",
       "</table>\n",
       "</div>"
      ],
      "text/plain": [
       "        category                                               text\n",
       "0           tech  tv future in the hands of viewers with home th...\n",
       "1       business  worldcom boss  left books alone  former worldc...\n",
       "2          sport  tigers wary of farrell  gamble  leicester say ...\n",
       "3          sport  yeading face newcastle in fa cup premiership s...\n",
       "4  entertainment  ocean s twelve raids box office ocean s twelve..."
      ]
     },
     "execution_count": 3,
     "metadata": {},
     "output_type": "execute_result"
    }
   ],
   "source": [
    "df.head()"
   ]
  },
  {
   "cell_type": "code",
   "execution_count": 4,
   "metadata": {},
   "outputs": [
    {
     "data": {
      "text/plain": [
       "(2225, 2)"
      ]
     },
     "execution_count": 4,
     "metadata": {},
     "output_type": "execute_result"
    }
   ],
   "source": [
    "df.shape"
   ]
  },
  {
   "cell_type": "code",
   "execution_count": 5,
   "metadata": {},
   "outputs": [
    {
     "data": {
      "text/plain": [
       "category    0\n",
       "text        0\n",
       "dtype: int64"
      ]
     },
     "execution_count": 5,
     "metadata": {},
     "output_type": "execute_result"
    }
   ],
   "source": [
    "df.isnull().sum()"
   ]
  },
  {
   "cell_type": "markdown",
   "metadata": {
    "id": "ohaWN5kbyENg"
   },
   "source": [
    "# Create a function called \"Report\" to store the news text ."
   ]
  },
  {
   "cell_type": "code",
   "execution_count": 6,
   "metadata": {
    "id": "rITP99BYxE0Z"
   },
   "outputs": [],
   "source": [
    "Report = df[\"text\"]"
   ]
  },
  {
   "cell_type": "code",
   "execution_count": 7,
   "metadata": {},
   "outputs": [
    {
     "data": {
      "text/plain": [
       "0       tv future in the hands of viewers with home th...\n",
       "1       worldcom boss  left books alone  former worldc...\n",
       "2       tigers wary of farrell  gamble  leicester say ...\n",
       "3       yeading face newcastle in fa cup premiership s...\n",
       "4       ocean s twelve raids box office ocean s twelve...\n",
       "                              ...                        \n",
       "2220    cars pull down us retail figures us retail sal...\n",
       "2221    kilroy unveils immigration policy ex-chatshow ...\n",
       "2222    rem announce new glasgow concert us band rem h...\n",
       "2223    how political squabbles snowball it s become c...\n",
       "2224    souness delight at euro progress boss graeme s...\n",
       "Name: text, Length: 2225, dtype: object"
      ]
     },
     "execution_count": 7,
     "metadata": {},
     "output_type": "execute_result"
    }
   ],
   "source": [
    "Report"
   ]
  },
  {
   "cell_type": "markdown",
   "metadata": {
    "id": "lwVN_hQ_09r0"
   },
   "source": [
    "# 3.Proccessing the Data"
   ]
  },
  {
   "cell_type": "markdown",
   "metadata": {
    "id": "BMQDwUEZyl-t"
   },
   "source": [
    "We will use the above function here to create a list of list that will store each complaint tokenized into separate words.(Hint: Use regular expression based tokenizer.)"
   ]
  },
  {
   "cell_type": "markdown",
   "metadata": {
    "id": "bPJesTws2BN6"
   },
   "source": [
    "## 3.1.Tokenize"
   ]
  },
  {
   "cell_type": "code",
   "execution_count": 8,
   "metadata": {
    "id": "6wQK9LWsxGkA"
   },
   "outputs": [],
   "source": [
    "from nltk import word_tokenize"
   ]
  },
  {
   "cell_type": "code",
   "execution_count": 9,
   "metadata": {},
   "outputs": [
    {
     "name": "stdout",
     "output_type": "stream",
     "text": [
      "tv future in the hands of viewers with home theatre systems  plasma high-definition tvs  and digital video recorders moving into the living room  the way people watch tv will be radically different in five years  time.  that is according to an expert panel which gathered at the annual consumer electronics show in las vegas to discuss how these new technologies will impact one of our favourite pastimes. with the us leading the trend  programmes and other content will be delivered to viewers via home networks  through cable  satellite  telecoms companies  and broadband service providers to front rooms and portable devices.  one of the most talked-about technologies of ces has been digital and personal video recorders (dvr and pvr). these set-top boxes  like the us s tivo and the uk s sky+ system  allow people to record  store  play  pause and forward wind tv programmes when they want.  essentially  the technology allows for much more personalised tv. they are also being built-in to high-definition tv sets  which are big business in japan and the us  but slower to take off in europe because of the lack of high-definition programming. not only can people forward wind through adverts  they can also forget about abiding by network and channel schedules  putting together their own a-la-carte entertainment. but some us networks and cable and satellite companies are worried about what it means for them in terms of advertising revenues as well as  brand identity  and viewer loyalty to channels. although the us leads in this technology at the moment  it is also a concern that is being raised in europe  particularly with the growing uptake of services like sky+.  what happens here today  we will see in nine months to a years  time in the uk   adam hume  the bbc broadcast s futurologist told the bbc news website. for the likes of the bbc  there are no issues of lost advertising revenue yet. it is a more pressing issue at the moment for commercial uk broadcasters  but brand loyalty is important for everyone.  we will be talking more about content brands rather than network brands   said tim hanlon  from brand communications firm starcom mediavest.  the reality is that with broadband connections  anybody can be the producer of content.  he added:  the challenge now is that it is hard to promote a programme with so much choice.   what this means  said stacey jolna  senior vice president of tv guide tv group  is that the way people find the content they want to watch has to be simplified for tv viewers. it means that networks  in us terms  or channels could take a leaf out of google s book and be the search engine of the future  instead of the scheduler to help people find what they want to watch. this kind of channel model might work for the younger ipod generation which is used to taking control of their gadgets and what they play on them. but it might not suit everyone  the panel recognised. older generations are more comfortable with familiar schedules and channel brands because they know what they are getting. they perhaps do not want so much of the choice put into their hands  mr hanlon suggested.  on the other end  you have the kids just out of diapers who are pushing buttons already - everything is possible and available to them   said mr hanlon.  ultimately  the consumer will tell the market they want.   of the 50 000 new gadgets and technologies being showcased at ces  many of them are about enhancing the tv-watching experience. high-definition tv sets are everywhere and many new models of lcd (liquid crystal display) tvs have been launched with dvr capability built into them  instead of being external boxes. one such example launched at the show is humax s 26-inch lcd tv with an 80-hour tivo dvr and dvd recorder. one of the us s biggest satellite tv companies  directtv  has even launched its own branded dvr at the show with 100-hours of recording capability  instant replay  and a search function. the set can pause and rewind tv for up to 90 hours. and microsoft chief bill gates announced in his pre-show keynote speech a partnership with tivo  called tivotogo  which means people can play recorded programmes on windows pcs and mobile devices. all these reflect the increasing trend of freeing up multimedia so that people can watch what they want  when they want.\n",
      "4333\n"
     ]
    }
   ],
   "source": [
    "word = []\n",
    "for file_id in Report:\n",
    "    print(file_id)\n",
    "    print(len(file_id))\n",
    "    #words = word_tokenize(file_id)\n",
    "    #print(words)\n",
    "    break"
   ]
  },
  {
   "cell_type": "code",
   "execution_count": 10,
   "metadata": {},
   "outputs": [
    {
     "name": "stdout",
     "output_type": "stream",
     "text": [
      "['tv', 'future', 'in', 'the', 'hands', 'of', 'viewers', 'with', 'home', 'theatre', 'systems', 'plasma', 'high-definition', 'tvs', 'and', 'digital', 'video', 'recorders', 'moving', 'into', 'the', 'living', 'room', 'the', 'way', 'people', 'watch', 'tv', 'will', 'be', 'radically', 'different', 'in', 'five', 'years', 'time', '.', 'that', 'is', 'according', 'to', 'an', 'expert', 'panel', 'which', 'gathered', 'at', 'the', 'annual', 'consumer', 'electronics', 'show', 'in', 'las', 'vegas', 'to', 'discuss', 'how', 'these', 'new', 'technologies', 'will', 'impact', 'one', 'of', 'our', 'favourite', 'pastimes', '.', 'with', 'the', 'us', 'leading', 'the', 'trend', 'programmes', 'and', 'other', 'content', 'will', 'be', 'delivered', 'to', 'viewers', 'via', 'home', 'networks', 'through', 'cable', 'satellite', 'telecoms', 'companies', 'and', 'broadband', 'service', 'providers', 'to', 'front', 'rooms', 'and', 'portable', 'devices', '.', 'one', 'of', 'the', 'most', 'talked-about', 'technologies', 'of', 'ces', 'has', 'been', 'digital', 'and', 'personal', 'video', 'recorders', '(', 'dvr', 'and', 'pvr', ')', '.', 'these', 'set-top', 'boxes', 'like', 'the', 'us', 's', 'tivo', 'and', 'the', 'uk', 's', 'sky+', 'system', 'allow', 'people', 'to', 'record', 'store', 'play', 'pause', 'and', 'forward', 'wind', 'tv', 'programmes', 'when', 'they', 'want', '.', 'essentially', 'the', 'technology', 'allows', 'for', 'much', 'more', 'personalised', 'tv', '.', 'they', 'are', 'also', 'being', 'built-in', 'to', 'high-definition', 'tv', 'sets', 'which', 'are', 'big', 'business', 'in', 'japan', 'and', 'the', 'us', 'but', 'slower', 'to', 'take', 'off', 'in', 'europe', 'because', 'of', 'the', 'lack', 'of', 'high-definition', 'programming', '.', 'not', 'only', 'can', 'people', 'forward', 'wind', 'through', 'adverts', 'they', 'can', 'also', 'forget', 'about', 'abiding', 'by', 'network', 'and', 'channel', 'schedules', 'putting', 'together', 'their', 'own', 'a-la-carte', 'entertainment', '.', 'but', 'some', 'us', 'networks', 'and', 'cable', 'and', 'satellite', 'companies', 'are', 'worried', 'about', 'what', 'it', 'means', 'for', 'them', 'in', 'terms', 'of', 'advertising', 'revenues', 'as', 'well', 'as', 'brand', 'identity', 'and', 'viewer', 'loyalty', 'to', 'channels', '.', 'although', 'the', 'us', 'leads', 'in', 'this', 'technology', 'at', 'the', 'moment', 'it', 'is', 'also', 'a', 'concern', 'that', 'is', 'being', 'raised', 'in', 'europe', 'particularly', 'with', 'the', 'growing', 'uptake', 'of', 'services', 'like', 'sky+', '.', 'what', 'happens', 'here', 'today', 'we', 'will', 'see', 'in', 'nine', 'months', 'to', 'a', 'years', 'time', 'in', 'the', 'uk', 'adam', 'hume', 'the', 'bbc', 'broadcast', 's', 'futurologist', 'told', 'the', 'bbc', 'news', 'website', '.', 'for', 'the', 'likes', 'of', 'the', 'bbc', 'there', 'are', 'no', 'issues', 'of', 'lost', 'advertising', 'revenue', 'yet', '.', 'it', 'is', 'a', 'more', 'pressing', 'issue', 'at', 'the', 'moment', 'for', 'commercial', 'uk', 'broadcasters', 'but', 'brand', 'loyalty', 'is', 'important', 'for', 'everyone', '.', 'we', 'will', 'be', 'talking', 'more', 'about', 'content', 'brands', 'rather', 'than', 'network', 'brands', 'said', 'tim', 'hanlon', 'from', 'brand', 'communications', 'firm', 'starcom', 'mediavest', '.', 'the', 'reality', 'is', 'that', 'with', 'broadband', 'connections', 'anybody', 'can', 'be', 'the', 'producer', 'of', 'content', '.', 'he', 'added', ':', 'the', 'challenge', 'now', 'is', 'that', 'it', 'is', 'hard', 'to', 'promote', 'a', 'programme', 'with', 'so', 'much', 'choice', '.', 'what', 'this', 'means', 'said', 'stacey', 'jolna', 'senior', 'vice', 'president', 'of', 'tv', 'guide', 'tv', 'group', 'is', 'that', 'the', 'way', 'people', 'find', 'the', 'content', 'they', 'want', 'to', 'watch', 'has', 'to', 'be', 'simplified', 'for', 'tv', 'viewers', '.', 'it', 'means', 'that', 'networks', 'in', 'us', 'terms', 'or', 'channels', 'could', 'take', 'a', 'leaf', 'out', 'of', 'google', 's', 'book', 'and', 'be', 'the', 'search', 'engine', 'of', 'the', 'future', 'instead', 'of', 'the', 'scheduler', 'to', 'help', 'people', 'find', 'what', 'they', 'want', 'to', 'watch', '.', 'this', 'kind', 'of', 'channel', 'model', 'might', 'work', 'for', 'the', 'younger', 'ipod', 'generation', 'which', 'is', 'used', 'to', 'taking', 'control', 'of', 'their', 'gadgets', 'and', 'what', 'they', 'play', 'on', 'them', '.', 'but', 'it', 'might', 'not', 'suit', 'everyone', 'the', 'panel', 'recognised', '.', 'older', 'generations', 'are', 'more', 'comfortable', 'with', 'familiar', 'schedules', 'and', 'channel', 'brands', 'because', 'they', 'know', 'what', 'they', 'are', 'getting', '.', 'they', 'perhaps', 'do', 'not', 'want', 'so', 'much', 'of', 'the', 'choice', 'put', 'into', 'their', 'hands', 'mr', 'hanlon', 'suggested', '.', 'on', 'the', 'other', 'end', 'you', 'have', 'the', 'kids', 'just', 'out', 'of', 'diapers', 'who', 'are', 'pushing', 'buttons', 'already', '-', 'everything', 'is', 'possible', 'and', 'available', 'to', 'them', 'said', 'mr', 'hanlon', '.', 'ultimately', 'the', 'consumer', 'will', 'tell', 'the', 'market', 'they', 'want', '.', 'of', 'the', '50', '000', 'new', 'gadgets', 'and', 'technologies', 'being', 'showcased', 'at', 'ces', 'many', 'of', 'them', 'are', 'about', 'enhancing', 'the', 'tv-watching', 'experience', '.', 'high-definition', 'tv', 'sets', 'are', 'everywhere', 'and', 'many', 'new', 'models', 'of', 'lcd', '(', 'liquid', 'crystal', 'display', ')', 'tvs', 'have', 'been', 'launched', 'with', 'dvr', 'capability', 'built', 'into', 'them', 'instead', 'of', 'being', 'external', 'boxes', '.', 'one', 'such', 'example', 'launched', 'at', 'the', 'show', 'is', 'humax', 's', '26-inch', 'lcd', 'tv', 'with', 'an', '80-hour', 'tivo', 'dvr', 'and', 'dvd', 'recorder', '.', 'one', 'of', 'the', 'us', 's', 'biggest', 'satellite', 'tv', 'companies', 'directtv', 'has', 'even', 'launched', 'its', 'own', 'branded', 'dvr', 'at', 'the', 'show', 'with', '100-hours', 'of', 'recording', 'capability', 'instant', 'replay', 'and', 'a', 'search', 'function', '.', 'the', 'set', 'can', 'pause', 'and', 'rewind', 'tv', 'for', 'up', 'to', '90', 'hours', '.', 'and', 'microsoft', 'chief', 'bill', 'gates', 'announced', 'in', 'his', 'pre-show', 'keynote', 'speech', 'a', 'partnership', 'with', 'tivo', 'called', 'tivotogo', 'which', 'means', 'people', 'can', 'play', 'recorded', 'programmes', 'on', 'windows', 'pcs', 'and', 'mobile', 'devices', '.', 'all', 'these', 'reflect', 'the', 'increasing', 'trend', 'of', 'freeing', 'up', 'multimedia', 'so', 'that', 'people', 'can', 'watch', 'what', 'they', 'want', 'when', 'they', 'want', '.']\n",
      "773\n"
     ]
    }
   ],
   "source": [
    "word = []\n",
    "for file_id in Report:\n",
    "    words = word_tokenize(file_id)\n",
    "    print(words)\n",
    "    print(len(words))\n",
    "    break\n",
    "    #word.extend(words)"
   ]
  },
  {
   "cell_type": "code",
   "execution_count": 11,
   "metadata": {},
   "outputs": [
    {
     "name": "stdout",
     "output_type": "stream",
     "text": [
      "['tv', 'future', 'in', 'the', 'hands', 'of', 'viewers', 'with', 'home', 'theatre', 'systems', 'plasma', 'high-definition', 'tvs', 'and', 'digital', 'video', 'recorders', 'moving', 'into', 'the', 'living', 'room', 'the', 'way', 'people', 'watch', 'tv', 'will', 'be', 'radically', 'different', 'in', 'five', 'years', 'time', '.', 'that', 'is', 'according', 'to', 'an', 'expert', 'panel', 'which', 'gathered', 'at', 'the', 'annual', 'consumer', 'electronics', 'show', 'in', 'las', 'vegas', 'to', 'discuss', 'how', 'these', 'new', 'technologies', 'will', 'impact', 'one', 'of', 'our', 'favourite', 'pastimes', '.', 'with', 'the', 'us', 'leading', 'the', 'trend', 'programmes', 'and', 'other', 'content', 'will', 'be', 'delivered', 'to', 'viewers', 'via', 'home', 'networks', 'through', 'cable', 'satellite', 'telecoms', 'companies', 'and', 'broadband', 'service', 'providers', 'to', 'front', 'rooms', 'and']\n"
     ]
    }
   ],
   "source": [
    "word = []\n",
    "for file_id in Report:\n",
    "    words = word_tokenize(file_id)\n",
    "    word.extend(words)\n",
    "print(word[0:100])"
   ]
  },
  {
   "cell_type": "code",
   "execution_count": 12,
   "metadata": {},
   "outputs": [
    {
     "data": {
      "text/plain": [
       "917611"
      ]
     },
     "execution_count": 12,
     "metadata": {},
     "output_type": "execute_result"
    }
   ],
   "source": [
    "len(word)"
   ]
  },
  {
   "cell_type": "markdown",
   "metadata": {
    "id": "aleHavwG1Ihn"
   },
   "source": [
    "## 3.2.Lower Case"
   ]
  },
  {
   "cell_type": "code",
   "execution_count": 13,
   "metadata": {
    "id": "_zs1dFOIxJxu"
   },
   "outputs": [
    {
     "name": "stdout",
     "output_type": "stream",
     "text": [
      "['tv', 'future', 'in', 'the', 'hands', 'of', 'viewers', 'with', 'home', 'theatre', 'systems', 'plasma', 'high-definition', 'tvs', 'and', 'digital', 'video', 'recorders', 'moving', 'into', 'the', 'living', 'room', 'the', 'way', 'people', 'watch', 'tv', 'will', 'be', 'radically', 'different', 'in', 'five', 'years', 'time', '.', 'that', 'is', 'according', 'to', 'an', 'expert', 'panel', 'which', 'gathered', 'at', 'the', 'annual', 'consumer', 'electronics', 'show', 'in', 'las', 'vegas', 'to', 'discuss', 'how', 'these', 'new', 'technologies', 'will', 'impact', 'one', 'of', 'our', 'favourite', 'pastimes', '.', 'with', 'the', 'us', 'leading', 'the', 'trend', 'programmes', 'and', 'other', 'content', 'will', 'be', 'delivered', 'to', 'viewers', 'via', 'home', 'networks', 'through', 'cable', 'satellite', 'telecoms', 'companies', 'and', 'broadband', 'service', 'providers', 'to', 'front', 'rooms', 'and']\n"
     ]
    }
   ],
   "source": [
    "vocab = [w.lower() for w in word]\n",
    "print(vocab[0:100])"
   ]
  },
  {
   "cell_type": "code",
   "execution_count": 33,
   "metadata": {},
   "outputs": [
    {
     "data": {
      "text/plain": [
       "917611"
      ]
     },
     "execution_count": 33,
     "metadata": {},
     "output_type": "execute_result"
    }
   ],
   "source": [
    "len(vocab)"
   ]
  },
  {
   "cell_type": "markdown",
   "metadata": {
    "id": "DFzCpnAr9Bw0"
   },
   "source": [
    "## 3.3.Removing Stopwords"
   ]
  },
  {
   "cell_type": "markdown",
   "metadata": {
    "id": "5V3POzrb2hfU"
   },
   "source": [
    "### 3.3.1.Removing Punctuation"
   ]
  },
  {
   "cell_type": "code",
   "execution_count": 17,
   "metadata": {},
   "outputs": [],
   "source": [
    "import nltk\n",
    "from nltk.corpus import reuters\n",
    "from string import punctuation\n",
    "from nltk.corpus import stopwords"
   ]
  },
  {
   "cell_type": "code",
   "execution_count": 19,
   "metadata": {
    "id": "kL6ti-96xK_k"
   },
   "outputs": [
    {
     "name": "stderr",
     "output_type": "stream",
     "text": [
      "[nltk_data] Downloading package punkt to\n",
      "[nltk_data]     C:\\Users\\bapan\\AppData\\Roaming\\nltk_data...\n",
      "[nltk_data]   Package punkt is already up-to-date!\n"
     ]
    },
    {
     "data": {
      "text/plain": [
       "True"
      ]
     },
     "execution_count": 19,
     "metadata": {},
     "output_type": "execute_result"
    }
   ],
   "source": [
    "nltk.download('punkt')"
   ]
  },
  {
   "cell_type": "code",
   "execution_count": 26,
   "metadata": {},
   "outputs": [],
   "source": [
    "puncList = [\";\", \":\", \"!\", \"?\", \"/\", \"\\\\\", \",\", \"#\", \"@\", \"$\", \"&\", \")\", \"(\", \"\\\"\" ]"
   ]
  },
  {
   "cell_type": "code",
   "execution_count": 24,
   "metadata": {},
   "outputs": [
    {
     "name": "stdout",
     "output_type": "stream",
     "text": [
      "['portable', 'devices', '.', 'one', 'of', 'the', 'most', 'talked-about', 'technologies', 'of', 'ces', 'has', 'been', 'digital', 'and', 'personal', 'video', 'recorders', '(', 'dvr', 'and', 'pvr', ')', '.', 'these', 'set-top', 'boxes', 'like', 'the', 'us', 's', 'tivo', 'and', 'the', 'uk', 's', 'sky+', 'system', 'allow', 'people', 'to', 'record', 'store', 'play', 'pause', 'and', 'forward', 'wind', 'tv', 'programmes', 'when', 'they', 'want', '.', 'essentially', 'the', 'technology', 'allows', 'for', 'much', 'more', 'personalised', 'tv', '.', 'they', 'are', 'also', 'being', 'built-in', 'to', 'high-definition', 'tv', 'sets', 'which', 'are', 'big', 'business', 'in', 'japan', 'and', 'the', 'us', 'but', 'slower', 'to', 'take', 'off', 'in', 'europe', 'because', 'of', 'the', 'lack', 'of', 'high-definition', 'programming', '.', 'not', 'only', 'can']\n",
      "\n",
      "['portable', 'devices', '.', 'one', 'of', 'the', 'most', 'talked-about', 'technologies', 'of', 'ces', 'has', 'been', 'digital', 'and', 'personal', 'video', 'recorders', 'dvr', 'and', 'pvr', '.', 'these', 'set-top', 'boxes', 'like', 'the', 'us', 's', 'tivo', 'and', 'the', 'uk', 's', 'sky+', 'system', 'allow', 'people', 'to', 'record', 'store', 'play', 'pause', 'and', 'forward', 'wind', 'tv', 'programmes', 'when', 'they', 'want', '.', 'essentially', 'the', 'technology', 'allows', 'for', 'much', 'more', 'personalised', 'tv', '.', 'they', 'are', 'also', 'being', 'built-in', 'to', 'high-definition', 'tv', 'sets', 'which', 'are', 'big', 'business', 'in', 'japan', 'and', 'the', 'us', 'but', 'slower', 'to', 'take', 'off', 'in', 'europe', 'because', 'of', 'the', 'lack', 'of', 'high-definition', 'programming', '.', 'not', 'only', 'can', 'people', 'forward']\n"
     ]
    }
   ],
   "source": [
    "Punc_filtered_sentence = [] \n",
    "  \n",
    "for w in vocab: \n",
    "    if w not in puncList: \n",
    "        Punc_filtered_sentence.append(w) \n",
    "        \n",
    "print(vocab[100:200]) \n",
    "print()\n",
    "print(Punc_filtered_sentence[100:200])"
   ]
  },
  {
   "cell_type": "code",
   "execution_count": 27,
   "metadata": {},
   "outputs": [
    {
     "name": "stdout",
     "output_type": "stream",
     "text": [
      "['tv', 'future', 'in', 'the', 'hands', 'of', 'viewers', 'with', 'home', 'theatre', 'systems', 'plasma', 'high-definition', 'tvs', 'and', 'digital', 'video', 'recorders', 'moving', 'into', 'the', 'living', 'room', 'the', 'way', 'people', 'watch', 'tv', 'will', 'be', 'radically', 'different', 'in', 'five', 'years', 'time', '.', 'that', 'is', 'according', 'to', 'an', 'expert', 'panel', 'which', 'gathered', 'at', 'the', 'annual', 'consumer', 'electronics', 'show', 'in', 'las', 'vegas', 'to', 'discuss', 'how', 'these', 'new', 'technologies', 'will', 'impact', 'one', 'of', 'our', 'favourite', 'pastimes', '.', 'with', 'the', 'us', 'leading', 'the', 'trend', 'programmes', 'and', 'other', 'content', 'will', 'be', 'delivered', 'to', 'viewers', 'via', 'home', 'networks', 'through', 'cable', 'satellite', 'telecoms', 'companies', 'and', 'broadband', 'service', 'providers', 'to', 'front', 'rooms', 'and']\n",
      "['tv', 'future', 'in', 'the', 'hands', 'of', 'viewers', 'with', 'home', 'theatre', 'systems', 'plasma', 'high-definition', 'tvs', 'and', 'digital', 'video', 'recorders', 'moving', 'into', 'the', 'living', 'room', 'the', 'way', 'people', 'watch', 'tv', 'will', 'be', 'radically', 'different', 'in', 'five', 'years', 'time', '.', 'that', 'is', 'according', 'to', 'an', 'expert', 'panel', 'which', 'gathered', 'at', 'the', 'annual', 'consumer', 'electronics', 'show', 'in', 'las', 'vegas', 'to', 'discuss', 'how', 'these', 'new', 'technologies', 'will', 'impact', 'one', 'of', 'our', 'favourite', 'pastimes', '.', 'with', 'the', 'us', 'leading', 'the', 'trend', 'programmes', 'and', 'other', 'content', 'will', 'be', 'delivered', 'to', 'viewers', 'via', 'home', 'networks', 'through', 'cable', 'satellite', 'telecoms', 'companies', 'and', 'broadband', 'service', 'providers', 'to', 'front', 'rooms', 'and']\n"
     ]
    }
   ],
   "source": [
    "\n",
    "filtered_sentence = [w for w in vocab if not w in puncList] \n",
    "\n",
    "print(vocab[0:100]) \n",
    "print(filtered_sentence[0:100]) "
   ]
  },
  {
   "cell_type": "code",
   "execution_count": 28,
   "metadata": {},
   "outputs": [
    {
     "data": {
      "text/plain": [
       "True"
      ]
     },
     "execution_count": 28,
     "metadata": {},
     "output_type": "execute_result"
    }
   ],
   "source": [
    "Punc_filtered_sentence == filtered_sentence"
   ]
  },
  {
   "cell_type": "code",
   "execution_count": 32,
   "metadata": {},
   "outputs": [
    {
     "data": {
      "text/plain": [
       "909297"
      ]
     },
     "execution_count": 32,
     "metadata": {},
     "output_type": "execute_result"
    }
   ],
   "source": [
    "len(Punc_filtered_sentence)"
   ]
  },
  {
   "cell_type": "markdown",
   "metadata": {
    "id": "ZdaaR23Z1Kop"
   },
   "source": [
    "### 3.3.2.Removing the Stop Words"
   ]
  },
  {
   "cell_type": "code",
   "execution_count": 29,
   "metadata": {
    "id": "AOcu1P7ixNX9"
   },
   "outputs": [
    {
     "name": "stderr",
     "output_type": "stream",
     "text": [
      "[nltk_data] Downloading package stopwords to\n",
      "[nltk_data]     C:\\Users\\bapan\\AppData\\Roaming\\nltk_data...\n",
      "[nltk_data]   Package stopwords is already up-to-date!\n"
     ]
    },
    {
     "data": {
      "text/plain": [
       "True"
      ]
     },
     "execution_count": 29,
     "metadata": {},
     "output_type": "execute_result"
    }
   ],
   "source": [
    "nltk.download('stopwords')"
   ]
  },
  {
   "cell_type": "code",
   "execution_count": 30,
   "metadata": {},
   "outputs": [
    {
     "name": "stdout",
     "output_type": "stream",
     "text": [
      "['i', 'me', 'my', 'myself', 'we', 'our', 'ours', 'ourselves', 'you', \"you're\", \"you've\", \"you'll\", \"you'd\", 'your', 'yours', 'yourself', 'yourselves', 'he', 'him', 'his', 'himself', 'she', \"she's\", 'her', 'hers', 'herself', 'it', \"it's\", 'its', 'itself', 'they', 'them', 'their', 'theirs', 'themselves', 'what', 'which', 'who', 'whom', 'this', 'that', \"that'll\", 'these', 'those', 'am', 'is', 'are', 'was', 'were', 'be', 'been', 'being', 'have', 'has', 'had', 'having', 'do', 'does', 'did', 'doing', 'a', 'an', 'the', 'and', 'but', 'if', 'or', 'because', 'as', 'until', 'while', 'of', 'at', 'by', 'for', 'with', 'about', 'against', 'between', 'into', 'through', 'during', 'before', 'after', 'above', 'below', 'to', 'from', 'up', 'down', 'in', 'out', 'on', 'off', 'over', 'under', 'again', 'further', 'then', 'once', 'here', 'there', 'when', 'where', 'why', 'how', 'all', 'any', 'both', 'each', 'few', 'more', 'most', 'other', 'some', 'such', 'no', 'nor', 'not', 'only', 'own', 'same', 'so', 'than', 'too', 'very', 's', 't', 'can', 'will', 'just', 'don', \"don't\", 'should', \"should've\", 'now', 'd', 'll', 'm', 'o', 're', 've', 'y', 'ain', 'aren', \"aren't\", 'couldn', \"couldn't\", 'didn', \"didn't\", 'doesn', \"doesn't\", 'hadn', \"hadn't\", 'hasn', \"hasn't\", 'haven', \"haven't\", 'isn', \"isn't\", 'ma', 'mightn', \"mightn't\", 'mustn', \"mustn't\", 'needn', \"needn't\", 'shan', \"shan't\", 'shouldn', \"shouldn't\", 'wasn', \"wasn't\", 'weren', \"weren't\", 'won', \"won't\", 'wouldn', \"wouldn't\"]\n"
     ]
    }
   ],
   "source": [
    "print(stopwords.words('english'))"
   ]
  },
  {
   "cell_type": "code",
   "execution_count": 31,
   "metadata": {},
   "outputs": [
    {
     "name": "stdout",
     "output_type": "stream",
     "text": [
      "['tv', 'future', 'hands', 'viewers', 'home', 'theatre', 'systems', 'plasma', 'high-definition', 'tvs', 'digital', 'video', 'recorders', 'moving', 'living', 'room', 'way', 'people', 'watch', 'tv', 'radically', 'different', 'five', 'years', 'time', '.', 'according', 'expert', 'panel', 'gathered', 'annual', 'consumer', 'electronics', 'show', 'las', 'vegas', 'discuss', 'new', 'technologies', 'impact', 'one', 'favourite', 'pastimes', '.', 'us', 'leading', 'trend', 'programmes', 'content', 'delivered', 'viewers', 'via', 'home', 'networks', 'cable', 'satellite', 'telecoms', 'companies', 'broadband', 'service', 'providers', 'front', 'rooms', 'portable', 'devices', '.', 'one', 'talked-about', 'technologies', 'ces', 'digital', 'personal', 'video', 'recorders', 'dvr', 'pvr', '.', 'set-top', 'boxes', 'like', 'us', 'tivo', 'uk', 'sky+', 'system', 'allow', 'people', 'record', 'store', 'play', 'pause', 'forward', 'wind', 'tv', 'programmes', 'want', '.', 'essentially', 'technology', 'allows']\n"
     ]
    }
   ],
   "source": [
    "stop_words = set(stopwords.words('english')) \n",
    "    \n",
    "filtered_stop_words = [w for w in Punc_filtered_sentence if not w in stop_words] \n",
    "  \n",
    "print(filtered_stop_words[0:100])"
   ]
  },
  {
   "cell_type": "code",
   "execution_count": 34,
   "metadata": {},
   "outputs": [
    {
     "data": {
      "text/plain": [
       "539204"
      ]
     },
     "execution_count": 34,
     "metadata": {},
     "output_type": "execute_result"
    }
   ],
   "source": [
    "len(filtered_stop_words)"
   ]
  },
  {
   "cell_type": "markdown",
   "metadata": {
    "id": "fnQytxul1N7Z"
   },
   "source": [
    "## 3.4.Stemming & Lemitization"
   ]
  },
  {
   "cell_type": "markdown",
   "metadata": {
    "id": "DOCGBspF1VNJ"
   },
   "source": [
    "### 3.4.1.Stemming"
   ]
  },
  {
   "cell_type": "code",
   "execution_count": 36,
   "metadata": {
    "id": "XBaiiRIsxRJe"
   },
   "outputs": [],
   "source": [
    "from nltk.stem import PorterStemmer"
   ]
  },
  {
   "cell_type": "code",
   "execution_count": 37,
   "metadata": {},
   "outputs": [],
   "source": [
    "porter = PorterStemmer()"
   ]
  },
  {
   "cell_type": "code",
   "execution_count": 38,
   "metadata": {},
   "outputs": [],
   "source": [
    "filtered_sentence = list(map(lambda x : porter.stem(x),filtered_stop_words))"
   ]
  },
  {
   "cell_type": "code",
   "execution_count": 40,
   "metadata": {},
   "outputs": [
    {
     "data": {
      "text/plain": [
       "539204"
      ]
     },
     "execution_count": 40,
     "metadata": {},
     "output_type": "execute_result"
    }
   ],
   "source": [
    "len(filtered_sentence)"
   ]
  },
  {
   "cell_type": "markdown",
   "metadata": {
    "id": "dBHm5uBT1XAQ"
   },
   "source": [
    "### 3.4.2.Lemitization"
   ]
  },
  {
   "cell_type": "code",
   "execution_count": 41,
   "metadata": {
    "id": "JaLCbX_IxTH6"
   },
   "outputs": [],
   "source": [
    "from nltk.stem import LancasterStemmer"
   ]
  },
  {
   "cell_type": "code",
   "execution_count": 42,
   "metadata": {},
   "outputs": [],
   "source": [
    "lancaster = LancasterStemmer()"
   ]
  },
  {
   "cell_type": "code",
   "execution_count": 43,
   "metadata": {},
   "outputs": [],
   "source": [
    "filtered_sentence_lemm = list(map(lambda x : lancaster.stem(x),filtered_stop_words))"
   ]
  },
  {
   "cell_type": "code",
   "execution_count": 44,
   "metadata": {},
   "outputs": [
    {
     "data": {
      "text/plain": [
       "539204"
      ]
     },
     "execution_count": 44,
     "metadata": {},
     "output_type": "execute_result"
    }
   ],
   "source": [
    "len(filtered_sentence_lemm)"
   ]
  },
  {
   "cell_type": "markdown",
   "metadata": {
    "id": "RiB_pZw61Sb6"
   },
   "source": [
    "## 3.5.PoS"
   ]
  },
  {
   "cell_type": "code",
   "execution_count": 45,
   "metadata": {
    "id": "xDEl_rnhxVMH"
   },
   "outputs": [
    {
     "name": "stderr",
     "output_type": "stream",
     "text": [
      "[nltk_data] Downloading package averaged_perceptron_tagger to\n",
      "[nltk_data]     C:\\Users\\bapan\\AppData\\Roaming\\nltk_data...\n",
      "[nltk_data]   Package averaged_perceptron_tagger is already up-to-\n",
      "[nltk_data]       date!\n"
     ]
    },
    {
     "data": {
      "text/plain": [
       "True"
      ]
     },
     "execution_count": 45,
     "metadata": {},
     "output_type": "execute_result"
    }
   ],
   "source": [
    "nltk.download('averaged_perceptron_tagger')"
   ]
  },
  {
   "cell_type": "code",
   "execution_count": 46,
   "metadata": {},
   "outputs": [
    {
     "data": {
      "text/plain": [
       "[('tv', 'NN'),\n",
       " ('fut', 'NNS'),\n",
       " ('hand', 'NN'),\n",
       " ('view', 'NN'),\n",
       " ('hom', 'VBP'),\n",
       " ('the', 'DT'),\n",
       " ('system', 'NN'),\n",
       " ('plasm', 'JJ'),\n",
       " ('high-definition', 'NN'),\n",
       " ('tvs', 'NN'),\n",
       " ('digit', 'VBZ'),\n",
       " ('video', 'NN'),\n",
       " ('record', 'NN'),\n",
       " ('mov', 'NN'),\n",
       " ('liv', 'JJ'),\n",
       " ('room', 'NN'),\n",
       " ('way', 'NN'),\n",
       " ('peopl', 'JJ'),\n",
       " ('watch', 'NN'),\n",
       " ('tv', 'NN'),\n",
       " ('rad', 'NN'),\n",
       " ('diff', 'NN'),\n",
       " ('fiv', 'JJ'),\n",
       " ('year', 'NN'),\n",
       " ('tim', 'NN'),\n",
       " ('.', '.'),\n",
       " ('accord', 'NN'),\n",
       " ('expert', 'JJ'),\n",
       " ('panel', 'NN'),\n",
       " ('gath', 'NN'),\n",
       " ('an', 'DT'),\n",
       " ('consum', 'NN'),\n",
       " ('electron', 'NN'),\n",
       " ('show', 'NN'),\n",
       " ('las', 'VBZ'),\n",
       " ('vega', 'JJ'),\n",
       " ('discuss', 'JJ'),\n",
       " ('new', 'JJ'),\n",
       " ('technolog', 'NN'),\n",
       " ('impact', 'NN'),\n",
       " ('on', 'IN'),\n",
       " ('favourit', 'NN'),\n",
       " ('pastim', 'NN'),\n",
       " ('.', '.'),\n",
       " ('us', 'PRP'),\n",
       " ('lead', 'JJ'),\n",
       " ('trend', 'NN'),\n",
       " ('program', 'NN'),\n",
       " ('cont', 'JJ'),\n",
       " ('del', 'NN'),\n",
       " ('view', 'NN'),\n",
       " ('via', 'IN'),\n",
       " ('hom', 'NN'),\n",
       " ('network', 'NN'),\n",
       " ('cabl', 'NN'),\n",
       " ('satellit', 'NN'),\n",
       " ('telecom', 'NN'),\n",
       " ('company', 'NN'),\n",
       " ('broadband', 'NN'),\n",
       " ('serv', 'NN'),\n",
       " ('provid', 'NN'),\n",
       " ('front', 'NN'),\n",
       " ('room', 'NN'),\n",
       " ('port', 'NN'),\n",
       " ('dev', 'NN'),\n",
       " ('.', '.'),\n",
       " ('on', 'IN'),\n",
       " ('talked-about', 'JJ'),\n",
       " ('technolog', 'NN'),\n",
       " ('ces', 'NNS'),\n",
       " ('digit', 'VBP'),\n",
       " ('person', 'NN'),\n",
       " ('video', 'NN'),\n",
       " ('record', 'NN'),\n",
       " ('dvr', 'NN'),\n",
       " ('pvr', 'NN'),\n",
       " ('.', '.'),\n",
       " ('set-top', 'JJ'),\n",
       " ('box', 'NN'),\n",
       " ('lik', 'VBZ'),\n",
       " ('us', 'PRP'),\n",
       " ('tivo', 'VB'),\n",
       " ('uk', 'JJ'),\n",
       " ('sky+', 'NN'),\n",
       " ('system', 'NN'),\n",
       " ('allow', 'JJ'),\n",
       " ('peopl', 'NN'),\n",
       " ('record', 'NN'),\n",
       " ('stor', 'NN'),\n",
       " ('play', 'NN'),\n",
       " ('paus', 'VBZ'),\n",
       " ('forward', 'RB'),\n",
       " ('wind', 'JJ'),\n",
       " ('tv', 'NN'),\n",
       " ('program', 'NN'),\n",
       " ('want', 'VBP'),\n",
       " ('.', '.'),\n",
       " ('ess', 'VB'),\n",
       " ('technolog', 'NN'),\n",
       " ('allow', 'RB'),\n",
       " ('much', 'JJ'),\n",
       " ('person', 'NN'),\n",
       " ('tv', 'NN'),\n",
       " ('.', '.'),\n",
       " ('also', 'RB'),\n",
       " ('built-in', 'JJ'),\n",
       " ('high-definition', 'JJ'),\n",
       " ('tv', 'NN'),\n",
       " ('set', 'VBN'),\n",
       " ('big', 'JJ'),\n",
       " ('busy', 'JJ'),\n",
       " ('jap', 'NNS'),\n",
       " ('us', 'PRP'),\n",
       " ('slow', 'VBP'),\n",
       " ('tak', 'JJ'),\n",
       " ('europ', 'NN'),\n",
       " ('lack', 'NN'),\n",
       " ('high-definition', 'NN'),\n",
       " ('program', 'NN'),\n",
       " ('.', '.'),\n",
       " ('peopl', 'VB'),\n",
       " ('forward', 'RB'),\n",
       " ('wind', 'NN'),\n",
       " ('advert', 'NN'),\n",
       " ('also', 'RB'),\n",
       " ('forget', 'VB'),\n",
       " ('abid', 'NN'),\n",
       " ('network', 'NN'),\n",
       " ('channel', 'NN'),\n",
       " ('schedules', 'NNS'),\n",
       " ('put', 'VBD'),\n",
       " ('togeth', 'RP'),\n",
       " ('a-la-carte', 'JJ'),\n",
       " ('entertain', 'NN'),\n",
       " ('.', '.'),\n",
       " ('us', 'PRP'),\n",
       " ('network', 'NN'),\n",
       " ('cabl', 'NN'),\n",
       " ('satellit', 'NN'),\n",
       " ('company', 'NN'),\n",
       " ('worry', 'VBP'),\n",
       " ('mean', 'JJ'),\n",
       " ('term', 'NN'),\n",
       " ('advert', 'NN'),\n",
       " ('revenu', 'NN'),\n",
       " ('wel', 'NN'),\n",
       " ('brand', 'NN'),\n",
       " ('id', 'NN'),\n",
       " ('view', 'NN'),\n",
       " ('loyal', 'JJ'),\n",
       " ('channel', 'NN'),\n",
       " ('.', '.'),\n",
       " ('although', 'IN'),\n",
       " ('us', 'PRP'),\n",
       " ('lead', 'VBP'),\n",
       " ('technolog', 'JJ'),\n",
       " ('mom', 'NN'),\n",
       " ('also', 'RB'),\n",
       " ('concern', 'NN'),\n",
       " ('rais', 'JJ'),\n",
       " ('europ', 'NN'),\n",
       " ('particul', 'NN'),\n",
       " ('grow', 'NN'),\n",
       " ('uptak', 'JJ'),\n",
       " ('serv', 'NN'),\n",
       " ('lik', 'NN'),\n",
       " ('sky+', 'NN'),\n",
       " ('.', '.'),\n",
       " ('hap', 'NN'),\n",
       " ('today', 'NN'),\n",
       " ('see', 'VBP'),\n",
       " ('nin', 'JJ'),\n",
       " ('month', 'NN'),\n",
       " ('year', 'NN'),\n",
       " ('tim', 'NN'),\n",
       " ('uk', 'JJ'),\n",
       " ('adam', 'NN'),\n",
       " ('hum', 'NN'),\n",
       " ('bbc', 'NN'),\n",
       " ('broadcast', 'NN'),\n",
       " ('futurolog', 'NN'),\n",
       " ('told', 'VBD'),\n",
       " ('bbc', 'JJ'),\n",
       " ('new', 'JJ'),\n",
       " ('websit', 'NN'),\n",
       " ('.', '.'),\n",
       " ('lik', 'JJ'),\n",
       " ('bbc', 'NN'),\n",
       " ('issu', 'NN'),\n",
       " ('lost', 'VBD'),\n",
       " ('advert', 'JJ'),\n",
       " ('revenu', 'NN'),\n",
       " ('yet', 'RB'),\n",
       " ('.', '.'),\n",
       " ('press', 'NN'),\n",
       " ('issu', 'JJ'),\n",
       " ('mom', 'NN'),\n",
       " ('commerc', 'NN'),\n",
       " ('uk', 'JJ'),\n",
       " ('broadcast', 'NN'),\n",
       " ('brand', 'NN'),\n",
       " ('loyal', 'JJ'),\n",
       " ('import', 'NN'),\n",
       " ('everyon', 'NN'),\n",
       " ('.', '.'),\n",
       " ('talk', 'NN'),\n",
       " ('cont', 'NN'),\n",
       " ('brand', 'NN'),\n",
       " ('rath', 'NN'),\n",
       " ('network', 'NN'),\n",
       " ('brand', 'NN'),\n",
       " ('said', 'VBD'),\n",
       " ('tim', 'JJ'),\n",
       " ('hanlon', 'NN'),\n",
       " ('brand', 'NN'),\n",
       " ('commun', 'NN'),\n",
       " ('firm', 'NN'),\n",
       " ('starcom', 'VBD'),\n",
       " ('mediavest', 'JJS'),\n",
       " ('.', '.'),\n",
       " ('real', 'JJ'),\n",
       " ('broadband', 'NN'),\n",
       " ('connect', 'NN'),\n",
       " ('anybody', 'NN'),\n",
       " ('produc', 'JJ'),\n",
       " ('cont', 'NN'),\n",
       " ('.', '.'),\n",
       " ('ad', 'NN'),\n",
       " ('challeng', 'NN'),\n",
       " ('hard', 'JJ'),\n",
       " ('promot', 'NN'),\n",
       " ('program', 'NN'),\n",
       " ('much', 'JJ'),\n",
       " ('cho', 'NN'),\n",
       " ('.', '.'),\n",
       " ('mean', 'NN'),\n",
       " ('said', 'VBD'),\n",
       " ('stacey', 'JJ'),\n",
       " ('joln', 'NN'),\n",
       " ('seny', 'NN'),\n",
       " ('vic', 'NN'),\n",
       " ('presid', 'NN'),\n",
       " ('tv', 'NN'),\n",
       " ('guid', 'NN'),\n",
       " ('tv', 'NN'),\n",
       " ('group', 'NN'),\n",
       " ('way', 'NN'),\n",
       " ('peopl', 'IN'),\n",
       " ('find', 'VBP'),\n",
       " ('cont', 'JJ'),\n",
       " ('want', 'VBP'),\n",
       " ('watch', 'NN'),\n",
       " ('simpl', 'JJ'),\n",
       " ('tv', 'NN'),\n",
       " ('view', 'NN'),\n",
       " ('.', '.'),\n",
       " ('mean', 'NN'),\n",
       " ('network', 'NN'),\n",
       " ('us', 'PRP'),\n",
       " ('term', 'NN'),\n",
       " ('channel', 'NN'),\n",
       " ('could', 'MD'),\n",
       " ('tak', 'VB'),\n",
       " ('leaf', 'JJ'),\n",
       " ('googl', 'NNS'),\n",
       " ('book', 'NN'),\n",
       " ('search', 'NN'),\n",
       " ('engin', 'VBP'),\n",
       " ('fut', 'VBN'),\n",
       " ('instead', 'RB'),\n",
       " ('scheduler', 'VB'),\n",
       " ('help', 'NN'),\n",
       " ('peopl', 'VB'),\n",
       " ('find', 'VB'),\n",
       " ('want', 'JJ'),\n",
       " ('watch', 'NN'),\n",
       " ('.', '.'),\n",
       " ('kind', 'NN'),\n",
       " ('channel', 'NN'),\n",
       " ('model', 'NN'),\n",
       " ('might', 'MD'),\n",
       " ('work', 'VB'),\n",
       " ('young', 'JJ'),\n",
       " ('ipod', 'NNS'),\n",
       " ('gen', 'VBP'),\n",
       " ('us', 'PRP'),\n",
       " ('tak', 'VB'),\n",
       " ('control', 'NN'),\n",
       " ('gadget', 'NN'),\n",
       " ('play', 'NN'),\n",
       " ('.', '.'),\n",
       " ('might', 'MD'),\n",
       " ('suit', 'VB'),\n",
       " ('everyon', 'JJ'),\n",
       " ('panel', 'NN'),\n",
       " ('recogn', 'NN'),\n",
       " ('.', '.'),\n",
       " ('old', 'JJ'),\n",
       " ('gen', 'NN'),\n",
       " ('comfort', 'NN'),\n",
       " ('famili', 'NN'),\n",
       " ('schedules', 'NNS'),\n",
       " ('channel', 'VBP'),\n",
       " ('brand', 'NN'),\n",
       " ('know', 'VBP'),\n",
       " ('get', 'NN'),\n",
       " ('.', '.'),\n",
       " ('perhap', 'VB'),\n",
       " ('want', 'JJ'),\n",
       " ('much', 'JJ'),\n",
       " ('cho', 'NN'),\n",
       " ('put', 'VBD'),\n",
       " ('hand', 'NN'),\n",
       " ('mr', 'NN'),\n",
       " ('hanlon', 'NN'),\n",
       " ('suggest', 'NN'),\n",
       " ('.', '.'),\n",
       " ('end', 'VB'),\n",
       " ('kid', 'NN'),\n",
       " ('diap', 'NN'),\n",
       " ('push', 'JJ'),\n",
       " ('button', 'NN'),\n",
       " ('already', 'RB'),\n",
       " ('-', ':'),\n",
       " ('everyth', 'NN'),\n",
       " ('poss', 'NN'),\n",
       " ('avail', 'NN'),\n",
       " ('said', 'VBD'),\n",
       " ('mr', 'JJ'),\n",
       " ('hanlon', 'NN'),\n",
       " ('.', '.'),\n",
       " ('ultim', 'JJ'),\n",
       " ('consum', 'JJ'),\n",
       " ('tel', 'NN'),\n",
       " ('market', 'NN'),\n",
       " ('want', 'VBP'),\n",
       " ('.', '.'),\n",
       " ('50', 'CD'),\n",
       " ('000', 'CD'),\n",
       " ('new', 'JJ'),\n",
       " ('gadget', 'NN'),\n",
       " ('technolog', 'NN'),\n",
       " ('showcas', 'VBD'),\n",
       " ('ces', 'NNS'),\n",
       " ('many', 'JJ'),\n",
       " ('enh', 'VBP'),\n",
       " ('tv-watching', 'JJ'),\n",
       " ('expery', 'NN'),\n",
       " ('.', '.'),\n",
       " ('high-definition', 'JJ'),\n",
       " ('tv', 'NN'),\n",
       " ('set', 'VBN'),\n",
       " ('everywh', 'RB'),\n",
       " ('many', 'JJ'),\n",
       " ('new', 'JJ'),\n",
       " ('model', 'NN'),\n",
       " ('lcd', 'NN'),\n",
       " ('liquid', 'JJ'),\n",
       " ('cryst', 'NN'),\n",
       " ('display', 'NN'),\n",
       " ('tvs', 'NN'),\n",
       " ('launch', 'NN'),\n",
       " ('dvr', 'NN'),\n",
       " ('cap', 'NN'),\n",
       " ('built', 'VBN'),\n",
       " ('instead', 'RB'),\n",
       " ('extern', 'JJ'),\n",
       " ('box', 'NN'),\n",
       " ('.', '.'),\n",
       " ('on', 'IN'),\n",
       " ('exampl', 'JJ'),\n",
       " ('launch', 'NN'),\n",
       " ('show', 'NN'),\n",
       " ('humax', 'JJ'),\n",
       " ('26-inch', 'JJ'),\n",
       " ('lcd', 'JJ'),\n",
       " ('tv', 'NN'),\n",
       " ('80-hour', 'CD'),\n",
       " ('tivo', 'NN'),\n",
       " ('dvr', 'NN'),\n",
       " ('dvd', 'NN'),\n",
       " ('record', 'NN'),\n",
       " ('.', '.'),\n",
       " ('on', 'IN'),\n",
       " ('us', 'PRP'),\n",
       " ('biggest', 'JJS'),\n",
       " ('satellit', 'JJ'),\n",
       " ('tv', 'NN'),\n",
       " ('company', 'NN'),\n",
       " ('directtv', 'VBZ'),\n",
       " ('ev', 'JJ'),\n",
       " ('launch', 'NN'),\n",
       " ('brand', 'NN'),\n",
       " ('dvr', 'NN'),\n",
       " ('show', 'VB'),\n",
       " ('100-hours', 'JJ'),\n",
       " ('record', 'NN'),\n",
       " ('cap', 'NN'),\n",
       " ('inst', 'VBP'),\n",
       " ('replay', 'NN'),\n",
       " ('search', 'NN'),\n",
       " ('funct', 'NN'),\n",
       " ('.', '.'),\n",
       " ('set', 'VBN'),\n",
       " ('paus', 'NN'),\n",
       " ('rewind', 'NN'),\n",
       " ('tv', 'NN'),\n",
       " ('90', 'CD'),\n",
       " ('hour', 'NN'),\n",
       " ('.', '.'),\n",
       " ('microsoft', 'JJ'),\n",
       " ('chief', 'JJ'),\n",
       " ('bil', 'NN'),\n",
       " ('gat', 'NN'),\n",
       " ('annount', 'NN'),\n",
       " ('pre-show', 'NN'),\n",
       " ('keynot', 'NN'),\n",
       " ('speech', 'NN'),\n",
       " ('partn', 'NN'),\n",
       " ('tivo', 'JJ'),\n",
       " ('cal', 'JJ'),\n",
       " ('tivotogo', 'NN'),\n",
       " ('mean', 'NN'),\n",
       " ('peopl', 'NN'),\n",
       " ('play', 'NN'),\n",
       " ('record', 'NN'),\n",
       " ('program', 'NN'),\n",
       " ('window', 'NN'),\n",
       " ('pcs', 'NNS'),\n",
       " ('mobl', 'VBP'),\n",
       " ('dev', 'NN'),\n",
       " ('.', '.'),\n",
       " ('reflect', 'VB'),\n",
       " ('increas', 'JJ'),\n",
       " ('trend', 'NN'),\n",
       " ('fre', 'NN'),\n",
       " ('multimed', 'VBD'),\n",
       " ('peopl', 'JJ'),\n",
       " ('watch', 'NN'),\n",
       " ('want', 'VBP'),\n",
       " ('want', 'NN'),\n",
       " ('.', '.'),\n",
       " ('worldcom', 'VB'),\n",
       " ('boss', 'NN'),\n",
       " ('left', 'VBD'),\n",
       " ('book', 'NN'),\n",
       " ('alon', 'NN'),\n",
       " ('form', 'NN'),\n",
       " ('worldcom', 'NN'),\n",
       " ('boss', 'IN'),\n",
       " ('berny', 'NN'),\n",
       " ('eb', 'NN'),\n",
       " ('accus', 'NN'),\n",
       " ('overs', 'NNS'),\n",
       " ('11bn', 'CD'),\n",
       " ('£5.8bn', 'JJ'),\n",
       " ('fraud', 'NN'),\n",
       " ('nev', 'JJ'),\n",
       " ('mad', 'NN'),\n",
       " ('account', 'NN'),\n",
       " ('decid', 'NN'),\n",
       " ('wit', 'NN'),\n",
       " ('told', 'VBD'),\n",
       " ('jur', 'NN'),\n",
       " ('.', '.'),\n",
       " ('david', 'VB'),\n",
       " ('myer', 'NN'),\n",
       " ('mad', 'JJ'),\n",
       " ('com', 'NN'),\n",
       " ('quest', 'JJS'),\n",
       " ('def', 'NN'),\n",
       " ('lawy', 'NN'),\n",
       " ('argu', 'NN'),\n",
       " ('mr', 'NN'),\n",
       " ('eb', 'JJ'),\n",
       " ('respons', 'NNS'),\n",
       " ('worldcom', 'VBP'),\n",
       " ('problem', 'NN'),\n",
       " ('.', '.'),\n",
       " ('phon', 'NN'),\n",
       " ('company', 'NN'),\n",
       " ('collaps', 'VBZ'),\n",
       " ('2002', 'CD'),\n",
       " ('prosecut', 'NN'),\n",
       " ('claim', 'NN'),\n",
       " ('loss', 'NN'),\n",
       " ('hid', 'NN'),\n",
       " ('protect', 'JJ'),\n",
       " ('firm', 'NN'),\n",
       " ('shar', 'NN'),\n",
       " ('.', '.'),\n",
       " ('mr', 'VB'),\n",
       " ('myer', 'NN'),\n",
       " ('already', 'RB'),\n",
       " ('plead', 'JJ'),\n",
       " ('guil', 'NN'),\n",
       " ('fraud', 'NN'),\n",
       " ('assist', 'NN'),\n",
       " ('prosecut', 'NN'),\n",
       " ('.', '.'),\n",
       " ('monday', 'JJ'),\n",
       " ('def', 'JJ'),\n",
       " ('lawy', 'NN'),\n",
       " ('reid', 'NN'),\n",
       " ('weingart', 'NN'),\n",
       " ('tri', 'NN'),\n",
       " ('dist', 'NN'),\n",
       " ('cli', 'NN'),\n",
       " ('alleg', 'NN'),\n",
       " ('.', '.'),\n",
       " ('cross', 'NN'),\n",
       " ('examin', 'NN'),\n",
       " ('ask', 'NN'),\n",
       " ('mr', 'NN'),\n",
       " ('myer', 'NN'),\n",
       " ('ev', 'VBP'),\n",
       " ('knew', 'VBN'),\n",
       " ('mr', 'JJ'),\n",
       " ('eb', 'NN'),\n",
       " ('mak', 'NN'),\n",
       " ('account', 'NN'),\n",
       " ('decid', 'NN'),\n",
       " ('.', '.'),\n",
       " ('aw', 'JJ'),\n",
       " ('mr', 'JJ'),\n",
       " ('myer', 'NN'),\n",
       " ('reply', 'NN'),\n",
       " ('.', '.'),\n",
       " ('ev', 'NN'),\n",
       " ('know', 'VBP'),\n",
       " ('mr', 'NN'),\n",
       " ('eb', 'JJ'),\n",
       " ('mak', 'NN'),\n",
       " ('account', 'NN'),\n",
       " ('entry', 'NN'),\n",
       " ('worldcom', 'VBD'),\n",
       " ('book', 'NN'),\n",
       " ('mr', 'NN'),\n",
       " ('weingart', 'JJ'),\n",
       " ('press', 'NN'),\n",
       " ('.', '.'),\n",
       " ('reply', 'VB'),\n",
       " ('wit', 'NN'),\n",
       " ('.', '.'),\n",
       " ('mr', 'CC'),\n",
       " ('myer', 'JJ'),\n",
       " ('admit', 'NN'),\n",
       " ('ord', 'NN'),\n",
       " ('fals', 'NNS'),\n",
       " ('account', 'VBP'),\n",
       " ('entry', 'NN'),\n",
       " ('request', 'NN'),\n",
       " ('form', 'NN'),\n",
       " ('worldcom', 'NN'),\n",
       " ('chief', 'NN'),\n",
       " ('fin', 'VBD'),\n",
       " ('off', 'RP'),\n",
       " ('scot', 'JJ'),\n",
       " ('sul', 'NN'),\n",
       " ('.', '.'),\n",
       " ('def', 'NN'),\n",
       " ('lawy', 'JJ'),\n",
       " ('try', 'NN'),\n",
       " ('paint', 'NN'),\n",
       " ('mr', 'NN'),\n",
       " ('sul', 'NN'),\n",
       " ('admit', 'NN'),\n",
       " ('fraud', 'NN'),\n",
       " ('test', 'NN'),\n",
       " ('lat', 'NN'),\n",
       " ('tri', 'NN'),\n",
       " ('mastermind', 'NN'),\n",
       " ('behind', 'IN'),\n",
       " ('worldcom', 'JJ'),\n",
       " ('account', 'NN'),\n",
       " ('hous', 'JJ'),\n",
       " ('card', 'NN'),\n",
       " ('.', '.'),\n",
       " ('mr', 'NN'),\n",
       " ('eb', 'NN'),\n",
       " ('team', 'NN'),\n",
       " ('meanwhil', 'NN'),\n",
       " ('look', 'NN'),\n",
       " ('portray', 'JJ'),\n",
       " ('aff', 'NN'),\n",
       " ('boss', 'IN'),\n",
       " ('admit', 'NN'),\n",
       " ('pe', 'NN'),\n",
       " ('gradu', 'NN'),\n",
       " ('econom', 'NN'),\n",
       " ('.', '.'),\n",
       " ('whatev', 'NN'),\n",
       " ('abl', 'NN'),\n",
       " ('mr', 'NN'),\n",
       " ('eb', 'NN'),\n",
       " ('transform', 'NN'),\n",
       " ('worldcom', 'NN'),\n",
       " ('rel', 'VBD'),\n",
       " ('unknown', 'JJ'),\n",
       " ('160bn', 'CD'),\n",
       " ('telecom', 'NN'),\n",
       " ('giant', 'NN'),\n",
       " ('invest', 'VB'),\n",
       " ('darl', 'NN'),\n",
       " ('lat', 'JJ'),\n",
       " ('1990s', 'CD'),\n",
       " ('.', '.'),\n",
       " ('worldcom', 'NN'),\n",
       " ('problem', 'NN'),\n",
       " ('mount', 'NN'),\n",
       " ('howev', 'NN'),\n",
       " ('competit', 'NN'),\n",
       " ('increas', 'NNS'),\n",
       " ('telecom', 'VBP'),\n",
       " ('boom', 'NN'),\n",
       " ('pet', 'NN'),\n",
       " ('.', '.'),\n",
       " ('firm', 'NN'),\n",
       " ('fin', 'NN'),\n",
       " ('collaps', 'NNS'),\n",
       " ('sharehold', 'VBD'),\n",
       " ('lost', 'VBD'),\n",
       " ('180bn', 'CD'),\n",
       " ('20', 'CD'),\n",
       " ('000', 'CD'),\n",
       " ('work', 'NN'),\n",
       " ('lost', 'VBN'),\n",
       " ('job', 'NN'),\n",
       " ('.', '.'),\n",
       " ('mr', 'NN'),\n",
       " ('eb', 'NN'),\n",
       " ('tri', 'NN'),\n",
       " ('expect', 'VBP'),\n",
       " ('last', 'JJ'),\n",
       " ('two', 'CD'),\n",
       " ('month', 'NN'),\n",
       " ('found', 'VBD'),\n",
       " ('guil', 'JJ'),\n",
       " ('form', 'NN'),\n",
       " ('ceo', 'NN'),\n",
       " ('fac', 'NN'),\n",
       " ('subst', 'NN'),\n",
       " ('jail', 'NN'),\n",
       " ('sent', 'NN'),\n",
       " ('.', '.'),\n",
       " ('firm', 'NN'),\n",
       " ('decl', 'NN'),\n",
       " ('innoc', 'NN'),\n",
       " ('.', '.'),\n",
       " ('tig', 'JJ'),\n",
       " ('wary', 'JJ'),\n",
       " ('farrel', 'NN'),\n",
       " ('gambl', 'NN'),\n",
       " ('leicest', 'JJS'),\n",
       " ('say', 'VBP'),\n",
       " ('rush', 'JJ'),\n",
       " ('mak', 'FW'),\n",
       " ('bid', 'NN'),\n",
       " ('andy', 'VBZ'),\n",
       " ('farrel', 'JJ'),\n",
       " ('gre', 'NN'),\n",
       " ('britain', 'NN'),\n",
       " ('rugby', 'NN'),\n",
       " ('leagu', 'NN'),\n",
       " ('captain', 'NN'),\n",
       " ('decid', 'JJ'),\n",
       " ('switch', 'NN'),\n",
       " ('cod', 'NN'),\n",
       " ('.', '.'),\n",
       " ('anybody', 'NN'),\n",
       " ('els', 'JJ'),\n",
       " ('involv', 'NN'),\n",
       " ('process', 'NN'),\n",
       " ('stil', 'JJ'),\n",
       " ('way', 'NN'),\n",
       " ('away', 'RB'),\n",
       " ('going', 'VBG'),\n",
       " ('next', 'JJ'),\n",
       " ('stag', 'NN'),\n",
       " ('tig', 'NN'),\n",
       " ('boss', 'IN'),\n",
       " ('john', 'NN'),\n",
       " ('wel', 'NN'),\n",
       " ('told', 'VBD'),\n",
       " ('bbc', 'JJ'),\n",
       " ('radio', 'NN'),\n",
       " ('leicest', 'JJS'),\n",
       " ('.', '.'),\n",
       " ('mom', 'NN'),\n",
       " ('stil', 'NN'),\n",
       " ('lot', 'NN'),\n",
       " ('unknown', 'JJ'),\n",
       " ('andy', 'JJ'),\n",
       " ('farrel', 'NN'),\n",
       " ('least', 'JJS'),\n",
       " ('med', 'JJ'),\n",
       " ('situ', 'NN'),\n",
       " ('.', '.'),\n",
       " ('whoev', 'NN'),\n",
       " ('tak', 'NN'),\n",
       " ('going', 'VBG'),\n",
       " ('tak', 'NN'),\n",
       " ('big', 'JJ'),\n",
       " ('big', 'JJ'),\n",
       " ('gambl', 'NN'),\n",
       " ('.', '.'),\n",
       " ('farrel', 'JJ'),\n",
       " ('persist', 'NN'),\n",
       " ('kne', 'NN'),\n",
       " ('problem', 'NN'),\n",
       " ('op', 'NN'),\n",
       " ('kne', 'NN'),\n",
       " ('fiv', 'NN'),\n",
       " ('week', 'NN'),\n",
       " ('ago', 'RB'),\n",
       " ('expect', 'VB'),\n",
       " ('anoth', 'DT'),\n",
       " ('three', 'CD'),\n",
       " ('month', 'NN'),\n",
       " ('.', '.'),\n",
       " ('leicest', 'JJS'),\n",
       " ('sarac', 'NN'),\n",
       " ('believ', 'NN'),\n",
       " ('head', 'NN'),\n",
       " ('list', 'NN'),\n",
       " ('rugby', 'NN'),\n",
       " ('un', 'JJ'),\n",
       " ('club', 'NN'),\n",
       " ('interest', 'NN'),\n",
       " ('sign', 'NN'),\n",
       " ('farrel', 'NN'),\n",
       " ('decid', 'NN'),\n",
       " ('mov', 'VBD'),\n",
       " ('15-man', 'JJ'),\n",
       " ('gam', 'NN'),\n",
       " ('.', '.'),\n",
       " ('mov', 'NN'),\n",
       " ('across', 'IN'),\n",
       " ('un', 'JJ'),\n",
       " ('wel', 'NN'),\n",
       " ('believ', 'NN'),\n",
       " ('would', 'MD'),\n",
       " ('bet', 'VB'),\n",
       " ('play', 'VB'),\n",
       " ('back', 'RB'),\n",
       " ('least', 'JJS'),\n",
       " ('init', 'NN'),\n",
       " ('.', '.'),\n",
       " ('sur', 'NN'),\n",
       " ('could', 'MD'),\n",
       " ('mak', 'VB'),\n",
       " ('step', 'VB'),\n",
       " ('leagu', 'JJ'),\n",
       " ('un', 'JJ'),\n",
       " ('involv', 'NN'),\n",
       " ('cent', 'NN'),\n",
       " ('said', 'VBD'),\n",
       " ('wel', 'NN'),\n",
       " ('.', '.'),\n",
       " ('think', 'NN'),\n",
       " ('england', 'NN'),\n",
       " ('would', 'MD'),\n",
       " ('pref', 'VB'),\n",
       " ('progress', 'NN'),\n",
       " ('posit', 'NN'),\n",
       " ('back', 'RB'),\n",
       " ('row', 'NN'),\n",
       " ('mak', 'NN'),\n",
       " ('us', 'PRP'),\n",
       " ('rugby', 'VBP'),\n",
       " ('leagu', 'JJ'),\n",
       " ('skil', 'NN'),\n",
       " ('within', 'IN'),\n",
       " ('forward', 'RB'),\n",
       " ('.', '.'),\n",
       " ('jury', 'NN'),\n",
       " ('wheth', 'VBD'),\n",
       " ('cross', 'NN'),\n",
       " ('divid', 'NN'),\n",
       " ('.', '.'),\n",
       " ('club', 'NN'),\n",
       " ('bal', 'JJ'),\n",
       " ('struck', 'NN'),\n",
       " ('cost', 'NN'),\n",
       " ('gambl', 'NN'),\n",
       " ('opt', 'IN'),\n",
       " ('bring', 'VBG'),\n",
       " ('ready-made', 'JJ'),\n",
       " ('replac', 'NN'),\n",
       " ('.', '.'),\n",
       " ('yead', 'JJ'),\n",
       " ('fac', 'NN'),\n",
       " ('newcastl', 'NN'),\n",
       " ('fa', 'JJ'),\n",
       " ('cup', 'NN'),\n",
       " ('premy', 'NN'),\n",
       " ('sid', 'NN'),\n",
       " ('newcastl', 'JJ'),\n",
       " ('unit', 'NN'),\n",
       " ('fac', 'JJ'),\n",
       " ('trip', 'NN'),\n",
       " ('rym', 'NN'),\n",
       " ('premy', 'NN'),\n",
       " ('leagu', 'JJ'),\n",
       " ('lead', 'NN'),\n",
       " ('yead', 'NN'),\n",
       " ('fa', 'JJ'),\n",
       " ('cup', 'NN'),\n",
       " ('third', 'JJ'),\n",
       " ('round', 'NN'),\n",
       " ('.', '.'),\n",
       " ('gam', 'SYM'),\n",
       " ('-', ':'),\n",
       " ('argu', 'NN'),\n",
       " ('highlight', 'NN'),\n",
       " ('draw', 'SYM'),\n",
       " ('-', ':'),\n",
       " ('pot', 'NN'),\n",
       " ('money-spinner', 'JJ'),\n",
       " ('non-league', 'JJ'),\n",
       " ('yead', 'NN'),\n",
       " ('beat', 'VBD'),\n",
       " ('slough', 'JJ'),\n",
       " ('second', 'JJ'),\n",
       " ('round', 'NN'),\n",
       " ('.', '.'),\n",
       " ('conf', 'NN'),\n",
       " ('sid', 'JJ'),\n",
       " ('exet', 'JJ'),\n",
       " ('city', 'NN'),\n",
       " ('knock', 'NN'),\n",
       " ('doncast', 'NN'),\n",
       " ('saturday', 'NN'),\n",
       " ('travel', 'VBP'),\n",
       " ('old', 'JJ'),\n",
       " ('trafford', 'NN'),\n",
       " ('meet', 'NN'),\n",
       " ('hold', 'VBP'),\n",
       " ('manchest', 'JJS'),\n",
       " ('unit', 'NN'),\n",
       " ('janu', 'NN'),\n",
       " ('.', '.'),\n",
       " ('ars', 'NNS'),\n",
       " ('drawn', 'VBP'),\n",
       " ('hom', 'JJ'),\n",
       " ('stok', 'NN'),\n",
       " ('chelse', 'JJ'),\n",
       " ('play', 'NN'),\n",
       " ('host', 'NN'),\n",
       " ('scunthorp', 'NN'),\n",
       " ('.', '.'),\n",
       " ('non-league', 'JJ'),\n",
       " ('sid', 'NN'),\n",
       " ('draw', 'NN'),\n",
       " ('hinckley', 'NN'),\n",
       " ('unit', 'NN'),\n",
       " ('held', 'VBD'),\n",
       " ('brentford', 'JJ'),\n",
       " ('goalless', 'NN'),\n",
       " ('draw', 'NN'),\n",
       " ('sunday', 'NN'),\n",
       " ('.', '.'),\n",
       " ('meet', 'VB'),\n",
       " ('leagu', 'JJ'),\n",
       " ('on', 'IN'),\n",
       " ('lead', 'JJ'),\n",
       " ('luton', 'NN'),\n",
       " ('win', 'VBP'),\n",
       " ('replay', 'NN'),\n",
       " ('martin', 'NN'),\n",
       " ('al', 'NN'),\n",
       " ('team', 'NN'),\n",
       " ('griffin', 'NN'),\n",
       " ('park', 'NN'),\n",
       " ('.', '.'),\n",
       " ('numb', 'JJ'),\n",
       " ('premy', 'NN'),\n",
       " ('team', 'NN'),\n",
       " ('fac', 'NN'),\n",
       " ('difficult', 'JJ'),\n",
       " ('away', 'RB'),\n",
       " ('gam', 'JJ'),\n",
       " ('champ', 'NN'),\n",
       " ('sid', 'NN'),\n",
       " ('weekend', 'NN'),\n",
       " ('8/9', 'CD'),\n",
       " ('janu', 'NN'),\n",
       " ('.', '.'),\n",
       " ('third-plac', 'JJ'),\n",
       " ('everton', 'JJ'),\n",
       " ('visit', 'NN'),\n",
       " ('plymou', 'NN'),\n",
       " ('liverpool', 'NN'),\n",
       " ('travel', 'NN'),\n",
       " ('burnley', 'NN'),\n",
       " ('cryst', 'NN'),\n",
       " ('palac', 'NN'),\n",
       " ('go', 'VBP'),\n",
       " ('sunderland', 'NN'),\n",
       " ('fulham', 'NN'),\n",
       " ('fac', 'VBP'),\n",
       " ('carl', 'JJ'),\n",
       " ('cup', 'NN'),\n",
       " ('semi-finalists', 'NNS'),\n",
       " ('watford', 'VBP'),\n",
       " ('bolton', 'NN'),\n",
       " ('meet', 'NN'),\n",
       " ('ipswich', 'JJ'),\n",
       " ('aston', 'NN'),\n",
       " ('vill', 'NN'),\n",
       " ('drawn', 'VBN'),\n",
       " ('sheffield', 'JJ'),\n",
       " ('unit', 'NN'),\n",
       " ('.', '.'),\n",
       " ('premy', 'NN'),\n",
       " ('strugglers', 'NNS'),\n",
       " ('norwich', 'JJ'),\n",
       " ('blackburn', 'VBP'),\n",
       " ('west', 'JJS'),\n",
       " ('brom', 'IN'),\n",
       " ('away', 'RB'),\n",
       " ('west', 'JJ'),\n",
       " ('ham', 'NN'),\n",
       " ('cardiff', 'NN'),\n",
       " ('preston', 'NN'),\n",
       " ('nor', 'CC'),\n",
       " ('end', 'JJ'),\n",
       " ('respect', 'NN'),\n",
       " ('.', '.'),\n",
       " ('southampton', 'JJ'),\n",
       " ('visit', 'IN'),\n",
       " ('northampton', 'NN'),\n",
       " ('already', 'RB'),\n",
       " ('beat', 'JJ'),\n",
       " ('leagu', 'JJ'),\n",
       " ('two', 'CD'),\n",
       " ('sid', 'NN'),\n",
       " ('carl', 'NNS'),\n",
       " ('cup', 'VBP'),\n",
       " ('ear', 'JJ'),\n",
       " ('season', 'NN'),\n",
       " ('.', '.'),\n",
       " ('middlesbrough', 'JJ'),\n",
       " ('drawn', 'NN'),\n",
       " ('away', 'RB'),\n",
       " ('eith', 'JJ'),\n",
       " ('swindon', 'NN'),\n",
       " ('not', 'RB'),\n",
       " ('county', 'JJ'),\n",
       " ('spur', 'NN'),\n",
       " ('entertain', 'VBP'),\n",
       " ('brighton', 'NN'),\n",
       " ('whit', 'WRB'),\n",
       " ('hart', 'NN'),\n",
       " ('lan', 'NN'),\n",
       " ('.', '.'),\n",
       " ('ars', 'NNS'),\n",
       " ('v', 'VBP'),\n",
       " ('stok', 'JJ'),\n",
       " ('swindon/notts', 'NNS'),\n",
       " ('co', 'VBP'),\n",
       " ('v', 'JJ'),\n",
       " ('middlesbrough', 'NN'),\n",
       " ('man', 'NN'),\n",
       " ('utd', 'JJ'),\n",
       " ('v', 'NN'),\n",
       " ('exet', 'NN'),\n",
       " ('plymou', 'NN'),\n",
       " ('v', 'IN'),\n",
       " ('everton', 'NN'),\n",
       " ('leicest', 'JJS'),\n",
       " ('v', 'NN'),\n",
       " ('blackpool', 'NN'),\n",
       " ('derby', 'JJ'),\n",
       " ('v', 'NN'),\n",
       " ('wig', 'NN'),\n",
       " ('sunderland', 'NN'),\n",
       " ('v', 'NN'),\n",
       " ('cryst', 'NN'),\n",
       " ('palac', 'NN'),\n",
       " ('wolv', 'NN'),\n",
       " ('v', 'NN'),\n",
       " ('millwal', 'NN'),\n",
       " ('yead', 'NN'),\n",
       " ('v', 'NN'),\n",
       " ('newcastl', 'JJ'),\n",
       " ('hul', 'NN'),\n",
       " ('v', 'NN'),\n",
       " ('colchest', 'NN'),\n",
       " ('tottenham', 'NN'),\n",
       " ('v', 'IN'),\n",
       " ('brighton', 'NN'),\n",
       " ('read', 'VBN'),\n",
       " ('v', 'IN'),\n",
       " ('stockport/swansea', 'NN'),\n",
       " ('birmingham', 'NN'),\n",
       " ('v', 'NN'),\n",
       " ('lee', 'JJ'),\n",
       " ('hartlepool', 'NN'),\n",
       " ('v', 'IN'),\n",
       " ...]"
      ]
     },
     "execution_count": 46,
     "metadata": {},
     "output_type": "execute_result"
    }
   ],
   "source": [
    "nltk.pos_tag(filtered_sentence_lemm)"
   ]
  },
  {
   "cell_type": "markdown",
   "metadata": {
    "id": "A-E-qr5NnLc0"
   },
   "source": [
    "## 3.6..Create a word vocabulary"
   ]
  },
  {
   "cell_type": "code",
   "execution_count": 48,
   "metadata": {
    "id": "irlSfwqBxWhD"
   },
   "outputs": [],
   "source": [
    "Vocabulary = set(filtered_sentence_lemm)"
   ]
  },
  {
   "cell_type": "markdown",
   "metadata": {
    "id": "pYwBOmda1Bz3"
   },
   "source": [
    "# 4.TF & IDF"
   ]
  },
  {
   "cell_type": "markdown",
   "metadata": {
    "id": "KDYmHvCz1lnq"
   },
   "source": [
    "## 4.1.TF"
   ]
  },
  {
   "cell_type": "code",
   "execution_count": 52,
   "metadata": {},
   "outputs": [
    {
     "name": "stderr",
     "output_type": "stream",
     "text": [
      "[nltk_data] Downloading package reuters to\n",
      "[nltk_data]     C:\\Users\\bapan\\AppData\\Roaming\\nltk_data...\n",
      "[nltk_data]   Package reuters is already up-to-date!\n"
     ]
    },
    {
     "data": {
      "text/plain": [
       "True"
      ]
     },
     "execution_count": 52,
     "metadata": {},
     "output_type": "execute_result"
    }
   ],
   "source": [
    "nltk.download('reuters')"
   ]
  },
  {
   "cell_type": "code",
   "execution_count": 50,
   "metadata": {
    "id": "sG6kGU70xX7Z"
   },
   "outputs": [],
   "source": [
    "from six import string_types"
   ]
  },
  {
   "cell_type": "code",
   "execution_count": 53,
   "metadata": {},
   "outputs": [
    {
     "name": "stdout",
     "output_type": "stream",
     "text": [
      "22326 10788\n"
     ]
    }
   ],
   "source": [
    "word_index = {w: index for index, w in enumerate(Vocabulary)}\n",
    "\n",
    "VOCABULARY_SIZE = len(Vocabulary)\n",
    "DOCUMENTS_COUNT = len(reuters.fileids())\n",
    " \n",
    "print(VOCABULARY_SIZE, DOCUMENTS_COUNT)"
   ]
  },
  {
   "cell_type": "code",
   "execution_count": 57,
   "metadata": {},
   "outputs": [],
   "source": [
    "def word_tf(word, token):\n",
    "    \n",
    "    return float(token.count(word)) / len(token)"
   ]
  },
  {
   "cell_type": "code",
   "execution_count": 63,
   "metadata": {},
   "outputs": [
    {
     "data": {
      "text/plain": [
       "0.0009347111668311066"
      ]
     },
     "execution_count": 63,
     "metadata": {},
     "output_type": "execute_result"
    }
   ],
   "source": [
    "word_tf('tv', filtered_sentence_lemm)"
   ]
  },
  {
   "cell_type": "markdown",
   "metadata": {
    "id": "RSjxTG6n1u5U"
   },
   "source": [
    "## 4.2.IDF"
   ]
  },
  {
   "cell_type": "code",
   "execution_count": 64,
   "metadata": {},
   "outputs": [
    {
     "name": "stdout",
     "output_type": "stream",
     "text": [
      "[4. 1. 8. ... 1. 2. 3.]\n"
     ]
    }
   ],
   "source": [
    "word_doc_count = np.zeros(VOCABULARY_SIZE)\n",
    "\n",
    "for word in filtered_sentence_lemm:\n",
    "    \n",
    "    indexes = word_index[word] \n",
    "    word_doc_count[indexes] += 1.0\n",
    "\n",
    "print(word_doc_count) "
   ]
  },
  {
   "cell_type": "code",
   "execution_count": 65,
   "metadata": {},
   "outputs": [
    {
     "name": "stdout",
     "output_type": "stream",
     "text": [
      "5.572617617555313\n",
      "3.061631254984261\n"
     ]
    }
   ],
   "source": [
    "word_idf = np.log(DOCUMENTS_COUNT / (1 + word_doc_count).astype(float))\n",
    "\n",
    "print(word_idf[word_index['town']])\n",
    "print(word_idf[word_index['tv']])"
   ]
  },
  {
   "cell_type": "markdown",
   "metadata": {
    "id": "HdMSUxI61wVy"
   },
   "source": [
    "## 4.3.TF & IDF"
   ]
  },
  {
   "cell_type": "code",
   "execution_count": 66,
   "metadata": {
    "id": "NvtFGx03xa89"
   },
   "outputs": [],
   "source": [
    "def tf_idf(word, token): \n",
    "    if word not in word_index:\n",
    "        return .0\n",
    "    return word_tf(word, token) * word_idf[word_index[word]]"
   ]
  },
  {
   "cell_type": "code",
   "execution_count": 68,
   "metadata": {},
   "outputs": [
    {
     "data": {
      "text/plain": [
       "0.0028617409227529238"
      ]
     },
     "execution_count": 68,
     "metadata": {},
     "output_type": "execute_result"
    }
   ],
   "source": [
    "tf_idf('tv', filtered_sentence_lemm)"
   ]
  },
  {
   "cell_type": "code",
   "execution_count": 69,
   "metadata": {},
   "outputs": [
    {
     "data": {
      "text/plain": [
       "0.0028617409227529238"
      ]
     },
     "execution_count": 69,
     "metadata": {},
     "output_type": "execute_result"
    }
   ],
   "source": [
    "0.0009347111668311066*3.061631254984261"
   ]
  }
 ],
 "metadata": {
  "colab": {
   "collapsed_sections": [],
   "name": "Session_1_question_Inclass.ipynb",
   "provenance": [],
   "toc_visible": true
  },
  "kernelspec": {
   "display_name": "Python 3",
   "language": "python",
   "name": "python3"
  },
  "language_info": {
   "codemirror_mode": {
    "name": "ipython",
    "version": 3
   },
   "file_extension": ".py",
   "mimetype": "text/x-python",
   "name": "python",
   "nbconvert_exporter": "python",
   "pygments_lexer": "ipython3",
   "version": "3.8.5"
  }
 },
 "nbformat": 4,
 "nbformat_minor": 1
}
