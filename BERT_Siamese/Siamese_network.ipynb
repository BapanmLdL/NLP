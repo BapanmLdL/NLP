{
 "cells": [
  {
   "cell_type": "code",
   "execution_count": 1,
   "metadata": {},
   "outputs": [],
   "source": [
    "import pandas as pd\n",
    "import numpy as np\n",
    "import matplotlib.pyplot as plt\n",
    "import random as rnd\n",
    "import seaborn as sns\n",
    "%matplotlib inline"
   ]
  },
  {
   "cell_type": "code",
   "execution_count": 2,
   "metadata": {},
   "outputs": [],
   "source": [
    "data = pd.read_csv('questions.csv')"
   ]
  },
  {
   "cell_type": "code",
   "execution_count": 3,
   "metadata": {},
   "outputs": [
    {
     "data": {
      "text/html": [
       "<div>\n",
       "<style scoped>\n",
       "    .dataframe tbody tr th:only-of-type {\n",
       "        vertical-align: middle;\n",
       "    }\n",
       "\n",
       "    .dataframe tbody tr th {\n",
       "        vertical-align: top;\n",
       "    }\n",
       "\n",
       "    .dataframe thead th {\n",
       "        text-align: right;\n",
       "    }\n",
       "</style>\n",
       "<table border=\"1\" class=\"dataframe\">\n",
       "  <thead>\n",
       "    <tr style=\"text-align: right;\">\n",
       "      <th></th>\n",
       "      <th>id</th>\n",
       "      <th>qid1</th>\n",
       "      <th>qid2</th>\n",
       "      <th>question1</th>\n",
       "      <th>question2</th>\n",
       "      <th>is_duplicate</th>\n",
       "    </tr>\n",
       "  </thead>\n",
       "  <tbody>\n",
       "    <tr>\n",
       "      <th>0</th>\n",
       "      <td>0</td>\n",
       "      <td>1</td>\n",
       "      <td>2</td>\n",
       "      <td>What is the step by step guide to invest in sh...</td>\n",
       "      <td>What is the step by step guide to invest in sh...</td>\n",
       "      <td>0</td>\n",
       "    </tr>\n",
       "    <tr>\n",
       "      <th>1</th>\n",
       "      <td>1</td>\n",
       "      <td>3</td>\n",
       "      <td>4</td>\n",
       "      <td>What is the story of Kohinoor (Koh-i-Noor) Dia...</td>\n",
       "      <td>What would happen if the Indian government sto...</td>\n",
       "      <td>0</td>\n",
       "    </tr>\n",
       "    <tr>\n",
       "      <th>2</th>\n",
       "      <td>2</td>\n",
       "      <td>5</td>\n",
       "      <td>6</td>\n",
       "      <td>How can I increase the speed of my internet co...</td>\n",
       "      <td>How can Internet speed be increased by hacking...</td>\n",
       "      <td>0</td>\n",
       "    </tr>\n",
       "    <tr>\n",
       "      <th>3</th>\n",
       "      <td>3</td>\n",
       "      <td>7</td>\n",
       "      <td>8</td>\n",
       "      <td>Why am I mentally very lonely? How can I solve...</td>\n",
       "      <td>Find the remainder when [math]23^{24}[/math] i...</td>\n",
       "      <td>0</td>\n",
       "    </tr>\n",
       "    <tr>\n",
       "      <th>4</th>\n",
       "      <td>4</td>\n",
       "      <td>9</td>\n",
       "      <td>10</td>\n",
       "      <td>Which one dissolve in water quikly sugar, salt...</td>\n",
       "      <td>Which fish would survive in salt water?</td>\n",
       "      <td>0</td>\n",
       "    </tr>\n",
       "  </tbody>\n",
       "</table>\n",
       "</div>"
      ],
      "text/plain": [
       "   id  qid1  qid2                                          question1  \\\n",
       "0   0     1     2  What is the step by step guide to invest in sh...   \n",
       "1   1     3     4  What is the story of Kohinoor (Koh-i-Noor) Dia...   \n",
       "2   2     5     6  How can I increase the speed of my internet co...   \n",
       "3   3     7     8  Why am I mentally very lonely? How can I solve...   \n",
       "4   4     9    10  Which one dissolve in water quikly sugar, salt...   \n",
       "\n",
       "                                           question2  is_duplicate  \n",
       "0  What is the step by step guide to invest in sh...             0  \n",
       "1  What would happen if the Indian government sto...             0  \n",
       "2  How can Internet speed be increased by hacking...             0  \n",
       "3  Find the remainder when [math]23^{24}[/math] i...             0  \n",
       "4            Which fish would survive in salt water?             0  "
      ]
     },
     "execution_count": 3,
     "metadata": {},
     "output_type": "execute_result"
    }
   ],
   "source": [
    "data.head()"
   ]
  },
  {
   "cell_type": "code",
   "execution_count": 4,
   "metadata": {},
   "outputs": [
    {
     "data": {
      "text/plain": [
       "(404351, 6)"
      ]
     },
     "execution_count": 4,
     "metadata": {},
     "output_type": "execute_result"
    }
   ],
   "source": [
    "data.shape"
   ]
  },
  {
   "cell_type": "code",
   "execution_count": 5,
   "metadata": {},
   "outputs": [],
   "source": [
    "data = data.dropna()"
   ]
  },
  {
   "cell_type": "code",
   "execution_count": 6,
   "metadata": {},
   "outputs": [
    {
     "data": {
      "text/plain": [
       "(404348, 6)"
      ]
     },
     "execution_count": 6,
     "metadata": {},
     "output_type": "execute_result"
    }
   ],
   "source": [
    "data.shape"
   ]
  },
  {
   "cell_type": "code",
   "execution_count": 7,
   "metadata": {},
   "outputs": [
    {
     "data": {
      "text/plain": [
       "id              0\n",
       "qid1            0\n",
       "qid2            0\n",
       "question1       0\n",
       "question2       0\n",
       "is_duplicate    0\n",
       "dtype: int64"
      ]
     },
     "execution_count": 7,
     "metadata": {},
     "output_type": "execute_result"
    }
   ],
   "source": [
    "data.isnull().sum()"
   ]
  },
  {
   "cell_type": "code",
   "execution_count": 8,
   "metadata": {},
   "outputs": [
    {
     "name": "stderr",
     "output_type": "stream",
     "text": [
      "C:\\Users\\bapan\\anaconda3\\lib\\site-packages\\seaborn\\_decorators.py:36: FutureWarning: Pass the following variable as a keyword arg: x. From version 0.12, the only valid positional argument will be `data`, and passing other arguments without an explicit keyword will result in an error or misinterpretation.\n",
      "  warnings.warn(\n"
     ]
    },
    {
     "data": {
      "image/png": "[encoded data removed]",
      "text/plain": [
       "<Figure size 432x288 with 1 Axes>"
      ]
     },
     "metadata": {
      "needs_background": "light"
     },
     "output_type": "display_data"
    }
   ],
   "source": [
    "sns.countplot(data['is_duplicate'])\n",
    "plt.show()"
   ]
  },
  {
   "cell_type": "code",
   "execution_count": 12,
   "metadata": {},
   "outputs": [],
   "source": [
    "data = data.sample(frac=1, random_state=11).reset_index(drop=True)"
   ]
  },
  {
   "cell_type": "code",
   "execution_count": 13,
   "metadata": {},
   "outputs": [
    {
     "data": {
      "text/html": [
       "<div>\n",
       "<style scoped>\n",
       "    .dataframe tbody tr th:only-of-type {\n",
       "        vertical-align: middle;\n",
       "    }\n",
       "\n",
       "    .dataframe tbody tr th {\n",
       "        vertical-align: top;\n",
       "    }\n",
       "\n",
       "    .dataframe thead th {\n",
       "        text-align: right;\n",
       "    }\n",
       "</style>\n",
       "<table border=\"1\" class=\"dataframe\">\n",
       "  <thead>\n",
       "    <tr style=\"text-align: right;\">\n",
       "      <th></th>\n",
       "      <th>id</th>\n",
       "      <th>qid1</th>\n",
       "      <th>qid2</th>\n",
       "      <th>question1</th>\n",
       "      <th>question2</th>\n",
       "      <th>is_duplicate</th>\n",
       "    </tr>\n",
       "  </thead>\n",
       "  <tbody>\n",
       "    <tr>\n",
       "      <th>0</th>\n",
       "      <td>79416</td>\n",
       "      <td>157763</td>\n",
       "      <td>157764</td>\n",
       "      <td>What are the movies that made you cry?</td>\n",
       "      <td>What movies made you cry?</td>\n",
       "      <td>1</td>\n",
       "    </tr>\n",
       "    <tr>\n",
       "      <th>1</th>\n",
       "      <td>393714</td>\n",
       "      <td>769447</td>\n",
       "      <td>769448</td>\n",
       "      <td>I have a crush on my best friend. I was trying...</td>\n",
       "      <td>I was talking to a woman on a dating website a...</td>\n",
       "      <td>0</td>\n",
       "    </tr>\n",
       "    <tr>\n",
       "      <th>2</th>\n",
       "      <td>381743</td>\n",
       "      <td>746561</td>\n",
       "      <td>746562</td>\n",
       "      <td>Are social networking sites turning many of us...</td>\n",
       "      <td>Have social networking sites made people more ...</td>\n",
       "      <td>1</td>\n",
       "    </tr>\n",
       "    <tr>\n",
       "      <th>3</th>\n",
       "      <td>207898</td>\n",
       "      <td>410123</td>\n",
       "      <td>410124</td>\n",
       "      <td>Is btech-mtech dual degree recognized outside ...</td>\n",
       "      <td>Being really interested in programming and cod...</td>\n",
       "      <td>0</td>\n",
       "    </tr>\n",
       "    <tr>\n",
       "      <th>4</th>\n",
       "      <td>176605</td>\n",
       "      <td>348886</td>\n",
       "      <td>348887</td>\n",
       "      <td>How can I increase my son's appetite?</td>\n",
       "      <td>How can we increase appetite?</td>\n",
       "      <td>0</td>\n",
       "    </tr>\n",
       "  </tbody>\n",
       "</table>\n",
       "</div>"
      ],
      "text/plain": [
       "       id    qid1    qid2                                          question1  \\\n",
       "0   79416  157763  157764             What are the movies that made you cry?   \n",
       "1  393714  769447  769448  I have a crush on my best friend. I was trying...   \n",
       "2  381743  746561  746562  Are social networking sites turning many of us...   \n",
       "3  207898  410123  410124  Is btech-mtech dual degree recognized outside ...   \n",
       "4  176605  348886  348887              How can I increase my son's appetite?   \n",
       "\n",
       "                                           question2  is_duplicate  \n",
       "0                          What movies made you cry?             1  \n",
       "1  I was talking to a woman on a dating website a...             0  \n",
       "2  Have social networking sites made people more ...             1  \n",
       "3  Being really interested in programming and cod...             0  \n",
       "4                      How can we increase appetite?             0  "
      ]
     },
     "execution_count": 13,
     "metadata": {},
     "output_type": "execute_result"
    }
   ],
   "source": [
    "data.head()"
   ]
  },
  {
   "cell_type": "code",
   "execution_count": 14,
   "metadata": {},
   "outputs": [],
   "source": [
    "from sklearn.model_selection import train_test_split"
   ]
  },
  {
   "cell_type": "code",
   "execution_count": 15,
   "metadata": {},
   "outputs": [],
   "source": [
    "\n",
    "X, X_valid, y, y_valid = train_test_split(data[['question1', 'question2']], data['is_duplicate'],\n",
    "                                                    test_size=0.05, \n",
    "                                                    stratify=data['is_duplicate'].values, random_state=32)"
   ]
  },
  {
   "cell_type": "code",
   "execution_count": 16,
   "metadata": {},
   "outputs": [
    {
     "data": {
      "text/plain": [
       "((384130, 2), (20218, 2), (384130,), (20218,))"
      ]
     },
     "execution_count": 16,
     "metadata": {},
     "output_type": "execute_result"
    }
   ],
   "source": [
    "X.shape, X_valid.shape, y.shape, y_valid.shape"
   ]
  },
  {
   "cell_type": "code",
   "execution_count": 17,
   "metadata": {},
   "outputs": [],
   "source": [
    "X_train, X_test, y_train, y_test = train_test_split(X, y,\n",
    "                                                    test_size=0.053, \n",
    "                                                    stratify=y.values, random_state=32)"
   ]
  },
  {
   "cell_type": "code",
   "execution_count": 18,
   "metadata": {},
   "outputs": [
    {
     "data": {
      "text/plain": [
       "((363771, 2), (20359, 2), (363771,), (20359,))"
      ]
     },
     "execution_count": 18,
     "metadata": {},
     "output_type": "execute_result"
    }
   ],
   "source": [
    "X_train.shape, X_test.shape, y_train.shape, y_test.shape"
   ]
  },
  {
   "cell_type": "code",
   "execution_count": 19,
   "metadata": {},
   "outputs": [],
   "source": [
    "del(data)\n",
    "del(X)\n",
    "del(y)"
   ]
  },
  {
   "cell_type": "code",
   "execution_count": 20,
   "metadata": {},
   "outputs": [
    {
     "data": {
      "text/plain": [
       "((363771, 2), (20218, 2), (20359, 2), (363771,), (20218,), (20359,))"
      ]
     },
     "execution_count": 20,
     "metadata": {},
     "output_type": "execute_result"
    }
   ],
   "source": [
    "X_train.shape, X_valid.shape, X_test.shape, y_train.shape, y_valid.shape, y_test.shape"
   ]
  },
  {
   "cell_type": "code",
   "execution_count": 21,
   "metadata": {},
   "outputs": [],
   "source": [
    "X_train.reset_index(inplace = True, drop = True)\n",
    "X_valid.reset_index(inplace = True, drop = True)\n",
    "X_test.reset_index(inplace = True, drop = True)\n",
    "y_train.reset_index(inplace = True, drop=True)\n",
    "y_valid.reset_index(inplace = True, drop=True)\n",
    "y_test.reset_index(inplace = True, drop=True)"
   ]
  },
  {
   "cell_type": "code",
   "execution_count": 22,
   "metadata": {},
   "outputs": [
    {
     "data": {
      "text/plain": [
       "0         0\n",
       "1         1\n",
       "2         1\n",
       "3         0\n",
       "4         0\n",
       "         ..\n",
       "363766    1\n",
       "363767    1\n",
       "363768    1\n",
       "363769    1\n",
       "363770    0\n",
       "Name: is_duplicate, Length: 363771, dtype: int64"
      ]
     },
     "execution_count": 22,
     "metadata": {},
     "output_type": "execute_result"
    }
   ],
   "source": [
    "y_train"
   ]
  },
  {
   "cell_type": "code",
   "execution_count": 23,
   "metadata": {},
   "outputs": [
    {
     "data": {
      "text/html": [
       "<div>\n",
       "<style scoped>\n",
       "    .dataframe tbody tr th:only-of-type {\n",
       "        vertical-align: middle;\n",
       "    }\n",
       "\n",
       "    .dataframe tbody tr th {\n",
       "        vertical-align: top;\n",
       "    }\n",
       "\n",
       "    .dataframe thead th {\n",
       "        text-align: right;\n",
       "    }\n",
       "</style>\n",
       "<table border=\"1\" class=\"dataframe\">\n",
       "  <thead>\n",
       "    <tr style=\"text-align: right;\">\n",
       "      <th></th>\n",
       "      <th>question1</th>\n",
       "      <th>question2</th>\n",
       "    </tr>\n",
       "  </thead>\n",
       "  <tbody>\n",
       "    <tr>\n",
       "      <th>0</th>\n",
       "      <td>Is a wound that is itching, a sign of the woun...</td>\n",
       "      <td>Good website for preparing UGC net exam for co...</td>\n",
       "    </tr>\n",
       "    <tr>\n",
       "      <th>1</th>\n",
       "      <td>What if my girlfriend still talks to her ex?</td>\n",
       "      <td>What if my girlfriend talks to her ex?</td>\n",
       "    </tr>\n",
       "    <tr>\n",
       "      <th>2</th>\n",
       "      <td>What were angels actually described to look li...</td>\n",
       "      <td>How do angels really look according to the Bible?</td>\n",
       "    </tr>\n",
       "    <tr>\n",
       "      <th>3</th>\n",
       "      <td>How do I get a mortgage in Vietnam, if I am a ...</td>\n",
       "      <td>I am a foreign cloud-based digital SaaS provid...</td>\n",
       "    </tr>\n",
       "    <tr>\n",
       "      <th>4</th>\n",
       "      <td>How can I perform a recovery in my Asus desktop?</td>\n",
       "      <td>What is the best way to lease a car to a friend?</td>\n",
       "    </tr>\n",
       "    <tr>\n",
       "      <th>...</th>\n",
       "      <td>...</td>\n",
       "      <td>...</td>\n",
       "    </tr>\n",
       "    <tr>\n",
       "      <th>363766</th>\n",
       "      <td>Where is the Xiaomi Service Centers in Bangalore?</td>\n",
       "      <td>Where is the Xiaomi service center in Bangalore?</td>\n",
       "    </tr>\n",
       "    <tr>\n",
       "      <th>363767</th>\n",
       "      <td>What are some good and bad benefits of banning...</td>\n",
       "      <td>What are the benefits of banning 500 and 1000 ...</td>\n",
       "    </tr>\n",
       "    <tr>\n",
       "      <th>363768</th>\n",
       "      <td>Where can I get wonderful floor tiles company ...</td>\n",
       "      <td>Where can I found wide variety of ceramic tile...</td>\n",
       "    </tr>\n",
       "    <tr>\n",
       "      <th>363769</th>\n",
       "      <td>How can I become a millionaire before the age ...</td>\n",
       "      <td>How do I become a millionaire now?</td>\n",
       "    </tr>\n",
       "    <tr>\n",
       "      <th>363770</th>\n",
       "      <td>What does 'Aachar Sanhita' (code of conduct) m...</td>\n",
       "      <td>If India is so good why do Indians leave India?</td>\n",
       "    </tr>\n",
       "  </tbody>\n",
       "</table>\n",
       "<p>363771 rows × 2 columns</p>\n",
       "</div>"
      ],
      "text/plain": [
       "                                                question1  \\\n",
       "0       Is a wound that is itching, a sign of the woun...   \n",
       "1            What if my girlfriend still talks to her ex?   \n",
       "2       What were angels actually described to look li...   \n",
       "3       How do I get a mortgage in Vietnam, if I am a ...   \n",
       "4        How can I perform a recovery in my Asus desktop?   \n",
       "...                                                   ...   \n",
       "363766  Where is the Xiaomi Service Centers in Bangalore?   \n",
       "363767  What are some good and bad benefits of banning...   \n",
       "363768  Where can I get wonderful floor tiles company ...   \n",
       "363769  How can I become a millionaire before the age ...   \n",
       "363770  What does 'Aachar Sanhita' (code of conduct) m...   \n",
       "\n",
       "                                                question2  \n",
       "0       Good website for preparing UGC net exam for co...  \n",
       "1                  What if my girlfriend talks to her ex?  \n",
       "2       How do angels really look according to the Bible?  \n",
       "3       I am a foreign cloud-based digital SaaS provid...  \n",
       "4        What is the best way to lease a car to a friend?  \n",
       "...                                                   ...  \n",
       "363766   Where is the Xiaomi service center in Bangalore?  \n",
       "363767  What are the benefits of banning 500 and 1000 ...  \n",
       "363768  Where can I found wide variety of ceramic tile...  \n",
       "363769                 How do I become a millionaire now?  \n",
       "363770    If India is so good why do Indians leave India?  \n",
       "\n",
       "[363771 rows x 2 columns]"
      ]
     },
     "execution_count": 23,
     "metadata": {},
     "output_type": "execute_result"
    }
   ],
   "source": [
    "X_train"
   ]
  },
  {
   "cell_type": "code",
   "execution_count": 25,
   "metadata": {},
   "outputs": [
    {
     "data": {
      "text/plain": [
       "'What if my girlfriend talks to her ex?'"
      ]
     },
     "execution_count": 25,
     "metadata": {},
     "output_type": "execute_result"
    }
   ],
   "source": [
    "X_train['question2'][1]"
   ]
  },
  {
   "cell_type": "code",
   "execution_count": 26,
   "metadata": {},
   "outputs": [
    {
     "name": "stderr",
     "output_type": "stream",
     "text": [
      "[nltk_data] Downloading package punkt to\n",
      "[nltk_data]     C:\\Users\\bapan\\AppData\\Roaming\\nltk_data...\n",
      "[nltk_data]   Package punkt is already up-to-date!\n"
     ]
    },
    {
     "data": {
      "text/plain": [
       "True"
      ]
     },
     "execution_count": 26,
     "metadata": {},
     "output_type": "execute_result"
    }
   ],
   "source": [
    "from collections import defaultdict\n",
    "import nltk\n",
    "nltk.download('punkt')"
   ]
  },
  {
   "cell_type": "code",
   "execution_count": 27,
   "metadata": {},
   "outputs": [
    {
     "name": "stdout",
     "output_type": "stream",
     "text": [
      "The length of the vocabulary is:  129645\n"
     ]
    }
   ],
   "source": [
    "vocab = defaultdict(lambda: 0)\n",
    "vocab['<PAD>'] = 1\n",
    "\n",
    "Q1_train, Q2_train = [], []\n",
    "for i in range(len(X_train)):\n",
    "    \n",
    "    v = nltk.word_tokenize(X_train['question1'][i])\n",
    "    w = nltk.word_tokenize(X_train['question2'][i])\n",
    "    q = v + w\n",
    "    Q1_train.append(v)\n",
    "    Q2_train.append(w)\n",
    "  \n",
    "    for word in q:\n",
    "        \n",
    "        if word not in vocab:\n",
    "            vocab[word] = len(vocab) + 1\n",
    "print('The length of the vocabulary is: ', len(vocab))"
   ]
  },
  {
   "cell_type": "code",
   "execution_count": 28,
   "metadata": {},
   "outputs": [
    {
     "name": "stdout",
     "output_type": "stream",
     "text": [
      "['What', 'if', 'my', 'girlfriend', 'still', 'talks', 'to', 'her', 'ex', '?'] ['What', 'if', 'my', 'girlfriend', 'talks', 'to', 'her', 'ex', '?']\n"
     ]
    }
   ],
   "source": [
    "print(Q1_train[1], Q2_train[1])"
   ]
  },
  {
   "cell_type": "code",
   "execution_count": 29,
   "metadata": {},
   "outputs": [
    {
     "name": "stdout",
     "output_type": "stream",
     "text": [
      "1\n",
      "9332\n",
      "20571\n",
      "1207\n"
     ]
    }
   ],
   "source": [
    "print(vocab['<PAD>'])\n",
    "print(vocab['Astrology'])\n",
    "print(vocab['Astronomy'])\n",
    "print(vocab['Bangalore'])"
   ]
  },
  {
   "cell_type": "code",
   "execution_count": 30,
   "metadata": {},
   "outputs": [],
   "source": [
    "Q1_valid, Q2_valid = [], []\n",
    "for i in range(len(X_valid)):\n",
    "    \n",
    "    Q1_valid.append(nltk.word_tokenize(X_valid['question1'][i]))\n",
    "    Q2_valid.append(nltk.word_tokenize(X_valid['question2'][i]))"
   ]
  },
  {
   "cell_type": "code",
   "execution_count": 31,
   "metadata": {},
   "outputs": [
    {
     "data": {
      "text/plain": [
       "(20218, 20218)"
      ]
     },
     "execution_count": 31,
     "metadata": {},
     "output_type": "execute_result"
    }
   ],
   "source": [
    "len(Q1_valid), len(Q2_valid)"
   ]
  },
  {
   "cell_type": "code",
   "execution_count": 32,
   "metadata": {},
   "outputs": [
    {
     "name": "stdout",
     "output_type": "stream",
     "text": [
      "['What', 'is', 'the', 'meaning', 'and', 'purpose', 'to', 'life', '?']\n"
     ]
    }
   ],
   "source": [
    "print(Q1_valid[0])"
   ]
  },
  {
   "cell_type": "code",
   "execution_count": 33,
   "metadata": {},
   "outputs": [],
   "source": [
    "Q1_test, Q2_test = [], []\n",
    "for i in range(len(X_test)):\n",
    "    \n",
    "    Q1_test.append(nltk.word_tokenize(X_test['question1'][i]))\n",
    "    Q2_test.append(nltk.word_tokenize(X_test['question2'][i]))"
   ]
  },
  {
   "cell_type": "code",
   "execution_count": 34,
   "metadata": {},
   "outputs": [
    {
     "data": {
      "text/plain": [
       "(20359, 20359)"
      ]
     },
     "execution_count": 34,
     "metadata": {},
     "output_type": "execute_result"
    }
   ],
   "source": [
    "len(Q1_test), len(Q2_test)"
   ]
  },
  {
   "cell_type": "code",
   "execution_count": 35,
   "metadata": {},
   "outputs": [],
   "source": [
    "# Converting questions to array of integers\n",
    "for i in range(len(Q1_train)):\n",
    "    Q1_train[i] = [vocab[word] for word in Q1_train[i]]\n",
    "    Q2_train[i] = [vocab[word] for word in Q2_train[i]]\n",
    "    \n",
    "for i in range(len(Q1_valid)):\n",
    "    Q1_valid[i] = [vocab[word] for word in Q1_valid[i]]\n",
    "    Q2_valid[i] = [vocab[word] for word in Q2_valid[i]]\n",
    "\n",
    "        \n",
    "for i in range(len(Q1_test)):\n",
    "    Q1_test[i] = [vocab[word] for word in Q1_test[i]]\n",
    "    Q2_test[i] = [vocab[word] for word in Q2_test[i]]"
   ]
  },
  {
   "cell_type": "code",
   "execution_count": 36,
   "metadata": {},
   "outputs": [
    {
     "name": "stdout",
     "output_type": "stream",
     "text": [
      "144\n"
     ]
    }
   ],
   "source": [
    "maxlen = -10000\n",
    "for arr in Q1_train:\n",
    "    if len(arr) > maxlen:\n",
    "        maxlen = len(arr)\n",
    "print(maxlen)"
   ]
  },
  {
   "cell_type": "code",
   "execution_count": 37,
   "metadata": {},
   "outputs": [
    {
     "name": "stdout",
     "output_type": "stream",
     "text": [
      "272\n",
      "19\n"
     ]
    }
   ],
   "source": [
    "c = 0\n",
    "maxlen = -10000\n",
    "for arr in Q2_train:\n",
    "    if len(arr) > maxlen or len(arr) > 270:\n",
    "        maxlen = len(arr)\n",
    "        c = c+1\n",
    "print(maxlen)\n",
    "print(c)"
   ]
  },
  {
   "cell_type": "code",
   "execution_count": 38,
   "metadata": {},
   "outputs": [],
   "source": [
    "def Convert(Q1, Q2, label, pad = vocab['<PAD>']):\n",
    "    \n",
    "    max_len = 272\n",
    "    Q1_batch, Q2_batch = [], []\n",
    "    \n",
    "    for q1, q2 in zip(Q1, Q2):\n",
    "        \n",
    "        q1 = q1 + [pad] * (max_len - len(q1))\n",
    "        q2 = q2 + [pad] * (max_len - len(q2))\n",
    "        \n",
    "        Q1_batch.append(q1)\n",
    "        Q2_batch.append(q2)\n",
    "        \n",
    "    Q1_batch = np.array(Q1_batch).astype(np.float32)\n",
    "    Q2_batch = np.array(Q2_batch).astype(np.float32)\n",
    "    y_batch = label.values.astype(np.float32)\n",
    "    \n",
    "    return Q1_batch, Q2_batch, y_batch"
   ]
  },
  {
   "cell_type": "code",
   "execution_count": 39,
   "metadata": {},
   "outputs": [],
   "source": [
    "Q1_train_, Q2_train_, y_train_ = Convert(Q1_train, Q2_train, y_train, pad = vocab['<PAD>'])\n",
    "Q1_valid_, Q2_valid_, y_valid_ = Convert(Q1_valid, Q2_valid, y_valid, pad = vocab['<PAD>'])\n",
    "Q1_test_, Q2_test_, y_test_ = Convert(Q1_test, Q2_test, y_test, pad = vocab['<PAD>'])"
   ]
  },
  {
   "cell_type": "code",
   "execution_count": 43,
   "metadata": {},
   "outputs": [],
   "source": [
    "import tensorflow as tf\n",
    "from tensorflow.keras.models import Model\n",
    "from tensorflow.keras.layers import Input, Flatten, Dense, Dropout, Lambda, Embedding, LSTM\n",
    "from tensorflow.keras.optimizers import RMSprop, Adam\n",
    "from tensorflow.keras import backend as K"
   ]
  },
  {
   "cell_type": "code",
   "execution_count": 44,
   "metadata": {},
   "outputs": [],
   "source": [
    "embed_dim = 256\n",
    "vocab_size = len(vocab)\n",
    "maxlen = 272\n",
    "def initialize_base_network():\n",
    "    input = Input(shape=(maxlen, ))\n",
    "    x = Embedding(vocab_size, embed_dim,\n",
    "                  input_length = maxlen)(input)\n",
    "    \n",
    "    x = LSTM(128)(x)\n",
    "    return Model(inputs=input, outputs=x)\n"
   ]
  },
  {
   "cell_type": "code",
   "execution_count": 45,
   "metadata": {},
   "outputs": [],
   "source": [
    "def euclidean_distance(vects):\n",
    "    x, y = vects\n",
    "    sum_square = tf.math.reduce_sum(tf.square(x - y), axis=1, keepdims=True)\n",
    "    return tf.sqrt(tf.maximum(sum_square, tf.keras.backend.epsilon()))\n",
    "\n",
    "def eucl_dist_output_shape(shapes):\n",
    "    shape1, shape2 = shapes\n",
    "    return (shape1[0], 1)"
   ]
  },
  {
   "cell_type": "code",
   "execution_count": 47,
   "metadata": {},
   "outputs": [],
   "source": [
    "base_network = initialize_base_network()\n",
    "\n",
    "# create the left input and point to the base network\n",
    "input_a = Input(shape=(maxlen,), name=\"left_input\")\n",
    "vect_output_a = base_network(input_a)\n",
    "\n",
    "# create the right input and point to the base network\n",
    "input_b = Input(shape=(maxlen,), name=\"right_input\")\n",
    "vect_output_b = base_network(input_b)\n",
    "\n",
    "# measure the similarity of the two vector outputs\n",
    "output = Lambda(euclidean_distance, name=\"output_layer\", output_shape=eucl_dist_output_shape)([vect_output_a, vect_output_b])\n",
    "\n",
    "# specify the inputs and output of the model\n",
    "model = Model([input_a, input_b], output)\n"
   ]
  },
  {
   "cell_type": "code",
   "execution_count": 48,
   "metadata": {},
   "outputs": [
    {
     "name": "stdout",
     "output_type": "stream",
     "text": [
      "Model: \"model_1\"\n",
      "__________________________________________________________________________________________________\n",
      " Layer (type)                   Output Shape         Param #     Connected to                     \n",
      "==================================================================================================\n",
      " left_input (InputLayer)        [(None, 272)]        0           []                               \n",
      "                                                                                                  \n",
      " right_input (InputLayer)       [(None, 272)]        0           []                               \n",
      "                                                                                                  \n",
      " model (Functional)             (None, 128)          35242240    ['left_input[0][0]',             \n",
      "                                                                  'right_input[0][0]']            \n",
      "                                                                                                  \n",
      " output_layer (Lambda)          (None, 1)            0           ['model[0][0]',                  \n",
      "                                                                  'model[1][0]']                  \n",
      "                                                                                                  \n",
      "==================================================================================================\n",
      "Total params: 35,242,240\n",
      "Trainable params: 35,242,240\n",
      "Non-trainable params: 0\n",
      "__________________________________________________________________________________________________\n"
     ]
    }
   ],
   "source": [
    "model.summary()"
   ]
  },
  {
   "cell_type": "code",
   "execution_count": 49,
   "metadata": {},
   "outputs": [],
   "source": [
    "def contrastive_loss_with_margin(margin):\n",
    "    def contrastive_loss(y_true, y_pred):\n",
    "        '''Contrastive loss from Hadsell-et-al.'06\n",
    "        http://yann.lecun.com/exdb/publis/pdf/hadsell-chopra-lecun-06.pdf\n",
    "        '''\n",
    "        square_pred = K.square(y_pred)\n",
    "        margin_square = K.square(K.maximum(margin - y_pred, 0))\n",
    "        return (y_true * square_pred + (1 - y_true) * margin_square)\n",
    "    return contrastive_loss"
   ]
  },
  {
   "cell_type": "code",
   "execution_count": 50,
   "metadata": {},
   "outputs": [],
   "source": [
    "adm = Adam(learning_rate = 0.001)\n",
    "model.compile(loss=contrastive_loss_with_margin(margin=1), optimizer=adm)"
   ]
  },
  {
   "cell_type": "code",
   "execution_count": 51,
   "metadata": {},
   "outputs": [
    {
     "name": "stdout",
     "output_type": "stream",
     "text": [
      "Epoch 1/2\n",
      "2842/2842 [==============================] - 9379s 3s/step - loss: 0.6303 - val_loss: 0.6303\n",
      "Epoch 2/2\n",
      "2842/2842 [==============================] - 8688s 3s/step - loss: 0.6303 - val_loss: 0.6303\n"
     ]
    }
   ],
   "source": [
    "\n",
    "history = model.fit([Q1_train_, Q2_train_], y_train_, epochs=2, batch_size=128, \n",
    "                    validation_data=([Q1_valid_, Q2_valid_], y_valid_))"
   ]
  }
 ],
 "metadata": {
  "kernelspec": {
   "display_name": "Python 3 (ipykernel)",
   "language": "python",
   "name": "python3"
  },
  "language_info": {
   "codemirror_mode": {
    "name": "ipython",
    "version": 3
   },
   "file_extension": ".py",
   "mimetype": "text/x-python",
   "name": "python",
   "nbconvert_exporter": "python",
   "pygments_lexer": "ipython3",
   "version": "3.8.13"
  }
 },
 "nbformat": 4,
 "nbformat_minor": 4
}
