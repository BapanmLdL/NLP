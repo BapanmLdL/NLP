{
 "cells": [
  {
   "cell_type": "markdown",
   "metadata": {
    "id": "hvpUC4Tawnm7"
   },
   "source": [
    "# 1. Import the packages"
   ]
  },
  {
   "cell_type": "code",
   "execution_count": 4,
   "metadata": {
    "id": "61OyauZz1YXZ"
   },
   "outputs": [],
   "source": [
    "import requests\n",
    "import requests\n",
    "from bs4 import BeautifulSoup\n",
    "import pandas as pd\n",
    "import numpy as np\n",
    "import matplotlib.pyplot as plt\n",
    "import seaborn as sns\n",
    "import os\n",
    "%matplotlib inline"
   ]
  },
  {
   "cell_type": "markdown",
   "metadata": {
    "id": "Zdz_ekJpPYK2"
   },
   "source": [
    "# 2.Data retrieval"
   ]
  },
  {
   "cell_type": "markdown",
   "metadata": {
    "id": "Uzwhqcg_xC_f"
   },
   "source": [
    "#### 2.1. Parse the `https://inshorts.com/en/read/technology` url and find oout the topic of category in the url."
   ]
  },
  {
   "cell_type": "code",
   "execution_count": 5,
   "metadata": {
    "id": "HV9flLWQ1Zdd"
   },
   "outputs": [],
   "source": [
    "url = 'https://inshorts.com/en/read/technology'"
   ]
  },
  {
   "cell_type": "code",
   "execution_count": 6,
   "metadata": {
    "colab": {
     "base_uri": "https://localhost:8080/"
    },
    "id": "t9p9LZugrYpl",
    "outputId": "b36d05be-a651-4cbe-8416-cbfd8c177152"
   },
   "outputs": [
    {
     "data": {
      "text/plain": [
       "['https:', '', 'inshorts.com', 'en', 'read', 'technology']"
      ]
     },
     "execution_count": 6,
     "metadata": {},
     "output_type": "execute_result"
    }
   ],
   "source": [
    "news_category = url.split('/')\n",
    "news_category"
   ]
  },
  {
   "cell_type": "code",
   "execution_count": 7,
   "metadata": {
    "colab": {
     "base_uri": "https://localhost:8080/"
    },
    "id": "ndPdflRorYpr",
    "outputId": "51f10d35-55f2-433b-fe9d-21450c2840da"
   },
   "outputs": [
    {
     "data": {
      "text/plain": [
       "b'<!doctype html>\\n<html lang=\"en\">\\n\\n<head>\\n  <meta charset=\"utf-8\" />\\n  <style>\\n    /* The Modal (background) */\\n    .modal_contact {\\n        display: none; /* Hidden by default */\\n        position: fixed; /* Stay in place */\\n        z-index: 8; /* Sit on top */\\n        left: 0;\\n        top: 0;\\n        width: 100%; /* Full width */\\n        height: 100%;\\n        overflow: auto; /* Enable scroll if needed */\\n        background-color: rgb(0,0,0); /* Fallback color */\\n        background-color: rgba(0,0,0,0.4); /* Black w/ opacity */\\n    }\\n\\n    /* Modal Content/Box */\\n    .modal-content {\\n        background-color: #fefefe;\\n        margin: 15% auto;\\n        padding: 20px !important;\\n        padding-top: 0 !important;\\n        /* border: 1px solid #888; */\\n        text-align: center;\\n        position: relative;\\n        border-radius: 6px;\\n    }\\n\\n    /* The Close Button */\\n    .close {\\n      left: 90%;\\n      color: #aaa;\\n      float: right;\\n      font-size: 28px;\\n      font-weight: bold;\\n    /* position: absolute; */\\n    /* bottom: 86%; */\\n    /* display: inline-block; */\\n    /* padding-left: 5%; */\\n    }\\n\\n    .close:hover,\\n    .close:focus {\\n        color: black;\\n        text-decoration: none;\\n        cursor: pointer;\\n    }\\n\\n    #myBtn {\\n      background: #999999;\\n      color: #ffffff;\\n      text-transform: uppercase;\\n      font-weight: bold;\\n      box-shadow: none;\\n      border-radius: 4px;\\n      border: none;\\n      font-size: .8rem;\\n      /* width: 8rem; */\\n      height: 2rem;\\n      line-height: 2rem;\\n    }\\n\\n    .contact {\\n      margin-bottom: 4%;\\n      clear: both;\\n    }\\n  </style>\\n\\n  \\n    \\n  <meta http-equiv=\"Content-Type\" content=\"text/html; charset=UTF-8\"/>\\n  <meta name=\"viewport\" content=\"width=device-width, initial-scale=1, maximum-scale=1.0, user-scalable=no\"/>\\n\\n  <meta http-equiv=\"X-UA-Compatible\" content=\"IE=edge\">\\n  <link rel=\"manifest\" href=\"manifest.json\">\\n\\n  <!-- Fallback to homescreen for Chrome   <39 on Android -->\\n  <meta name=\"mobile-web-app-capable\" content=\"yes\">\\n  <meta name=\"application-name\" content=\"inshorts\">\\n  <link rel=\"icon\" sizes=\"192x192\" href=\"https://assets.inshorts.com/website_assets/images/favicon.png\">\\n\\n  <!-- Add to homescreen for Safari on iOS -->\\n  <meta name=\"apple-mobile-web-app-capable\" content=\"yes\">\\n  <meta name=\"apple-mobile-web-app-status-bar-style\" content=\"#424242\">\\n  <meta name=\"apple-mobile-web-app-title\" content=\"inshorts\">\\n  <link rel=\"apple-touch-icon\" href=\"https://assets.inshorts.com/website_assets/images/favicon.png\">\\n\\n  <!-- Tile icon for Win8 (144x144 + tile color) -->\\n  <meta name=\"msapplication-TileImage\" content=\"fav/favicon.png\">\\n  <meta name=\"msapplication-TileColor\" content=\"#424242\">\\n\\n  <meta name=\"theme-color\" content=\"#424242\">\\n  <meta http-equiv=\"content-type\" content=\"text/html; charset=UTF-8\"/>\\n  <meta name=\"msapplication-navbutton-color\" content=\"#424242\">\\n  <meta name=\"apple-mobile-web-app-status-bar-style\" content=\"#424242\">\\n  <link rel=\"apple-touch-startup-image\" href=\"https://assets.inshorts.com/website_assets/images/favicon.png\">\\n  <meta name=\"apple-mobile-web-app-status-bar-style\" content=\"black-translucent\">\\n    <meta name=\"twitter:card\" content=\"app\"/>\\n  <meta name=\"twitter:site\" content=\"@inshorts\"/>\\n  <meta name=\"twitter:creator\" content=\"@inshorts\"/>\\n  <meta name=\"twitter:description\" content=\"Inshorts delivers news in less than 60 words, containing only the essential facts, compromising on anything that is close to opinionating and storytelling.\"/>\\n  <meta name=\"twitter:app:country\" content=\"IN\"/>\\n  <meta name=\"twitter:app:name:iphone\" content=\"Inshorts - Stay Informed\"/>\\n  <meta name=\"twitter:app:id:iphone\" content=\"892146527\"/>\\n  <meta name=\"twitter:app:url:iphone\" content=\"nis://news\"/>\\n  <meta name=\"twitter:app:name:ipad\" content=\"Inshorts - Stay Informed\"/>\\n  <meta name=\"twitter:app:id:ipad\" content=\"892146527\"/>\\n  <meta name=\"twitter:app:url:ipad\" content=\"nis://news\"/>\\n  <meta name=\"twitter:app:name:googleplay\" content=\"Inshorts - Stay Informed\"/>\\n  <meta name=\"twitter:app:id:googleplay\" content=\"com.nis.app\"/>\\n  <meta name=\"twitter:app:url:googleplay\" content=\"nis://news\"/>\\n\\n  <meta name=\"description\" content=\"Read technology news in English in less that 60 words and get updated with all top news and current affairs related to mobile, internet and computer in a fast and easy way with inshorts.\"/>\\n  <link href=\"https://inshorts.com/en/read/technology\" rel=\"canonical\" />\\n  <link href=\"https://inshorts.com/en/read/technology\" rel=\"alternate\" reflang=\"en\" />\\n  <meta name=\"apple-itunes-app\" content=\"app-id=892146527\">\\n  <meta name=\"google-play-app\" content=\"app-id=com.nis.app\">\\n\\n  <title>Technology News: Moblie News, Computer News in English with Inshorts</title>\\n  <!-- CSS  -->\\n  <link href=\\'https://fonts.googleapis.com/css?family=Roboto\\' rel=\\'stylesheet\\' type=\\'text/css\\'>\\n  <link href=\"https://fonts.googleapis.com/icon?family=Material+Icons\" rel=\"stylesheet\">\\n  <link rel=\"stylesheet\" href=\"https://cdnjs.cloudflare.com/ajax/libs/materialize/0.97.1/css/materialize.min.css\">\\n  <link href=\\'https://fonts.googleapis.com/css?family=Hind:500,600,400&subset=latin,devanagari\\' rel=\\'stylesheet\\' type=\\'text/css\\'>\\n  <link href=\"/dist/styles/main.css\" type=\"text/css\" rel=\"stylesheet\" media=\"screen,projection\"/>\\n  <link href=\"/dist/styles/index.css\" type=\"text/css\" rel=\"stylesheet\" media=\"screen,projection\"/>\\n  <link href=\"/dist/styles/read.css\" type=\"text/css\" rel=\"stylesheet\" media=\"screen,projection\"/>\\n  <link href=\"/dist/styles/news-card.css\" type=\"text/css\" rel=\"stylesheet\" media=\"screen,projection\"/>\\n  <link rel=\"icon\" type=\"image/png\" href=\"https://assets.inshorts.com/website_assets/images/favicon.png\" />\\n  <link rel=\"manifest\" href=\"/dist/manifest.json\">\\n  <script async=\\'async\\' src=\\'https://www.googletagservices.com/tag/js/gpt.js\\'></script>\\n  <script>\\n    var googletag = googletag || {};\\n    googletag.cmd = googletag.cmd || [];\\n    let top_banner_slot;\\n  </script>\\n\\n  <!-- Top banner for desktop-->\\n  <script>\\n    googletag.cmd.push(function() {\\n      \\n      \\n        //Top banner for desktop\\n        top_banner_slot = googletag.defineSlot(\\'/142919096/inshorts_website_728x90\\', [728, 90], \\'div-gpt-ad-1536585015617-0\\')\\n        .addService(googletag.pubads())\\n        .setCollapseEmptyDiv(true,true);\\n      \\n\\n      googletag.pubads().disableInitialLoad();\\n      googletag.pubads().enableSingleRequest();\\n      googletag.enableServices();\\n    });\\n  </script>\\n\\n  <!-- Facebook Pixel Code -->\\n  <script>\\n    !function(f,b,e,v,n,t,s)\\n    {if(f.fbq)return;n=f.fbq=function(){n.callMethod?\\n    n.callMethod.apply(n,arguments):n.queue.push(arguments)};\\n    if(!f._fbq)f._fbq=n;n.push=n;n.loaded=!0;n.version=\\'2.0\\';\\n    n.queue=[];t=b.createElement(e);t.async=!0;\\n    t.src=v;s=b.getElementsByTagName(e)[0];\\n    s.parentNode.insertBefore(t,s)}(window, document,\\'script\\',\\n    \\'https://connect.facebook.net/en_US/fbevents.js\\');\\n    fbq(\\'init\\', \\'822966517773327\\');\\n    fbq(\\'track\\', \\'PageView\\');\\n  </script>\\n  <noscript><img height=\"1\" width=\"1\" style=\"display:none\"\\n    src=\"https://www.facebook.com/tr?id=822966517773327&ev=PageView&noscript=1\"\\n  /></noscript>\\n  <!-- End Facebook Pixel Code -->\\n  <!-- Mix panel script start -->\\n<script>\\n  (function(f,b){if(!b.__SV){var e,g,i,h;window.mixpanel=b;b._i=[];b.init=function(e,f,c){function g(a,d){var b=d.split(\".\");2==b.length&&(a=a[b[0]],d=b[1]);a[d]=function(){a.push([d].concat(Array.prototype.slice.call(arguments,0)))}}var a=b;\"undefined\"!==typeof c?a=b[c]=[]:c=\"mixpanel\";a.people=a.people||[];a.toString=function(a){var d=\"mixpanel\";\"mixpanel\"!==c&&(d+=\".\"+c);a||(d+=\" (stub)\");return d};a.people.toString=function(){return a.toString(1)+\".people (stub)\"};i=\"disable time_event track track_pageview track_links track_forms track_with_groups add_group set_group remove_group register register_once alias unregister identify name_tag set_config reset opt_in_tracking opt_out_tracking has_opted_in_tracking has_opted_out_tracking clear_opt_in_out_tracking start_batch_senders people.set people.set_once people.unset people.increment people.append people.union people.track_charge people.clear_charges people.delete_user people.remove\".split(\" \");\\n  for(h=0;h<i.length;h++)g(a,i[h]);var j=\"set set_once union unset remove delete\".split(\" \");a.get_group=function(){function b(c){d[c]=function(){call2_args=arguments;call2=[c].concat(Array.prototype.slice.call(call2_args,0));a.push([e,call2])}}for(var d={},e=[\"get_group\"].concat(Array.prototype.slice.call(arguments,0)),c=0;c<j.length;c++)b(j[c]);return d};b._i.push([e,f,c])};b.__SV=1.2;e=f.createElement(\"script\");e.type=\"text/javascript\";e.async=!0;e.src=\"undefined\"!==typeof MIXPANEL_CUSTOM_LIB_URL?\\n  MIXPANEL_CUSTOM_LIB_URL:\"file:\"===f.location.protocol&&\"//cdn.mxpnl.com/libs/mixpanel-2-latest.min.js\".match(/^\\\\/\\\\//)?\"https://cdn.mxpnl.com/libs/mixpanel-2-latest.min.js\":\"//cdn.mxpnl.com/libs/mixpanel-2-latest.min.js\";g=f.getElementsByTagName(\"script\")[0];g.parentNode.insertBefore(e,g)}})(document,window.mixpanel||[]);\\n  mixpanel.init(\"a99a1037068944b00a0cc8ee56c94e8c\")\\n  mixpanel.track(\"pageview\")\\n  </script>\\n<!-- Mix panel script end -->\\n</head>\\n<script>\\n  (function(i,s,o,g,r,a,m){i[\\'GoogleAnalyticsObject\\']=r;i[r]=i[r]||function(){\\n  (i[r].q=i[r].q||[]).push(arguments)},i[r].l=1*new Date();a=s.createElement(o),\\n  m=s.getElementsByTagName(o)[0];a.async=1;a.src=g;m.parentNode.insertBefore(a,m)\\n  })(window,document,\\'script\\',\\'//www.google-analytics.com/analytics.js\\',\\'ga\\');\\n\\n  ga(\\'create\\', \\'UA-55157535-6\\', \\'auto\\');\\n  ga(\\'send\\', \\'pageview\\');  \\n</script>\\n  <!-- Add After importing GA and Mixpanel scripts -->\\n<script>\\n  function track_GA_Mixpanel({hitType, category, action, label, value = 1}){\\n    if (window && window.ga) {\\n      ga(\\'send\\', {\\n            hitType: \\'event\\',\\n            eventCategory: category,\\n            eventAction: action,\\n            eventLabel: label,\\n            eventValue: value\\n        });\\n    }\\n    // mix panel analytics\\n    if(window && window.mixpanel){\\n        mixpanel.track(\"event\", {category, action, label, value});\\n    }\\n  }\\n</script>\\n<body>\\n\\n\\n  <!-- Begin comScore Tag -->\\n  <script>\\n    var _comscore = _comscore || [];\\n    _comscore.push({ c1: \"2\", c2: \"28268321\" });\\n    (function() {\\n      var s = document.createElement(\"script\"), el = document.getElementsByTagName(\"script\")[0]; s.async = true;\\n      s.src = (document.location.protocol == \"https:\" ? \"https://sb\" : \"http://b\") + \".scorecardresearch.com/beacon.js\";\\n      el.parentNode.insertBefore(s, el);\\n    })();\\n  </script>\\n  <noscript>\\n    <img src=\"https://sb.scorecardresearch.com/p?c1=2&c2=28268321&cv=2.0&cj=1\" />\\n  </noscript>\\n  \\n  \\n  <!-- HEADER START -->\\n  <div class=\"header z-depth-1\">\\n    <div class=\"menu clickable\">\\n      <button class=\"c-hamburger c-hamburger--htx\" ><span>toggle menu</span></button><span class=\"unselectable\">Menu</span>\\n    </div>\\n    <!--\\n    <div class=\"search-wrapper hide-on-small-only\">\\n      <input class=\"search-box\" placeholder=\"Search\" id=\"search\"/>\\n      <i id=\"search_icon\" class=\"material-icons search-icon\">search</i>\\n      <div class=\"search-box-ul\">&nbsp;</div>\\n    </div>\\n    -->\\n    <a href=\"/\"><img src=\"https://assets.inshorts.com/website_assets/images/logo_inshorts.png\" class=\"logo\"/></a>\\n  </div>\\n  <!-- HEADER END -->\\n\\n  \\n<!--SIDEBAR START -->\\n    <div class=\"hide-on-med-and-up sidebar-bg\" style=\"display: none;\">&nbsp;</div>\\n    <div class=\"sidebar\" style=\"overflow-y: scroll;\">\\n      <div class=\"lang-bar\" style=\"\">\\n        <div class=\"lang-selector clickable\">\\n          <a href=\\'/en/read/technology\\'><div class=\"lang-en selected\">English</div></a>\\n          <a href=\\'/hi/read/technology\\'><div class=\"lang-hi \">\\xe0\\xa4\\xb9\\xe0\\xa4\\xbf\\xe0\\xa4\\xa8\\xe0\\xa5\\x8d\\xe0\\xa4\\xa6\\xe0\\xa5\\x80</div></a>\\n        </div>\\n      </div>\\n\\n      <div>\\n        <div class=\"category-header\">Categories</div>\\n        <ul class=\"category-list\">\\n\\n          <a onclick=\"track_GA_Mixpanel({\\'hitType\\': \\'event\\', \\'category\\': \\'LinkToAllNews\\', \\'action\\': \\'clicked\\', \\'label\\': \\'RedirectedToAllNews\\' });\" href=\\'/en/read\\'> <li class=\"active-category \" >All News</li> </a>\\n\\n\\n          <a onclick=\"track_GA_Mixpanel({\\'hitType\\': \\'event\\', \\'category\\': \\'LinkToIndiaNews\\', \\'action\\': \\'clicked\\', \\'label\\': \\'RedirectedToIndiaNews\\' });\" href=\\'/en/read/national\\'> <li class=\"active-category \">India</li> </a>\\n\\n          <a onclick=\"track_GA_Mixpanel({\\'hitType\\': \\'event\\', \\'category\\': \\'LinkToBusinessNews\\', \\'action\\': \\'clicked\\', \\'label\\':  \\'RedirectedToBusinessNews\\' });\"  href=\\'/en/read/business\\'> <li class=\"active-category \">Business</li> </a>\\n\\n          <a onclick=\"track_GA_Mixpanel({\\'hitType\\': \\'event\\', \\'category\\': \\'LinkTosportsNews\\', \\'action\\': \\'clicked\\', \\'label\\': \\'RedirectedToSportsNews\\' });\"  href=\\'/en/read/sports\\'> <li class=\"active-category \">Sports</li> </a>\\n          <a onclick=\"track_GA_Mixpanel({\\'hitType\\': \\'event\\', \\'category\\': \\'LinkToworldNews\\', \\'action\\': \\'clicked\\', \\'label\\': \\'RedirectedToworldNews\\' });\" href=\\'/en/read/world\\'> <li class=\"active-category \">World</li> </a>\\n\\n          <a onclick=\"track_GA_Mixpanel({\\'hitType\\': \\'event\\', \\'category\\': \\'LinkToworldNews\\', \\'action\\': \\'clicked\\',   \\'label\\': \\'RedirectedToworldNews\\' });\"  href=\\'/en/read/politics\\'> <li class=\"active-category \">Politics</li> </a>\\n          <a onclick=\"track_GA_Mixpanel({\\'hitType\\': \\'event\\', \\'category\\': \\'LinkTotechnologyNews\\', \\'action\\': \\'clicked\\', \\'label\\': \\'RedirectedTotechnologyNews\\' });\" href=\\'/en/read/technology\\'> <li class=\"active-category selected\">Technology</li> </a>\\n\\n          <a onclick=\"track_GA_Mixpanel({\\'hitType\\': \\'event\\', \\'category\\': \\'LinkTostartupNews\\', \\'action\\': \\'clicked\\', \\'label\\': \\'RedirectedTostartupNews\\' });\"  href=\\'/en/read/startup\\'> <li class=\"active-category \">Startup</li> </a>\\n\\n\\n          <a onclick=\"track_GA_Mixpanel({\\'hitType\\': \\'event\\', \\'category\\': \\'LinkToEntertainmentNews\\', \\'action\\': \\'clicked\\', \\'label\\': \\'RedirectedToEntertainmentNews\\' });\"  href=\\'/en/read/entertainment\\'> <li class=\"active-category \">Entertainment</li> </a>\\n\\n\\n          <a onclick=\"track_GA_Mixpanel({\\'hitType\\': \\'event\\', \\'category\\': \\'LinkToMiscellaneousNews\\', \\'action\\': \\'clicked\\', \\'label\\': \\'RedirectedToMiscellaneousNews\\' });\"  href=\\'/en/read/miscellaneous\\'> <li class=\"active-category \">Miscellaneous</li> </a>\\n\\n          <a onclick=\"track_GA_Mixpanel({\\'hitType\\': \\'event\\', \\'category\\': \\'LinkTohatkeNews\\', \\'action\\': \\'clicked\\', \\'label\\': \\'RedirectedTohatkeNews\\' });\"  href=\\'/en/read/hatke\\'> <li class=\"active-category \">Hatke</li> </a>\\n\\n          <a onclick=\"track_GA_Mixpanel({\\'hitType\\': \\'event\\', \\'category\\': \\'LinkToscienceNews\\', \\'action\\': \\'clicked\\', \\'label\\': \\'RedirectedToscienceNews\\' });\"  href=\\'/en/read/science\\'> <li class=\"active-category \">Science</li> </a>\\n\\n          <a onclick=\"track_GA_Mixpanel({\\'hitType\\': \\'event\\', \\'category\\': \\'LinkToautomobileNews\\', \\'action\\': \\'clicked\\', \\'label\\': \\'RedirectedToautomobileNews\\' });\"  href=\\'/en/read/automobile\\'> <li class=\"active-category \">Automobile</li> </a>\\n\\n        </ul>\\n      </div>\\n    </div>\\n<!--SIDEBAR END -->\\n\\n  <!-- BODY START -->\\n  <div class=\"container\" style=\"min-height:550px;\">\\n    <div class=\"row\" style=\"padding-top:110px;\">\\n      \\n        <div id=\\'div-gpt-ad-1536585015617-0\\' style=\\'height:90px; width:728px;margin: auto; margin-bottom: 1%;\\'>\\n          <script>\\n          googletag.cmd.push(function() { \\n            googletag.display(\\'div-gpt-ad-1536585015617-0\\'); \\n            googletag.pubads().refresh([top_banner_slot]);\\n          });\\n          </script>\\n        </div>\\n      \\n      \\n\\n      \\n      <div class=\"hide-on-med-and-down z-depth-1\" style=\"margin-left : auto;margin-right : auto;margin-bottom: 32px;width : 900px;height:48px;background: #f44336\">\\n        <div style=\"font-weight: 300;color:white !important;font-size:14px;margin-left: 48px;margin-top: 13px;position: absolute;display: block;\">\\n          For the best experience use <a target=\"_blank\" href=\"https://inshorts.com/mobile\" style=\"color:white;appearance: none;font-weight: 500;\">inshorts</a> app on your smartphone\\n        </div>\\n        \\n        \\n      </div>\\n      \\n      <div class=\"card-stack\">\\n        \\n\\n\\n\\n\\n\\n<div class=\"\">\\n<div class=\"news-card z-depth-1\" itemscope itemtype=\"http://schema.org/NewsArticle\">\\n  <span content=\"\" itemscope itemprop=\"mainEntityOfPage\" itemType=\"https://schema.org/WebPage\" itemid=\"https://inshorts.com/en/news/google-releases-list-of-most-searched-personalities-in-india-in-2021-1639038260123\"></span>\\n  <span itemtype=\"https://schema.org/Person\" itemscope=\"itemscope\" itemprop=\"author\">\\n    <span itemprop=\"name\" content=\"Anmol Sharma\"></span>\\n  </span>\\n  <span itemprop=\"description\" content=\"Google releases list of most searched personalities in India in 2021\"></span>\\n  <span itemprop=\"image\" itemscope itemtype=\"https://schema.org/ImageObject\">\\n    <meta itemprop=\"url\" content=\"https://static.inshorts.com/inshorts/images/v1/variants/jpg/m/2021/12_dec/9_thu/img_1639037313118_730.jpg?\"></meta>\\n    <meta itemprop=\"width\" content=\"864\"></meta>\\n    <meta itemprop=\"height\" content=\"483\"></meta>\\n  </span>\\n  <span itemtype=\"https://schema.org/Organization\" itemscope=\"itemscope\" itemprop=\"publisher\">\\n    <span itemprop=\"url\" content=\"https://inshorts.com/\"></span>\\n    <span itemprop=\"name\" content=\"Inshorts\"></span>\\n    <span itemprop=\"logo\" itemscope itemtype=\"https://schema.org/ImageObject\">\\n      <span itemprop=\"url\" content=\"https://assets.inshorts.com/inshorts/images/v1/variants/jpg/m/2018/11_nov/21_wed/img_1542823931298_497.jpg\"></span>\\n      <meta itemprop=\"width\" content=\"400\"></meta>\\n      <meta itemprop=\"height\" content=\"60\"></meta>\\n    </span>\\n  </span>\\n  <div class=\"news-card-image\" style= \"background-image: url(\\'https://static.inshorts.com/inshorts/images/v1/variants/jpg/m/2021/12_dec/9_thu/img_1639037313118_730.jpg?\\')\">\\n  </div>\\n  <div class=\"news-card-title news-right-box\">\\n    <a class=\"clickable\" onclick=\"track_GA_Mixpanel({\\'hitType\\': \\'event\\', \\'category\\': \\'TitleOfNews\\', \\'action\\': \\'clicked\\', \\'label\\': \\'Google%20releases%20list%20of%20most%20searched%20personalities%20in%20India%20in%202021)\\' });\"  style=\"color:#44444d!important\" href=\"/en/news/google-releases-list-of-most-searched-personalities-in-india-in-2021-1639038260123\">\\n      <span itemprop=\"headline\">Google releases list of most searched personalities in India in 2021</span>\\n    </a>\\n    <div class=\"news-card-author-time news-card-author-time-in-title\">\\n      <a href=\"/prev/en/news/google-releases-list-of-most-searched-personalities-in-india-in-2021-1639038260123\"><span class=\"short\">short</span></a> by <span class=\"author\">Anmol Sharma</span> / \\n      <span class=\"time\" itemprop=\"datePublished\" content=\"2021-12-09T08:24:20.000Z\">01:54 pm</span> on <span clas=\"date\">09 Dec 2021,Thursday</span>\\n    </div>\\n  </div>\\n  <div class=\"news-card-content news-right-box\">\\n    <div itemprop=\"articleBody\">Google has released the list of most searched personalities in India in 2021, with Olympic gold medal-winning javelin thrower Neeraj Chopra topping the list. He is followed by Shah Rukh Khan&#39;s son Aryan Khan, who was in the news over his arrest in the Mumbai cruise drugs case. Shehnaaz Gill, Raj Kundra and Elon Musk completed the top five.</div>\\n    <div class=\"news-card-author-time news-card-author-time-in-content\">\\n      <a href=\"/prev/en/news/google-releases-list-of-most-searched-personalities-in-india-in-2021-1639038260123\"><span class=\"short\">short</span></a> by <span class=\"author\">Anmol Sharma</span> / \\n      <span class=\"time\" itemprop=\"dateModified\" content=\"2021-12-09T08:24:20.000Z\" >01:54 pm</span> on <span class=\"date\">09 Dec</span>\\n    </div>\\n  </div>\\n  \\n    <div class=\"news-card-footer news-right-box\">\\n      <div class=\"read-more\">read more at <a class=\"source\" onclick=\"track_GA_Mixpanel({\\'hitType\\': \\'event\\', \\'category\\': \\'ReadMore\\', \\'action\\': \\'clicked\\', \\'label\\': \\'Google\\' });\" target=\"_blank\" href=\"https://trends.google.com/trends/yis/2021/IN/?utm_campaign=fullarticle&amp;utm_medium=referral&amp;utm_source=inshorts \">Google</a></div>\\n    </div>\\n  \\n\\n</div>\\n\\n  \\n</div>\\n\\n\\n\\n\\n<div class=\"\">\\n<div class=\"news-card z-depth-1\" itemscope itemtype=\"http://schema.org/NewsArticle\">\\n  <span content=\"\" itemscope itemprop=\"mainEntityOfPage\" itemType=\"https://schema.org/WebPage\" itemid=\"https://inshorts.com/en/news/kohlis-tweet-announcing-daughters-birth-named-most-liked-tweet-in-india-in-2021-1639033737695\"></span>\\n  <span itemtype=\"https://schema.org/Person\" itemscope=\"itemscope\" itemprop=\"author\">\\n    <span itemprop=\"name\" content=\"Anmol Sharma\"></span>\\n  </span>\\n  <span itemprop=\"description\" content=\"Kohli&#39;s tweet announcing daughter&#39;s birth named most liked tweet in India in 2021\"></span>\\n  <span itemprop=\"image\" itemscope itemtype=\"https://schema.org/ImageObject\">\\n    <meta itemprop=\"url\" content=\"https://static.inshorts.com/inshorts/images/v1/variants/jpg/m/2021/12_dec/9_thu/img_1639031022482_370.jpg?\"></meta>\\n    <meta itemprop=\"width\" content=\"864\"></meta>\\n    <meta itemprop=\"height\" content=\"483\"></meta>\\n  </span>\\n  <span itemtype=\"https://schema.org/Organization\" itemscope=\"itemscope\" itemprop=\"publisher\">\\n    <span itemprop=\"url\" content=\"https://inshorts.com/\"></span>\\n    <span itemprop=\"name\" content=\"Inshorts\"></span>\\n    <span itemprop=\"logo\" itemscope itemtype=\"https://schema.org/ImageObject\">\\n      <span itemprop=\"url\" content=\"https://assets.inshorts.com/inshorts/images/v1/variants/jpg/m/2018/11_nov/21_wed/img_1542823931298_497.jpg\"></span>\\n      <meta itemprop=\"width\" content=\"400\"></meta>\\n      <meta itemprop=\"height\" content=\"60\"></meta>\\n    </span>\\n  </span>\\n  <div class=\"news-card-image\" style= \"background-image: url(\\'https://static.inshorts.com/inshorts/images/v1/variants/jpg/m/2021/12_dec/9_thu/img_1639031022482_370.jpg?\\')\">\\n  </div>\\n  <div class=\"news-card-title news-right-box\">\\n    <a class=\"clickable\" onclick=\"track_GA_Mixpanel({\\'hitType\\': \\'event\\', \\'category\\': \\'TitleOfNews\\', \\'action\\': \\'clicked\\', \\'label\\': \\'Kohli&#39;s%20tweet%20announcing%20daughter&#39;s%20birth%20named%20most%20liked%20tweet%20in%20India%20in%202021)\\' });\"  style=\"color:#44444d!important\" href=\"/en/news/kohlis-tweet-announcing-daughters-birth-named-most-liked-tweet-in-india-in-2021-1639033737695\">\\n      <span itemprop=\"headline\">Kohli&#39;s tweet announcing daughter&#39;s birth named most liked tweet in India in 2021</span>\\n    </a>\\n    <div class=\"news-card-author-time news-card-author-time-in-title\">\\n      <a href=\"/prev/en/news/kohlis-tweet-announcing-daughters-birth-named-most-liked-tweet-in-india-in-2021-1639033737695\"><span class=\"short\">short</span></a> by <span class=\"author\">Anmol Sharma</span> / \\n      <span class=\"time\" itemprop=\"datePublished\" content=\"2021-12-09T07:08:57.000Z\">12:38 pm</span> on <span clas=\"date\">09 Dec 2021,Thursday</span>\\n    </div>\\n  </div>\\n  <div class=\"news-card-content news-right-box\">\\n    <div itemprop=\"articleBody\">Virat Kohli&#39;s tweet announcing the birth of his daughter in January has been named the most liked tweet in India in 2021. The tweet has received over 5,38,000 likes so far. Last year, Kohli&#39;s tweet announcing his wife Anushka Sharma&#39;s pregnancy had become the most liked tweet of 2020. Kohli&#39;s daughter Vamika was born on January 11.</div>\\n    <div class=\"news-card-author-time news-card-author-time-in-content\">\\n      <a href=\"/prev/en/news/kohlis-tweet-announcing-daughters-birth-named-most-liked-tweet-in-india-in-2021-1639033737695\"><span class=\"short\">short</span></a> by <span class=\"author\">Anmol Sharma</span> / \\n      <span class=\"time\" itemprop=\"dateModified\" content=\"2021-12-09T07:08:57.000Z\" >12:38 pm</span> on <span class=\"date\">09 Dec</span>\\n    </div>\\n  </div>\\n  \\n    <div class=\"news-card-footer news-right-box\">\\n      <div class=\"read-more\">read more at <a class=\"source\" onclick=\"track_GA_Mixpanel({\\'hitType\\': \\'event\\', \\'category\\': \\'ReadMore\\', \\'action\\': \\'clicked\\', \\'label\\': \\'Twitter\\' });\" target=\"_blank\" href=\"https://twitter.com/TwitterIndia/status/1468800150072037376?utm_campaign=fullarticle&amp;utm_medium=referral&amp;utm_source=inshorts \">Twitter</a></div>\\n    </div>\\n  \\n\\n</div>\\n\\n  \\n</div>\\n\\n\\n\\n\\n<div class=\"\">\\n<div class=\"news-card z-depth-1\" itemscope itemtype=\"http://schema.org/NewsArticle\">\\n  <span content=\"\" itemscope itemprop=\"mainEntityOfPage\" itemType=\"https://schema.org/WebPage\" itemid=\"https://inshorts.com/en/news/twitter-india-lists-most-tweeted-hashtags-of-2021-covid19-tops-list-1639033995971\"></span>\\n  <span itemtype=\"https://schema.org/Person\" itemscope=\"itemscope\" itemprop=\"author\">\\n    <span itemprop=\"name\" content=\"Kiran Khatri\"></span>\\n  </span>\\n  <span itemprop=\"description\" content=\"Twitter India lists most tweeted hashtags of 2021, #Covid19 tops list\"></span>\\n  <span itemprop=\"image\" itemscope itemtype=\"https://schema.org/ImageObject\">\\n    <meta itemprop=\"url\" content=\"https://static.inshorts.com/inshorts/images/v1/variants/jpg/m/2021/12_dec/9_thu/img_1639025680643_965.jpg?\"></meta>\\n    <meta itemprop=\"width\" content=\"864\"></meta>\\n    <meta itemprop=\"height\" content=\"483\"></meta>\\n  </span>\\n  <span itemtype=\"https://schema.org/Organization\" itemscope=\"itemscope\" itemprop=\"publisher\">\\n    <span itemprop=\"url\" content=\"https://inshorts.com/\"></span>\\n    <span itemprop=\"name\" content=\"Inshorts\"></span>\\n    <span itemprop=\"logo\" itemscope itemtype=\"https://schema.org/ImageObject\">\\n      <span itemprop=\"url\" content=\"https://assets.inshorts.com/inshorts/images/v1/variants/jpg/m/2018/11_nov/21_wed/img_1542823931298_497.jpg\"></span>\\n      <meta itemprop=\"width\" content=\"400\"></meta>\\n      <meta itemprop=\"height\" content=\"60\"></meta>\\n    </span>\\n  </span>\\n  <div class=\"news-card-image\" style= \"background-image: url(\\'https://static.inshorts.com/inshorts/images/v1/variants/jpg/m/2021/12_dec/9_thu/img_1639025680643_965.jpg?\\')\">\\n  </div>\\n  <div class=\"news-card-title news-right-box\">\\n    <a class=\"clickable\" onclick=\"track_GA_Mixpanel({\\'hitType\\': \\'event\\', \\'category\\': \\'TitleOfNews\\', \\'action\\': \\'clicked\\', \\'label\\': \\'Twitter%20India%20lists%20most%20tweeted%20hashtags%20of%202021%2C%20%23Covid19%20tops%20list)\\' });\"  style=\"color:#44444d!important\" href=\"/en/news/twitter-india-lists-most-tweeted-hashtags-of-2021-covid19-tops-list-1639033995971\">\\n      <span itemprop=\"headline\">Twitter India lists most tweeted hashtags of 2021, #Covid19 tops list</span>\\n    </a>\\n    <div class=\"news-card-author-time news-card-author-time-in-title\">\\n      <a href=\"/prev/en/news/twitter-india-lists-most-tweeted-hashtags-of-2021-covid19-tops-list-1639033995971\"><span class=\"short\">short</span></a> by <span class=\"author\">Kiran Khatri</span> / \\n      <span class=\"time\" itemprop=\"datePublished\" content=\"2021-12-09T07:13:15.000Z\">12:43 pm</span> on <span clas=\"date\">09 Dec 2021,Thursday</span>\\n    </div>\\n  </div>\\n  <div class=\"news-card-content news-right-box\">\\n    <div itemprop=\"articleBody\">Twitter on Thursday released the list of the top 10 hashtags that were tweeted in India in 2021 and #Covid19 emerged as the most tweeted hashtag. It was followed by #FarmersProtest, #TeamIndia, #Tokyo2020,  #IPL2021, #IndvsEng and #Diwali. The hashtags for Tamil movie &#39;Master&#39;, world&#39;s largest cryptocurrency &#39;Bitcoin&#39; and &#39;Permission to Dance&#39;, a song by BTS, were also among the list. </div>\\n    <div class=\"news-card-author-time news-card-author-time-in-content\">\\n      <a href=\"/prev/en/news/twitter-india-lists-most-tweeted-hashtags-of-2021-covid19-tops-list-1639033995971\"><span class=\"short\">short</span></a> by <span class=\"author\">Kiran Khatri</span> / \\n      <span class=\"time\" itemprop=\"dateModified\" content=\"2021-12-09T07:13:15.000Z\" >12:43 pm</span> on <span class=\"date\">09 Dec</span>\\n    </div>\\n  </div>\\n  \\n    <div class=\"news-card-footer news-right-box\">\\n      <div class=\"read-more\">read more at <a class=\"source\" onclick=\"track_GA_Mixpanel({\\'hitType\\': \\'event\\', \\'category\\': \\'ReadMore\\', \\'action\\': \\'clicked\\', \\'label\\': \\'Twitter\\' });\" target=\"_blank\" href=\"https://twitter.com/TwitterIndia/status/1468800156988416005?utm_campaign=fullarticle&amp;utm_medium=referral&amp;utm_source=inshorts \">Twitter</a></div>\\n    </div>\\n  \\n\\n</div>\\n\\n  \\n</div>\\n\\n\\n\\n\\n<div class=\"\">\\n<div class=\"news-card z-depth-1\" itemscope itemtype=\"http://schema.org/NewsArticle\">\\n  <span content=\"\" itemscope itemprop=\"mainEntityOfPage\" itemType=\"https://schema.org/WebPage\" itemid=\"https://inshorts.com/en/news/upi-limit-for-investing-in-ipos-government-securities-raised-to-\\xe2\\x82\\xb95-lakh-rbi-1638942032387\"></span>\\n  <span itemtype=\"https://schema.org/Person\" itemscope=\"itemscope\" itemprop=\"author\">\\n    <span itemprop=\"name\" content=\"Kiran Khatri\"></span>\\n  </span>\\n  <span itemprop=\"description\" content=\"UPI limit for investing in IPOs, government securities raised to \\xe2\\x82\\xb95 lakh: RBI\"></span>\\n  <span itemprop=\"image\" itemscope itemtype=\"https://schema.org/ImageObject\">\\n    <meta itemprop=\"url\" content=\"https://static.inshorts.com/inshorts/images/v1/variants/jpg/m/2021/12_dec/8_wed/img_1638940934660_615.jpg?\"></meta>\\n    <meta itemprop=\"width\" content=\"864\"></meta>\\n    <meta itemprop=\"height\" content=\"483\"></meta>\\n  </span>\\n  <span itemtype=\"https://schema.org/Organization\" itemscope=\"itemscope\" itemprop=\"publisher\">\\n    <span itemprop=\"url\" content=\"https://inshorts.com/\"></span>\\n    <span itemprop=\"name\" content=\"Inshorts\"></span>\\n    <span itemprop=\"logo\" itemscope itemtype=\"https://schema.org/ImageObject\">\\n      <span itemprop=\"url\" content=\"https://assets.inshorts.com/inshorts/images/v1/variants/jpg/m/2018/11_nov/21_wed/img_1542823931298_497.jpg\"></span>\\n      <meta itemprop=\"width\" content=\"400\"></meta>\\n      <meta itemprop=\"height\" content=\"60\"></meta>\\n    </span>\\n  </span>\\n  <div class=\"news-card-image\" style= \"background-image: url(\\'https://static.inshorts.com/inshorts/images/v1/variants/jpg/m/2021/12_dec/8_wed/img_1638940934660_615.jpg?\\')\">\\n  </div>\\n  <div class=\"news-card-title news-right-box\">\\n    <a class=\"clickable\" onclick=\"track_GA_Mixpanel({\\'hitType\\': \\'event\\', \\'category\\': \\'TitleOfNews\\', \\'action\\': \\'clicked\\', \\'label\\': \\'UPI%20limit%20for%20investing%20in%20IPOs%2C%20government%20securities%20raised%20to%20%E2%82%B95%20lakh%3A%20RBI)\\' });\"  style=\"color:#44444d!important\" href=\"/en/news/upi-limit-for-investing-in-ipos-government-securities-raised-to-\\xe2\\x82\\xb95-lakh-rbi-1638942032387\">\\n      <span itemprop=\"headline\">UPI limit for investing in IPOs, government securities raised to \\xe2\\x82\\xb95 lakh: RBI</span>\\n    </a>\\n    <div class=\"news-card-author-time news-card-author-time-in-title\">\\n      <a href=\"/prev/en/news/upi-limit-for-investing-in-ipos-government-securities-raised-to-\\xe2\\x82\\xb95-lakh-rbi-1638942032387\"><span class=\"short\">short</span></a> by <span class=\"author\">Kiran Khatri</span> / \\n      <span class=\"time\" itemprop=\"datePublished\" content=\"2021-12-08T05:40:32.000Z\">11:10 am</span> on <span clas=\"date\">08 Dec 2021,Wednesday</span>\\n    </div>\\n  </div>\\n  <div class=\"news-card-content news-right-box\">\\n    <div itemprop=\"articleBody\">The RBI announced that it&#39;s enhancing the transaction limit of UPI payments for investment in RBI Retail Direct Scheme for government securities (G-Secs) and IPOs from the current limit of \\xe2\\x82\\xb92 lakh to \\xe2\\x82\\xb95 lakh. To deepen digital payments further, the RBI will launch UPI-based payment products for feature phone users, Governor Shaktikanta Das said while announcing the monetary policy. </div>\\n    <div class=\"news-card-author-time news-card-author-time-in-content\">\\n      <a href=\"/prev/en/news/upi-limit-for-investing-in-ipos-government-securities-raised-to-\\xe2\\x82\\xb95-lakh-rbi-1638942032387\"><span class=\"short\">short</span></a> by <span class=\"author\">Kiran Khatri</span> / \\n      <span class=\"time\" itemprop=\"dateModified\" content=\"2021-12-08T05:40:32.000Z\" >11:10 am</span> on <span class=\"date\">08 Dec</span>\\n    </div>\\n  </div>\\n  \\n    <div class=\"news-card-footer news-right-box\">\\n      <div class=\"read-more\">read more at <a class=\"source\" onclick=\"track_GA_Mixpanel({\\'hitType\\': \\'event\\', \\'category\\': \\'ReadMore\\', \\'action\\': \\'clicked\\', \\'label\\': \\'Twitter\\' });\" target=\"_blank\" href=\"https://twitter.com/ETNOWlive/status/1468448221026406401?utm_campaign=fullarticle&amp;utm_medium=referral&amp;utm_source=inshorts \">Twitter</a></div>\\n    </div>\\n  \\n\\n</div>\\n\\n  \\n</div>\\n\\n\\n\\n\\n  \\n    <div id=\\'div-gpt-ad-1536748319959-nind9uvd-1\\' style=\\'height:250px; width:900px; margin: auto; margin-bottom: 2%;\\'>\\n      <script>\\n        googletag.cmd.push(function() { \\n          //News banner for desktop\\n          var slotIdWeb = \\'div-gpt-ad-1536748319959-nind9uvd-1\\';\\n          var slot = googletag.defineSlot(\\'/142919096/inshorts_website_900x250\\', [900, 250], slotIdWeb)\\n          .addService(googletag.pubads())\\n          .setCollapseEmptyDiv(true,true);\\n\\n          googletag.display(\\'div-gpt-ad-1536748319959-nind9uvd-1\\');\\n          googletag.pubads().refresh([slot]);\\n        });\\n      </script>\\n    </div>\\n  \\n\\n<div class=\"\">\\n<div class=\"news-card z-depth-1\" itemscope itemtype=\"http://schema.org/NewsArticle\">\\n  <span content=\"\" itemscope itemprop=\"mainEntityOfPage\" itemType=\"https://schema.org/WebPage\" itemid=\"https://inshorts.com/en/news/ambani-lists-5-ideas-for-connectivity-says-5g-rollout-should-be-national-priority-1638947833889\"></span>\\n  <span itemtype=\"https://schema.org/Person\" itemscope=\"itemscope\" itemprop=\"author\">\\n    <span itemprop=\"name\" content=\"Kiran Khatri\"></span>\\n  </span>\\n  <span itemprop=\"description\" content=\"Ambani lists 5 ideas for connectivity, says &#39;5G rollout should be national priority&#39;\"></span>\\n  <span itemprop=\"image\" itemscope itemtype=\"https://schema.org/ImageObject\">\\n    <meta itemprop=\"url\" content=\"https://static.inshorts.com/inshorts/images/v1/variants/jpg/m/2021/12_dec/8_wed/img_1638946529194_617.jpg?\"></meta>\\n    <meta itemprop=\"width\" content=\"864\"></meta>\\n    <meta itemprop=\"height\" content=\"483\"></meta>\\n  </span>\\n  <span itemtype=\"https://schema.org/Organization\" itemscope=\"itemscope\" itemprop=\"publisher\">\\n    <span itemprop=\"url\" content=\"https://inshorts.com/\"></span>\\n    <span itemprop=\"name\" content=\"Inshorts\"></span>\\n    <span itemprop=\"logo\" itemscope itemtype=\"https://schema.org/ImageObject\">\\n      <span itemprop=\"url\" content=\"https://assets.inshorts.com/inshorts/images/v1/variants/jpg/m/2018/11_nov/21_wed/img_1542823931298_497.jpg\"></span>\\n      <meta itemprop=\"width\" content=\"400\"></meta>\\n      <meta itemprop=\"height\" content=\"60\"></meta>\\n    </span>\\n  </span>\\n  <div class=\"news-card-image\" style= \"background-image: url(\\'https://static.inshorts.com/inshorts/images/v1/variants/jpg/m/2021/12_dec/8_wed/img_1638946529194_617.jpg?\\')\">\\n  </div>\\n  <div class=\"news-card-title news-right-box\">\\n    <a class=\"clickable\" onclick=\"track_GA_Mixpanel({\\'hitType\\': \\'event\\', \\'category\\': \\'TitleOfNews\\', \\'action\\': \\'clicked\\', \\'label\\': \\'Ambani%20lists%205%20ideas%20for%20connectivity%2C%20says%20&#39;5G%20rollout%20should%20be%20national%20priority&#39;)\\' });\"  style=\"color:#44444d!important\" href=\"/en/news/ambani-lists-5-ideas-for-connectivity-says-5g-rollout-should-be-national-priority-1638947833889\">\\n      <span itemprop=\"headline\">Ambani lists 5 ideas for connectivity, says &#39;5G rollout should be national priority&#39;</span>\\n    </a>\\n    <div class=\"news-card-author-time news-card-author-time-in-title\">\\n      <a href=\"/prev/en/news/ambani-lists-5-ideas-for-connectivity-says-5g-rollout-should-be-national-priority-1638947833889\"><span class=\"short\">short</span></a> by <span class=\"author\">Kiran Khatri</span> / \\n      <span class=\"time\" itemprop=\"datePublished\" content=\"2021-12-08T07:17:13.000Z\">12:47 pm</span> on <span clas=\"date\">08 Dec 2021,Wednesday</span>\\n    </div>\\n  </div>\\n  <div class=\"news-card-content news-right-box\">\\n    <div itemprop=\"articleBody\">Speaking at India Mobile Congress, Reliance Industries Chairman Mukesh Ambani shared five ideas related to the theme &#39;Connectivity for the next decade&#39;. He said, &#34;India must complete...migration from 2G to 4G to 5G at the earliest...Rollout of 5G should be India&#39;s national priority.&#34; He added that India should move towards greater digital inclusion and ubiquitous fibre connectivity should be done.</div>\\n    <div class=\"news-card-author-time news-card-author-time-in-content\">\\n      <a href=\"/prev/en/news/ambani-lists-5-ideas-for-connectivity-says-5g-rollout-should-be-national-priority-1638947833889\"><span class=\"short\">short</span></a> by <span class=\"author\">Kiran Khatri</span> / \\n      <span class=\"time\" itemprop=\"dateModified\" content=\"2021-12-08T07:17:13.000Z\" >12:47 pm</span> on <span class=\"date\">08 Dec</span>\\n    </div>\\n  </div>\\n  \\n    <div class=\"news-card-footer news-right-box\">\\n      <div class=\"read-more\">read more at <a class=\"source\" onclick=\"track_GA_Mixpanel({\\'hitType\\': \\'event\\', \\'category\\': \\'ReadMore\\', \\'action\\': \\'clicked\\', \\'label\\': \\'Moneycontrol\\' });\" target=\"_blank\" href=\"https://www.moneycontrol.com/news/telecom/reliance-chairman-mukesh-ambani-outlines-importance-of-digital-revolution-at-india-mobile-congress-2021-read-full-text-of-his-speech-7802991.html/amp?utm_campaign=fullarticle&amp;utm_medium=referral&amp;utm_source=inshorts \">Moneycontrol</a></div>\\n    </div>\\n  \\n\\n</div>\\n\\n  \\n</div>\\n\\n\\n\\n\\n<div class=\"\">\\n<div class=\"news-card z-depth-1\" itemscope itemtype=\"http://schema.org/NewsArticle\">\\n  <span content=\"\" itemscope itemprop=\"mainEntityOfPage\" itemType=\"https://schema.org/WebPage\" itemid=\"https://inshorts.com/en/news/elon-musks-last-remaining-house-sells-for-$30-million-1639020178571\"></span>\\n  <span itemtype=\"https://schema.org/Person\" itemscope=\"itemscope\" itemprop=\"author\">\\n    <span itemprop=\"name\" content=\"Kiran Khatri\"></span>\\n  </span>\\n  <span itemprop=\"description\" content=\"Elon Musk&#39;s last remaining house sells for $30 million\"></span>\\n  <span itemprop=\"image\" itemscope itemtype=\"https://schema.org/ImageObject\">\\n    <meta itemprop=\"url\" content=\"https://static.inshorts.com/inshorts/images/v1/variants/jpg/m/2021/12_dec/9_thu/img_1639018991113_640.jpg?\"></meta>\\n    <meta itemprop=\"width\" content=\"864\"></meta>\\n    <meta itemprop=\"height\" content=\"483\"></meta>\\n  </span>\\n  <span itemtype=\"https://schema.org/Organization\" itemscope=\"itemscope\" itemprop=\"publisher\">\\n    <span itemprop=\"url\" content=\"https://inshorts.com/\"></span>\\n    <span itemprop=\"name\" content=\"Inshorts\"></span>\\n    <span itemprop=\"logo\" itemscope itemtype=\"https://schema.org/ImageObject\">\\n      <span itemprop=\"url\" content=\"https://assets.inshorts.com/inshorts/images/v1/variants/jpg/m/2018/11_nov/21_wed/img_1542823931298_497.jpg\"></span>\\n      <meta itemprop=\"width\" content=\"400\"></meta>\\n      <meta itemprop=\"height\" content=\"60\"></meta>\\n    </span>\\n  </span>\\n  <div class=\"news-card-image\" style= \"background-image: url(\\'https://static.inshorts.com/inshorts/images/v1/variants/jpg/m/2021/12_dec/9_thu/img_1639018991113_640.jpg?\\')\">\\n  </div>\\n  <div class=\"news-card-title news-right-box\">\\n    <a class=\"clickable\" onclick=\"track_GA_Mixpanel({\\'hitType\\': \\'event\\', \\'category\\': \\'TitleOfNews\\', \\'action\\': \\'clicked\\', \\'label\\': \\'Elon%20Musk&#39;s%20last%20remaining%20house%20sells%20for%20%2430%20million)\\' });\"  style=\"color:#44444d!important\" href=\"/en/news/elon-musks-last-remaining-house-sells-for-$30-million-1639020178571\">\\n      <span itemprop=\"headline\">Elon Musk&#39;s last remaining house sells for $30 million</span>\\n    </a>\\n    <div class=\"news-card-author-time news-card-author-time-in-title\">\\n      <a href=\"/prev/en/news/elon-musks-last-remaining-house-sells-for-$30-million-1639020178571\"><span class=\"short\">short</span></a> by <span class=\"author\">Kiran Khatri</span> / \\n      <span class=\"time\" itemprop=\"datePublished\" content=\"2021-12-09T03:22:58.000Z\">08:52 am</span> on <span clas=\"date\">09 Dec 2021,Thursday</span>\\n    </div>\\n  </div>\\n  <div class=\"news-card-content news-right-box\">\\n    <div itemprop=\"articleBody\">Elon Musk, world&#39;s richest person with $282 billion fortune, has sold his last remaining home, a 47-acre Bay Area estate in Hillsborough, California, for $30 million, according to MLSListings.com. The property was listed for $37.5 million earlier this year. Tesla CEO Musk had said he was downsizing his life to work on sustainable energy for Earth and making life multi-planetary.</div>\\n    <div class=\"news-card-author-time news-card-author-time-in-content\">\\n      <a href=\"/prev/en/news/elon-musks-last-remaining-house-sells-for-$30-million-1639020178571\"><span class=\"short\">short</span></a> by <span class=\"author\">Kiran Khatri</span> / \\n      <span class=\"time\" itemprop=\"dateModified\" content=\"2021-12-09T03:22:58.000Z\" >08:52 am</span> on <span class=\"date\">09 Dec</span>\\n    </div>\\n  </div>\\n  \\n    <div class=\"news-card-footer news-right-box\">\\n      <div class=\"read-more\">read more at <a class=\"source\" onclick=\"track_GA_Mixpanel({\\'hitType\\': \\'event\\', \\'category\\': \\'ReadMore\\', \\'action\\': \\'clicked\\', \\'label\\': \\'Business%20Insider%20India\\' });\" target=\"_blank\" href=\"https://www.businessinsider.in/tech/news/elon-musk-sold-a-san-francisco-mansion-which-was-his-last-remaining-home-for-30-million/amp_articleshow/88169043.cms?utm_campaign=fullarticle&amp;utm_medium=referral&amp;utm_source=inshorts \">Business Insider India</a></div>\\n    </div>\\n  \\n\\n</div>\\n\\n  \\n</div>\\n\\n\\n\\n\\n<div class=\"\">\\n<div class=\"news-card z-depth-1\" itemscope itemtype=\"http://schema.org/NewsArticle\">\\n  <span content=\"\" itemscope itemprop=\"mainEntityOfPage\" itemType=\"https://schema.org/WebPage\" itemid=\"https://inshorts.com/en/news/google-lists-10-most-searched-terms-globally-in-2021-aus-vs-india-tops-list-1638976248845\"></span>\\n  <span itemtype=\"https://schema.org/Person\" itemscope=\"itemscope\" itemprop=\"author\">\\n    <span itemprop=\"name\" content=\"Pragya Swastik\"></span>\\n  </span>\\n  <span itemprop=\"description\" content=\"Google lists 10 most searched terms globally in 2021, &#39;Aus vs India&#39; tops list\"></span>\\n  <span itemprop=\"image\" itemscope itemtype=\"https://schema.org/ImageObject\">\\n    <meta itemprop=\"url\" content=\"https://static.inshorts.com/inshorts/images/v1/variants/jpg/m/2021/12_dec/8_wed/img_1638975006459_204.jpg?\"></meta>\\n    <meta itemprop=\"width\" content=\"864\"></meta>\\n    <meta itemprop=\"height\" content=\"483\"></meta>\\n  </span>\\n  <span itemtype=\"https://schema.org/Organization\" itemscope=\"itemscope\" itemprop=\"publisher\">\\n    <span itemprop=\"url\" content=\"https://inshorts.com/\"></span>\\n    <span itemprop=\"name\" content=\"Inshorts\"></span>\\n    <span itemprop=\"logo\" itemscope itemtype=\"https://schema.org/ImageObject\">\\n      <span itemprop=\"url\" content=\"https://assets.inshorts.com/inshorts/images/v1/variants/jpg/m/2018/11_nov/21_wed/img_1542823931298_497.jpg\"></span>\\n      <meta itemprop=\"width\" content=\"400\"></meta>\\n      <meta itemprop=\"height\" content=\"60\"></meta>\\n    </span>\\n  </span>\\n  <div class=\"news-card-image\" style= \"background-image: url(\\'https://static.inshorts.com/inshorts/images/v1/variants/jpg/m/2021/12_dec/8_wed/img_1638975006459_204.jpg?\\')\">\\n  </div>\\n  <div class=\"news-card-title news-right-box\">\\n    <a class=\"clickable\" onclick=\"track_GA_Mixpanel({\\'hitType\\': \\'event\\', \\'category\\': \\'TitleOfNews\\', \\'action\\': \\'clicked\\', \\'label\\': \\'Google%20lists%2010%20most%20searched%20terms%20globally%20in%202021%2C%20&#39;Aus%20vs%20India&#39;%20tops%20list)\\' });\"  style=\"color:#44444d!important\" href=\"/en/news/google-lists-10-most-searched-terms-globally-in-2021-aus-vs-india-tops-list-1638976248845\">\\n      <span itemprop=\"headline\">Google lists 10 most searched terms globally in 2021, &#39;Aus vs India&#39; tops list</span>\\n    </a>\\n    <div class=\"news-card-author-time news-card-author-time-in-title\">\\n      <a href=\"/prev/en/news/google-lists-10-most-searched-terms-globally-in-2021-aus-vs-india-tops-list-1638976248845\"><span class=\"short\">short</span></a> by <span class=\"author\">Pragya Swastik</span> / \\n      <span class=\"time\" itemprop=\"datePublished\" content=\"2021-12-08T15:10:48.000Z\">08:40 pm</span> on <span clas=\"date\">08 Dec 2021,Wednesday</span>\\n    </div>\\n  </div>\\n  <div class=\"news-card-content news-right-box\">\\n    <div itemprop=\"articleBody\">Google revealed the 10 terms searched the most on its search engine worldwide in 2021 and &#39;Australia vs India&#39; emerged as the top searched term globally. It was followed by &#39;India vs England&#39;, &#39;IPL&#39;, &#39;NBA&#39; and &#39;Euro 2021&#39;, &#39;Copa Am\\xc3\\xa9rica&#39;, &#39;India vs New Zealand&#39;, &#39;T20 World Cup&#39;, &#39;Squid Game&#39; and &#39;DMX&#39;. Actor Alec Baldwin emerged as the most searched person.</div>\\n    <div class=\"news-card-author-time news-card-author-time-in-content\">\\n      <a href=\"/prev/en/news/google-lists-10-most-searched-terms-globally-in-2021-aus-vs-india-tops-list-1638976248845\"><span class=\"short\">short</span></a> by <span class=\"author\">Pragya Swastik</span> / \\n      <span class=\"time\" itemprop=\"dateModified\" content=\"2021-12-08T15:10:48.000Z\" >08:40 pm</span> on <span class=\"date\">08 Dec</span>\\n    </div>\\n  </div>\\n  \\n    <div class=\"news-card-footer news-right-box\">\\n      <div class=\"read-more\">read more at <a class=\"source\" onclick=\"track_GA_Mixpanel({\\'hitType\\': \\'event\\', \\'category\\': \\'ReadMore\\', \\'action\\': \\'clicked\\', \\'label\\': \\'Google\\' });\" target=\"_blank\" href=\"https://blog.google/products/search/year-in-search-2021/amp/?utm_campaign=fullarticle&amp;utm_medium=referral&amp;utm_source=inshorts \">Google</a></div>\\n    </div>\\n  \\n\\n</div>\\n\\n  \\n</div>\\n\\n\\n\\n\\n<div class=\"\">\\n<div class=\"news-card z-depth-1\" itemscope itemtype=\"http://schema.org/NewsArticle\">\\n  <span content=\"\" itemscope itemprop=\"mainEntityOfPage\" itemType=\"https://schema.org/WebPage\" itemid=\"https://inshorts.com/en/news/rbi-to-launch-upibased-payment-product-for-feature-phones-1638965837195\"></span>\\n  <span itemtype=\"https://schema.org/Person\" itemscope=\"itemscope\" itemprop=\"author\">\\n    <span itemprop=\"name\" content=\"Pragya Swastik\"></span>\\n  </span>\\n  <span itemprop=\"description\" content=\"RBI to launch UPI-based payment product for feature phones\"></span>\\n  <span itemprop=\"image\" itemscope itemtype=\"https://schema.org/ImageObject\">\\n    <meta itemprop=\"url\" content=\"https://static.inshorts.com/inshorts/images/v1/variants/jpg/m/2021/12_dec/8_wed/img_1638964527443_178.jpg?\"></meta>\\n    <meta itemprop=\"width\" content=\"864\"></meta>\\n    <meta itemprop=\"height\" content=\"483\"></meta>\\n  </span>\\n  <span itemtype=\"https://schema.org/Organization\" itemscope=\"itemscope\" itemprop=\"publisher\">\\n    <span itemprop=\"url\" content=\"https://inshorts.com/\"></span>\\n    <span itemprop=\"name\" content=\"Inshorts\"></span>\\n    <span itemprop=\"logo\" itemscope itemtype=\"https://schema.org/ImageObject\">\\n      <span itemprop=\"url\" content=\"https://assets.inshorts.com/inshorts/images/v1/variants/jpg/m/2018/11_nov/21_wed/img_1542823931298_497.jpg\"></span>\\n      <meta itemprop=\"width\" content=\"400\"></meta>\\n      <meta itemprop=\"height\" content=\"60\"></meta>\\n    </span>\\n  </span>\\n  <div class=\"news-card-image\" style= \"background-image: url(\\'https://static.inshorts.com/inshorts/images/v1/variants/jpg/m/2021/12_dec/8_wed/img_1638964527443_178.jpg?\\')\">\\n  </div>\\n  <div class=\"news-card-title news-right-box\">\\n    <a class=\"clickable\" onclick=\"track_GA_Mixpanel({\\'hitType\\': \\'event\\', \\'category\\': \\'TitleOfNews\\', \\'action\\': \\'clicked\\', \\'label\\': \\'RBI%20to%20launch%20UPI-based%20payment%20product%20for%20feature%20phones)\\' });\"  style=\"color:#44444d!important\" href=\"/en/news/rbi-to-launch-upibased-payment-product-for-feature-phones-1638965837195\">\\n      <span itemprop=\"headline\">RBI to launch UPI-based payment product for feature phones</span>\\n    </a>\\n    <div class=\"news-card-author-time news-card-author-time-in-title\">\\n      <a href=\"/prev/en/news/rbi-to-launch-upibased-payment-product-for-feature-phones-1638965837195\"><span class=\"short\">short</span></a> by <span class=\"author\">Pragya Swastik</span> / \\n      <span class=\"time\" itemprop=\"datePublished\" content=\"2021-12-08T12:17:17.000Z\">05:47 pm</span> on <span clas=\"date\">08 Dec 2021,Wednesday</span>\\n    </div>\\n  </div>\\n  <div class=\"news-card-content news-right-box\">\\n    <div itemprop=\"articleBody\">The RBI on Wednesday said it will launch a UPI-based payment product for feature phone users. &#34;Feature phone users have limited access to innovative payment products,&#34; RBI said. &#34;Although feature phones have National Unified USSD Platform (NUUP) as an option for availing basic payment services using the short code of *99#, the same has not picked up,&#34; it added.</div>\\n    <div class=\"news-card-author-time news-card-author-time-in-content\">\\n      <a href=\"/prev/en/news/rbi-to-launch-upibased-payment-product-for-feature-phones-1638965837195\"><span class=\"short\">short</span></a> by <span class=\"author\">Pragya Swastik</span> / \\n      <span class=\"time\" itemprop=\"dateModified\" content=\"2021-12-08T12:17:17.000Z\" >05:47 pm</span> on <span class=\"date\">08 Dec</span>\\n    </div>\\n  </div>\\n  \\n    <div class=\"news-card-footer news-right-box\">\\n      <div class=\"read-more\">read more at <a class=\"source\" onclick=\"track_GA_Mixpanel({\\'hitType\\': \\'event\\', \\'category\\': \\'ReadMore\\', \\'action\\': \\'clicked\\', \\'label\\': \\'The%20Financial%20Express\\' });\" target=\"_blank\" href=\"https://www.financialexpress.com/money/soon-rbi-to-launch-new-on-device-wallet-for-small-value-upi-transactions-product-for-feature-phones/2384269/lite/?utm_campaign=fullarticle&amp;utm_medium=referral&amp;utm_source=inshorts \">The Financial Express</a></div>\\n    </div>\\n  \\n\\n</div>\\n\\n  \\n</div>\\n\\n\\n\\n\\n<div class=\"\">\\n<div class=\"news-card z-depth-1\" itemscope itemtype=\"http://schema.org/NewsArticle\">\\n  <span content=\"\" itemscope itemprop=\"mainEntityOfPage\" itemType=\"https://schema.org/WebPage\" itemid=\"https://inshorts.com/en/news/apple-halted-iphone-production-for-the-first-time-in-10-years-in-oct-report-1638975689145\"></span>\\n  <span itemtype=\"https://schema.org/Person\" itemscope=\"itemscope\" itemprop=\"author\">\\n    <span itemprop=\"name\" content=\"Pragya Swastik\"></span>\\n  </span>\\n  <span itemprop=\"description\" content=\"Apple halted iPhone production for the first time in 10 years in Oct: Report\"></span>\\n  <span itemprop=\"image\" itemscope itemtype=\"https://schema.org/ImageObject\">\\n    <meta itemprop=\"url\" content=\"https://static.inshorts.com/inshorts/images/v1/variants/jpg/m/2021/12_dec/8_wed/img_1638973258585_71.jpg?\"></meta>\\n    <meta itemprop=\"width\" content=\"864\"></meta>\\n    <meta itemprop=\"height\" content=\"483\"></meta>\\n  </span>\\n  <span itemtype=\"https://schema.org/Organization\" itemscope=\"itemscope\" itemprop=\"publisher\">\\n    <span itemprop=\"url\" content=\"https://inshorts.com/\"></span>\\n    <span itemprop=\"name\" content=\"Inshorts\"></span>\\n    <span itemprop=\"logo\" itemscope itemtype=\"https://schema.org/ImageObject\">\\n      <span itemprop=\"url\" content=\"https://assets.inshorts.com/inshorts/images/v1/variants/jpg/m/2018/11_nov/21_wed/img_1542823931298_497.jpg\"></span>\\n      <meta itemprop=\"width\" content=\"400\"></meta>\\n      <meta itemprop=\"height\" content=\"60\"></meta>\\n    </span>\\n  </span>\\n  <div class=\"news-card-image\" style= \"background-image: url(\\'https://static.inshorts.com/inshorts/images/v1/variants/jpg/m/2021/12_dec/8_wed/img_1638973258585_71.jpg?\\')\">\\n  </div>\\n  <div class=\"news-card-title news-right-box\">\\n    <a class=\"clickable\" onclick=\"track_GA_Mixpanel({\\'hitType\\': \\'event\\', \\'category\\': \\'TitleOfNews\\', \\'action\\': \\'clicked\\', \\'label\\': \\'Apple%20halted%20iPhone%20production%20for%20the%20first%20time%20in%2010%20years%20in%20Oct%3A%20Report)\\' });\"  style=\"color:#44444d!important\" href=\"/en/news/apple-halted-iphone-production-for-the-first-time-in-10-years-in-oct-report-1638975689145\">\\n      <span itemprop=\"headline\">Apple halted iPhone production for the first time in 10 years in Oct: Report</span>\\n    </a>\\n    <div class=\"news-card-author-time news-card-author-time-in-title\">\\n      <a href=\"/prev/en/news/apple-halted-iphone-production-for-the-first-time-in-10-years-in-oct-report-1638975689145\"><span class=\"short\">short</span></a> by <span class=\"author\">Pragya Swastik</span> / \\n      <span class=\"time\" itemprop=\"datePublished\" content=\"2021-12-08T15:01:29.000Z\">08:31 pm</span> on <span clas=\"date\">08 Dec 2021,Wednesday</span>\\n    </div>\\n  </div>\\n  <div class=\"news-card-content news-right-box\">\\n    <div itemprop=\"articleBody\">Apple had to halt iPhone and iPad production for the first time in over a decade in October 2021, Nikkei Asia reported on Wednesday. iPhone and iPad assembly was halted for several days due to supply chain constraints and restrictions on power usage in China. In September and October, iPhone 13 lineup&#39;s production reportedly fell 20% short of previous plans.</div>\\n    <div class=\"news-card-author-time news-card-author-time-in-content\">\\n      <a href=\"/prev/en/news/apple-halted-iphone-production-for-the-first-time-in-10-years-in-oct-report-1638975689145\"><span class=\"short\">short</span></a> by <span class=\"author\">Pragya Swastik</span> / \\n      <span class=\"time\" itemprop=\"dateModified\" content=\"2021-12-08T15:01:29.000Z\" >08:31 pm</span> on <span class=\"date\">08 Dec</span>\\n    </div>\\n  </div>\\n  \\n    <div class=\"news-card-footer news-right-box\">\\n      <div class=\"read-more\">read more at <a class=\"source\" onclick=\"track_GA_Mixpanel({\\'hitType\\': \\'event\\', \\'category\\': \\'ReadMore\\', \\'action\\': \\'clicked\\', \\'label\\': \\'Moneycontrol\\' });\" target=\"_blank\" href=\"https://www.moneycontrol.com/news/technology/iphone-13-pro-max-production-halted-chip-shortage-price-in-india-specifications-7803591.html/amp?utm_campaign=fullarticle&amp;utm_medium=referral&amp;utm_source=inshorts \">Moneycontrol</a></div>\\n    </div>\\n  \\n\\n</div>\\n\\n  \\n</div>\\n\\n\\n\\n\\n<div class=\"\">\\n<div class=\"news-card z-depth-1\" itemscope itemtype=\"http://schema.org/NewsArticle\">\\n  <span content=\"\" itemscope itemprop=\"mainEntityOfPage\" itemType=\"https://schema.org/WebPage\" itemid=\"https://inshorts.com/en/news/google-lists-top-10-searches-from-india-in-2021-ipl-tops-the-list-1638976896958\"></span>\\n  <span itemtype=\"https://schema.org/Person\" itemscope=\"itemscope\" itemprop=\"author\">\\n    <span itemprop=\"name\" content=\"Pragya Swastik\"></span>\\n  </span>\\n  <span itemprop=\"description\" content=\"Google lists top 10 searches from India in 2021, &#39;IPL&#39; tops the list\"></span>\\n  <span itemprop=\"image\" itemscope itemtype=\"https://schema.org/ImageObject\">\\n    <meta itemprop=\"url\" content=\"https://static.inshorts.com/inshorts/images/v1/variants/jpg/m/2021/12_dec/8_wed/img_1638976217735_161.jpg?\"></meta>\\n    <meta itemprop=\"width\" content=\"864\"></meta>\\n    <meta itemprop=\"height\" content=\"483\"></meta>\\n  </span>\\n  <span itemtype=\"https://schema.org/Organization\" itemscope=\"itemscope\" itemprop=\"publisher\">\\n    <span itemprop=\"url\" content=\"https://inshorts.com/\"></span>\\n    <span itemprop=\"name\" content=\"Inshorts\"></span>\\n    <span itemprop=\"logo\" itemscope itemtype=\"https://schema.org/ImageObject\">\\n      <span itemprop=\"url\" content=\"https://assets.inshorts.com/inshorts/images/v1/variants/jpg/m/2018/11_nov/21_wed/img_1542823931298_497.jpg\"></span>\\n      <meta itemprop=\"width\" content=\"400\"></meta>\\n      <meta itemprop=\"height\" content=\"60\"></meta>\\n    </span>\\n  </span>\\n  <div class=\"news-card-image\" style= \"background-image: url(\\'https://static.inshorts.com/inshorts/images/v1/variants/jpg/m/2021/12_dec/8_wed/img_1638976217735_161.jpg?\\')\">\\n  </div>\\n  <div class=\"news-card-title news-right-box\">\\n    <a class=\"clickable\" onclick=\"track_GA_Mixpanel({\\'hitType\\': \\'event\\', \\'category\\': \\'TitleOfNews\\', \\'action\\': \\'clicked\\', \\'label\\': \\'Google%20lists%20top%2010%20searches%20from%20India%20in%202021%2C%20&#39;IPL&#39;%20tops%20the%20list)\\' });\"  style=\"color:#44444d!important\" href=\"/en/news/google-lists-top-10-searches-from-india-in-2021-ipl-tops-the-list-1638976896958\">\\n      <span itemprop=\"headline\">Google lists top 10 searches from India in 2021, &#39;IPL&#39; tops the list</span>\\n    </a>\\n    <div class=\"news-card-author-time news-card-author-time-in-title\">\\n      <a href=\"/prev/en/news/google-lists-top-10-searches-from-india-in-2021-ipl-tops-the-list-1638976896958\"><span class=\"short\">short</span></a> by <span class=\"author\">Pragya Swastik</span> / \\n      <span class=\"time\" itemprop=\"datePublished\" content=\"2021-12-08T15:21:36.000Z\">08:51 pm</span> on <span clas=\"date\">08 Dec 2021,Wednesday</span>\\n    </div>\\n  </div>\\n  <div class=\"news-card-content news-right-box\">\\n    <div itemprop=\"articleBody\">Google India on Wednesday released the top 10 searches on its search engine from 2021 and &#39;Indian Premier League&#39; (IPL) emerged as the top searched term in India. It was followed by &#39;CoWIN&#39;, &#39;ICC T20 World Cup&#39;, &#39;Euro Cup&#39; and &#39;Tokyo Olympics&#39; among others. Olympic gold-winning javelin thrower Neeraj Chopra emerged as the most searched personality.</div>\\n    <div class=\"news-card-author-time news-card-author-time-in-content\">\\n      <a href=\"/prev/en/news/google-lists-top-10-searches-from-india-in-2021-ipl-tops-the-list-1638976896958\"><span class=\"short\">short</span></a> by <span class=\"author\">Pragya Swastik</span> / \\n      <span class=\"time\" itemprop=\"dateModified\" content=\"2021-12-08T15:21:36.000Z\" >08:51 pm</span> on <span class=\"date\">08 Dec</span>\\n    </div>\\n  </div>\\n  \\n    <div class=\"news-card-footer news-right-box\">\\n      <div class=\"read-more\">read more at <a class=\"source\" onclick=\"track_GA_Mixpanel({\\'hitType\\': \\'event\\', \\'category\\': \\'ReadMore\\', \\'action\\': \\'clicked\\', \\'label\\': \\'Moneycontrol\\' });\" target=\"_blank\" href=\"https://www.moneycontrol.com/news/trends/google-year-in-search-googles-list-for-top-searches-in-2021-is-out-check-out-indians-top-10-searches-7804141.html/amp?utm_campaign=fullarticle&amp;utm_medium=referral&amp;utm_source=inshorts \">Moneycontrol</a></div>\\n    </div>\\n  \\n\\n</div>\\n\\n  \\n</div>\\n\\n\\n\\n\\n  \\n    <div id=\\'div-gpt-ad-1536748319959-bhyhxkhc-1\\' style=\\'height:250px; width:900px; margin: auto; margin-bottom: 2%;\\'>\\n      <script>\\n        googletag.cmd.push(function() { \\n          //News banner for desktop\\n          var slotIdWeb = \\'div-gpt-ad-1536748319959-bhyhxkhc-1\\';\\n          var slot = googletag.defineSlot(\\'/142919096/inshorts_website_900x250\\', [900, 250], slotIdWeb)\\n          .addService(googletag.pubads())\\n          .setCollapseEmptyDiv(true,true);\\n\\n          googletag.display(\\'div-gpt-ad-1536748319959-bhyhxkhc-1\\');\\n          googletag.pubads().refresh([slot]);\\n        });\\n      </script>\\n    </div>\\n  \\n\\n<div class=\"\">\\n<div class=\"news-card z-depth-1\" itemscope itemtype=\"http://schema.org/NewsArticle\">\\n  <span content=\"\" itemscope itemprop=\"mainEntityOfPage\" itemType=\"https://schema.org/WebPage\" itemid=\"https://inshorts.com/en/news/most-unusual-difficult-year-of-my-life-bill-gates-on-spending-2021-mostly-online-1639046136318\"></span>\\n  <span itemtype=\"https://schema.org/Person\" itemscope=\"itemscope\" itemprop=\"author\">\\n    <span itemprop=\"name\" content=\"Kiran Khatri\"></span>\\n  </span>\\n  <span itemprop=\"description\" content=\"Most unusual, difficult year of my life: Bill Gates on spending 2021 mostly online\"></span>\\n  <span itemprop=\"image\" itemscope itemtype=\"https://schema.org/ImageObject\">\\n    <meta itemprop=\"url\" content=\"https://static.inshorts.com/inshorts/images/v1/variants/jpg/m/2021/12_dec/9_thu/img_1639044592531_233.jpg?\"></meta>\\n    <meta itemprop=\"width\" content=\"864\"></meta>\\n    <meta itemprop=\"height\" content=\"483\"></meta>\\n  </span>\\n  <span itemtype=\"https://schema.org/Organization\" itemscope=\"itemscope\" itemprop=\"publisher\">\\n    <span itemprop=\"url\" content=\"https://inshorts.com/\"></span>\\n    <span itemprop=\"name\" content=\"Inshorts\"></span>\\n    <span itemprop=\"logo\" itemscope itemtype=\"https://schema.org/ImageObject\">\\n      <span itemprop=\"url\" content=\"https://assets.inshorts.com/inshorts/images/v1/variants/jpg/m/2018/11_nov/21_wed/img_1542823931298_497.jpg\"></span>\\n      <meta itemprop=\"width\" content=\"400\"></meta>\\n      <meta itemprop=\"height\" content=\"60\"></meta>\\n    </span>\\n  </span>\\n  <div class=\"news-card-image\" style= \"background-image: url(\\'https://static.inshorts.com/inshorts/images/v1/variants/jpg/m/2021/12_dec/9_thu/img_1639044592531_233.jpg?\\')\">\\n  </div>\\n  <div class=\"news-card-title news-right-box\">\\n    <a class=\"clickable\" onclick=\"track_GA_Mixpanel({\\'hitType\\': \\'event\\', \\'category\\': \\'TitleOfNews\\', \\'action\\': \\'clicked\\', \\'label\\': \\'Most%20unusual%2C%20difficult%20year%20of%20my%20life%3A%20Bill%20Gates%20on%20spending%202021%20mostly%20online)\\' });\"  style=\"color:#44444d!important\" href=\"/en/news/most-unusual-difficult-year-of-my-life-bill-gates-on-spending-2021-mostly-online-1639046136318\">\\n      <span itemprop=\"headline\">Most unusual, difficult year of my life: Bill Gates on spending 2021 mostly online</span>\\n    </a>\\n    <div class=\"news-card-author-time news-card-author-time-in-title\">\\n      <a href=\"/prev/en/news/most-unusual-difficult-year-of-my-life-bill-gates-on-spending-2021-mostly-online-1639046136318\"><span class=\"short\">short</span></a> by <span class=\"author\">Kiran Khatri</span> / \\n      <span class=\"time\" itemprop=\"datePublished\" content=\"2021-12-09T10:35:36.000Z\">04:05 pm</span> on <span clas=\"date\">09 Dec 2021,Thursday</span>\\n    </div>\\n  </div>\\n  <div class=\"news-card-content news-right-box\">\\n    <div itemprop=\"articleBody\">Microsoft Co-founder Bill Gates in his blog post described how he had &#34;the most unusual and difficult year&#34; of his life, like many other people, amid COVID-19 pandemic. &#34;My personal world...never felt smaller than it did,&#34; he said about spending his time mostly online. Talking about his divorce with Melinda, he added, &#34;It&#39;s been a year of great personal sadness.&#34;</div>\\n    <div class=\"news-card-author-time news-card-author-time-in-content\">\\n      <a href=\"/prev/en/news/most-unusual-difficult-year-of-my-life-bill-gates-on-spending-2021-mostly-online-1639046136318\"><span class=\"short\">short</span></a> by <span class=\"author\">Kiran Khatri</span> / \\n      <span class=\"time\" itemprop=\"dateModified\" content=\"2021-12-09T10:35:36.000Z\" >04:05 pm</span> on <span class=\"date\">09 Dec</span>\\n    </div>\\n  </div>\\n  \\n    <div class=\"news-card-footer news-right-box\">\\n      <div class=\"read-more\">read more at <a class=\"source\" onclick=\"track_GA_Mixpanel({\\'hitType\\': \\'event\\', \\'category\\': \\'ReadMore\\', \\'action\\': \\'clicked\\', \\'label\\': \\'The%20Independent\\' });\" target=\"_blank\" href=\"https://www.independent.co.uk/life-style/bill-gates-divorce-blog-melinda-b1972512.html?utm_campaign=fullarticle&amp;utm_medium=referral&amp;utm_source=inshorts \">The Independent</a></div>\\n    </div>\\n  \\n\\n</div>\\n\\n  \\n</div>\\n\\n\\n\\n\\n<div class=\"\">\\n<div class=\"news-card z-depth-1\" itemscope itemtype=\"http://schema.org/NewsArticle\">\\n  <span content=\"\" itemscope itemprop=\"mainEntityOfPage\" itemType=\"https://schema.org/WebPage\" itemid=\"https://inshorts.com/en/news/google-to-give-onetime-cash-bonus-of-\\xe2\\x82\\xb912-lakh-to-its-employees-globally-1639022845864\"></span>\\n  <span itemtype=\"https://schema.org/Person\" itemscope=\"itemscope\" itemprop=\"author\">\\n    <span itemprop=\"name\" content=\"Ankush Verma\"></span>\\n  </span>\\n  <span itemprop=\"description\" content=\"Google to give one-time cash bonus of \\xe2\\x82\\xb91.2 lakh to its employees globally\"></span>\\n  <span itemprop=\"image\" itemscope itemtype=\"https://schema.org/ImageObject\">\\n    <meta itemprop=\"url\" content=\"https://static.inshorts.com/inshorts/images/v1/variants/jpg/m/2021/12_dec/9_thu/img_1639020750066_257.jpg?\"></meta>\\n    <meta itemprop=\"width\" content=\"864\"></meta>\\n    <meta itemprop=\"height\" content=\"483\"></meta>\\n  </span>\\n  <span itemtype=\"https://schema.org/Organization\" itemscope=\"itemscope\" itemprop=\"publisher\">\\n    <span itemprop=\"url\" content=\"https://inshorts.com/\"></span>\\n    <span itemprop=\"name\" content=\"Inshorts\"></span>\\n    <span itemprop=\"logo\" itemscope itemtype=\"https://schema.org/ImageObject\">\\n      <span itemprop=\"url\" content=\"https://assets.inshorts.com/inshorts/images/v1/variants/jpg/m/2018/11_nov/21_wed/img_1542823931298_497.jpg\"></span>\\n      <meta itemprop=\"width\" content=\"400\"></meta>\\n      <meta itemprop=\"height\" content=\"60\"></meta>\\n    </span>\\n  </span>\\n  <div class=\"news-card-image\" style= \"background-image: url(\\'https://static.inshorts.com/inshorts/images/v1/variants/jpg/m/2021/12_dec/9_thu/img_1639020750066_257.jpg?\\')\">\\n  </div>\\n  <div class=\"news-card-title news-right-box\">\\n    <a class=\"clickable\" onclick=\"track_GA_Mixpanel({\\'hitType\\': \\'event\\', \\'category\\': \\'TitleOfNews\\', \\'action\\': \\'clicked\\', \\'label\\': \\'Google%20to%20give%20one-time%20cash%20bonus%20of%20%E2%82%B91.2%20lakh%20to%20its%20employees%20globally)\\' });\"  style=\"color:#44444d!important\" href=\"/en/news/google-to-give-onetime-cash-bonus-of-\\xe2\\x82\\xb912-lakh-to-its-employees-globally-1639022845864\">\\n      <span itemprop=\"headline\">Google to give one-time cash bonus of \\xe2\\x82\\xb91.2 lakh to its employees globally</span>\\n    </a>\\n    <div class=\"news-card-author-time news-card-author-time-in-title\">\\n      <a href=\"/prev/en/news/google-to-give-onetime-cash-bonus-of-\\xe2\\x82\\xb912-lakh-to-its-employees-globally-1639022845864\"><span class=\"short\">short</span></a> by <span class=\"author\">Ankush Verma</span> / \\n      <span class=\"time\" itemprop=\"datePublished\" content=\"2021-12-09T04:07:25.000Z\">09:37 am</span> on <span clas=\"date\">09 Dec 2021,Thursday</span>\\n    </div>\\n  </div>\\n  <div class=\"news-card-content news-right-box\">\\n    <div itemprop=\"articleBody\">Google on Wednesday said it will give a one-time cash bonus of $1,600 (over \\xe2\\x82\\xb91.2 lakh) to its employees globally this year. The bonus will also be given to company&#39;s extended workforce and interns, a company spokesperson told Reuters. The latest benefit is in addition to Google&#39;s work-from-home allowance and wellbeing bonus, the spokesperson said.</div>\\n    <div class=\"news-card-author-time news-card-author-time-in-content\">\\n      <a href=\"/prev/en/news/google-to-give-onetime-cash-bonus-of-\\xe2\\x82\\xb912-lakh-to-its-employees-globally-1639022845864\"><span class=\"short\">short</span></a> by <span class=\"author\">Ankush Verma</span> / \\n      <span class=\"time\" itemprop=\"dateModified\" content=\"2021-12-09T04:07:25.000Z\" >09:37 am</span> on <span class=\"date\">09 Dec</span>\\n    </div>\\n  </div>\\n  \\n    <div class=\"news-card-footer news-right-box\">\\n      <div class=\"read-more\">read more at <a class=\"source\" onclick=\"track_GA_Mixpanel({\\'hitType\\': \\'event\\', \\'category\\': \\'ReadMore\\', \\'action\\': \\'clicked\\', \\'label\\': \\'Reuters\\' });\" target=\"_blank\" href=\"https://www.reuters.com/technology/google-give-additional-staff-bonus-next-year-2021-12-08/?utm_campaign=fullarticle&amp;utm_medium=referral&amp;utm_source=inshorts \">Reuters</a></div>\\n    </div>\\n  \\n\\n</div>\\n\\n  \\n</div>\\n\\n\\n\\n\\n<div class=\"\">\\n<div class=\"news-card z-depth-1\" itemscope itemtype=\"http://schema.org/NewsArticle\">\\n  <span content=\"\" itemscope itemprop=\"mainEntityOfPage\" itemType=\"https://schema.org/WebPage\" itemid=\"https://inshorts.com/en/news/instagram-lets-teen-users-find-drugs-in-just-2-clicks-claims-research-group-1638961597569\"></span>\\n  <span itemtype=\"https://schema.org/Person\" itemscope=\"itemscope\" itemprop=\"author\">\\n    <span itemprop=\"name\" content=\"Kiran Khatri\"></span>\\n  </span>\\n  <span itemprop=\"description\" content=\"Instagram lets teen users find drugs in just 2 clicks, claims research group\"></span>\\n  <span itemprop=\"image\" itemscope itemtype=\"https://schema.org/ImageObject\">\\n    <meta itemprop=\"url\" content=\"https://static.inshorts.com/inshorts/images/v1/variants/jpg/m/2021/12_dec/8_wed/img_1638958895126_401.jpg?\"></meta>\\n    <meta itemprop=\"width\" content=\"864\"></meta>\\n    <meta itemprop=\"height\" content=\"483\"></meta>\\n  </span>\\n  <span itemtype=\"https://schema.org/Organization\" itemscope=\"itemscope\" itemprop=\"publisher\">\\n    <span itemprop=\"url\" content=\"https://inshorts.com/\"></span>\\n    <span itemprop=\"name\" content=\"Inshorts\"></span>\\n    <span itemprop=\"logo\" itemscope itemtype=\"https://schema.org/ImageObject\">\\n      <span itemprop=\"url\" content=\"https://assets.inshorts.com/inshorts/images/v1/variants/jpg/m/2018/11_nov/21_wed/img_1542823931298_497.jpg\"></span>\\n      <meta itemprop=\"width\" content=\"400\"></meta>\\n      <meta itemprop=\"height\" content=\"60\"></meta>\\n    </span>\\n  </span>\\n  <div class=\"news-card-image\" style= \"background-image: url(\\'https://static.inshorts.com/inshorts/images/v1/variants/jpg/m/2021/12_dec/8_wed/img_1638958895126_401.jpg?\\')\">\\n  </div>\\n  <div class=\"news-card-title news-right-box\">\\n    <a class=\"clickable\" onclick=\"track_GA_Mixpanel({\\'hitType\\': \\'event\\', \\'category\\': \\'TitleOfNews\\', \\'action\\': \\'clicked\\', \\'label\\': \\'Instagram%20lets%20teen%20users%20find%20drugs%20in%20just%202%20clicks%2C%20claims%20research%20group)\\' });\"  style=\"color:#44444d!important\" href=\"/en/news/instagram-lets-teen-users-find-drugs-in-just-2-clicks-claims-research-group-1638961597569\">\\n      <span itemprop=\"headline\">Instagram lets teen users find drugs in just 2 clicks, claims research group</span>\\n    </a>\\n    <div class=\"news-card-author-time news-card-author-time-in-title\">\\n      <a href=\"/prev/en/news/instagram-lets-teen-users-find-drugs-in-just-2-clicks-claims-research-group-1638961597569\"><span class=\"short\">short</span></a> by <span class=\"author\">Kiran Khatri</span> / \\n      <span class=\"time\" itemprop=\"datePublished\" content=\"2021-12-08T11:06:37.000Z\">04:36 pm</span> on <span clas=\"date\">08 Dec 2021,Wednesday</span>\\n    </div>\\n  </div>\\n  <div class=\"news-card-content news-right-box\">\\n    <div itemprop=\"articleBody\">Instagram allows teen users &#34;to reach an account selling drugs like Xanax&#34; in two clicks, according to an investigation by Tech Transparency Project (TTP). TTP created multiple fake Instagram accounts of minors aged between 13 and 17 for their research. They claimed that Instagram&#39;s algorithms helped underage accounts connect directly with dealers &#34;selling everything from opioids to party drugs&#34;.</div>\\n    <div class=\"news-card-author-time news-card-author-time-in-content\">\\n      <a href=\"/prev/en/news/instagram-lets-teen-users-find-drugs-in-just-2-clicks-claims-research-group-1638961597569\"><span class=\"short\">short</span></a> by <span class=\"author\">Kiran Khatri</span> / \\n      <span class=\"time\" itemprop=\"dateModified\" content=\"2021-12-08T11:06:37.000Z\" >04:36 pm</span> on <span class=\"date\">08 Dec</span>\\n    </div>\\n  </div>\\n  \\n    <div class=\"news-card-footer news-right-box\">\\n      <div class=\"read-more\">read more at <a class=\"source\" onclick=\"track_GA_Mixpanel({\\'hitType\\': \\'event\\', \\'category\\': \\'ReadMore\\', \\'action\\': \\'clicked\\', \\'label\\': \\'Business%20Insider%20India\\' });\" target=\"_blank\" href=\"https://www.businessinsider.in/tech/news/instagram-makes-it-very-easy-for-teens-to-find-drugs-on-the-platform/amp_articleshow/88157357.cms?utm_campaign=fullarticle&amp;utm_medium=referral&amp;utm_source=inshorts \">Business Insider India</a></div>\\n    </div>\\n  \\n\\n</div>\\n\\n  \\n</div>\\n\\n\\n\\n\\n<div class=\"\">\\n<div class=\"news-card z-depth-1\" itemscope itemtype=\"http://schema.org/NewsArticle\">\\n  <span content=\"\" itemscope itemprop=\"mainEntityOfPage\" itemType=\"https://schema.org/WebPage\" itemid=\"https://inshorts.com/en/news/us-to-put-chinas-sensetime-on-blacklist-ahead-of-its-hk-ipo-ft-1639046649613\"></span>\\n  <span itemtype=\"https://schema.org/Person\" itemscope=\"itemscope\" itemprop=\"author\">\\n    <span itemprop=\"name\" content=\"Aishwarya Awasthi\"></span>\\n  </span>\\n  <span itemprop=\"description\" content=\"US to put China&#39;s SenseTime on blacklist ahead of its HK IPO: FT\"></span>\\n  <span itemprop=\"image\" itemscope itemtype=\"https://schema.org/ImageObject\">\\n    <meta itemprop=\"url\" content=\"https://static.inshorts.com/inshorts/images/v1/variants/jpg/m/2021/12_dec/9_thu/img_1639045323068_243.jpg?\"></meta>\\n    <meta itemprop=\"width\" content=\"864\"></meta>\\n    <meta itemprop=\"height\" content=\"483\"></meta>\\n  </span>\\n  <span itemtype=\"https://schema.org/Organization\" itemscope=\"itemscope\" itemprop=\"publisher\">\\n    <span itemprop=\"url\" content=\"https://inshorts.com/\"></span>\\n    <span itemprop=\"name\" content=\"Inshorts\"></span>\\n    <span itemprop=\"logo\" itemscope itemtype=\"https://schema.org/ImageObject\">\\n      <span itemprop=\"url\" content=\"https://assets.inshorts.com/inshorts/images/v1/variants/jpg/m/2018/11_nov/21_wed/img_1542823931298_497.jpg\"></span>\\n      <meta itemprop=\"width\" content=\"400\"></meta>\\n      <meta itemprop=\"height\" content=\"60\"></meta>\\n    </span>\\n  </span>\\n  <div class=\"news-card-image\" style= \"background-image: url(\\'https://static.inshorts.com/inshorts/images/v1/variants/jpg/m/2021/12_dec/9_thu/img_1639045323068_243.jpg?\\')\">\\n  </div>\\n  <div class=\"news-card-title news-right-box\">\\n    <a class=\"clickable\" onclick=\"track_GA_Mixpanel({\\'hitType\\': \\'event\\', \\'category\\': \\'TitleOfNews\\', \\'action\\': \\'clicked\\', \\'label\\': \\'US%20to%20put%20China&#39;s%20SenseTime%20on%20blacklist%20ahead%20of%20its%20HK%20IPO%3A%20FT)\\' });\"  style=\"color:#44444d!important\" href=\"/en/news/us-to-put-chinas-sensetime-on-blacklist-ahead-of-its-hk-ipo-ft-1639046649613\">\\n      <span itemprop=\"headline\">US to put China&#39;s SenseTime on blacklist ahead of its HK IPO: FT</span>\\n    </a>\\n    <div class=\"news-card-author-time news-card-author-time-in-title\">\\n      <a href=\"/prev/en/news/us-to-put-chinas-sensetime-on-blacklist-ahead-of-its-hk-ipo-ft-1639046649613\"><span class=\"short\">short</span></a> by <span class=\"author\">Aishwarya Awasthi</span> / \\n      <span class=\"time\" itemprop=\"datePublished\" content=\"2021-12-09T10:44:09.000Z\">04:14 pm</span> on <span clas=\"date\">09 Dec 2021,Thursday</span>\\n    </div>\\n  </div>\\n  <div class=\"news-card-content news-right-box\">\\n    <div itemprop=\"articleBody\">The US will put Chinese artificial intelligence company SenseTime on an investment blacklist on Friday, the same day it prices its Hong Kong initial public offering, the Financial Times reported citing sources. SenseTime will be placed on a list of &#34;Chinese military-industrial complex companies&#34;. The US alleges SenseTime played a role in human rights abuses against China&#39;s Muslim minority groups.</div>\\n    <div class=\"news-card-author-time news-card-author-time-in-content\">\\n      <a href=\"/prev/en/news/us-to-put-chinas-sensetime-on-blacklist-ahead-of-its-hk-ipo-ft-1639046649613\"><span class=\"short\">short</span></a> by <span class=\"author\">Aishwarya Awasthi</span> / \\n      <span class=\"time\" itemprop=\"dateModified\" content=\"2021-12-09T10:44:09.000Z\" >04:14 pm</span> on <span class=\"date\">09 Dec</span>\\n    </div>\\n  </div>\\n  \\n    <div class=\"news-card-footer news-right-box\">\\n      <div class=\"read-more\">read more at <a class=\"source\" onclick=\"track_GA_Mixpanel({\\'hitType\\': \\'event\\', \\'category\\': \\'ReadMore\\', \\'action\\': \\'clicked\\', \\'label\\': \\'Reuters\\' });\" target=\"_blank\" href=\"https://www.reuters.com/markets/us/us-put-chinese-firm-sensetime-investment-blacklist-ahead-ipo-ft-2021-12-09/?utm_campaign=fullarticle&amp;utm_medium=referral&amp;utm_source=inshorts \">Reuters</a></div>\\n    </div>\\n  \\n\\n</div>\\n\\n  \\n</div>\\n\\n\\n\\n\\n<div class=\"\">\\n<div class=\"news-card z-depth-1\" itemscope itemtype=\"http://schema.org/NewsArticle\">\\n  <span content=\"\" itemscope itemprop=\"mainEntityOfPage\" itemType=\"https://schema.org/WebPage\" itemid=\"https://inshorts.com/en/news/cybersecurity-frauds-main-concerns-with-digital-currency-rbi-governor-1639030175157\"></span>\\n  <span itemtype=\"https://schema.org/Person\" itemscope=\"itemscope\" itemprop=\"author\">\\n    <span itemprop=\"name\" content=\"Aishwarya Awasthi\"></span>\\n  </span>\\n  <span itemprop=\"description\" content=\"Cybersecurity, frauds main concerns with digital currency: RBI Governor\"></span>\\n  <span itemprop=\"image\" itemscope itemtype=\"https://schema.org/ImageObject\">\\n    <meta itemprop=\"url\" content=\"https://static.inshorts.com/inshorts/images/v1/variants/jpg/m/2021/12_dec/9_thu/img_1639028467609_524.jpg?\"></meta>\\n    <meta itemprop=\"width\" content=\"864\"></meta>\\n    <meta itemprop=\"height\" content=\"483\"></meta>\\n  </span>\\n  <span itemtype=\"https://schema.org/Organization\" itemscope=\"itemscope\" itemprop=\"publisher\">\\n    <span itemprop=\"url\" content=\"https://inshorts.com/\"></span>\\n    <span itemprop=\"name\" content=\"Inshorts\"></span>\\n    <span itemprop=\"logo\" itemscope itemtype=\"https://schema.org/ImageObject\">\\n      <span itemprop=\"url\" content=\"https://assets.inshorts.com/inshorts/images/v1/variants/jpg/m/2018/11_nov/21_wed/img_1542823931298_497.jpg\"></span>\\n      <meta itemprop=\"width\" content=\"400\"></meta>\\n      <meta itemprop=\"height\" content=\"60\"></meta>\\n    </span>\\n  </span>\\n  <div class=\"news-card-image\" style= \"background-image: url(\\'https://static.inshorts.com/inshorts/images/v1/variants/jpg/m/2021/12_dec/9_thu/img_1639028467609_524.jpg?\\')\">\\n  </div>\\n  <div class=\"news-card-title news-right-box\">\\n    <a class=\"clickable\" onclick=\"track_GA_Mixpanel({\\'hitType\\': \\'event\\', \\'category\\': \\'TitleOfNews\\', \\'action\\': \\'clicked\\', \\'label\\': \\'Cybersecurity%2C%20frauds%20main%20concerns%20with%20digital%20currency%3A%20RBI%20Governor)\\' });\"  style=\"color:#44444d!important\" href=\"/en/news/cybersecurity-frauds-main-concerns-with-digital-currency-rbi-governor-1639030175157\">\\n      <span itemprop=\"headline\">Cybersecurity, frauds main concerns with digital currency: RBI Governor</span>\\n    </a>\\n    <div class=\"news-card-author-time news-card-author-time-in-title\">\\n      <a href=\"/prev/en/news/cybersecurity-frauds-main-concerns-with-digital-currency-rbi-governor-1639030175157\"><span class=\"short\">short</span></a> by <span class=\"author\">Aishwarya Awasthi</span> / \\n      <span class=\"time\" itemprop=\"datePublished\" content=\"2021-12-09T06:09:35.000Z\">11:39 am</span> on <span clas=\"date\">09 Dec 2021,Thursday</span>\\n    </div>\\n  </div>\\n  <div class=\"news-card-content news-right-box\">\\n    <div itemprop=\"articleBody\">RBI Governor Shaktikanta Das has said cybersecurity and the possibility of digital frauds are main concerns with rolling out a central bank digital currency. He added one has to ensure cyber security and take preemptive steps to prevent any kind of fraud. Deputy Governor T Rabi Sankar said work is being done on two types of CBDCs, retail and wholesale.</div>\\n    <div class=\"news-card-author-time news-card-author-time-in-content\">\\n      <a href=\"/prev/en/news/cybersecurity-frauds-main-concerns-with-digital-currency-rbi-governor-1639030175157\"><span class=\"short\">short</span></a> by <span class=\"author\">Aishwarya Awasthi</span> / \\n      <span class=\"time\" itemprop=\"dateModified\" content=\"2021-12-09T06:09:35.000Z\" >11:39 am</span> on <span class=\"date\">09 Dec</span>\\n    </div>\\n  </div>\\n  \\n    <div class=\"news-card-footer news-right-box\">\\n      <div class=\"read-more\">read more at <a class=\"source\" onclick=\"track_GA_Mixpanel({\\'hitType\\': \\'event\\', \\'category\\': \\'ReadMore\\', \\'action\\': \\'clicked\\', \\'label\\': \\'The%20Financial%20Express\\' });\" target=\"_blank\" href=\"https://www.financialexpress.com/market/cyber-security-frauds-main-concerns-with-digital-currency-rbi-governor-shaktikanta-das/2384704/lite/?utm_campaign=fullarticle&amp;utm_medium=referral&amp;utm_source=inshorts \">The Financial Express</a></div>\\n    </div>\\n  \\n\\n</div>\\n\\n  \\n</div>\\n\\n\\n\\n\\n<div class=\"\">\\n<div class=\"news-card z-depth-1\" itemscope itemtype=\"http://schema.org/NewsArticle\">\\n  <span content=\"\" itemscope itemprop=\"mainEntityOfPage\" itemType=\"https://schema.org/WebPage\" itemid=\"https://inshorts.com/en/news/blizzard-us-employee-to-detail-its-alcoholsoaked-culture-in-public-1638942683337\"></span>\\n  <span itemtype=\"https://schema.org/Person\" itemscope=\"itemscope\" itemprop=\"author\">\\n    <span itemprop=\"name\" content=\"Aishwarya Awasthi\"></span>\\n  </span>\\n  <span itemprop=\"description\" content=\"Blizzard US employee to detail its &#39;alcohol-soaked culture&#39; in public\"></span>\\n  <span itemprop=\"image\" itemscope itemtype=\"https://schema.org/ImageObject\">\\n    <meta itemprop=\"url\" content=\"https://static.inshorts.com/inshorts/images/v1/variants/jpg/m/2021/12_dec/8_wed/img_1638940605018_156.jpg?\"></meta>\\n    <meta itemprop=\"width\" content=\"864\"></meta>\\n    <meta itemprop=\"height\" content=\"483\"></meta>\\n  </span>\\n  <span itemtype=\"https://schema.org/Organization\" itemscope=\"itemscope\" itemprop=\"publisher\">\\n    <span itemprop=\"url\" content=\"https://inshorts.com/\"></span>\\n    <span itemprop=\"name\" content=\"Inshorts\"></span>\\n    <span itemprop=\"logo\" itemscope itemtype=\"https://schema.org/ImageObject\">\\n      <span itemprop=\"url\" content=\"https://assets.inshorts.com/inshorts/images/v1/variants/jpg/m/2018/11_nov/21_wed/img_1542823931298_497.jpg\"></span>\\n      <meta itemprop=\"width\" content=\"400\"></meta>\\n      <meta itemprop=\"height\" content=\"60\"></meta>\\n    </span>\\n  </span>\\n  <div class=\"news-card-image\" style= \"background-image: url(\\'https://static.inshorts.com/inshorts/images/v1/variants/jpg/m/2021/12_dec/8_wed/img_1638940605018_156.jpg?\\')\">\\n  </div>\\n  <div class=\"news-card-title news-right-box\">\\n    <a class=\"clickable\" onclick=\"track_GA_Mixpanel({\\'hitType\\': \\'event\\', \\'category\\': \\'TitleOfNews\\', \\'action\\': \\'clicked\\', \\'label\\': \\'Blizzard%20US%20employee%20to%20detail%20its%20&#39;alcohol-soaked%20culture&#39;%20in%20public)\\' });\"  style=\"color:#44444d!important\" href=\"/en/news/blizzard-us-employee-to-detail-its-alcoholsoaked-culture-in-public-1638942683337\">\\n      <span itemprop=\"headline\">Blizzard US employee to detail its &#39;alcohol-soaked culture&#39; in public</span>\\n    </a>\\n    <div class=\"news-card-author-time news-card-author-time-in-title\">\\n      <a href=\"/prev/en/news/blizzard-us-employee-to-detail-its-alcoholsoaked-culture-in-public-1638942683337\"><span class=\"short\">short</span></a> by <span class=\"author\">Aishwarya Awasthi</span> / \\n      <span class=\"time\" itemprop=\"datePublished\" content=\"2021-12-08T05:51:23.000Z\">11:21 am</span> on <span clas=\"date\">08 Dec 2021,Wednesday</span>\\n    </div>\\n  </div>\\n  <div class=\"news-card-content news-right-box\">\\n    <div itemprop=\"articleBody\">A Blizzard Entertainment US employee will be describing &#34;the alcohol-soaked culture of sexual harassment&#34; she allegedly faced at the studio, at a press conference, the employee&#39;s lawyer Lisa Bloom shared. She will also speak on the retaliation she faced after reporting the harassment. The press conference will be held in front of Blizzard&#39;s headquarters in Irvine, US.\\n\\n</div>\\n    <div class=\"news-card-author-time news-card-author-time-in-content\">\\n      <a href=\"/prev/en/news/blizzard-us-employee-to-detail-its-alcoholsoaked-culture-in-public-1638942683337\"><span class=\"short\">short</span></a> by <span class=\"author\">Aishwarya Awasthi</span> / \\n      <span class=\"time\" itemprop=\"dateModified\" content=\"2021-12-08T05:51:23.000Z\" >11:21 am</span> on <span class=\"date\">08 Dec</span>\\n    </div>\\n  </div>\\n  \\n    <div class=\"news-card-footer news-right-box\">\\n      <div class=\"read-more\">read more at <a class=\"source\" onclick=\"track_GA_Mixpanel({\\'hitType\\': \\'event\\', \\'category\\': \\'ReadMore\\', \\'action\\': \\'clicked\\', \\'label\\': \\'Twitter\\' });\" target=\"_blank\" href=\"https://twitter.com/LisaBloom/status/1468299060826177538?ref_src=twsrc%5Etfw%7Ctwcamp%5Etweetembed%7Ctwterm%5E1468299060826177538%7Ctwgr%5E%7Ctwcon%5Es1_&amp;utm_campaign=fullarticle&amp;utm_medium=referral&amp;ref_url=https%3A%2F%2Fwww.theverge.com%2F2021%2F12%2F7%2F22822948%2Fharvey-weinstein-lawyer-lisa-bloom-press-conference-activision-blizzard-harassment-victim&amp;utm_source=inshorts \">Twitter</a></div>\\n    </div>\\n  \\n\\n</div>\\n\\n  \\n</div>\\n\\n\\n\\n\\n  \\n    <div id=\\'div-gpt-ad-1536748319959-ihfjqwoz-1\\' style=\\'height:250px; width:900px; margin: auto; margin-bottom: 2%;\\'>\\n      <script>\\n        googletag.cmd.push(function() { \\n          //News banner for desktop\\n          var slotIdWeb = \\'div-gpt-ad-1536748319959-ihfjqwoz-1\\';\\n          var slot = googletag.defineSlot(\\'/142919096/inshorts_website_900x250\\', [900, 250], slotIdWeb)\\n          .addService(googletag.pubads())\\n          .setCollapseEmptyDiv(true,true);\\n\\n          googletag.display(\\'div-gpt-ad-1536748319959-ihfjqwoz-1\\');\\n          googletag.pubads().refresh([slot]);\\n        });\\n      </script>\\n    </div>\\n  \\n\\n<div class=\"\">\\n<div class=\"news-card z-depth-1\" itemscope itemtype=\"http://schema.org/NewsArticle\">\\n  <span content=\"\" itemscope itemprop=\"mainEntityOfPage\" itemType=\"https://schema.org/WebPage\" itemid=\"https://inshorts.com/en/news/apple-wins-reprieve-in-deadline-to-revamp-app-store-rules-in-us-1639045061751\"></span>\\n  <span itemtype=\"https://schema.org/Person\" itemscope=\"itemscope\" itemprop=\"author\">\\n    <span itemprop=\"name\" content=\"Aishwarya Awasthi\"></span>\\n  </span>\\n  <span itemprop=\"description\" content=\"Apple wins reprieve in deadline to revamp App Store rules in US\"></span>\\n  <span itemprop=\"image\" itemscope itemtype=\"https://schema.org/ImageObject\">\\n    <meta itemprop=\"url\" content=\"https://static.inshorts.com/inshorts/images/v1/variants/jpg/m/2021/12_dec/9_thu/img_1639042643230_934.jpg?\"></meta>\\n    <meta itemprop=\"width\" content=\"864\"></meta>\\n    <meta itemprop=\"height\" content=\"483\"></meta>\\n  </span>\\n  <span itemtype=\"https://schema.org/Organization\" itemscope=\"itemscope\" itemprop=\"publisher\">\\n    <span itemprop=\"url\" content=\"https://inshorts.com/\"></span>\\n    <span itemprop=\"name\" content=\"Inshorts\"></span>\\n    <span itemprop=\"logo\" itemscope itemtype=\"https://schema.org/ImageObject\">\\n      <span itemprop=\"url\" content=\"https://assets.inshorts.com/inshorts/images/v1/variants/jpg/m/2018/11_nov/21_wed/img_1542823931298_497.jpg\"></span>\\n      <meta itemprop=\"width\" content=\"400\"></meta>\\n      <meta itemprop=\"height\" content=\"60\"></meta>\\n    </span>\\n  </span>\\n  <div class=\"news-card-image\" style= \"background-image: url(\\'https://static.inshorts.com/inshorts/images/v1/variants/jpg/m/2021/12_dec/9_thu/img_1639042643230_934.jpg?\\')\">\\n  </div>\\n  <div class=\"news-card-title news-right-box\">\\n    <a class=\"clickable\" onclick=\"track_GA_Mixpanel({\\'hitType\\': \\'event\\', \\'category\\': \\'TitleOfNews\\', \\'action\\': \\'clicked\\', \\'label\\': \\'Apple%20wins%20reprieve%20in%20deadline%20to%20revamp%20App%20Store%20rules%20in%20US)\\' });\"  style=\"color:#44444d!important\" href=\"/en/news/apple-wins-reprieve-in-deadline-to-revamp-app-store-rules-in-us-1639045061751\">\\n      <span itemprop=\"headline\">Apple wins reprieve in deadline to revamp App Store rules in US</span>\\n    </a>\\n    <div class=\"news-card-author-time news-card-author-time-in-title\">\\n      <a href=\"/prev/en/news/apple-wins-reprieve-in-deadline-to-revamp-app-store-rules-in-us-1639045061751\"><span class=\"short\">short</span></a> by <span class=\"author\">Aishwarya Awasthi</span> / \\n      <span class=\"time\" itemprop=\"datePublished\" content=\"2021-12-09T10:17:41.000Z\">03:47 pm</span> on <span clas=\"date\">09 Dec 2021,Thursday</span>\\n    </div>\\n  </div>\\n  <div class=\"news-card-content news-right-box\">\\n    <div itemprop=\"articleBody\">A US court has granted Apple&#39;s request to halt a December 9 deadline to make major changes to its App Store rules. In September, a US judge had ordered Apple to change its App Store rules, which ban developers from including links in buttons to outside payment systems. The court granted Apple&#39;s request over 12 hours remaining before the deadline.</div>\\n    <div class=\"news-card-author-time news-card-author-time-in-content\">\\n      <a href=\"/prev/en/news/apple-wins-reprieve-in-deadline-to-revamp-app-store-rules-in-us-1639045061751\"><span class=\"short\">short</span></a> by <span class=\"author\">Aishwarya Awasthi</span> / \\n      <span class=\"time\" itemprop=\"dateModified\" content=\"2021-12-09T10:17:41.000Z\" >03:47 pm</span> on <span class=\"date\">09 Dec</span>\\n    </div>\\n  </div>\\n  \\n    <div class=\"news-card-footer news-right-box\">\\n      <div class=\"read-more\">read more at <a class=\"source\" onclick=\"track_GA_Mixpanel({\\'hitType\\': \\'event\\', \\'category\\': \\'ReadMore\\', \\'action\\': \\'clicked\\', \\'label\\': \\'Reuters\\' });\" target=\"_blank\" href=\"https://www.reuters.com/technology/us-appeals-court-pauses-antitrust-orders-against-apple-app-store-2021-12-08/?utm_campaign=fullarticle&amp;utm_medium=referral&amp;utm_source=inshorts \">Reuters</a></div>\\n    </div>\\n  \\n\\n</div>\\n\\n  \\n</div>\\n\\n\\n\\n\\n<div class=\"\">\\n<div class=\"news-card z-depth-1\" itemscope itemtype=\"http://schema.org/NewsArticle\">\\n  <span content=\"\" itemscope itemprop=\"mainEntityOfPage\" itemType=\"https://schema.org/WebPage\" itemid=\"https://inshorts.com/en/news/britain-to-phase-out-2g-and-3g-mobile-networks-by-2033-1638952245016\"></span>\\n  <span itemtype=\"https://schema.org/Person\" itemscope=\"itemscope\" itemprop=\"author\">\\n    <span itemprop=\"name\" content=\"Aishwarya Awasthi\"></span>\\n  </span>\\n  <span itemprop=\"description\" content=\"Britain to phase out 2G and 3G mobile networks by 2033\"></span>\\n  <span itemprop=\"image\" itemscope itemtype=\"https://schema.org/ImageObject\">\\n    <meta itemprop=\"url\" content=\"https://static.inshorts.com/inshorts/images/v1/variants/jpg/m/2021/12_dec/8_wed/img_1638950939750_586.jpg?\"></meta>\\n    <meta itemprop=\"width\" content=\"864\"></meta>\\n    <meta itemprop=\"height\" content=\"483\"></meta>\\n  </span>\\n  <span itemtype=\"https://schema.org/Organization\" itemscope=\"itemscope\" itemprop=\"publisher\">\\n    <span itemprop=\"url\" content=\"https://inshorts.com/\"></span>\\n    <span itemprop=\"name\" content=\"Inshorts\"></span>\\n    <span itemprop=\"logo\" itemscope itemtype=\"https://schema.org/ImageObject\">\\n      <span itemprop=\"url\" content=\"https://assets.inshorts.com/inshorts/images/v1/variants/jpg/m/2018/11_nov/21_wed/img_1542823931298_497.jpg\"></span>\\n      <meta itemprop=\"width\" content=\"400\"></meta>\\n      <meta itemprop=\"height\" content=\"60\"></meta>\\n    </span>\\n  </span>\\n  <div class=\"news-card-image\" style= \"background-image: url(\\'https://static.inshorts.com/inshorts/images/v1/variants/jpg/m/2021/12_dec/8_wed/img_1638950939750_586.jpg?\\')\">\\n  </div>\\n  <div class=\"news-card-title news-right-box\">\\n    <a class=\"clickable\" onclick=\"track_GA_Mixpanel({\\'hitType\\': \\'event\\', \\'category\\': \\'TitleOfNews\\', \\'action\\': \\'clicked\\', \\'label\\': \\'Britain%20to%20phase%20out%202G%20and%203G%20mobile%20networks%20by%202033)\\' });\"  style=\"color:#44444d!important\" href=\"/en/news/britain-to-phase-out-2g-and-3g-mobile-networks-by-2033-1638952245016\">\\n      <span itemprop=\"headline\">Britain to phase out 2G and 3G mobile networks by 2033</span>\\n    </a>\\n    <div class=\"news-card-author-time news-card-author-time-in-title\">\\n      <a href=\"/prev/en/news/britain-to-phase-out-2g-and-3g-mobile-networks-by-2033-1638952245016\"><span class=\"short\">short</span></a> by <span class=\"author\">Aishwarya Awasthi</span> / \\n      <span class=\"time\" itemprop=\"datePublished\" content=\"2021-12-08T08:30:45.000Z\">02:00 pm</span> on <span clas=\"date\">08 Dec 2021,Wednesday</span>\\n    </div>\\n  </div>\\n  <div class=\"news-card-content news-right-box\">\\n    <div itemprop=\"articleBody\">Britain will be phasing out 2G and 3G mobile networks by 2033 to free up radio waves for 5G and eventually 6G services. All four of Britain&#39;s networks, including EE and Vodafone, have agreed to the timetable, the government said. BT, which owns the EE network, said in July it would phase out 3G by early 2023, followed by 2G.\\n</div>\\n    <div class=\"news-card-author-time news-card-author-time-in-content\">\\n      <a href=\"/prev/en/news/britain-to-phase-out-2g-and-3g-mobile-networks-by-2033-1638952245016\"><span class=\"short\">short</span></a> by <span class=\"author\">Aishwarya Awasthi</span> / \\n      <span class=\"time\" itemprop=\"dateModified\" content=\"2021-12-08T08:30:45.000Z\" >02:00 pm</span> on <span class=\"date\">08 Dec</span>\\n    </div>\\n  </div>\\n  \\n    <div class=\"news-card-footer news-right-box\">\\n      <div class=\"read-more\">read more at <a class=\"source\" onclick=\"track_GA_Mixpanel({\\'hitType\\': \\'event\\', \\'category\\': \\'ReadMore\\', \\'action\\': \\'clicked\\', \\'label\\': \\'Reuters\\' });\" target=\"_blank\" href=\"https://www.reuters.com/world/uk/britain-phase-out-2g-3g-mobile-networks-by-2033-2021-12-08/?utm_campaign=fullarticle&amp;utm_medium=referral&amp;utm_source=inshorts \">Reuters</a></div>\\n    </div>\\n  \\n\\n</div>\\n\\n  \\n</div>\\n\\n\\n\\n\\n<div class=\"\">\\n<div class=\"news-card z-depth-1\" itemscope itemtype=\"http://schema.org/NewsArticle\">\\n  <span content=\"\" itemscope itemprop=\"mainEntityOfPage\" itemType=\"https://schema.org/WebPage\" itemid=\"https://inshorts.com/en/news/amazon-fixes-outage-that-hit-its-website-netflix-robinhood-in-us-1638934008214\"></span>\\n  <span itemtype=\"https://schema.org/Person\" itemscope=\"itemscope\" itemprop=\"author\">\\n    <span itemprop=\"name\" content=\"Aishwarya Awasthi\"></span>\\n  </span>\\n  <span itemprop=\"description\" content=\"Amazon fixes outage that hit its website, Netflix, Robinhood in US\"></span>\\n  <span itemprop=\"image\" itemscope itemtype=\"https://schema.org/ImageObject\">\\n    <meta itemprop=\"url\" content=\"https://static.inshorts.com/inshorts/images/v1/variants/jpg/m/2021/12_dec/8_wed/img_1638932746900_340.jpg?\"></meta>\\n    <meta itemprop=\"width\" content=\"864\"></meta>\\n    <meta itemprop=\"height\" content=\"483\"></meta>\\n  </span>\\n  <span itemtype=\"https://schema.org/Organization\" itemscope=\"itemscope\" itemprop=\"publisher\">\\n    <span itemprop=\"url\" content=\"https://inshorts.com/\"></span>\\n    <span itemprop=\"name\" content=\"Inshorts\"></span>\\n    <span itemprop=\"logo\" itemscope itemtype=\"https://schema.org/ImageObject\">\\n      <span itemprop=\"url\" content=\"https://assets.inshorts.com/inshorts/images/v1/variants/jpg/m/2018/11_nov/21_wed/img_1542823931298_497.jpg\"></span>\\n      <meta itemprop=\"width\" content=\"400\"></meta>\\n      <meta itemprop=\"height\" content=\"60\"></meta>\\n    </span>\\n  </span>\\n  <div class=\"news-card-image\" style= \"background-image: url(\\'https://static.inshorts.com/inshorts/images/v1/variants/jpg/m/2021/12_dec/8_wed/img_1638932746900_340.jpg?\\')\">\\n  </div>\\n  <div class=\"news-card-title news-right-box\">\\n    <a class=\"clickable\" onclick=\"track_GA_Mixpanel({\\'hitType\\': \\'event\\', \\'category\\': \\'TitleOfNews\\', \\'action\\': \\'clicked\\', \\'label\\': \\'Amazon%20fixes%20outage%20that%20hit%20its%20website%2C%20Netflix%2C%20Robinhood%20in%20US)\\' });\"  style=\"color:#44444d!important\" href=\"/en/news/amazon-fixes-outage-that-hit-its-website-netflix-robinhood-in-us-1638934008214\">\\n      <span itemprop=\"headline\">Amazon fixes outage that hit its website, Netflix, Robinhood in US</span>\\n    </a>\\n    <div class=\"news-card-author-time news-card-author-time-in-title\">\\n      <a href=\"/prev/en/news/amazon-fixes-outage-that-hit-its-website-netflix-robinhood-in-us-1638934008214\"><span class=\"short\">short</span></a> by <span class=\"author\">Aishwarya Awasthi</span> / \\n      <span class=\"time\" itemprop=\"datePublished\" content=\"2021-12-08T03:26:48.000Z\">08:56 am</span> on <span clas=\"date\">08 Dec 2021,Wednesday</span>\\n    </div>\\n  </div>\\n  <div class=\"news-card-content news-right-box\">\\n    <div itemprop=\"articleBody\">Amazon has resolved network device issues that led to a web services outage, disrupting a host of online services, including Amazon&#39;s website, Disney, Netflix and Robinhood, in the US. &#34;With the network device issues resolved, we are now working towards recovery of any impaired services,&#34; Amazon said. Earlier, Downdetector showed over 24,000 complaints regarding Amazon, including Prime Video.\\n\\n\\n</div>\\n    <div class=\"news-card-author-time news-card-author-time-in-content\">\\n      <a href=\"/prev/en/news/amazon-fixes-outage-that-hit-its-website-netflix-robinhood-in-us-1638934008214\"><span class=\"short\">short</span></a> by <span class=\"author\">Aishwarya Awasthi</span> / \\n      <span class=\"time\" itemprop=\"dateModified\" content=\"2021-12-08T03:26:48.000Z\" >08:56 am</span> on <span class=\"date\">08 Dec</span>\\n    </div>\\n  </div>\\n  \\n    <div class=\"news-card-footer news-right-box\">\\n      <div class=\"read-more\">read more at <a class=\"source\" onclick=\"track_GA_Mixpanel({\\'hitType\\': \\'event\\', \\'category\\': \\'ReadMore\\', \\'action\\': \\'clicked\\', \\'label\\': \\'BloombergQuint\\' });\" target=\"_blank\" href=\"https://www.bloombergquint.com/business/amazon-says-it-resolved-network-device-issue-that-caused-outage?utm_campaign=fullarticle&amp;utm_medium=referral&amp;utm_source=inshorts \">BloombergQuint</a></div>\\n    </div>\\n  \\n\\n</div>\\n\\n  \\n</div>\\n\\n\\n\\n\\n<div class=\"\">\\n<div class=\"news-card z-depth-1\" itemscope itemtype=\"http://schema.org/NewsArticle\">\\n  <span content=\"\" itemscope itemprop=\"mainEntityOfPage\" itemType=\"https://schema.org/WebPage\" itemid=\"https://inshorts.com/en/news/mobile-industry-vital-for-indias-vision-for-$5-tn-economy-by-2025-birla-1638959769495\"></span>\\n  <span itemtype=\"https://schema.org/Person\" itemscope=\"itemscope\" itemprop=\"author\">\\n    <span itemprop=\"name\" content=\"Aishwarya Awasthi\"></span>\\n  </span>\\n  <span itemprop=\"description\" content=\"Mobile industry vital for India&#39;s vision for $5 tn economy by 2025: Birla\"></span>\\n  <span itemprop=\"image\" itemscope itemtype=\"https://schema.org/ImageObject\">\\n    <meta itemprop=\"url\" content=\"https://static.inshorts.com/inshorts/images/v1/variants/jpg/m/2021/12_dec/8_wed/img_1638953354556_859.jpg?\"></meta>\\n    <meta itemprop=\"width\" content=\"864\"></meta>\\n    <meta itemprop=\"height\" content=\"483\"></meta>\\n  </span>\\n  <span itemtype=\"https://schema.org/Organization\" itemscope=\"itemscope\" itemprop=\"publisher\">\\n    <span itemprop=\"url\" content=\"https://inshorts.com/\"></span>\\n    <span itemprop=\"name\" content=\"Inshorts\"></span>\\n    <span itemprop=\"logo\" itemscope itemtype=\"https://schema.org/ImageObject\">\\n      <span itemprop=\"url\" content=\"https://assets.inshorts.com/inshorts/images/v1/variants/jpg/m/2018/11_nov/21_wed/img_1542823931298_497.jpg\"></span>\\n      <meta itemprop=\"width\" content=\"400\"></meta>\\n      <meta itemprop=\"height\" content=\"60\"></meta>\\n    </span>\\n  </span>\\n  <div class=\"news-card-image\" style= \"background-image: url(\\'https://static.inshorts.com/inshorts/images/v1/variants/jpg/m/2021/12_dec/8_wed/img_1638953354556_859.jpg?\\')\">\\n  </div>\\n  <div class=\"news-card-title news-right-box\">\\n    <a class=\"clickable\" onclick=\"track_GA_Mixpanel({\\'hitType\\': \\'event\\', \\'category\\': \\'TitleOfNews\\', \\'action\\': \\'clicked\\', \\'label\\': \\'Mobile%20industry%20vital%20for%20India&#39;s%20vision%20for%20%245%20tn%20economy%20by%202025%3A%20Birla)\\' });\"  style=\"color:#44444d!important\" href=\"/en/news/mobile-industry-vital-for-indias-vision-for-$5-tn-economy-by-2025-birla-1638959769495\">\\n      <span itemprop=\"headline\">Mobile industry vital for India&#39;s vision for $5 tn economy by 2025: Birla</span>\\n    </a>\\n    <div class=\"news-card-author-time news-card-author-time-in-title\">\\n      <a href=\"/prev/en/news/mobile-industry-vital-for-indias-vision-for-$5-tn-economy-by-2025-birla-1638959769495\"><span class=\"short\">short</span></a> by <span class=\"author\">Aishwarya Awasthi</span> / \\n      <span class=\"time\" itemprop=\"datePublished\" content=\"2021-12-08T10:36:09.000Z\">04:06 pm</span> on <span clas=\"date\">08 Dec 2021,Wednesday</span>\\n    </div>\\n  </div>\\n  <div class=\"news-card-content news-right-box\">\\n    <div itemprop=\"articleBody\">Chairman of Aditya Birla Group Kumar Mangalam Birla at India Mobile Congress event said, &#34;I believe...the mobile industry will be vital in achieving India&#39;s vision to be a $5 trillion economy by 2025.&#34; Birla asserted that a robust industry is necessary to invest and accelerate achievement of Digital India vision. He called the industry &#34;the growth engine&#34; of Indian economy. </div>\\n    <div class=\"news-card-author-time news-card-author-time-in-content\">\\n      <a href=\"/prev/en/news/mobile-industry-vital-for-indias-vision-for-$5-tn-economy-by-2025-birla-1638959769495\"><span class=\"short\">short</span></a> by <span class=\"author\">Aishwarya Awasthi</span> / \\n      <span class=\"time\" itemprop=\"dateModified\" content=\"2021-12-08T10:36:09.000Z\" >04:06 pm</span> on <span class=\"date\">08 Dec</span>\\n    </div>\\n  </div>\\n  \\n    <div class=\"news-card-footer news-right-box\">\\n      <div class=\"read-more\">read more at <a class=\"source\" onclick=\"track_GA_Mixpanel({\\'hitType\\': \\'event\\', \\'category\\': \\'ReadMore\\', \\'action\\': \\'clicked\\', \\'label\\': \\'Moneycontrol\\' });\" target=\"_blank\" href=\"https://www.moneycontrol.com/news/business/mobile-industry-to-play-key-role-in-indias-vision-for-5-trillion-economy-by-2025-kumar-mangalam-birla-7803101.html/amp?utm_campaign=fullarticle&amp;utm_medium=referral&amp;utm_source=inshorts \">Moneycontrol</a></div>\\n    </div>\\n  \\n\\n</div>\\n\\n  \\n</div>\\n\\n\\n\\n\\n<div class=\"\">\\n<div class=\"news-card z-depth-1\" itemscope itemtype=\"http://schema.org/NewsArticle\">\\n  <span content=\"\" itemscope itemprop=\"mainEntityOfPage\" itemType=\"https://schema.org/WebPage\" itemid=\"https://inshorts.com/en/news/meta-to-ban-myanmar-armylinked-businesses-after-rohingya-sue-facebook-1638964042958\"></span>\\n  <span itemtype=\"https://schema.org/Person\" itemscope=\"itemscope\" itemprop=\"author\">\\n    <span itemprop=\"name\" content=\"Aishwarya Awasthi\"></span>\\n  </span>\\n  <span itemprop=\"description\" content=\"Meta to ban Myanmar army-linked businesses after Rohingya sue Facebook\"></span>\\n  <span itemprop=\"image\" itemscope itemtype=\"https://schema.org/ImageObject\">\\n    <meta itemprop=\"url\" content=\"https://static.inshorts.com/inshorts/images/v1/variants/jpg/m/2021/12_dec/8_wed/img_1638962692543_911.jpg?\"></meta>\\n    <meta itemprop=\"width\" content=\"864\"></meta>\\n    <meta itemprop=\"height\" content=\"483\"></meta>\\n  </span>\\n  <span itemtype=\"https://schema.org/Organization\" itemscope=\"itemscope\" itemprop=\"publisher\">\\n    <span itemprop=\"url\" content=\"https://inshorts.com/\"></span>\\n    <span itemprop=\"name\" content=\"Inshorts\"></span>\\n    <span itemprop=\"logo\" itemscope itemtype=\"https://schema.org/ImageObject\">\\n      <span itemprop=\"url\" content=\"https://assets.inshorts.com/inshorts/images/v1/variants/jpg/m/2018/11_nov/21_wed/img_1542823931298_497.jpg\"></span>\\n      <meta itemprop=\"width\" content=\"400\"></meta>\\n      <meta itemprop=\"height\" content=\"60\"></meta>\\n    </span>\\n  </span>\\n  <div class=\"news-card-image\" style= \"background-image: url(\\'https://static.inshorts.com/inshorts/images/v1/variants/jpg/m/2021/12_dec/8_wed/img_1638962692543_911.jpg?\\')\">\\n  </div>\\n  <div class=\"news-card-title news-right-box\">\\n    <a class=\"clickable\" onclick=\"track_GA_Mixpanel({\\'hitType\\': \\'event\\', \\'category\\': \\'TitleOfNews\\', \\'action\\': \\'clicked\\', \\'label\\': \\'Meta%20to%20ban%20Myanmar%20army-linked%20businesses%20after%20Rohingya%20sue%20Facebook)\\' });\"  style=\"color:#44444d!important\" href=\"/en/news/meta-to-ban-myanmar-armylinked-businesses-after-rohingya-sue-facebook-1638964042958\">\\n      <span itemprop=\"headline\">Meta to ban Myanmar army-linked businesses after Rohingya sue Facebook</span>\\n    </a>\\n    <div class=\"news-card-author-time news-card-author-time-in-title\">\\n      <a href=\"/prev/en/news/meta-to-ban-myanmar-armylinked-businesses-after-rohingya-sue-facebook-1638964042958\"><span class=\"short\">short</span></a> by <span class=\"author\">Aishwarya Awasthi</span> / \\n      <span class=\"time\" itemprop=\"datePublished\" content=\"2021-12-08T11:47:22.000Z\">05:17 pm</span> on <span clas=\"date\">08 Dec 2021,Wednesday</span>\\n    </div>\\n  </div>\\n  <div class=\"news-card-content news-right-box\">\\n    <div itemprop=\"articleBody\">Meta has said it will ban all Myanmar military-linked businesses from having a presence on its platforms. The action is based on &#34;extensive documentation by the international community and civil society of these businesses&#39; direct role in funding the Tatmadaw&#34;, Meta said. This comes after Rohingya refugees sued Facebook for $150 billion alleging it helped foster Myanmar genocide.</div>\\n    <div class=\"news-card-author-time news-card-author-time-in-content\">\\n      <a href=\"/prev/en/news/meta-to-ban-myanmar-armylinked-businesses-after-rohingya-sue-facebook-1638964042958\"><span class=\"short\">short</span></a> by <span class=\"author\">Aishwarya Awasthi</span> / \\n      <span class=\"time\" itemprop=\"dateModified\" content=\"2021-12-08T11:47:22.000Z\" >05:17 pm</span> on <span class=\"date\">08 Dec</span>\\n    </div>\\n  </div>\\n  \\n    <div class=\"news-card-footer news-right-box\">\\n      <div class=\"read-more\">read more at <a class=\"source\" onclick=\"track_GA_Mixpanel({\\'hitType\\': \\'event\\', \\'category\\': \\'ReadMore\\', \\'action\\': \\'clicked\\', \\'label\\': \\'Reuters\\' });\" target=\"_blank\" href=\"https://www.reuters.com/world/asia-pacific/meta-ban-all-myanmar-army-controlled-businesses-platforms-2021-12-08/?utm_campaign=fullarticle&amp;utm_medium=referral&amp;utm_source=inshorts \">Reuters</a></div>\\n    </div>\\n  \\n\\n</div>\\n\\n  \\n</div>\\n\\n\\n\\n\\n<div class=\"\">\\n<div class=\"news-card z-depth-1\" itemscope itemtype=\"http://schema.org/NewsArticle\">\\n  <span content=\"\" itemscope itemprop=\"mainEntityOfPage\" itemType=\"https://schema.org/WebPage\" itemid=\"https://inshorts.com/en/news/retail-portion-of-mapmyindias-\\xe2\\x82\\xb91040cr-ipo-fully-booked-in-an-hour-of-opening-1639034366166\"></span>\\n  <span itemtype=\"https://schema.org/Person\" itemscope=\"itemscope\" itemprop=\"author\">\\n    <span itemprop=\"name\" content=\"Krishna Raj\"></span>\\n  </span>\\n  <span itemprop=\"description\" content=\"Retail portion of MapmyIndia&#39;s \\xe2\\x82\\xb91,040-cr IPO fully booked in an hour of opening\"></span>\\n  <span itemprop=\"image\" itemscope itemtype=\"https://schema.org/ImageObject\">\\n    <meta itemprop=\"url\" content=\"https://static.inshorts.com/inshorts/images/v1/variants/jpg/m/2021/12_dec/9_thu/img_1639032691698_783.jpg?\"></meta>\\n    <meta itemprop=\"width\" content=\"864\"></meta>\\n    <meta itemprop=\"height\" content=\"483\"></meta>\\n  </span>\\n  <span itemtype=\"https://schema.org/Organization\" itemscope=\"itemscope\" itemprop=\"publisher\">\\n    <span itemprop=\"url\" content=\"https://inshorts.com/\"></span>\\n    <span itemprop=\"name\" content=\"Inshorts\"></span>\\n    <span itemprop=\"logo\" itemscope itemtype=\"https://schema.org/ImageObject\">\\n      <span itemprop=\"url\" content=\"https://assets.inshorts.com/inshorts/images/v1/variants/jpg/m/2018/11_nov/21_wed/img_1542823931298_497.jpg\"></span>\\n      <meta itemprop=\"width\" content=\"400\"></meta>\\n      <meta itemprop=\"height\" content=\"60\"></meta>\\n    </span>\\n  </span>\\n  <div class=\"news-card-image\" style= \"background-image: url(\\'https://static.inshorts.com/inshorts/images/v1/variants/jpg/m/2021/12_dec/9_thu/img_1639032691698_783.jpg?\\')\">\\n  </div>\\n  <div class=\"news-card-title news-right-box\">\\n    <a class=\"clickable\" onclick=\"track_GA_Mixpanel({\\'hitType\\': \\'event\\', \\'category\\': \\'TitleOfNews\\', \\'action\\': \\'clicked\\', \\'label\\': \\'Retail%20portion%20of%20MapmyIndia&#39;s%20%E2%82%B91%2C040-cr%20IPO%20fully%20booked%20in%20an%20hour%20of%20opening)\\' });\"  style=\"color:#44444d!important\" href=\"/en/news/retail-portion-of-mapmyindias-\\xe2\\x82\\xb91040cr-ipo-fully-booked-in-an-hour-of-opening-1639034366166\">\\n      <span itemprop=\"headline\">Retail portion of MapmyIndia&#39;s \\xe2\\x82\\xb91,040-cr IPO fully booked in an hour of opening</span>\\n    </a>\\n    <div class=\"news-card-author-time news-card-author-time-in-title\">\\n      <a href=\"/prev/en/news/retail-portion-of-mapmyindias-\\xe2\\x82\\xb91040cr-ipo-fully-booked-in-an-hour-of-opening-1639034366166\"><span class=\"short\">short</span></a> by <span class=\"author\">Krishna Raj</span> / \\n      <span class=\"time\" itemprop=\"datePublished\" content=\"2021-12-09T07:19:26.000Z\">12:49 pm</span> on <span clas=\"date\">09 Dec 2021,Thursday</span>\\n    </div>\\n  </div>\\n  <div class=\"news-card-content news-right-box\">\\n    <div itemprop=\"articleBody\">The retail portion of MapMyIndia&#39;s \\xe2\\x82\\xb91,040-crore initial public offering (IPO) was fully subscribed within an hour of opening on Thursday. Meanwhile, its overall subscription stood at 0.74 times as of 12 pm. The company, which had mobilised \\xe2\\x82\\xb9311.88 crore from 34 anchor investors ahead of the IPO, has fixed price band of \\xe2\\x82\\xb91,000-1,033 per share for the issue.</div>\\n    <div class=\"news-card-author-time news-card-author-time-in-content\">\\n      <a href=\"/prev/en/news/retail-portion-of-mapmyindias-\\xe2\\x82\\xb91040cr-ipo-fully-booked-in-an-hour-of-opening-1639034366166\"><span class=\"short\">short</span></a> by <span class=\"author\">Krishna Raj</span> / \\n      <span class=\"time\" itemprop=\"dateModified\" content=\"2021-12-09T07:19:26.000Z\" >12:49 pm</span> on <span class=\"date\">09 Dec</span>\\n    </div>\\n  </div>\\n  \\n    <div class=\"news-card-footer news-right-box\">\\n      <div class=\"read-more\">read more at <a class=\"source\" onclick=\"track_GA_Mixpanel({\\'hitType\\': \\'event\\', \\'category\\': \\'ReadMore\\', \\'action\\': \\'clicked\\', \\'label\\': \\'Moneycontrol\\' });\" target=\"_blank\" href=\"https://www.moneycontrol.com/news/business/ipo/mapmyindias-rs-1040-crore-ipo-subscribed-26-on-first-day-of-bidding-7805671.html/amp?utm_campaign=fullarticle&amp;utm_medium=referral&amp;utm_source=inshorts \">Moneycontrol</a></div>\\n    </div>\\n  \\n\\n</div>\\n\\n  \\n</div>\\n\\n\\n\\n\\n  \\n    <div id=\\'div-gpt-ad-1536748319959-ahyddckl-1\\' style=\\'height:250px; width:900px; margin: auto; margin-bottom: 2%;\\'>\\n      <script>\\n        googletag.cmd.push(function() { \\n          //News banner for desktop\\n          var slotIdWeb = \\'div-gpt-ad-1536748319959-ahyddckl-1\\';\\n          var slot = googletag.defineSlot(\\'/142919096/inshorts_website_900x250\\', [900, 250], slotIdWeb)\\n          .addService(googletag.pubads())\\n          .setCollapseEmptyDiv(true,true);\\n\\n          googletag.display(\\'div-gpt-ad-1536748319959-ahyddckl-1\\');\\n          googletag.pubads().refresh([slot]);\\n        });\\n      </script>\\n    </div>\\n  \\n\\n<div class=\"\">\\n<div class=\"news-card z-depth-1\" itemscope itemtype=\"http://schema.org/NewsArticle\">\\n  <span content=\"\" itemscope itemprop=\"mainEntityOfPage\" itemType=\"https://schema.org/WebPage\" itemid=\"https://inshorts.com/en/news/instagram-to-bring-back-chronological-feed-option-in-2022-head-1639027828939\"></span>\\n  <span itemtype=\"https://schema.org/Person\" itemscope=\"itemscope\" itemprop=\"author\">\\n    <span itemprop=\"name\" content=\"Aishwarya Awasthi\"></span>\\n  </span>\\n  <span itemprop=\"description\" content=\"Instagram to bring back chronological feed option in 2022: Head\"></span>\\n  <span itemprop=\"image\" itemscope itemtype=\"https://schema.org/ImageObject\">\\n    <meta itemprop=\"url\" content=\"https://static.inshorts.com/inshorts/images/v1/variants/jpg/m/2021/12_dec/9_thu/img_1639024591131_743.jpg?\"></meta>\\n    <meta itemprop=\"width\" content=\"864\"></meta>\\n    <meta itemprop=\"height\" content=\"483\"></meta>\\n  </span>\\n  <span itemtype=\"https://schema.org/Organization\" itemscope=\"itemscope\" itemprop=\"publisher\">\\n    <span itemprop=\"url\" content=\"https://inshorts.com/\"></span>\\n    <span itemprop=\"name\" content=\"Inshorts\"></span>\\n    <span itemprop=\"logo\" itemscope itemtype=\"https://schema.org/ImageObject\">\\n      <span itemprop=\"url\" content=\"https://assets.inshorts.com/inshorts/images/v1/variants/jpg/m/2018/11_nov/21_wed/img_1542823931298_497.jpg\"></span>\\n      <meta itemprop=\"width\" content=\"400\"></meta>\\n      <meta itemprop=\"height\" content=\"60\"></meta>\\n    </span>\\n  </span>\\n  <div class=\"news-card-image\" style= \"background-image: url(\\'https://static.inshorts.com/inshorts/images/v1/variants/jpg/m/2021/12_dec/9_thu/img_1639024591131_743.jpg?\\')\">\\n  </div>\\n  <div class=\"news-card-title news-right-box\">\\n    <a class=\"clickable\" onclick=\"track_GA_Mixpanel({\\'hitType\\': \\'event\\', \\'category\\': \\'TitleOfNews\\', \\'action\\': \\'clicked\\', \\'label\\': \\'Instagram%20to%20bring%20back%20chronological%20feed%20option%20in%202022%3A%20Head)\\' });\"  style=\"color:#44444d!important\" href=\"/en/news/instagram-to-bring-back-chronological-feed-option-in-2022-head-1639027828939\">\\n      <span itemprop=\"headline\">Instagram to bring back chronological feed option in 2022: Head</span>\\n    </a>\\n    <div class=\"news-card-author-time news-card-author-time-in-title\">\\n      <a href=\"/prev/en/news/instagram-to-bring-back-chronological-feed-option-in-2022-head-1639027828939\"><span class=\"short\">short</span></a> by <span class=\"author\">Aishwarya Awasthi</span> / \\n      <span class=\"time\" itemprop=\"datePublished\" content=\"2021-12-09T05:30:28.000Z\">11:00 am</span> on <span clas=\"date\">09 Dec 2021,Thursday</span>\\n    </div>\\n  </div>\\n  <div class=\"news-card-content news-right-box\">\\n    <div itemprop=\"articleBody\">Instagram head Adam Mosseri during his testimony before US Senate said the platform is aiming to launch version of the app in 2022 that would bring back a chronological feed option for users. Instagram uses algorithmic ranking to personalise a feed based on user preferences. It introduced algorithmically sorted feed in 2016, and then updated it to include recommended posts. </div>\\n    <div class=\"news-card-author-time news-card-author-time-in-content\">\\n      <a href=\"/prev/en/news/instagram-to-bring-back-chronological-feed-option-in-2022-head-1639027828939\"><span class=\"short\">short</span></a> by <span class=\"author\">Aishwarya Awasthi</span> / \\n      <span class=\"time\" itemprop=\"dateModified\" content=\"2021-12-09T05:30:28.000Z\" >11:00 am</span> on <span class=\"date\">09 Dec</span>\\n    </div>\\n  </div>\\n  \\n    <div class=\"news-card-footer news-right-box\">\\n      <div class=\"read-more\">read more at <a class=\"source\" onclick=\"track_GA_Mixpanel({\\'hitType\\': \\'event\\', \\'category\\': \\'ReadMore\\', \\'action\\': \\'clicked\\', \\'label\\': \\'Reuters\\' });\" target=\"_blank\" href=\"https://www.reuters.com/legal/litigation/instagram-head-calls-an-industry-body-help-keep-kids-safe-online-2021-12-08/?utm_campaign=fullarticle&amp;utm_medium=referral&amp;utm_source=inshorts \">Reuters</a></div>\\n    </div>\\n  \\n\\n</div>\\n\\n  \\n</div>\\n\\n\\n\\n\\n<div class=\"\">\\n<div class=\"news-card z-depth-1\" itemscope itemtype=\"http://schema.org/NewsArticle\">\\n  <span content=\"\" itemscope itemprop=\"mainEntityOfPage\" itemType=\"https://schema.org/WebPage\" itemid=\"https://inshorts.com/en/news/rbi-could-lose-control-over-money-supply-if-crypto-is-allowed-exgovernor-1639042744055\"></span>\\n  <span itemtype=\"https://schema.org/Person\" itemscope=\"itemscope\" itemprop=\"author\">\\n    <span itemprop=\"name\" content=\"Krishna Raj\"></span>\\n  </span>\\n  <span itemprop=\"description\" content=\"RBI could lose control over money supply if crypto is allowed: Ex-Governor\"></span>\\n  <span itemprop=\"image\" itemscope itemtype=\"https://schema.org/ImageObject\">\\n    <meta itemprop=\"url\" content=\"https://static.inshorts.com/inshorts/images/v1/variants/jpg/m/2021/12_dec/9_thu/img_1639040511532_709.jpg?\"></meta>\\n    <meta itemprop=\"width\" content=\"864\"></meta>\\n    <meta itemprop=\"height\" content=\"483\"></meta>\\n  </span>\\n  <span itemtype=\"https://schema.org/Organization\" itemscope=\"itemscope\" itemprop=\"publisher\">\\n    <span itemprop=\"url\" content=\"https://inshorts.com/\"></span>\\n    <span itemprop=\"name\" content=\"Inshorts\"></span>\\n    <span itemprop=\"logo\" itemscope itemtype=\"https://schema.org/ImageObject\">\\n      <span itemprop=\"url\" content=\"https://assets.inshorts.com/inshorts/images/v1/variants/jpg/m/2018/11_nov/21_wed/img_1542823931298_497.jpg\"></span>\\n      <meta itemprop=\"width\" content=\"400\"></meta>\\n      <meta itemprop=\"height\" content=\"60\"></meta>\\n    </span>\\n  </span>\\n  <div class=\"news-card-image\" style= \"background-image: url(\\'https://static.inshorts.com/inshorts/images/v1/variants/jpg/m/2021/12_dec/9_thu/img_1639040511532_709.jpg?\\')\">\\n  </div>\\n  <div class=\"news-card-title news-right-box\">\\n    <a class=\"clickable\" onclick=\"track_GA_Mixpanel({\\'hitType\\': \\'event\\', \\'category\\': \\'TitleOfNews\\', \\'action\\': \\'clicked\\', \\'label\\': \\'RBI%20could%20lose%20control%20over%20money%20supply%20if%20crypto%20is%20allowed%3A%20Ex-Governor)\\' });\"  style=\"color:#44444d!important\" href=\"/en/news/rbi-could-lose-control-over-money-supply-if-crypto-is-allowed-exgovernor-1639042744055\">\\n      <span itemprop=\"headline\">RBI could lose control over money supply if crypto is allowed: Ex-Governor</span>\\n    </a>\\n    <div class=\"news-card-author-time news-card-author-time-in-title\">\\n      <a href=\"/prev/en/news/rbi-could-lose-control-over-money-supply-if-crypto-is-allowed-exgovernor-1639042744055\"><span class=\"short\">short</span></a> by <span class=\"author\">Krishna Raj</span> / \\n      <span class=\"time\" itemprop=\"datePublished\" content=\"2021-12-09T09:39:04.000Z\">03:09 pm</span> on <span clas=\"date\">09 Dec 2021,Thursday</span>\\n    </div>\\n  </div>\\n  <div class=\"news-card-content news-right-box\">\\n    <div itemprop=\"articleBody\">Former RBI Governor Duvvuri Subbarao has said the central bank could lose control over money supply and inflation management if cryptocurrency is allowed in India. &#34;There are also concerns that crypto will disrupt the monetary policy,&#34; he added. Rao also said that India&#39;s case for issuing a central bank digital currency may not be strong as there are capital controls.</div>\\n    <div class=\"news-card-author-time news-card-author-time-in-content\">\\n      <a href=\"/prev/en/news/rbi-could-lose-control-over-money-supply-if-crypto-is-allowed-exgovernor-1639042744055\"><span class=\"short\">short</span></a> by <span class=\"author\">Krishna Raj</span> / \\n      <span class=\"time\" itemprop=\"dateModified\" content=\"2021-12-09T09:39:04.000Z\" >03:09 pm</span> on <span class=\"date\">09 Dec</span>\\n    </div>\\n  </div>\\n  \\n    <div class=\"news-card-footer news-right-box\">\\n      <div class=\"read-more\">read more at <a class=\"source\" onclick=\"track_GA_Mixpanel({\\'hitType\\': \\'event\\', \\'category\\': \\'ReadMore\\', \\'action\\': \\'clicked\\', \\'label\\': \\'Moneycontrol\\' });\" target=\"_blank\" href=\"https://www.moneycontrol.com/news/business/economy/allowing-cryptocurrency-may-erode-central-banks-control-over-money-supply-former-rbi-guv-duvvuri-subbarao-7807581.html/amp?utm_campaign=fullarticle&amp;utm_medium=referral&amp;utm_source=inshorts \">Moneycontrol</a></div>\\n    </div>\\n  \\n\\n</div>\\n\\n  \\n</div>\\n\\n\\n\\n\\n<div class=\"\">\\n<div class=\"news-card z-depth-1\" itemscope itemtype=\"http://schema.org/NewsArticle\">\\n  <span content=\"\" itemscope itemprop=\"mainEntityOfPage\" itemType=\"https://schema.org/WebPage\" itemid=\"https://inshorts.com/en/news/twitter-ceo-agrawal-was-approved-as-ceo-candidate-last-yr-report-1638963725667\"></span>\\n  <span itemtype=\"https://schema.org/Person\" itemscope=\"itemscope\" itemprop=\"author\">\\n    <span itemprop=\"name\" content=\"Aishwarya Awasthi\"></span>\\n  </span>\\n  <span itemprop=\"description\" content=\"Twitter CEO Agrawal was approved as CEO candidate last yr: Report\"></span>\\n  <span itemprop=\"image\" itemscope itemtype=\"https://schema.org/ImageObject\">\\n    <meta itemprop=\"url\" content=\"https://static.inshorts.com/inshorts/images/v1/variants/jpg/m/2021/12_dec/8_wed/img_1638962041767_266.jpg?\"></meta>\\n    <meta itemprop=\"width\" content=\"864\"></meta>\\n    <meta itemprop=\"height\" content=\"483\"></meta>\\n  </span>\\n  <span itemtype=\"https://schema.org/Organization\" itemscope=\"itemscope\" itemprop=\"publisher\">\\n    <span itemprop=\"url\" content=\"https://inshorts.com/\"></span>\\n    <span itemprop=\"name\" content=\"Inshorts\"></span>\\n    <span itemprop=\"logo\" itemscope itemtype=\"https://schema.org/ImageObject\">\\n      <span itemprop=\"url\" content=\"https://assets.inshorts.com/inshorts/images/v1/variants/jpg/m/2018/11_nov/21_wed/img_1542823931298_497.jpg\"></span>\\n      <meta itemprop=\"width\" content=\"400\"></meta>\\n      <meta itemprop=\"height\" content=\"60\"></meta>\\n    </span>\\n  </span>\\n  <div class=\"news-card-image\" style= \"background-image: url(\\'https://static.inshorts.com/inshorts/images/v1/variants/jpg/m/2021/12_dec/8_wed/img_1638962041767_266.jpg?\\')\">\\n  </div>\\n  <div class=\"news-card-title news-right-box\">\\n    <a class=\"clickable\" onclick=\"track_GA_Mixpanel({\\'hitType\\': \\'event\\', \\'category\\': \\'TitleOfNews\\', \\'action\\': \\'clicked\\', \\'label\\': \\'Twitter%20CEO%20Agrawal%20was%20approved%20as%20CEO%20candidate%20last%20yr%3A%20Report)\\' });\"  style=\"color:#44444d!important\" href=\"/en/news/twitter-ceo-agrawal-was-approved-as-ceo-candidate-last-yr-report-1638963725667\">\\n      <span itemprop=\"headline\">Twitter CEO Agrawal was approved as CEO candidate last yr: Report</span>\\n    </a>\\n    <div class=\"news-card-author-time news-card-author-time-in-title\">\\n      <a href=\"/prev/en/news/twitter-ceo-agrawal-was-approved-as-ceo-candidate-last-yr-report-1638963725667\"><span class=\"short\">short</span></a> by <span class=\"author\">Aishwarya Awasthi</span> / \\n      <span class=\"time\" itemprop=\"datePublished\" content=\"2021-12-08T11:42:05.000Z\">05:12 pm</span> on <span clas=\"date\">08 Dec 2021,Wednesday</span>\\n    </div>\\n  </div>\\n  <div class=\"news-card-content news-right-box\">\\n    <div itemprop=\"articleBody\">Twitter CEO Parag Agrawal was approved as a potential candidate for replacing former CEO Jack Dorsey last year and was at the top of the list of internal candidates considered, Bloomberg reported. However, sources said the early iterations of the plan for a leadership shift didn&#39;t guarantee Agrawal the job. Twitter&#39;s board briefly considered few external candidates for the role.</div>\\n    <div class=\"news-card-author-time news-card-author-time-in-content\">\\n      <a href=\"/prev/en/news/twitter-ceo-agrawal-was-approved-as-ceo-candidate-last-yr-report-1638963725667\"><span class=\"short\">short</span></a> by <span class=\"author\">Aishwarya Awasthi</span> / \\n      <span class=\"time\" itemprop=\"dateModified\" content=\"2021-12-08T11:42:05.000Z\" >05:12 pm</span> on <span class=\"date\">08 Dec</span>\\n    </div>\\n  </div>\\n  \\n    <div class=\"news-card-footer news-right-box\">\\n      <div class=\"read-more\">read more at <a class=\"source\" onclick=\"track_GA_Mixpanel({\\'hitType\\': \\'event\\', \\'category\\': \\'ReadMore\\', \\'action\\': \\'clicked\\', \\'label\\': \\'BloombergQuint\\' });\" target=\"_blank\" href=\"https://www.bloombergquint.com/business/dorsey-s-successor-at-twitter-agrawal-got-nod-for-next-ceo-a-year-ago?utm_campaign=fullarticle&amp;utm_medium=referral&amp;utm_source=inshorts \">BloombergQuint</a></div>\\n    </div>\\n  \\n\\n</div>\\n\\n  \\n</div>\\n\\n      </div>\\n      \\n      \\n      <div class=\"load-more-wrapper\">\\n        <div id=\"load-more-btn\" onclick=\"loadMoreNews()\" class=\"clickable unselectable load-more z-depth-1 hoverable\">Load More</div>\\n        <div id=\"load-more-gif\" style=\"display:none;\" class=\"clickable unselectable load-more\"><img id=\"load-more-gif\" src=\"https://assets.inshorts.com/website_assets/images/ajax-loader.gif\"/></div>\\n      </div>\\n      \\n\\n      \\n      <div class=\"my-red app-download-pane  hide-on-large-only\">\\n        <div class=\"container\">\\n          <div class=\"row\">\\n            <div class=\"col s12 center\" style=\"color:white;font-weight: 300;font-size:14px;margin-top: 28px;margin-bottom: 18px;\">\\n              For the best experience use <a target=\"_blank\" href=\"/mobile\" style=\"color:white;appearance: none;font-weight: 500;\">inshorts</a> app on your smartphone\\n            </div>\\n            \\n            \\n          </div>\\n        </div>\\n      </div>\\n      \\n\\n    </div>\\n  </div>\\n  <!-- BODY END -->\\n  <footer class=\"page-footer teals\"> \\n  <div class=\"container\">\\n    <div class=\"row\" style=\"margin-bottom: 0px; padding-bottom: 5px;\">\\n\\n      <div class=\"col offset-l3 l3 m4 s12 right social-admin\">\\n        <div class=\"social-share\"><a onclick=\"track_GA_Mixpanel({\\'hitType\\': \\'event\\', \\'category\\': \\'LinkToFaceBookPage\\', \\'action\\': \\'clicked\\', \\'label\\': \\'RedirectedToFaceBook\\' });\" target=\"_blank\" href=\"https://www.facebook.com/inshortsapp\"><img src=\"https://assets.inshorts.com/website_assets/images/facebook.png\"/></a></div>\\n        <div class=\"social-share\"><a onclick=\"track_GA_Mixpanel({\\'hitType\\': \\'event\\', \\'category\\': \\'LinkToTwitterPage\\', \\'action\\': \\'clicked\\', \\'label\\': \\'RedirectedToTwitter\\' });\" target=\"_blank\" href=\"https://twitter.com/inshorts\"><img src=\"https://assets.inshorts.com/website_assets/images/twitter.png\"/></a></div>\\n        <div class=\"social-share\"><a onclick=\"track_GA_Mixpanel({\\'hitType\\': \\'event\\', \\'category\\': \\'LinkToLinkedinPage\\', \\'action\\': \\'clicked\\', \\'label\\': \\'RedirectedToLinkedin\\' });\" target=\"_blank\" href=\"https://www.linkedin.com/company/news-in-shorts\"><img src=\"https://assets.inshorts.com/website_assets/images/linkedin.png\"/></a></div>\\n      </div>\\n\\n\\n      <div class=\"col m4 l3 s6 footer-left-pane\">\\n        <div class=\"right\"><img width=\"160px\" height=\"48px\" src=\"https://assets.inshorts.com/website_assets/images/logo_footer.png\"/></div>\\n\\n        <div class=\"copy-text\" >\\n          <span><span style=\"color:#cfcfcf;font-family: \\'Conv_ClanPro-Bold\\'\">inshorts</span> medialabs pvt. ltd.</span><br/>\\n          &copy;<span style=\"font-size:12px\">COPYRIGHT 2021</span>\\n        </div>\\n      </div>\\n      <div class=\"col m4 l3 s6 footer-right-pane\">\\n        <div id=\"contactUsBtn\" class=\"left clickable\" style=\"margin-top: -5px;\"><img width=\"132px\" height=\"48px\" src=\"https://assets.inshorts.com/website_assets/images/contact_icon.png\"/></div>              \\n        <div class=\"terms-text\">\\n          <a class=\"tnc\" style=\"color: #fff;\" onclick=\"track_GA_Mixpanel({\\'hitType\\': \\'event\\', \\'category\\': \\'LinkToTermsAndConditionsAndPP\\', \\'action\\': \\'clicked\\', \\'label\\': \\'RedirectedToTermsAndConditions\\' });\" target=\"_blank\" href=\"/tnc\"><span>Terms &amp; conditions</span><br/>\\n          <span>Privacy Policies</span>\\n          </a>\\n        </div>\\n      </div>\\n    </div>\\n  </div>\\n  <div id=\"contactUsModal\" class=\"modal_contact row\">\\n    <!-- Modal content -->\\n      <div class=\"modal-content col l4 m4 s8 offset-s2 offset-l4 offset-m4\">\\n        <span class=\"close\">&times;</span>\\n        <div class=\"contact\">\\n          <a target=\"_blank\" href=\"mailto:careers@inshorts.com?subject=Inshorts%20website%20contact%20form\">\\n            <button id=\"myBtn\">Contact Hiring Team</button>\\n          </a>\\n        </div>\\n        <div class=\"contact\">\\n          <a target=\"_blank\" href=\"mailto:Admin@inshorts.com?subject=Inshorts%20website%20contact%20form\">\\n            <button id=\"myBtn\">Contact Admin Team</button>\\n          </a>\\n        </div>\\n        <div class=\"contact\">\\n          <a target=\"_blank\" href=\"mailto:Marketing@inshorts.com?subject=Inshorts%20website%20contact%20form\">\\n            <button id=\"myBtn\">Contact Marketing Team</button>\\n          </a>\\n        </div>\\n        <div class=\"contact\">\\n          <a target=\"_blank\" href=\"mailto:Editorial@inshorts.com?subject=Inshorts%20website%20contact%20form\">\\n            <button id=\"myBtn\">Contact Editorial Team</button>\\n          </a>\\n        </div>\\n        <div class=\"contact\">\\n          <a target=\"_blank\" href=\"mailto:Sales@inshorts.com?subject=Inshorts%20website%20contact%20form\">\\n            <button id=\"myBtn\">Contact Sales Team</button>\\n          </a>\\n        </div>\\n        <div class=\"contact\">\\n          <a target=\"_blank\" href=\"mailto:Contact@inshorts.com?subject=Inshorts%20website%20contact%20form\">\\n            <button id=\"myBtn\">Contact For Any Other Query</button>\\n          </a>\\n        </div>\\n      </div>\\n  </div>\\n</footer>\\n<script>\\nvar modal = document.getElementById(\\'contactUsModal\\');\\n\\n// Get the button that opens the modal\\nvar btn = document.getElementById(\"contactUsBtn\");\\n\\n// Get the <span> element that closes the modal\\nvar span = document.getElementsByClassName(\"close\")[0];\\n\\n// When the user clicks on the button, open the modal \\nbtn.onclick = function() {\\n    modal.style.display = \"block\";\\n}\\n\\n// When the user clicks on <span> (x), close the modal\\nspan.onclick = function() {\\n    modal.style.display = \"none\";\\n}\\n\\n// When the user clicks anywhere outside of the modal, close it\\nwindow.onclick = function(event) {\\n    if (event.target == modal) {\\n        modal.style.display = \"none\";\\n    }\\n}\\n</script>\\n\\n\\n  <!-- Eliminate render-blocking JavaScript and CSS in above-the-fold content -->\\n  <script src=\"https://ajax.googleapis.com/ajax/libs/jquery/1.8/jquery.min.js\"></script>\\n  <script src=\"https://cdnjs.cloudflare.com/ajax/libs/materialize/0.97.0/js/materialize.min.js\"></script>\\n  \\n  <script type=\"text/javascript\" src=\"/dist/scripts/index.js\"></script>\\n  <script type=\"text/javascript\" src=\"/dist/scripts/read.js\"></script>\\n  <script src=\"/dist/scripts/jquery.scrolldepth.min.js\"></script>\\n  <script type=\"text/javascript\">\\n\\n    var min_news_id = \"qpw6txiz-1\";\\n    function loadMoreNews(){\\n      $(\"#load-more-btn\").hide();\\n      $(\"#load-more-gif\").show();\\n      $.post(\"/en/ajax/more_news\",{\\'category\\':\\'technology\\',\\'news_offset\\':min_news_id},function(data){\\n          data = JSON.parse(data);\\n          min_news_id = data.min_news_id||min_news_id;\\n          $(\".card-stack\").append(data.html);\\n      })\\n      .fail(function(){alert(\"Error : unable to load more news\");})\\n      .always(function(){$(\"#load-more-btn\").show();$(\"#load-more-gif\").hide();});\\n    }\\n    jQuery.scrollDepth();\\n  </script>\\n\\n  <!-- Eliminate render-blocking JavaScript and CSS in above-the-fold content -->\\n\\n</body>\\n</html>\\n'"
      ]
     },
     "execution_count": 7,
     "metadata": {},
     "output_type": "execute_result"
    }
   ],
   "source": [
    "data = requests.get(url)\n",
    "data.content"
   ]
  },
  {
   "cell_type": "markdown",
   "metadata": {
    "id": "nAygEzwOxzuk"
   },
   "source": [
    "#### 2.2. Fetch the news-article , news-headline & news-category of the url"
   ]
  },
  {
   "cell_type": "code",
   "execution_count": 8,
   "metadata": {
    "id": "PJTuzKsx1bGp"
   },
   "outputs": [],
   "source": [
    "soup = BeautifulSoup(data.content, 'html.parser')"
   ]
  },
  {
   "cell_type": "code",
   "execution_count": 9,
   "metadata": {
    "colab": {
     "base_uri": "https://localhost:8080/"
    },
    "id": "KiNM8PXirYp2",
    "outputId": "a2f0947a-fb08-44da-8aa7-4a2ce91ed667"
   },
   "outputs": [
    {
     "data": {
      "text/plain": [
       "[{'news_headline': 'Google releases list of most searched personalities in India in 2021',\n",
       "  'news_article': \"Google has released the list of most searched personalities in India in 2021, with Olympic gold medal-winning javelin thrower Neeraj Chopra topping the list. He is followed by Shah Rukh Khan's son Aryan Khan, who was in the news over his arrest in the Mumbai cruise drugs case. Shehnaaz Gill, Raj Kundra and Elon Musk completed the top five.\",\n",
       "  'news_category': ['https:', '', 'inshorts.com', 'en', 'read', 'technology']},\n",
       " {'news_headline': \"Kohli's tweet announcing daughter's birth named most liked tweet in India in 2021\",\n",
       "  'news_article': \"Virat Kohli's tweet announcing the birth of his daughter in January has been named the most liked tweet in India in 2021. The tweet has received over 5,38,000 likes so far. Last year, Kohli's tweet announcing his wife Anushka Sharma's pregnancy had become the most liked tweet of 2020. Kohli's daughter Vamika was born on January 11.\",\n",
       "  'news_category': ['https:', '', 'inshorts.com', 'en', 'read', 'technology']},\n",
       " {'news_headline': 'Twitter India lists most tweeted hashtags of 2021, #Covid19 tops list',\n",
       "  'news_article': \"Twitter on Thursday released the list of the top 10 hashtags that were tweeted in India in 2021 and #Covid19 emerged as the most tweeted hashtag. It was followed by #FarmersProtest, #TeamIndia, #Tokyo2020,  #IPL2021, #IndvsEng and #Diwali. The hashtags for Tamil movie 'Master', world's largest cryptocurrency 'Bitcoin' and 'Permission to Dance', a song by BTS, were also among the list. \",\n",
       "  'news_category': ['https:', '', 'inshorts.com', 'en', 'read', 'technology']},\n",
       " {'news_headline': 'UPI limit for investing in IPOs, government securities raised to ₹5 lakh: RBI',\n",
       "  'news_article': \"The RBI announced that it's enhancing the transaction limit of UPI payments for investment in RBI Retail Direct Scheme for government securities (G-Secs) and IPOs from the current limit of ₹2 lakh to ₹5 lakh. To deepen digital payments further, the RBI will launch UPI-based payment products for feature phone users, Governor Shaktikanta Das said while announcing the monetary policy. \",\n",
       "  'news_category': ['https:', '', 'inshorts.com', 'en', 'read', 'technology']},\n",
       " {'news_headline': \"Ambani lists 5 ideas for connectivity, says '5G rollout should be national priority'\",\n",
       "  'news_article': 'Speaking at India Mobile Congress, Reliance Industries Chairman Mukesh Ambani shared five ideas related to the theme \\'Connectivity for the next decade\\'. He said, \"India must complete...migration from 2G to 4G to 5G at the earliest...Rollout of 5G should be India\\'s national priority.\" He added that India should move towards greater digital inclusion and ubiquitous fibre connectivity should be done.',\n",
       "  'news_category': ['https:', '', 'inshorts.com', 'en', 'read', 'technology']},\n",
       " {'news_headline': \"Elon Musk's last remaining house sells for $30 million\",\n",
       "  'news_article': \"Elon Musk, world's richest person with $282 billion fortune, has sold his last remaining home, a 47-acre Bay Area estate in Hillsborough, California, for $30 million, according to MLSListings.com. The property was listed for $37.5 million earlier this year. Tesla CEO Musk had said he was downsizing his life to work on sustainable energy for Earth and making life multi-planetary.\",\n",
       "  'news_category': ['https:', '', 'inshorts.com', 'en', 'read', 'technology']},\n",
       " {'news_headline': \"Google lists 10 most searched terms globally in 2021, 'Aus vs India' tops list\",\n",
       "  'news_article': \"Google revealed the 10 terms searched the most on its search engine worldwide in 2021 and 'Australia vs India' emerged as the top searched term globally. It was followed by 'India vs England', 'IPL', 'NBA' and 'Euro 2021', 'Copa América', 'India vs New Zealand', 'T20 World Cup', 'Squid Game' and 'DMX'. Actor Alec Baldwin emerged as the most searched person.\",\n",
       "  'news_category': ['https:', '', 'inshorts.com', 'en', 'read', 'technology']},\n",
       " {'news_headline': 'RBI to launch UPI-based payment product for feature phones',\n",
       "  'news_article': 'The RBI on Wednesday said it will launch a UPI-based payment product for feature phone users. \"Feature phone users have limited access to innovative payment products,\" RBI said. \"Although feature phones have National Unified USSD Platform (NUUP) as an option for availing basic payment services using the short code of *99#, the same has not picked up,\" it added.',\n",
       "  'news_category': ['https:', '', 'inshorts.com', 'en', 'read', 'technology']},\n",
       " {'news_headline': 'Apple halted iPhone production for the first time in 10 years in Oct: Report',\n",
       "  'news_article': \"Apple had to halt iPhone and iPad production for the first time in over a decade in October 2021, Nikkei Asia reported on Wednesday. iPhone and iPad assembly was halted for several days due to supply chain constraints and restrictions on power usage in China. In September and October, iPhone 13 lineup's production reportedly fell 20% short of previous plans.\",\n",
       "  'news_category': ['https:', '', 'inshorts.com', 'en', 'read', 'technology']},\n",
       " {'news_headline': \"Google lists top 10 searches from India in 2021, 'IPL' tops the list\",\n",
       "  'news_article': \"Google India on Wednesday released the top 10 searches on its search engine from 2021 and 'Indian Premier League' (IPL) emerged as the top searched term in India. It was followed by 'CoWIN', 'ICC T20 World Cup', 'Euro Cup' and 'Tokyo Olympics' among others. Olympic gold-winning javelin thrower Neeraj Chopra emerged as the most searched personality.\",\n",
       "  'news_category': ['https:', '', 'inshorts.com', 'en', 'read', 'technology']},\n",
       " {'news_headline': 'Most unusual, difficult year of my life: Bill Gates on spending 2021 mostly online',\n",
       "  'news_article': 'Microsoft Co-founder Bill Gates in his blog post described how he had \"the most unusual and difficult year\" of his life, like many other people, amid COVID-19 pandemic. \"My personal world...never felt smaller than it did,\" he said about spending his time mostly online. Talking about his divorce with Melinda, he added, \"It\\'s been a year of great personal sadness.\"',\n",
       "  'news_category': ['https:', '', 'inshorts.com', 'en', 'read', 'technology']},\n",
       " {'news_headline': 'Google to give one-time cash bonus of ₹1.2 lakh to its employees globally',\n",
       "  'news_article': \"Google on Wednesday said it will give a one-time cash bonus of $1,600 (over ₹1.2 lakh) to its employees globally this year. The bonus will also be given to company's extended workforce and interns, a company spokesperson told Reuters. The latest benefit is in addition to Google's work-from-home allowance and wellbeing bonus, the spokesperson said.\",\n",
       "  'news_category': ['https:', '', 'inshorts.com', 'en', 'read', 'technology']},\n",
       " {'news_headline': 'Instagram lets teen users find drugs in just 2 clicks, claims research group',\n",
       "  'news_article': 'Instagram allows teen users \"to reach an account selling drugs like Xanax\" in two clicks, according to an investigation by Tech Transparency Project (TTP). TTP created multiple fake Instagram accounts of minors aged between 13 and 17 for their research. They claimed that Instagram\\'s algorithms helped underage accounts connect directly with dealers \"selling everything from opioids to party drugs\".',\n",
       "  'news_category': ['https:', '', 'inshorts.com', 'en', 'read', 'technology']},\n",
       " {'news_headline': \"US to put China's SenseTime on blacklist ahead of its HK IPO: FT\",\n",
       "  'news_article': 'The US will put Chinese artificial intelligence company SenseTime on an investment blacklist on Friday, the same day it prices its Hong Kong initial public offering, the Financial Times reported citing sources. SenseTime will be placed on a list of \"Chinese military-industrial complex companies\". The US alleges SenseTime played a role in human rights abuses against China\\'s Muslim minority groups.',\n",
       "  'news_category': ['https:', '', 'inshorts.com', 'en', 'read', 'technology']},\n",
       " {'news_headline': 'Cybersecurity, frauds main concerns with digital currency: RBI Governor',\n",
       "  'news_article': 'RBI Governor Shaktikanta Das has said cybersecurity and the possibility of digital frauds are main concerns with rolling out a central bank digital currency. He added one has to ensure cyber security and take preemptive steps to prevent any kind of fraud. Deputy Governor T Rabi Sankar said work is being done on two types of CBDCs, retail and wholesale.',\n",
       "  'news_category': ['https:', '', 'inshorts.com', 'en', 'read', 'technology']},\n",
       " {'news_headline': \"Blizzard US employee to detail its 'alcohol-soaked culture' in public\",\n",
       "  'news_article': 'A Blizzard Entertainment US employee will be describing \"the alcohol-soaked culture of sexual harassment\" she allegedly faced at the studio, at a press conference, the employee\\'s lawyer Lisa Bloom shared. She will also speak on the retaliation she faced after reporting the harassment. The press conference will be held in front of Blizzard\\'s headquarters in Irvine, US.\\n\\n',\n",
       "  'news_category': ['https:', '', 'inshorts.com', 'en', 'read', 'technology']},\n",
       " {'news_headline': 'Apple wins reprieve in deadline to revamp App Store rules in US',\n",
       "  'news_article': \"A US court has granted Apple's request to halt a December 9 deadline to make major changes to its App Store rules. In September, a US judge had ordered Apple to change its App Store rules, which ban developers from including links in buttons to outside payment systems. The court granted Apple's request over 12 hours remaining before the deadline.\",\n",
       "  'news_category': ['https:', '', 'inshorts.com', 'en', 'read', 'technology']},\n",
       " {'news_headline': 'Britain to phase out 2G and 3G mobile networks by 2033',\n",
       "  'news_article': \"Britain will be phasing out 2G and 3G mobile networks by 2033 to free up radio waves for 5G and eventually 6G services. All four of Britain's networks, including EE and Vodafone, have agreed to the timetable, the government said. BT, which owns the EE network, said in July it would phase out 3G by early 2023, followed by 2G.\\n\",\n",
       "  'news_category': ['https:', '', 'inshorts.com', 'en', 'read', 'technology']},\n",
       " {'news_headline': 'Amazon fixes outage that hit its website, Netflix, Robinhood in US',\n",
       "  'news_article': 'Amazon has resolved network device issues that led to a web services outage, disrupting a host of online services, including Amazon\\'s website, Disney, Netflix and Robinhood, in the US. \"With the network device issues resolved, we are now working towards recovery of any impaired services,\" Amazon said. Earlier, Downdetector showed over 24,000 complaints regarding Amazon, including Prime Video.\\n\\n\\n',\n",
       "  'news_category': ['https:', '', 'inshorts.com', 'en', 'read', 'technology']},\n",
       " {'news_headline': \"Mobile industry vital for India's vision for $5 tn economy by 2025: Birla\",\n",
       "  'news_article': 'Chairman of Aditya Birla Group Kumar Mangalam Birla at India Mobile Congress event said, \"I believe...the mobile industry will be vital in achieving India\\'s vision to be a $5 trillion economy by 2025.\" Birla asserted that a robust industry is necessary to invest and accelerate achievement of Digital India vision. He called the industry \"the growth engine\" of Indian economy. ',\n",
       "  'news_category': ['https:', '', 'inshorts.com', 'en', 'read', 'technology']},\n",
       " {'news_headline': 'Meta to ban Myanmar army-linked businesses after Rohingya sue Facebook',\n",
       "  'news_article': 'Meta has said it will ban all Myanmar military-linked businesses from having a presence on its platforms. The action is based on \"extensive documentation by the international community and civil society of these businesses\\' direct role in funding the Tatmadaw\", Meta said. This comes after Rohingya refugees sued Facebook for $150 billion alleging it helped foster Myanmar genocide.',\n",
       "  'news_category': ['https:', '', 'inshorts.com', 'en', 'read', 'technology']},\n",
       " {'news_headline': \"Retail portion of MapmyIndia's ₹1,040-cr IPO fully booked in an hour of opening\",\n",
       "  'news_article': \"The retail portion of MapMyIndia's ₹1,040-crore initial public offering (IPO) was fully subscribed within an hour of opening on Thursday. Meanwhile, its overall subscription stood at 0.74 times as of 12 pm. The company, which had mobilised ₹311.88 crore from 34 anchor investors ahead of the IPO, has fixed price band of ₹1,000-1,033 per share for the issue.\",\n",
       "  'news_category': ['https:', '', 'inshorts.com', 'en', 'read', 'technology']},\n",
       " {'news_headline': 'Instagram to bring back chronological feed option in 2022: Head',\n",
       "  'news_article': 'Instagram head Adam Mosseri during his testimony before US Senate said the platform is aiming to launch version of the app in 2022 that would bring back a chronological feed option for users. Instagram uses algorithmic ranking to personalise a feed based on user preferences. It introduced algorithmically sorted feed in 2016, and then updated it to include recommended posts. ',\n",
       "  'news_category': ['https:', '', 'inshorts.com', 'en', 'read', 'technology']},\n",
       " {'news_headline': 'RBI could lose control over money supply if crypto is allowed: Ex-Governor',\n",
       "  'news_article': 'Former RBI Governor Duvvuri Subbarao has said the central bank could lose control over money supply and inflation management if cryptocurrency is allowed in India. \"There are also concerns that crypto will disrupt the monetary policy,\" he added. Rao also said that India\\'s case for issuing a central bank digital currency may not be strong as there are capital controls.',\n",
       "  'news_category': ['https:', '', 'inshorts.com', 'en', 'read', 'technology']},\n",
       " {'news_headline': 'Twitter CEO Agrawal was approved as CEO candidate last yr: Report',\n",
       "  'news_article': \"Twitter CEO Parag Agrawal was approved as a potential candidate for replacing former CEO Jack Dorsey last year and was at the top of the list of internal candidates considered, Bloomberg reported. However, sources said the early iterations of the plan for a leadership shift didn't guarantee Agrawal the job. Twitter's board briefly considered few external candidates for the role.\",\n",
       "  'news_category': ['https:', '', 'inshorts.com', 'en', 'read', 'technology']}]"
      ]
     },
     "execution_count": 9,
     "metadata": {},
     "output_type": "execute_result"
    }
   ],
   "source": [
    "news_articles = [{'news_headline': headline.find('span', attrs={'itemprop': 'headline'}).string,\n",
    "                  'news_article': article.find('div', attrs={'itemprop': 'articleBody'}).string,\n",
    "                  'news_category': news_category} \n",
    "                 for headline, article in zip(soup.find_all('div', \n",
    "                                                            class_ = ['news-card-title news-right-box']), \n",
    "                                              soup.find_all('div', class_=['news-card-content news-right-box']))]\n",
    "news_articles"
   ]
  },
  {
   "cell_type": "code",
   "execution_count": 10,
   "metadata": {
    "colab": {
     "base_uri": "https://localhost:8080/"
    },
    "id": "LicYyEMErYp5",
    "outputId": "e3c22805-42b1-481f-8bb3-bcd003a7df18"
   },
   "outputs": [
    {
     "data": {
      "text/plain": [
       "[{'news_headline': 'Google releases list of most searched personalities in India in 2021',\n",
       "  'news_article': \"Google has released the list of most searched personalities in India in 2021, with Olympic gold medal-winning javelin thrower Neeraj Chopra topping the list. He is followed by Shah Rukh Khan's son Aryan Khan, who was in the news over his arrest in the Mumbai cruise drugs case. Shehnaaz Gill, Raj Kundra and Elon Musk completed the top five.\",\n",
       "  'news_category': ['https:', '', 'inshorts.com', 'en', 'read', 'technology']},\n",
       " {'news_headline': \"Kohli's tweet announcing daughter's birth named most liked tweet in India in 2021\",\n",
       "  'news_article': \"Virat Kohli's tweet announcing the birth of his daughter in January has been named the most liked tweet in India in 2021. The tweet has received over 5,38,000 likes so far. Last year, Kohli's tweet announcing his wife Anushka Sharma's pregnancy had become the most liked tweet of 2020. Kohli's daughter Vamika was born on January 11.\",\n",
       "  'news_category': ['https:', '', 'inshorts.com', 'en', 'read', 'technology']},\n",
       " {'news_headline': 'Twitter India lists most tweeted hashtags of 2021, #Covid19 tops list',\n",
       "  'news_article': \"Twitter on Thursday released the list of the top 10 hashtags that were tweeted in India in 2021 and #Covid19 emerged as the most tweeted hashtag. It was followed by #FarmersProtest, #TeamIndia, #Tokyo2020,  #IPL2021, #IndvsEng and #Diwali. The hashtags for Tamil movie 'Master', world's largest cryptocurrency 'Bitcoin' and 'Permission to Dance', a song by BTS, were also among the list. \",\n",
       "  'news_category': ['https:', '', 'inshorts.com', 'en', 'read', 'technology']},\n",
       " {'news_headline': 'UPI limit for investing in IPOs, government securities raised to ₹5 lakh: RBI',\n",
       "  'news_article': \"The RBI announced that it's enhancing the transaction limit of UPI payments for investment in RBI Retail Direct Scheme for government securities (G-Secs) and IPOs from the current limit of ₹2 lakh to ₹5 lakh. To deepen digital payments further, the RBI will launch UPI-based payment products for feature phone users, Governor Shaktikanta Das said while announcing the monetary policy. \",\n",
       "  'news_category': ['https:', '', 'inshorts.com', 'en', 'read', 'technology']},\n",
       " {'news_headline': \"Ambani lists 5 ideas for connectivity, says '5G rollout should be national priority'\",\n",
       "  'news_article': 'Speaking at India Mobile Congress, Reliance Industries Chairman Mukesh Ambani shared five ideas related to the theme \\'Connectivity for the next decade\\'. He said, \"India must complete...migration from 2G to 4G to 5G at the earliest...Rollout of 5G should be India\\'s national priority.\" He added that India should move towards greater digital inclusion and ubiquitous fibre connectivity should be done.',\n",
       "  'news_category': ['https:', '', 'inshorts.com', 'en', 'read', 'technology']},\n",
       " {'news_headline': \"Elon Musk's last remaining house sells for $30 million\",\n",
       "  'news_article': \"Elon Musk, world's richest person with $282 billion fortune, has sold his last remaining home, a 47-acre Bay Area estate in Hillsborough, California, for $30 million, according to MLSListings.com. The property was listed for $37.5 million earlier this year. Tesla CEO Musk had said he was downsizing his life to work on sustainable energy for Earth and making life multi-planetary.\",\n",
       "  'news_category': ['https:', '', 'inshorts.com', 'en', 'read', 'technology']},\n",
       " {'news_headline': \"Google lists 10 most searched terms globally in 2021, 'Aus vs India' tops list\",\n",
       "  'news_article': \"Google revealed the 10 terms searched the most on its search engine worldwide in 2021 and 'Australia vs India' emerged as the top searched term globally. It was followed by 'India vs England', 'IPL', 'NBA' and 'Euro 2021', 'Copa América', 'India vs New Zealand', 'T20 World Cup', 'Squid Game' and 'DMX'. Actor Alec Baldwin emerged as the most searched person.\",\n",
       "  'news_category': ['https:', '', 'inshorts.com', 'en', 'read', 'technology']},\n",
       " {'news_headline': 'RBI to launch UPI-based payment product for feature phones',\n",
       "  'news_article': 'The RBI on Wednesday said it will launch a UPI-based payment product for feature phone users. \"Feature phone users have limited access to innovative payment products,\" RBI said. \"Although feature phones have National Unified USSD Platform (NUUP) as an option for availing basic payment services using the short code of *99#, the same has not picked up,\" it added.',\n",
       "  'news_category': ['https:', '', 'inshorts.com', 'en', 'read', 'technology']},\n",
       " {'news_headline': 'Apple halted iPhone production for the first time in 10 years in Oct: Report',\n",
       "  'news_article': \"Apple had to halt iPhone and iPad production for the first time in over a decade in October 2021, Nikkei Asia reported on Wednesday. iPhone and iPad assembly was halted for several days due to supply chain constraints and restrictions on power usage in China. In September and October, iPhone 13 lineup's production reportedly fell 20% short of previous plans.\",\n",
       "  'news_category': ['https:', '', 'inshorts.com', 'en', 'read', 'technology']},\n",
       " {'news_headline': \"Google lists top 10 searches from India in 2021, 'IPL' tops the list\",\n",
       "  'news_article': \"Google India on Wednesday released the top 10 searches on its search engine from 2021 and 'Indian Premier League' (IPL) emerged as the top searched term in India. It was followed by 'CoWIN', 'ICC T20 World Cup', 'Euro Cup' and 'Tokyo Olympics' among others. Olympic gold-winning javelin thrower Neeraj Chopra emerged as the most searched personality.\",\n",
       "  'news_category': ['https:', '', 'inshorts.com', 'en', 'read', 'technology']},\n",
       " {'news_headline': 'Most unusual, difficult year of my life: Bill Gates on spending 2021 mostly online',\n",
       "  'news_article': 'Microsoft Co-founder Bill Gates in his blog post described how he had \"the most unusual and difficult year\" of his life, like many other people, amid COVID-19 pandemic. \"My personal world...never felt smaller than it did,\" he said about spending his time mostly online. Talking about his divorce with Melinda, he added, \"It\\'s been a year of great personal sadness.\"',\n",
       "  'news_category': ['https:', '', 'inshorts.com', 'en', 'read', 'technology']},\n",
       " {'news_headline': 'Google to give one-time cash bonus of ₹1.2 lakh to its employees globally',\n",
       "  'news_article': \"Google on Wednesday said it will give a one-time cash bonus of $1,600 (over ₹1.2 lakh) to its employees globally this year. The bonus will also be given to company's extended workforce and interns, a company spokesperson told Reuters. The latest benefit is in addition to Google's work-from-home allowance and wellbeing bonus, the spokesperson said.\",\n",
       "  'news_category': ['https:', '', 'inshorts.com', 'en', 'read', 'technology']},\n",
       " {'news_headline': 'Instagram lets teen users find drugs in just 2 clicks, claims research group',\n",
       "  'news_article': 'Instagram allows teen users \"to reach an account selling drugs like Xanax\" in two clicks, according to an investigation by Tech Transparency Project (TTP). TTP created multiple fake Instagram accounts of minors aged between 13 and 17 for their research. They claimed that Instagram\\'s algorithms helped underage accounts connect directly with dealers \"selling everything from opioids to party drugs\".',\n",
       "  'news_category': ['https:', '', 'inshorts.com', 'en', 'read', 'technology']},\n",
       " {'news_headline': \"US to put China's SenseTime on blacklist ahead of its HK IPO: FT\",\n",
       "  'news_article': 'The US will put Chinese artificial intelligence company SenseTime on an investment blacklist on Friday, the same day it prices its Hong Kong initial public offering, the Financial Times reported citing sources. SenseTime will be placed on a list of \"Chinese military-industrial complex companies\". The US alleges SenseTime played a role in human rights abuses against China\\'s Muslim minority groups.',\n",
       "  'news_category': ['https:', '', 'inshorts.com', 'en', 'read', 'technology']},\n",
       " {'news_headline': 'Cybersecurity, frauds main concerns with digital currency: RBI Governor',\n",
       "  'news_article': 'RBI Governor Shaktikanta Das has said cybersecurity and the possibility of digital frauds are main concerns with rolling out a central bank digital currency. He added one has to ensure cyber security and take preemptive steps to prevent any kind of fraud. Deputy Governor T Rabi Sankar said work is being done on two types of CBDCs, retail and wholesale.',\n",
       "  'news_category': ['https:', '', 'inshorts.com', 'en', 'read', 'technology']},\n",
       " {'news_headline': \"Blizzard US employee to detail its 'alcohol-soaked culture' in public\",\n",
       "  'news_article': 'A Blizzard Entertainment US employee will be describing \"the alcohol-soaked culture of sexual harassment\" she allegedly faced at the studio, at a press conference, the employee\\'s lawyer Lisa Bloom shared. She will also speak on the retaliation she faced after reporting the harassment. The press conference will be held in front of Blizzard\\'s headquarters in Irvine, US.\\n\\n',\n",
       "  'news_category': ['https:', '', 'inshorts.com', 'en', 'read', 'technology']},\n",
       " {'news_headline': 'Apple wins reprieve in deadline to revamp App Store rules in US',\n",
       "  'news_article': \"A US court has granted Apple's request to halt a December 9 deadline to make major changes to its App Store rules. In September, a US judge had ordered Apple to change its App Store rules, which ban developers from including links in buttons to outside payment systems. The court granted Apple's request over 12 hours remaining before the deadline.\",\n",
       "  'news_category': ['https:', '', 'inshorts.com', 'en', 'read', 'technology']},\n",
       " {'news_headline': 'Britain to phase out 2G and 3G mobile networks by 2033',\n",
       "  'news_article': \"Britain will be phasing out 2G and 3G mobile networks by 2033 to free up radio waves for 5G and eventually 6G services. All four of Britain's networks, including EE and Vodafone, have agreed to the timetable, the government said. BT, which owns the EE network, said in July it would phase out 3G by early 2023, followed by 2G.\\n\",\n",
       "  'news_category': ['https:', '', 'inshorts.com', 'en', 'read', 'technology']},\n",
       " {'news_headline': 'Amazon fixes outage that hit its website, Netflix, Robinhood in US',\n",
       "  'news_article': 'Amazon has resolved network device issues that led to a web services outage, disrupting a host of online services, including Amazon\\'s website, Disney, Netflix and Robinhood, in the US. \"With the network device issues resolved, we are now working towards recovery of any impaired services,\" Amazon said. Earlier, Downdetector showed over 24,000 complaints regarding Amazon, including Prime Video.\\n\\n\\n',\n",
       "  'news_category': ['https:', '', 'inshorts.com', 'en', 'read', 'technology']},\n",
       " {'news_headline': \"Mobile industry vital for India's vision for $5 tn economy by 2025: Birla\",\n",
       "  'news_article': 'Chairman of Aditya Birla Group Kumar Mangalam Birla at India Mobile Congress event said, \"I believe...the mobile industry will be vital in achieving India\\'s vision to be a $5 trillion economy by 2025.\" Birla asserted that a robust industry is necessary to invest and accelerate achievement of Digital India vision. He called the industry \"the growth engine\" of Indian economy. ',\n",
       "  'news_category': ['https:', '', 'inshorts.com', 'en', 'read', 'technology']},\n",
       " {'news_headline': 'Meta to ban Myanmar army-linked businesses after Rohingya sue Facebook',\n",
       "  'news_article': 'Meta has said it will ban all Myanmar military-linked businesses from having a presence on its platforms. The action is based on \"extensive documentation by the international community and civil society of these businesses\\' direct role in funding the Tatmadaw\", Meta said. This comes after Rohingya refugees sued Facebook for $150 billion alleging it helped foster Myanmar genocide.',\n",
       "  'news_category': ['https:', '', 'inshorts.com', 'en', 'read', 'technology']},\n",
       " {'news_headline': \"Retail portion of MapmyIndia's ₹1,040-cr IPO fully booked in an hour of opening\",\n",
       "  'news_article': \"The retail portion of MapMyIndia's ₹1,040-crore initial public offering (IPO) was fully subscribed within an hour of opening on Thursday. Meanwhile, its overall subscription stood at 0.74 times as of 12 pm. The company, which had mobilised ₹311.88 crore from 34 anchor investors ahead of the IPO, has fixed price band of ₹1,000-1,033 per share for the issue.\",\n",
       "  'news_category': ['https:', '', 'inshorts.com', 'en', 'read', 'technology']},\n",
       " {'news_headline': 'Instagram to bring back chronological feed option in 2022: Head',\n",
       "  'news_article': 'Instagram head Adam Mosseri during his testimony before US Senate said the platform is aiming to launch version of the app in 2022 that would bring back a chronological feed option for users. Instagram uses algorithmic ranking to personalise a feed based on user preferences. It introduced algorithmically sorted feed in 2016, and then updated it to include recommended posts. ',\n",
       "  'news_category': ['https:', '', 'inshorts.com', 'en', 'read', 'technology']},\n",
       " {'news_headline': 'RBI could lose control over money supply if crypto is allowed: Ex-Governor',\n",
       "  'news_article': 'Former RBI Governor Duvvuri Subbarao has said the central bank could lose control over money supply and inflation management if cryptocurrency is allowed in India. \"There are also concerns that crypto will disrupt the monetary policy,\" he added. Rao also said that India\\'s case for issuing a central bank digital currency may not be strong as there are capital controls.',\n",
       "  'news_category': ['https:', '', 'inshorts.com', 'en', 'read', 'technology']},\n",
       " {'news_headline': 'Twitter CEO Agrawal was approved as CEO candidate last yr: Report',\n",
       "  'news_article': \"Twitter CEO Parag Agrawal was approved as a potential candidate for replacing former CEO Jack Dorsey last year and was at the top of the list of internal candidates considered, Bloomberg reported. However, sources said the early iterations of the plan for a leadership shift didn't guarantee Agrawal the job. Twitter's board briefly considered few external candidates for the role.\",\n",
       "  'news_category': ['https:', '', 'inshorts.com', 'en', 'read', 'technology']}]"
      ]
     },
     "execution_count": 10,
     "metadata": {},
     "output_type": "execute_result"
    }
   ],
   "source": [
    "news_data = []\n",
    "news_data.extend(news_articles)\n",
    "news_data"
   ]
  },
  {
   "cell_type": "markdown",
   "metadata": {
    "id": "dFPOmOU_yLBI"
   },
   "source": [
    "#### 2.3. Prepare a dataframe with news-headline, news-article & news-category"
   ]
  },
  {
   "cell_type": "code",
   "execution_count": 11,
   "metadata": {
    "colab": {
     "base_uri": "https://localhost:8080/",
     "height": 204
    },
    "id": "_1bt_f7V1dFr",
    "outputId": "b47e920f-465f-4302-90fa-194307f1e812"
   },
   "outputs": [
    {
     "data": {
      "text/html": [
       "<div>\n",
       "<style scoped>\n",
       "    .dataframe tbody tr th:only-of-type {\n",
       "        vertical-align: middle;\n",
       "    }\n",
       "\n",
       "    .dataframe tbody tr th {\n",
       "        vertical-align: top;\n",
       "    }\n",
       "\n",
       "    .dataframe thead th {\n",
       "        text-align: right;\n",
       "    }\n",
       "</style>\n",
       "<table border=\"1\" class=\"dataframe\">\n",
       "  <thead>\n",
       "    <tr style=\"text-align: right;\">\n",
       "      <th></th>\n",
       "      <th>news_headline</th>\n",
       "      <th>news_article</th>\n",
       "      <th>news_category</th>\n",
       "    </tr>\n",
       "  </thead>\n",
       "  <tbody>\n",
       "    <tr>\n",
       "      <th>0</th>\n",
       "      <td>Google releases list of most searched personal...</td>\n",
       "      <td>Google has released the list of most searched ...</td>\n",
       "      <td>[https:, , inshorts.com, en, read, technology]</td>\n",
       "    </tr>\n",
       "    <tr>\n",
       "      <th>1</th>\n",
       "      <td>Kohli's tweet announcing daughter's birth name...</td>\n",
       "      <td>Virat Kohli's tweet announcing the birth of hi...</td>\n",
       "      <td>[https:, , inshorts.com, en, read, technology]</td>\n",
       "    </tr>\n",
       "    <tr>\n",
       "      <th>2</th>\n",
       "      <td>Twitter India lists most tweeted hashtags of 2...</td>\n",
       "      <td>Twitter on Thursday released the list of the t...</td>\n",
       "      <td>[https:, , inshorts.com, en, read, technology]</td>\n",
       "    </tr>\n",
       "    <tr>\n",
       "      <th>3</th>\n",
       "      <td>UPI limit for investing in IPOs, government se...</td>\n",
       "      <td>The RBI announced that it's enhancing the tran...</td>\n",
       "      <td>[https:, , inshorts.com, en, read, technology]</td>\n",
       "    </tr>\n",
       "    <tr>\n",
       "      <th>4</th>\n",
       "      <td>Ambani lists 5 ideas for connectivity, says '5...</td>\n",
       "      <td>Speaking at India Mobile Congress, Reliance In...</td>\n",
       "      <td>[https:, , inshorts.com, en, read, technology]</td>\n",
       "    </tr>\n",
       "  </tbody>\n",
       "</table>\n",
       "</div>"
      ],
      "text/plain": [
       "                                       news_headline  \\\n",
       "0  Google releases list of most searched personal...   \n",
       "1  Kohli's tweet announcing daughter's birth name...   \n",
       "2  Twitter India lists most tweeted hashtags of 2...   \n",
       "3  UPI limit for investing in IPOs, government se...   \n",
       "4  Ambani lists 5 ideas for connectivity, says '5...   \n",
       "\n",
       "                                        news_article  \\\n",
       "0  Google has released the list of most searched ...   \n",
       "1  Virat Kohli's tweet announcing the birth of hi...   \n",
       "2  Twitter on Thursday released the list of the t...   \n",
       "3  The RBI announced that it's enhancing the tran...   \n",
       "4  Speaking at India Mobile Congress, Reliance In...   \n",
       "\n",
       "                                    news_category  \n",
       "0  [https:, , inshorts.com, en, read, technology]  \n",
       "1  [https:, , inshorts.com, en, read, technology]  \n",
       "2  [https:, , inshorts.com, en, read, technology]  \n",
       "3  [https:, , inshorts.com, en, read, technology]  \n",
       "4  [https:, , inshorts.com, en, read, technology]  "
      ]
     },
     "execution_count": 11,
     "metadata": {},
     "output_type": "execute_result"
    }
   ],
   "source": [
    "df = pd.DataFrame(news_data)\n",
    "df = df[['news_headline', 'news_article', 'news_category']]\n",
    "df.head()"
   ]
  },
  {
   "cell_type": "markdown",
   "metadata": {
    "id": "ZS1G_liPPYLC"
   },
   "source": [
    "#### 2.4.Prepare user defined function to extract data (news-headline, news-article & news-category) from inshorts.com (from the technology, sports, world categories) and store it in a dataframe"
   ]
  },
  {
   "cell_type": "code",
   "execution_count": 12,
   "metadata": {
    "id": "husONUVR1eYU"
   },
   "outputs": [],
   "source": [
    "urls_list = ['https://inshorts.com/en/read/technology',\n",
    "             'https://inshorts.com/en/read/sports',\n",
    "             'https://inshorts.com/en/read/world']\n",
    "\n",
    "def datasetPrepare(urls_list):\n",
    "    news_data = []\n",
    "    for url in urls_list:\n",
    "        news_category = url.split('/')[-1]\n",
    "        data = requests.get(url)\n",
    "        soup = BeautifulSoup(data.content, 'html.parser')\n",
    "        news_articles = [{'news_headline': headline.find('span', attrs={\"itemprop\": \"headline\"}).string,\n",
    "                          'news_article': article.find('div', attrs={\"itemprop\": \"articleBody\"}).string,\n",
    "                          'news_category': news_category}\n",
    "                         \n",
    "                            for headline, article in \n",
    "                             zip(soup.find_all('div', class_=[\"news-card-title news-right-box\"]),\n",
    "                                 soup.find_all('div', class_=[\"news-card-content news-right-box\"]))\n",
    "                        ]\n",
    "        news_data.extend(news_articles) \n",
    "    df =  pd.DataFrame(news_data)\n",
    "    df = df[['news_headline', 'news_article', 'news_category']]\n",
    "    return df    "
   ]
  },
  {
   "cell_type": "code",
   "execution_count": 13,
   "metadata": {
    "colab": {
     "base_uri": "https://localhost:8080/"
    },
    "id": "Rk05q9gerYqA",
    "outputId": "5c8231bf-f22d-4385-91e8-29949934ad35"
   },
   "outputs": [
    {
     "name": "stdout",
     "output_type": "stream",
     "text": [
      "<class 'pandas.core.frame.DataFrame'>\n",
      "RangeIndex: 75 entries, 0 to 74\n",
      "Data columns (total 3 columns):\n",
      " #   Column         Non-Null Count  Dtype \n",
      "---  ------         --------------  ----- \n",
      " 0   news_headline  75 non-null     object\n",
      " 1   news_article   75 non-null     object\n",
      " 2   news_category  75 non-null     object\n",
      "dtypes: object(3)\n",
      "memory usage: 1.9+ KB\n"
     ]
    }
   ],
   "source": [
    "news_df = datasetPrepare(urls_list)\n",
    "news_df.info()"
   ]
  },
  {
   "cell_type": "code",
   "execution_count": 14,
   "metadata": {
    "colab": {
     "base_uri": "https://localhost:8080/",
     "height": 204
    },
    "id": "9Oaj14PKrYqC",
    "outputId": "100021be-6f29-4e0e-cab2-ac1193d265a4"
   },
   "outputs": [
    {
     "data": {
      "text/html": [
       "<div>\n",
       "<style scoped>\n",
       "    .dataframe tbody tr th:only-of-type {\n",
       "        vertical-align: middle;\n",
       "    }\n",
       "\n",
       "    .dataframe tbody tr th {\n",
       "        vertical-align: top;\n",
       "    }\n",
       "\n",
       "    .dataframe thead th {\n",
       "        text-align: right;\n",
       "    }\n",
       "</style>\n",
       "<table border=\"1\" class=\"dataframe\">\n",
       "  <thead>\n",
       "    <tr style=\"text-align: right;\">\n",
       "      <th></th>\n",
       "      <th>news_headline</th>\n",
       "      <th>news_article</th>\n",
       "      <th>news_category</th>\n",
       "    </tr>\n",
       "  </thead>\n",
       "  <tbody>\n",
       "    <tr>\n",
       "      <th>0</th>\n",
       "      <td>Google releases list of most searched personal...</td>\n",
       "      <td>Google has released the list of most searched ...</td>\n",
       "      <td>technology</td>\n",
       "    </tr>\n",
       "    <tr>\n",
       "      <th>1</th>\n",
       "      <td>Kohli's tweet announcing daughter's birth name...</td>\n",
       "      <td>Virat Kohli's tweet announcing the birth of hi...</td>\n",
       "      <td>technology</td>\n",
       "    </tr>\n",
       "    <tr>\n",
       "      <th>2</th>\n",
       "      <td>Twitter India lists most tweeted hashtags of 2...</td>\n",
       "      <td>Twitter on Thursday released the list of the t...</td>\n",
       "      <td>technology</td>\n",
       "    </tr>\n",
       "    <tr>\n",
       "      <th>3</th>\n",
       "      <td>UPI limit for investing in IPOs, government se...</td>\n",
       "      <td>The RBI announced that it's enhancing the tran...</td>\n",
       "      <td>technology</td>\n",
       "    </tr>\n",
       "    <tr>\n",
       "      <th>4</th>\n",
       "      <td>Ambani lists 5 ideas for connectivity, says '5...</td>\n",
       "      <td>Speaking at India Mobile Congress, Reliance In...</td>\n",
       "      <td>technology</td>\n",
       "    </tr>\n",
       "  </tbody>\n",
       "</table>\n",
       "</div>"
      ],
      "text/plain": [
       "                                       news_headline  \\\n",
       "0  Google releases list of most searched personal...   \n",
       "1  Kohli's tweet announcing daughter's birth name...   \n",
       "2  Twitter India lists most tweeted hashtags of 2...   \n",
       "3  UPI limit for investing in IPOs, government se...   \n",
       "4  Ambani lists 5 ideas for connectivity, says '5...   \n",
       "\n",
       "                                        news_article news_category  \n",
       "0  Google has released the list of most searched ...    technology  \n",
       "1  Virat Kohli's tweet announcing the birth of hi...    technology  \n",
       "2  Twitter on Thursday released the list of the t...    technology  \n",
       "3  The RBI announced that it's enhancing the tran...    technology  \n",
       "4  Speaking at India Mobile Congress, Reliance In...    technology  "
      ]
     },
     "execution_count": 14,
     "metadata": {},
     "output_type": "execute_result"
    }
   ],
   "source": [
    "news_df.head(5)"
   ]
  },
  {
   "cell_type": "code",
   "execution_count": 15,
   "metadata": {
    "colab": {
     "base_uri": "https://localhost:8080/"
    },
    "id": "u-G5M9iQrYqD",
    "outputId": "cdbd7537-5ef6-4502-b424-7b949b1f5b45"
   },
   "outputs": [
    {
     "data": {
      "text/plain": [
       "technology    25\n",
       "sports        25\n",
       "world         25\n",
       "Name: news_category, dtype: int64"
      ]
     },
     "execution_count": 15,
     "metadata": {},
     "output_type": "execute_result"
    }
   ],
   "source": [
    "news_df.news_category.value_counts()"
   ]
  },
  {
   "cell_type": "markdown",
   "metadata": {
    "id": "U-mLVhKJPYLD"
   },
   "source": [
    "# 3.Text Wrangling and Pre-processing"
   ]
  },
  {
   "cell_type": "markdown",
   "metadata": {
    "id": "I5cAK0-XPYLE"
   },
   "source": [
    "## 3.1. Remove HTML tags"
   ]
  },
  {
   "cell_type": "code",
   "execution_count": 16,
   "metadata": {
    "id": "CUdXWraN1lG_"
   },
   "outputs": [],
   "source": [
    "import spacy\n",
    "import nltk\n",
    "from nltk.tokenize.toktok import ToktokTokenizer\n",
    "import re\n",
    "import unicodedata"
   ]
  },
  {
   "cell_type": "code",
   "execution_count": 19,
   "metadata": {
    "id": "tOTStilpw1G_"
   },
   "outputs": [
    {
     "ename": "OSError",
     "evalue": "[E941] Can't find model 'en'. It looks like you're trying to load a model from a shortcut, which is obsolete as of spaCy v3.0. To load the model, use its full name instead:\n\nnlp = spacy.load(\"en_core_web_sm\")\n\nFor more details on the available models, see the models directory: https://spacy.io/models. If you want to create a blank model, use spacy.blank: nlp = spacy.blank(\"en\")",
     "output_type": "error",
     "traceback": [
      "\u001b[1;31m---------------------------------------------------------------------------\u001b[0m",
      "\u001b[1;31mOSError\u001b[0m                                   Traceback (most recent call last)",
      "\u001b[1;32m<ipython-input-19-76abff010c5f>\u001b[0m in \u001b[0;36m<module>\u001b[1;34m\u001b[0m\n\u001b[1;32m----> 1\u001b[1;33m \u001b[0mnlp\u001b[0m \u001b[1;33m=\u001b[0m \u001b[0mspacy\u001b[0m\u001b[1;33m.\u001b[0m\u001b[0mload\u001b[0m\u001b[1;33m(\u001b[0m\u001b[1;34m'en'\u001b[0m\u001b[1;33m)\u001b[0m\u001b[1;33m\u001b[0m\u001b[1;33m\u001b[0m\u001b[0m\n\u001b[0m",
      "\u001b[1;32m~\\anaconda3\\lib\\site-packages\\spacy\\__init__.py\u001b[0m in \u001b[0;36mload\u001b[1;34m(name, vocab, disable, exclude, config)\u001b[0m\n\u001b[0;32m     49\u001b[0m     \u001b[0mRETURNS\u001b[0m \u001b[1;33m(\u001b[0m\u001b[0mLanguage\u001b[0m\u001b[1;33m)\u001b[0m\u001b[1;33m:\u001b[0m \u001b[0mThe\u001b[0m \u001b[0mloaded\u001b[0m \u001b[0mnlp\u001b[0m \u001b[0mobject\u001b[0m\u001b[1;33m.\u001b[0m\u001b[1;33m\u001b[0m\u001b[1;33m\u001b[0m\u001b[0m\n\u001b[0;32m     50\u001b[0m     \"\"\"\n\u001b[1;32m---> 51\u001b[1;33m     return util.load_model(\n\u001b[0m\u001b[0;32m     52\u001b[0m         \u001b[0mname\u001b[0m\u001b[1;33m,\u001b[0m \u001b[0mvocab\u001b[0m\u001b[1;33m=\u001b[0m\u001b[0mvocab\u001b[0m\u001b[1;33m,\u001b[0m \u001b[0mdisable\u001b[0m\u001b[1;33m=\u001b[0m\u001b[0mdisable\u001b[0m\u001b[1;33m,\u001b[0m \u001b[0mexclude\u001b[0m\u001b[1;33m=\u001b[0m\u001b[0mexclude\u001b[0m\u001b[1;33m,\u001b[0m \u001b[0mconfig\u001b[0m\u001b[1;33m=\u001b[0m\u001b[0mconfig\u001b[0m\u001b[1;33m\u001b[0m\u001b[1;33m\u001b[0m\u001b[0m\n\u001b[0;32m     53\u001b[0m     )\n",
      "\u001b[1;32m~\\anaconda3\\lib\\site-packages\\spacy\\util.py\u001b[0m in \u001b[0;36mload_model\u001b[1;34m(name, vocab, disable, exclude, config)\u001b[0m\n\u001b[0;32m    424\u001b[0m         \u001b[1;32mreturn\u001b[0m \u001b[0mload_model_from_path\u001b[0m\u001b[1;33m(\u001b[0m\u001b[0mname\u001b[0m\u001b[1;33m,\u001b[0m \u001b[1;33m**\u001b[0m\u001b[0mkwargs\u001b[0m\u001b[1;33m)\u001b[0m  \u001b[1;31m# type: ignore[arg-type]\u001b[0m\u001b[1;33m\u001b[0m\u001b[1;33m\u001b[0m\u001b[0m\n\u001b[0;32m    425\u001b[0m     \u001b[1;32mif\u001b[0m \u001b[0mname\u001b[0m \u001b[1;32min\u001b[0m \u001b[0mOLD_MODEL_SHORTCUTS\u001b[0m\u001b[1;33m:\u001b[0m\u001b[1;33m\u001b[0m\u001b[1;33m\u001b[0m\u001b[0m\n\u001b[1;32m--> 426\u001b[1;33m         \u001b[1;32mraise\u001b[0m \u001b[0mIOError\u001b[0m\u001b[1;33m(\u001b[0m\u001b[0mErrors\u001b[0m\u001b[1;33m.\u001b[0m\u001b[0mE941\u001b[0m\u001b[1;33m.\u001b[0m\u001b[0mformat\u001b[0m\u001b[1;33m(\u001b[0m\u001b[0mname\u001b[0m\u001b[1;33m=\u001b[0m\u001b[0mname\u001b[0m\u001b[1;33m,\u001b[0m \u001b[0mfull\u001b[0m\u001b[1;33m=\u001b[0m\u001b[0mOLD_MODEL_SHORTCUTS\u001b[0m\u001b[1;33m[\u001b[0m\u001b[0mname\u001b[0m\u001b[1;33m]\u001b[0m\u001b[1;33m)\u001b[0m\u001b[1;33m)\u001b[0m  \u001b[1;31m# type: ignore[index]\u001b[0m\u001b[1;33m\u001b[0m\u001b[1;33m\u001b[0m\u001b[0m\n\u001b[0m\u001b[0;32m    427\u001b[0m     \u001b[1;32mraise\u001b[0m \u001b[0mIOError\u001b[0m\u001b[1;33m(\u001b[0m\u001b[0mErrors\u001b[0m\u001b[1;33m.\u001b[0m\u001b[0mE050\u001b[0m\u001b[1;33m.\u001b[0m\u001b[0mformat\u001b[0m\u001b[1;33m(\u001b[0m\u001b[0mname\u001b[0m\u001b[1;33m=\u001b[0m\u001b[0mname\u001b[0m\u001b[1;33m)\u001b[0m\u001b[1;33m)\u001b[0m\u001b[1;33m\u001b[0m\u001b[1;33m\u001b[0m\u001b[0m\n\u001b[0;32m    428\u001b[0m \u001b[1;33m\u001b[0m\u001b[0m\n",
      "\u001b[1;31mOSError\u001b[0m: [E941] Can't find model 'en'. It looks like you're trying to load a model from a shortcut, which is obsolete as of spaCy v3.0. To load the model, use its full name instead:\n\nnlp = spacy.load(\"en_core_web_sm\")\n\nFor more details on the available models, see the models directory: https://spacy.io/models. If you want to create a blank model, use spacy.blank: nlp = spacy.blank(\"en\")"
     ]
    }
   ],
   "source": [
    "nlp = spacy.load('en')"
   ]
  },
  {
   "cell_type": "code",
   "execution_count": 20,
   "metadata": {
    "colab": {
     "base_uri": "https://localhost:8080/"
    },
    "id": "M5ZuwO74w1KM",
    "outputId": "e3814bca-cc1d-4c1e-b41e-de0edd30157c"
   },
   "outputs": [
    {
     "name": "stderr",
     "output_type": "stream",
     "text": [
      "[nltk_data] Downloading package stopwords to\n",
      "[nltk_data]     C:\\Users\\bapan\\AppData\\Roaming\\nltk_data...\n",
      "[nltk_data]   Package stopwords is already up-to-date!\n"
     ]
    },
    {
     "data": {
      "text/plain": [
       "True"
      ]
     },
     "execution_count": 20,
     "metadata": {},
     "output_type": "execute_result"
    }
   ],
   "source": [
    "nltk.download('stopwords')"
   ]
  },
  {
   "cell_type": "code",
   "execution_count": 21,
   "metadata": {
    "id": "1RT6tsJ8w5_0"
   },
   "outputs": [],
   "source": [
    "tokenizer = ToktokTokenizer()\n",
    "stopword_list = nltk.corpus.stopwords.words('english')\n",
    "stopword_list.remove('no')\n",
    "stopword_list.remove('not')"
   ]
  },
  {
   "cell_type": "markdown",
   "metadata": {
    "id": "W5-kB8FRPYLF"
   },
   "source": [
    "## 3.2. Remove accented characters"
   ]
  },
  {
   "cell_type": "code",
   "execution_count": 22,
   "metadata": {
    "colab": {
     "base_uri": "https://localhost:8080/"
    },
    "id": "18Bcwkw-1mtU",
    "outputId": "9f8928c0-5887-4082-9996-5b06f32b8afa"
   },
   "outputs": [
    {
     "data": {
      "text/plain": [
       "'Some Accented text'"
      ]
     },
     "execution_count": 22,
     "metadata": {},
     "output_type": "execute_result"
    }
   ],
   "source": [
    "def remove_accented_chars(text):\n",
    "    text = unicodedata.normalize('NFKD', text).encode('ascii', 'ignore').decode('utf-8', 'ignore')\n",
    "    return text\n",
    "\n",
    "remove_accented_chars('Sómě Áccěntěd těxt')"
   ]
  },
  {
   "cell_type": "markdown",
   "metadata": {
    "id": "ovOYOExBPYLG"
   },
   "source": [
    "## 3.3. Remove special characters"
   ]
  },
  {
   "cell_type": "code",
   "execution_count": 23,
   "metadata": {
    "colab": {
     "base_uri": "https://localhost:8080/",
     "height": 35
    },
    "id": "sI6CkyKS1oy1",
    "outputId": "4268afe1-b436-483f-fea0-b14ca8bb3882"
   },
   "outputs": [
    {
     "data": {
      "text/plain": [
       "'Well this was fun What do you think '"
      ]
     },
     "execution_count": 23,
     "metadata": {},
     "output_type": "execute_result"
    }
   ],
   "source": [
    "def remove_special_characters(text, remove_digits=False):\n",
    "    pattern = r'[^a-zA-z0-9\\s]' if not remove_digits else r'[^a-zA-z\\s]'\n",
    "    text = re.sub(pattern, '', text)\n",
    "    return text\n",
    "\n",
    "remove_special_characters(\"Well this was fun! What do you think? 123#@!\", remove_digits=True)"
   ]
  },
  {
   "cell_type": "markdown",
   "metadata": {
    "id": "L6CsW6-aPYLG"
   },
   "source": [
    "## 3.4. Text lemmatization"
   ]
  },
  {
   "cell_type": "code",
   "execution_count": 24,
   "metadata": {
    "colab": {
     "base_uri": "https://localhost:8080/",
     "height": 35
    },
    "id": "aYun_cXs1qSv",
    "outputId": "811a3757-30f0-4ec1-c736-58006cd1523c"
   },
   "outputs": [
    {
     "ename": "NameError",
     "evalue": "name 'nlp' is not defined",
     "output_type": "error",
     "traceback": [
      "\u001b[1;31m---------------------------------------------------------------------------\u001b[0m",
      "\u001b[1;31mNameError\u001b[0m                                 Traceback (most recent call last)",
      "\u001b[1;32m<ipython-input-24-5ff90bfc8570>\u001b[0m in \u001b[0;36m<module>\u001b[1;34m\u001b[0m\n\u001b[0;32m      4\u001b[0m     \u001b[1;32mreturn\u001b[0m \u001b[0mtext\u001b[0m\u001b[1;33m\u001b[0m\u001b[1;33m\u001b[0m\u001b[0m\n\u001b[0;32m      5\u001b[0m \u001b[1;33m\u001b[0m\u001b[0m\n\u001b[1;32m----> 6\u001b[1;33m \u001b[0mlemmatize_text\u001b[0m\u001b[1;33m(\u001b[0m\u001b[1;34m\"My system keeps crashing! his crashed yesterday, ours crashes daily\"\u001b[0m\u001b[1;33m)\u001b[0m\u001b[1;33m\u001b[0m\u001b[1;33m\u001b[0m\u001b[0m\n\u001b[0m",
      "\u001b[1;32m<ipython-input-24-5ff90bfc8570>\u001b[0m in \u001b[0;36mlemmatize_text\u001b[1;34m(text)\u001b[0m\n\u001b[0;32m      1\u001b[0m \u001b[1;32mdef\u001b[0m \u001b[0mlemmatize_text\u001b[0m\u001b[1;33m(\u001b[0m\u001b[0mtext\u001b[0m\u001b[1;33m)\u001b[0m\u001b[1;33m:\u001b[0m\u001b[1;33m\u001b[0m\u001b[1;33m\u001b[0m\u001b[0m\n\u001b[1;32m----> 2\u001b[1;33m     \u001b[0mtext\u001b[0m \u001b[1;33m=\u001b[0m \u001b[0mnlp\u001b[0m\u001b[1;33m(\u001b[0m\u001b[0mtext\u001b[0m\u001b[1;33m)\u001b[0m\u001b[1;33m\u001b[0m\u001b[1;33m\u001b[0m\u001b[0m\n\u001b[0m\u001b[0;32m      3\u001b[0m     \u001b[0mtext\u001b[0m \u001b[1;33m=\u001b[0m \u001b[1;34m' '\u001b[0m\u001b[1;33m.\u001b[0m\u001b[0mjoin\u001b[0m\u001b[1;33m(\u001b[0m\u001b[1;33m[\u001b[0m\u001b[0mword\u001b[0m\u001b[1;33m.\u001b[0m\u001b[0mlemma_\u001b[0m \u001b[1;32mif\u001b[0m \u001b[0mword\u001b[0m\u001b[1;33m.\u001b[0m\u001b[0mlemma_\u001b[0m \u001b[1;33m!=\u001b[0m \u001b[1;34m'-PRON-'\u001b[0m \u001b[1;32melse\u001b[0m \u001b[0mword\u001b[0m\u001b[1;33m.\u001b[0m\u001b[0mtext\u001b[0m \u001b[1;32mfor\u001b[0m \u001b[0mword\u001b[0m \u001b[1;32min\u001b[0m \u001b[0mtext\u001b[0m\u001b[1;33m]\u001b[0m\u001b[1;33m)\u001b[0m\u001b[1;33m\u001b[0m\u001b[1;33m\u001b[0m\u001b[0m\n\u001b[0;32m      4\u001b[0m     \u001b[1;32mreturn\u001b[0m \u001b[0mtext\u001b[0m\u001b[1;33m\u001b[0m\u001b[1;33m\u001b[0m\u001b[0m\n\u001b[0;32m      5\u001b[0m \u001b[1;33m\u001b[0m\u001b[0m\n",
      "\u001b[1;31mNameError\u001b[0m: name 'nlp' is not defined"
     ]
    }
   ],
   "source": [
    "def lemmatize_text(text):\n",
    "    text = nlp(text)\n",
    "    text = ' '.join([word.lemma_ if word.lemma_ != '-PRON-' else word.text for word in text])\n",
    "    return text\n",
    "\n",
    "lemmatize_text(\"My system keeps crashing! his crashed yesterday, ours crashes daily\")"
   ]
  },
  {
   "cell_type": "markdown",
   "metadata": {
    "id": "24YusLMbPYLH"
   },
   "source": [
    "## 3.5. Text stemming"
   ]
  },
  {
   "cell_type": "code",
   "execution_count": null,
   "metadata": {
    "colab": {
     "base_uri": "https://localhost:8080/",
     "height": 35
    },
    "id": "DBqiNMa_1sZf",
    "outputId": "c86540bf-d138-4bd9-f771-315b092282d4"
   },
   "outputs": [
    {
     "data": {
      "application/vnd.google.colaboratory.intrinsic+json": {
       "type": "string"
      },
      "text/plain": [
       "'My system keep crash hi crash yesterday, our crash daili'"
      ]
     },
     "execution_count": 20,
     "metadata": {},
     "output_type": "execute_result"
    }
   ],
   "source": [
    "def simple_stemmer(text):\n",
    "    ps = nltk.porter.PorterStemmer()\n",
    "    text = ' '.join([ps.stem(word) for word in text.split()])\n",
    "    return text\n",
    "\n",
    "simple_stemmer(\"My system keeps crashing his crashed yesterday, ours crashes daily\")"
   ]
  },
  {
   "cell_type": "markdown",
   "metadata": {
    "id": "2SsGCHgLPYLI"
   },
   "source": [
    "## 3.6. Remove stopwords"
   ]
  },
  {
   "cell_type": "code",
   "execution_count": null,
   "metadata": {
    "colab": {
     "base_uri": "https://localhost:8080/",
     "height": 35
    },
    "id": "B_5YFCnH1tRg",
    "outputId": "a8b4213e-13bc-44ad-b806-22b009b4f807"
   },
   "outputs": [
    {
     "data": {
      "application/vnd.google.colaboratory.intrinsic+json": {
       "type": "string"
      },
      "text/plain": [
       "', , stopwords , computer not'"
      ]
     },
     "execution_count": 21,
     "metadata": {},
     "output_type": "execute_result"
    }
   ],
   "source": [
    "def remove_stopwords(text, is_lower_case=False):\n",
    "    tokens = tokenizer.tokenize(text)\n",
    "    tokens = [token.strip() for token in tokens]\n",
    "    if is_lower_case:\n",
    "        filtered_tokens = [token for token in tokens if token not in stopword_list]\n",
    "    else:\n",
    "        filtered_tokens = [token for token in tokens if token.lower() not in stopword_list]\n",
    "    filtered_text = ' '.join(filtered_tokens)    \n",
    "    return filtered_text\n",
    "\n",
    "remove_stopwords(\"The, and, if are stopwords, computer is not\")"
   ]
  },
  {
   "cell_type": "markdown",
   "metadata": {
    "id": "YCz0rw5qPYLI"
   },
   "source": [
    "## 3.7. Build a text normalizer"
   ]
  },
  {
   "cell_type": "code",
   "execution_count": null,
   "metadata": {
    "id": "btxjaw8C1udD"
   },
   "outputs": [],
   "source": [
    "def normalize_corpus(corpus, html_stripping=True, contraction_expansion=True,\n",
    "                     accented_char_removal=True, text_lower_case=True, \n",
    "                     text_lemmatization=True, special_char_removal=True, \n",
    "                     stopword_removal=True, remove_digits=True):\n",
    "    \n",
    "    normalized_corpus = []\n",
    "    # normalize each document in the corpus\n",
    "    for doc in corpus:\n",
    "        # strip HTML\n",
    "        if html_stripping:\n",
    "            doc = strip_html_tags(doc)\n",
    "        # remove accented characters\n",
    "        if accented_char_removal:\n",
    "            doc = remove_accented_chars(doc)\n",
    "        # lowercase the text    \n",
    "        if text_lower_case:\n",
    "            doc = doc.lower()\n",
    "        # remove extra newlines\n",
    "        doc = re.sub(r'[\\r|\\n|\\r\\n]+', ' ',doc)\n",
    "        # lemmatize text\n",
    "        if text_lemmatization:\n",
    "            doc = lemmatize_text(doc)\n",
    "        # remove special characters and\\or digits    \n",
    "        if special_char_removal:\n",
    "            # insert spaces between special characters to isolate them    \n",
    "            special_char_pattern = re.compile(r'([{.(-)!}])')\n",
    "            doc = special_char_pattern.sub(\" \\\\1 \", doc)\n",
    "            doc = remove_special_characters(doc, remove_digits=remove_digits)  \n",
    "        # remove extra whitespace\n",
    "        doc = re.sub(' +', ' ', doc)\n",
    "        # remove stopwords\n",
    "        if stopword_removal:\n",
    "            doc = remove_stopwords(doc, is_lower_case=text_lower_case)\n",
    "            \n",
    "        normalized_corpus.append(doc)\n",
    "        \n",
    "    return normalized_corpus"
   ]
  },
  {
   "cell_type": "markdown",
   "metadata": {
    "id": "Nlq-ZxLqPYLK"
   },
   "source": [
    "## 3.8. Pre-process and normalize news articles"
   ]
  },
  {
   "cell_type": "code",
   "execution_count": null,
   "metadata": {
    "colab": {
     "base_uri": "https://localhost:8080/",
     "height": 35
    },
    "id": "OnCqe6Z8xPTK",
    "outputId": "5254c39c-ca25-4771-c253-59076b661cee"
   },
   "outputs": [
    {
     "data": {
      "application/vnd.google.colaboratory.intrinsic+json": {
       "type": "string"
      },
      "text/plain": [
       "'Some important text'"
      ]
     },
     "execution_count": 23,
     "metadata": {},
     "output_type": "execute_result"
    }
   ],
   "source": [
    "def strip_html_tags(text):\n",
    "    soup = BeautifulSoup(text, \"html.parser\")\n",
    "    stripped_text = soup.get_text()\n",
    "    return stripped_text\n",
    "\n",
    "strip_html_tags('<html><h2>Some important text</h2></html>')"
   ]
  },
  {
   "cell_type": "code",
   "execution_count": null,
   "metadata": {
    "colab": {
     "base_uri": "https://localhost:8080/"
    },
    "id": "p0d1OY481vvp",
    "outputId": "6127a2c8-8451-477c-f03f-3aa25bc20fab"
   },
   "outputs": [
    {
     "data": {
      "text/plain": [
       "{'clean_text': 'paytm ceo vijay shekhar sharma visits tirupati temple ipo day share pic paytm founder ceo vijay shekhar sharma visited tirumala temple tirupati monday company open ipo large ever public issue history indian capital market meet sh jawahar reddy executive officer tirumala tirupati devasthanam tirupati come seek blessing god paytm family sharma tweet',\n",
       " 'full_text': 'Paytm CEO Vijay Shekhar Sharma visits Tirupati temple on IPO day, shares pic. Paytm Founder and CEO Vijay Shekhar Sharma visited Tirumala temple in Tirupati on Monday as his company opened its IPO, the largest-ever public issue in the history of Indian capital markets. \"Just met Sh. Jawahar Reddy Executive Officer, Tirumala Tirupati Devasthanams in Tirupati as I have come here to seek blessing of God for all of Paytm family,\" Sharma tweeted.'}"
      ]
     },
     "execution_count": 24,
     "metadata": {},
     "output_type": "execute_result"
    }
   ],
   "source": [
    "news_df['full_text'] = news_df[\"news_headline\"].map(str)+ '. ' + news_df[\"news_article\"]\n",
    "\n",
    "news_df['clean_text'] = normalize_corpus(news_df['full_text'])\n",
    "norm_corpus = list(news_df['clean_text'])\n",
    "news_df.iloc[1][['full_text', 'clean_text']].to_dict()"
   ]
  },
  {
   "cell_type": "markdown",
   "metadata": {
    "id": "2TCjX2vpPYLM"
   },
   "source": [
    "# Save the news articles"
   ]
  },
  {
   "cell_type": "code",
   "execution_count": null,
   "metadata": {
    "id": "lDWRErl-1xBm"
   },
   "outputs": [],
   "source": [
    "news_df.to_csv('news.csv', index=False, encoding='utf-8')"
   ]
  },
  {
   "cell_type": "markdown",
   "metadata": {
    "id": "EHRAQiAA0SAV"
   },
   "source": [
    "# Read the data"
   ]
  },
  {
   "cell_type": "code",
   "execution_count": null,
   "metadata": {
    "id": "7T2IAbU_1x_D"
   },
   "outputs": [],
   "source": [
    "news_df = pd.read_csv('news.csv')"
   ]
  },
  {
   "cell_type": "markdown",
   "metadata": {
    "id": "7wWC6vaePYLN"
   },
   "source": [
    "## 3.9.Tagging Parts of Speech"
   ]
  },
  {
   "cell_type": "code",
   "execution_count": null,
   "metadata": {
    "id": "me7cOc241zek"
   },
   "outputs": [],
   "source": [
    "corpus = normalize_corpus(news_df['full_text'], text_lower_case=False, \n",
    "                          text_lemmatization=False, special_char_removal=False)\n",
    "\n",
    "sentence = str(news_df.iloc[1].news_headline)\n",
    "sentence_nlp = nlp(sentence)"
   ]
  },
  {
   "cell_type": "code",
   "execution_count": null,
   "metadata": {
    "colab": {
     "base_uri": "https://localhost:8080/",
     "height": 483
    },
    "id": "f7cmBYTgxfLZ",
    "outputId": "0d3d5504-eb65-4334-f254-cf14f5b584f4"
   },
   "outputs": [
    {
     "data": {
      "text/html": [
       "<div>\n",
       "<style scoped>\n",
       "    .dataframe tbody tr th:only-of-type {\n",
       "        vertical-align: middle;\n",
       "    }\n",
       "\n",
       "    .dataframe tbody tr th {\n",
       "        vertical-align: top;\n",
       "    }\n",
       "\n",
       "    .dataframe thead th {\n",
       "        text-align: right;\n",
       "    }\n",
       "</style>\n",
       "<table border=\"1\" class=\"dataframe\">\n",
       "  <thead>\n",
       "    <tr style=\"text-align: right;\">\n",
       "      <th></th>\n",
       "      <th>Word</th>\n",
       "      <th>POS tag</th>\n",
       "      <th>Tag type</th>\n",
       "    </tr>\n",
       "  </thead>\n",
       "  <tbody>\n",
       "    <tr>\n",
       "      <th>0</th>\n",
       "      <td>Paytm</td>\n",
       "      <td>NNP</td>\n",
       "      <td>PROPN</td>\n",
       "    </tr>\n",
       "    <tr>\n",
       "      <th>1</th>\n",
       "      <td>CEO</td>\n",
       "      <td>NN</td>\n",
       "      <td>NOUN</td>\n",
       "    </tr>\n",
       "    <tr>\n",
       "      <th>2</th>\n",
       "      <td>Vijay</td>\n",
       "      <td>NN</td>\n",
       "      <td>NOUN</td>\n",
       "    </tr>\n",
       "    <tr>\n",
       "      <th>3</th>\n",
       "      <td>Shekhar</td>\n",
       "      <td>NNP</td>\n",
       "      <td>PROPN</td>\n",
       "    </tr>\n",
       "    <tr>\n",
       "      <th>4</th>\n",
       "      <td>Sharma</td>\n",
       "      <td>NNP</td>\n",
       "      <td>PROPN</td>\n",
       "    </tr>\n",
       "    <tr>\n",
       "      <th>5</th>\n",
       "      <td>visits</td>\n",
       "      <td>NNS</td>\n",
       "      <td>NOUN</td>\n",
       "    </tr>\n",
       "    <tr>\n",
       "      <th>6</th>\n",
       "      <td>Tirupati</td>\n",
       "      <td>NNP</td>\n",
       "      <td>PROPN</td>\n",
       "    </tr>\n",
       "    <tr>\n",
       "      <th>7</th>\n",
       "      <td>temple</td>\n",
       "      <td>NN</td>\n",
       "      <td>NOUN</td>\n",
       "    </tr>\n",
       "    <tr>\n",
       "      <th>8</th>\n",
       "      <td>on</td>\n",
       "      <td>IN</td>\n",
       "      <td>ADP</td>\n",
       "    </tr>\n",
       "    <tr>\n",
       "      <th>9</th>\n",
       "      <td>IPO</td>\n",
       "      <td>NNP</td>\n",
       "      <td>PROPN</td>\n",
       "    </tr>\n",
       "    <tr>\n",
       "      <th>10</th>\n",
       "      <td>day</td>\n",
       "      <td>NN</td>\n",
       "      <td>NOUN</td>\n",
       "    </tr>\n",
       "    <tr>\n",
       "      <th>11</th>\n",
       "      <td>,</td>\n",
       "      <td>,</td>\n",
       "      <td>PUNCT</td>\n",
       "    </tr>\n",
       "    <tr>\n",
       "      <th>12</th>\n",
       "      <td>shares</td>\n",
       "      <td>NNS</td>\n",
       "      <td>NOUN</td>\n",
       "    </tr>\n",
       "    <tr>\n",
       "      <th>13</th>\n",
       "      <td>pic</td>\n",
       "      <td>NN</td>\n",
       "      <td>NOUN</td>\n",
       "    </tr>\n",
       "  </tbody>\n",
       "</table>\n",
       "</div>"
      ],
      "text/plain": [
       "        Word POS tag Tag type\n",
       "0      Paytm     NNP    PROPN\n",
       "1        CEO      NN     NOUN\n",
       "2      Vijay      NN     NOUN\n",
       "3    Shekhar     NNP    PROPN\n",
       "4     Sharma     NNP    PROPN\n",
       "5     visits     NNS     NOUN\n",
       "6   Tirupati     NNP    PROPN\n",
       "7     temple      NN     NOUN\n",
       "8         on      IN      ADP\n",
       "9        IPO     NNP    PROPN\n",
       "10       day      NN     NOUN\n",
       "11         ,       ,    PUNCT\n",
       "12    shares     NNS     NOUN\n",
       "13       pic      NN     NOUN"
      ]
     },
     "execution_count": 28,
     "metadata": {},
     "output_type": "execute_result"
    }
   ],
   "source": [
    "spacy_pos_tagged = [(word, word.tag_, word.pos_) for word in sentence_nlp]\n",
    "pd.DataFrame(spacy_pos_tagged, columns=['Word', 'POS tag', 'Tag type'])"
   ]
  },
  {
   "cell_type": "markdown",
   "metadata": {
    "id": "wrKbQwrCPYLS"
   },
   "source": [
    "## 3.10.Named Entity Recognition"
   ]
  },
  {
   "cell_type": "code",
   "execution_count": 25,
   "metadata": {
    "colab": {
     "base_uri": "https://localhost:8080/",
     "height": 69
    },
    "id": "I7BbxC9O11qW",
    "outputId": "3a5f31b8-080f-4005-e00d-c34479695918"
   },
   "outputs": [
    {
     "ename": "AttributeError",
     "evalue": "'Series' object has no attribute 'full_text'",
     "output_type": "error",
     "traceback": [
      "\u001b[1;31m---------------------------------------------------------------------------\u001b[0m",
      "\u001b[1;31mAttributeError\u001b[0m                            Traceback (most recent call last)",
      "\u001b[1;32m<ipython-input-25-a22119f0a762>\u001b[0m in \u001b[0;36m<module>\u001b[1;34m\u001b[0m\n\u001b[1;32m----> 1\u001b[1;33m \u001b[0msentence\u001b[0m \u001b[1;33m=\u001b[0m \u001b[0mstr\u001b[0m\u001b[1;33m(\u001b[0m\u001b[0mnews_df\u001b[0m\u001b[1;33m.\u001b[0m\u001b[0miloc\u001b[0m\u001b[1;33m[\u001b[0m\u001b[1;36m1\u001b[0m\u001b[1;33m]\u001b[0m\u001b[1;33m.\u001b[0m\u001b[0mfull_text\u001b[0m\u001b[1;33m)\u001b[0m\u001b[1;33m\u001b[0m\u001b[1;33m\u001b[0m\u001b[0m\n\u001b[0m\u001b[0;32m      2\u001b[0m \u001b[0msentence\u001b[0m\u001b[1;33m\u001b[0m\u001b[1;33m\u001b[0m\u001b[0m\n",
      "\u001b[1;32m~\\anaconda3\\lib\\site-packages\\pandas\\core\\generic.py\u001b[0m in \u001b[0;36m__getattr__\u001b[1;34m(self, name)\u001b[0m\n\u001b[0;32m   5137\u001b[0m             \u001b[1;32mif\u001b[0m \u001b[0mself\u001b[0m\u001b[1;33m.\u001b[0m\u001b[0m_info_axis\u001b[0m\u001b[1;33m.\u001b[0m\u001b[0m_can_hold_identifiers_and_holds_name\u001b[0m\u001b[1;33m(\u001b[0m\u001b[0mname\u001b[0m\u001b[1;33m)\u001b[0m\u001b[1;33m:\u001b[0m\u001b[1;33m\u001b[0m\u001b[1;33m\u001b[0m\u001b[0m\n\u001b[0;32m   5138\u001b[0m                 \u001b[1;32mreturn\u001b[0m \u001b[0mself\u001b[0m\u001b[1;33m[\u001b[0m\u001b[0mname\u001b[0m\u001b[1;33m]\u001b[0m\u001b[1;33m\u001b[0m\u001b[1;33m\u001b[0m\u001b[0m\n\u001b[1;32m-> 5139\u001b[1;33m             \u001b[1;32mreturn\u001b[0m \u001b[0mobject\u001b[0m\u001b[1;33m.\u001b[0m\u001b[0m__getattribute__\u001b[0m\u001b[1;33m(\u001b[0m\u001b[0mself\u001b[0m\u001b[1;33m,\u001b[0m \u001b[0mname\u001b[0m\u001b[1;33m)\u001b[0m\u001b[1;33m\u001b[0m\u001b[1;33m\u001b[0m\u001b[0m\n\u001b[0m\u001b[0;32m   5140\u001b[0m \u001b[1;33m\u001b[0m\u001b[0m\n\u001b[0;32m   5141\u001b[0m     \u001b[1;32mdef\u001b[0m \u001b[0m__setattr__\u001b[0m\u001b[1;33m(\u001b[0m\u001b[0mself\u001b[0m\u001b[1;33m,\u001b[0m \u001b[0mname\u001b[0m\u001b[1;33m:\u001b[0m \u001b[0mstr\u001b[0m\u001b[1;33m,\u001b[0m \u001b[0mvalue\u001b[0m\u001b[1;33m)\u001b[0m \u001b[1;33m->\u001b[0m \u001b[1;32mNone\u001b[0m\u001b[1;33m:\u001b[0m\u001b[1;33m\u001b[0m\u001b[1;33m\u001b[0m\u001b[0m\n",
      "\u001b[1;31mAttributeError\u001b[0m: 'Series' object has no attribute 'full_text'"
     ]
    }
   ],
   "source": [
    "sentence = str(news_df.iloc[1].full_text)\n",
    "sentence"
   ]
  },
  {
   "cell_type": "code",
   "execution_count": null,
   "metadata": {
    "colab": {
     "base_uri": "https://localhost:8080/"
    },
    "id": "oBWyhqLdxoRO",
    "outputId": "a0d11299-e341-4b21-ae22-d8c460054916"
   },
   "outputs": [
    {
     "data": {
      "text/plain": [
       "Paytm CEO Vijay Shekhar Sharma visits Tirupati temple on IPO day, shares pic. Paytm Founder and CEO Vijay Shekhar Sharma visited Tirumala temple in Tirupati on Monday as his company opened its IPO, the largest-ever public issue in the history of Indian capital markets. \"Just met Sh. Jawahar Reddy Executive Officer, Tirumala Tirupati Devasthanams in Tirupati as I have come here to seek blessing of God for all of Paytm family,\" Sharma tweeted."
      ]
     },
     "execution_count": 30,
     "metadata": {},
     "output_type": "execute_result"
    }
   ],
   "source": [
    "sentence_nlp = nlp(sentence)\n",
    "sentence_nlp"
   ]
  },
  {
   "cell_type": "code",
   "execution_count": null,
   "metadata": {
    "colab": {
     "base_uri": "https://localhost:8080/"
    },
    "id": "G1OQnXeyxwOL",
    "outputId": "3ee8567e-f937-44ab-cfd1-dff7bb7dcaf4"
   },
   "outputs": [
    {
     "name": "stdout",
     "output_type": "stream",
     "text": [
      "[(Paytm, 'ORG'), (Vijay, 'PERSON'), (Shekhar, 'PERSON'), (Sharma, 'PERSON'), (Tirupati, 'GPE'), (IPO, 'DATE'), (day, 'DATE'), (Paytm, 'ORG'), (Founder, 'ORG'), (Vijay, 'PERSON'), (Shekhar, 'PERSON'), (Sharma, 'PERSON'), (Tirumala, 'FAC'), (temple, 'FAC'), (Tirupati, 'GPE'), (Monday, 'DATE'), (IPO, 'ORG'), (Indian, 'NORP'), (Jawahar, 'PERSON'), (Reddy, 'PERSON'), (Tirumala, 'PERSON'), (Tirupati, 'PERSON'), (Devasthanams, 'PERSON'), (Tirupati, 'GPE'), (Paytm, 'PERSON'), (Sharma, 'PERSON')]\n"
     ]
    }
   ],
   "source": [
    "print([(word, word.ent_type_) for word in sentence_nlp if word.ent_type_])"
   ]
  },
  {
   "cell_type": "code",
   "execution_count": null,
   "metadata": {
    "id": "XYW9jZ2Nxyfm"
   },
   "outputs": [],
   "source": [
    "named_entities = []\n",
    "for sentence in corpus:\n",
    "    temp_entity_name = ''\n",
    "    temp_named_entity = None\n",
    "    sentence = nlp(sentence)\n",
    "    for word in sentence:\n",
    "        term = word.text \n",
    "        tag = word.ent_type_\n",
    "        if tag:\n",
    "            temp_entity_name = ' '.join([temp_entity_name, term]).strip()\n",
    "            temp_named_entity = (temp_entity_name, tag)\n",
    "        else:\n",
    "            if temp_named_entity:\n",
    "                named_entities.append(temp_named_entity)\n",
    "                temp_entity_name = ''\n",
    "                temp_named_entity = None\n",
    "\n",
    "entity_frame = pd.DataFrame(named_entities, \n",
    "                            columns=['Entity Name', 'Entity Type'])"
   ]
  },
  {
   "cell_type": "code",
   "execution_count": null,
   "metadata": {
    "colab": {
     "base_uri": "https://localhost:8080/",
     "height": 142
    },
    "id": "jwjaPBlVxyjn",
    "outputId": "90ac984e-3330-4548-9d42-297edce6dc5e"
   },
   "outputs": [
    {
     "data": {
      "text/html": [
       "<div>\n",
       "<style scoped>\n",
       "    .dataframe tbody tr th:only-of-type {\n",
       "        vertical-align: middle;\n",
       "    }\n",
       "\n",
       "    .dataframe tbody tr th {\n",
       "        vertical-align: top;\n",
       "    }\n",
       "\n",
       "    .dataframe thead th {\n",
       "        text-align: right;\n",
       "    }\n",
       "</style>\n",
       "<table border=\"1\" class=\"dataframe\">\n",
       "  <thead>\n",
       "    <tr style=\"text-align: right;\">\n",
       "      <th></th>\n",
       "      <th>0</th>\n",
       "      <th>1</th>\n",
       "      <th>2</th>\n",
       "      <th>3</th>\n",
       "      <th>4</th>\n",
       "      <th>5</th>\n",
       "      <th>6</th>\n",
       "      <th>7</th>\n",
       "      <th>8</th>\n",
       "      <th>9</th>\n",
       "      <th>10</th>\n",
       "      <th>11</th>\n",
       "      <th>12</th>\n",
       "      <th>13</th>\n",
       "      <th>14</th>\n",
       "    </tr>\n",
       "  </thead>\n",
       "  <tbody>\n",
       "    <tr>\n",
       "      <th>Entity Name</th>\n",
       "      <td>India</td>\n",
       "      <td>US</td>\n",
       "      <td>Afghanistan</td>\n",
       "      <td>T20 World Cup 2021</td>\n",
       "      <td>Taliban</td>\n",
       "      <td>three</td>\n",
       "      <td>Bitcoin</td>\n",
       "      <td>Virat Kohli</td>\n",
       "      <td>Namibia</td>\n",
       "      <td>Monday</td>\n",
       "      <td>3</td>\n",
       "      <td>first</td>\n",
       "      <td>WhatsApp</td>\n",
       "      <td>Team India</td>\n",
       "      <td>China</td>\n",
       "    </tr>\n",
       "    <tr>\n",
       "      <th>Entity Type</th>\n",
       "      <td>GPE</td>\n",
       "      <td>GPE</td>\n",
       "      <td>GPE</td>\n",
       "      <td>EVENT</td>\n",
       "      <td>ORG</td>\n",
       "      <td>CARDINAL</td>\n",
       "      <td>GPE</td>\n",
       "      <td>PERSON</td>\n",
       "      <td>GPE</td>\n",
       "      <td>DATE</td>\n",
       "      <td>CARDINAL</td>\n",
       "      <td>ORDINAL</td>\n",
       "      <td>ORG</td>\n",
       "      <td>ORG</td>\n",
       "      <td>GPE</td>\n",
       "    </tr>\n",
       "    <tr>\n",
       "      <th>Frequency</th>\n",
       "      <td>31</td>\n",
       "      <td>23</td>\n",
       "      <td>9</td>\n",
       "      <td>8</td>\n",
       "      <td>8</td>\n",
       "      <td>8</td>\n",
       "      <td>8</td>\n",
       "      <td>7</td>\n",
       "      <td>7</td>\n",
       "      <td>7</td>\n",
       "      <td>7</td>\n",
       "      <td>6</td>\n",
       "      <td>6</td>\n",
       "      <td>6</td>\n",
       "      <td>6</td>\n",
       "    </tr>\n",
       "  </tbody>\n",
       "</table>\n",
       "</div>"
      ],
      "text/plain": [
       "                0    1            2   ...        12          13     14\n",
       "Entity Name  India   US  Afghanistan  ...  WhatsApp  Team India  China\n",
       "Entity Type    GPE  GPE          GPE  ...       ORG         ORG    GPE\n",
       "Frequency       31   23            9  ...         6           6      6\n",
       "\n",
       "[3 rows x 15 columns]"
      ]
     },
     "execution_count": 33,
     "metadata": {},
     "output_type": "execute_result"
    }
   ],
   "source": [
    "top_entities = (entity_frame.groupby(by=['Entity Name', 'Entity Type'])\n",
    "                           .size()\n",
    "                           .sort_values(ascending=False)\n",
    "                           .reset_index().rename(columns={0 : 'Frequency'}))\n",
    "top_entities.T.iloc[:,:15]"
   ]
  },
  {
   "cell_type": "code",
   "execution_count": null,
   "metadata": {
    "colab": {
     "base_uri": "https://localhost:8080/",
     "height": 111
    },
    "id": "avXSZ-hmx4Ve",
    "outputId": "cea3ed60-d33e-446b-bcbf-80a8c396371c"
   },
   "outputs": [
    {
     "data": {
      "text/html": [
       "<div>\n",
       "<style scoped>\n",
       "    .dataframe tbody tr th:only-of-type {\n",
       "        vertical-align: middle;\n",
       "    }\n",
       "\n",
       "    .dataframe tbody tr th {\n",
       "        vertical-align: top;\n",
       "    }\n",
       "\n",
       "    .dataframe thead th {\n",
       "        text-align: right;\n",
       "    }\n",
       "</style>\n",
       "<table border=\"1\" class=\"dataframe\">\n",
       "  <thead>\n",
       "    <tr style=\"text-align: right;\">\n",
       "      <th></th>\n",
       "      <th>0</th>\n",
       "      <th>1</th>\n",
       "      <th>2</th>\n",
       "      <th>3</th>\n",
       "      <th>4</th>\n",
       "      <th>5</th>\n",
       "      <th>6</th>\n",
       "      <th>7</th>\n",
       "      <th>8</th>\n",
       "      <th>9</th>\n",
       "      <th>10</th>\n",
       "      <th>11</th>\n",
       "      <th>12</th>\n",
       "      <th>13</th>\n",
       "      <th>14</th>\n",
       "    </tr>\n",
       "  </thead>\n",
       "  <tbody>\n",
       "    <tr>\n",
       "      <th>Entity Type</th>\n",
       "      <td>ORG</td>\n",
       "      <td>GPE</td>\n",
       "      <td>PERSON</td>\n",
       "      <td>DATE</td>\n",
       "      <td>CARDINAL</td>\n",
       "      <td>NORP</td>\n",
       "      <td>MONEY</td>\n",
       "      <td>EVENT</td>\n",
       "      <td>ORDINAL</td>\n",
       "      <td>LOC</td>\n",
       "      <td>PERCENT</td>\n",
       "      <td>TIME</td>\n",
       "      <td>LAW</td>\n",
       "      <td>PRODUCT</td>\n",
       "      <td>FAC</td>\n",
       "    </tr>\n",
       "    <tr>\n",
       "      <th>Frequency</th>\n",
       "      <td>154</td>\n",
       "      <td>152</td>\n",
       "      <td>121</td>\n",
       "      <td>70</td>\n",
       "      <td>63</td>\n",
       "      <td>39</td>\n",
       "      <td>26</td>\n",
       "      <td>23</td>\n",
       "      <td>15</td>\n",
       "      <td>11</td>\n",
       "      <td>9</td>\n",
       "      <td>3</td>\n",
       "      <td>3</td>\n",
       "      <td>3</td>\n",
       "      <td>3</td>\n",
       "    </tr>\n",
       "  </tbody>\n",
       "</table>\n",
       "</div>"
      ],
      "text/plain": [
       "              0    1       2     3         4   ...       10    11   12       13   14\n",
       "Entity Type  ORG  GPE  PERSON  DATE  CARDINAL  ...  PERCENT  TIME  LAW  PRODUCT  FAC\n",
       "Frequency    154  152     121    70        63  ...        9     3    3        3    3\n",
       "\n",
       "[2 rows x 15 columns]"
      ]
     },
     "execution_count": 34,
     "metadata": {},
     "output_type": "execute_result"
    }
   ],
   "source": [
    "top_entities = (entity_frame.groupby(by=['Entity Type'])\n",
    "                           .size()\n",
    "                           .sort_values(ascending=False)\n",
    "                           .reset_index().rename(columns={0 : 'Frequency'}))\n",
    "top_entities.T.iloc[:,:15]"
   ]
  },
  {
   "cell_type": "markdown",
   "metadata": {
    "id": "TkYL18YhPYLW"
   },
   "source": [
    "# 4.Emotion and Sentiment Analysis"
   ]
  },
  {
   "cell_type": "code",
   "execution_count": null,
   "metadata": {
    "id": "PuoOPa1B13x9"
   },
   "outputs": [],
   "source": [
    "from afinn import Afinn"
   ]
  },
  {
   "cell_type": "code",
   "execution_count": null,
   "metadata": {
    "id": "Zd5CWg0CyCJ_"
   },
   "outputs": [],
   "source": [
    "af = Afinn()"
   ]
  },
  {
   "cell_type": "code",
   "execution_count": null,
   "metadata": {
    "id": "G2__XoreyCMj"
   },
   "outputs": [],
   "source": [
    "sentiment_scores = [af.score(article) for article in corpus]"
   ]
  },
  {
   "cell_type": "code",
   "execution_count": null,
   "metadata": {
    "id": "9VkjRFzdyCPE"
   },
   "outputs": [],
   "source": [
    "sentiment_category = ['positive' if score > 0 \n",
    "                          else 'negative' if score < 0 \n",
    "                              else 'neutral' \n",
    "                                  for score in sentiment_scores]"
   ]
  },
  {
   "cell_type": "code",
   "execution_count": null,
   "metadata": {
    "id": "hCmZQnqYyCRe"
   },
   "outputs": [],
   "source": [
    "df = pd.DataFrame([list(news_df['news_category']), sentiment_scores, sentiment_category]).T"
   ]
  },
  {
   "cell_type": "code",
   "execution_count": null,
   "metadata": {
    "id": "eU86sEhNyJK7"
   },
   "outputs": [],
   "source": [
    "df.columns = ['news_category', 'sentiment_score', 'sentiment_category']"
   ]
  },
  {
   "cell_type": "code",
   "execution_count": null,
   "metadata": {
    "id": "UYoUWwfIyJN5"
   },
   "outputs": [],
   "source": [
    "df['sentiment_score'] = df.sentiment_score.astype('float')"
   ]
  },
  {
   "cell_type": "code",
   "execution_count": null,
   "metadata": {
    "colab": {
     "base_uri": "https://localhost:8080/",
     "height": 204
    },
    "id": "tijZejhOyJQI",
    "outputId": "ccf67095-6695-4a38-b499-1a5f40264e23"
   },
   "outputs": [
    {
     "data": {
      "text/html": [
       "<div>\n",
       "<style scoped>\n",
       "    .dataframe tbody tr th:only-of-type {\n",
       "        vertical-align: middle;\n",
       "    }\n",
       "\n",
       "    .dataframe tbody tr th {\n",
       "        vertical-align: top;\n",
       "    }\n",
       "\n",
       "    .dataframe thead tr th {\n",
       "        text-align: left;\n",
       "    }\n",
       "\n",
       "    .dataframe thead tr:last-of-type th {\n",
       "        text-align: right;\n",
       "    }\n",
       "</style>\n",
       "<table border=\"1\" class=\"dataframe\">\n",
       "  <thead>\n",
       "    <tr>\n",
       "      <th></th>\n",
       "      <th colspan=\"8\" halign=\"left\">sentiment_score</th>\n",
       "    </tr>\n",
       "    <tr>\n",
       "      <th></th>\n",
       "      <th>count</th>\n",
       "      <th>mean</th>\n",
       "      <th>std</th>\n",
       "      <th>min</th>\n",
       "      <th>25%</th>\n",
       "      <th>50%</th>\n",
       "      <th>75%</th>\n",
       "      <th>max</th>\n",
       "    </tr>\n",
       "    <tr>\n",
       "      <th>news_category</th>\n",
       "      <th></th>\n",
       "      <th></th>\n",
       "      <th></th>\n",
       "      <th></th>\n",
       "      <th></th>\n",
       "      <th></th>\n",
       "      <th></th>\n",
       "      <th></th>\n",
       "    </tr>\n",
       "  </thead>\n",
       "  <tbody>\n",
       "    <tr>\n",
       "      <th>sports</th>\n",
       "      <td>25.0</td>\n",
       "      <td>3.20</td>\n",
       "      <td>6.171170</td>\n",
       "      <td>-6.0</td>\n",
       "      <td>0.0</td>\n",
       "      <td>2.0</td>\n",
       "      <td>5.0</td>\n",
       "      <td>23.0</td>\n",
       "    </tr>\n",
       "    <tr>\n",
       "      <th>technology</th>\n",
       "      <td>25.0</td>\n",
       "      <td>0.84</td>\n",
       "      <td>6.222808</td>\n",
       "      <td>-12.0</td>\n",
       "      <td>-1.0</td>\n",
       "      <td>1.0</td>\n",
       "      <td>3.0</td>\n",
       "      <td>20.0</td>\n",
       "    </tr>\n",
       "    <tr>\n",
       "      <th>world</th>\n",
       "      <td>25.0</td>\n",
       "      <td>-4.92</td>\n",
       "      <td>6.264450</td>\n",
       "      <td>-19.0</td>\n",
       "      <td>-9.0</td>\n",
       "      <td>-4.0</td>\n",
       "      <td>0.0</td>\n",
       "      <td>6.0</td>\n",
       "    </tr>\n",
       "  </tbody>\n",
       "</table>\n",
       "</div>"
      ],
      "text/plain": [
       "              sentiment_score                                           \n",
       "                        count  mean       std   min  25%  50%  75%   max\n",
       "news_category                                                           \n",
       "sports                   25.0  3.20  6.171170  -6.0  0.0  2.0  5.0  23.0\n",
       "technology               25.0  0.84  6.222808 -12.0 -1.0  1.0  3.0  20.0\n",
       "world                    25.0 -4.92  6.264450 -19.0 -9.0 -4.0  0.0   6.0"
      ]
     },
     "execution_count": 45,
     "metadata": {},
     "output_type": "execute_result"
    }
   ],
   "source": [
    "df.groupby(by=['news_category']).describe()"
   ]
  },
  {
   "cell_type": "code",
   "execution_count": null,
   "metadata": {
    "id": "uuGr_9CZyCTu"
   },
   "outputs": [],
   "source": [
    "pos_idx = df[(df.news_category=='technology') & (df.sentiment_score >= 0)].index[0]\n",
    "neg_idx = df[(df.news_category=='technology') & (df.sentiment_score <= 0)].index[0]"
   ]
  },
  {
   "cell_type": "code",
   "execution_count": null,
   "metadata": {
    "colab": {
     "base_uri": "https://localhost:8080/"
    },
    "id": "YRkufslwydHg",
    "outputId": "32792cb3-a8fa-463a-91c1-774c1b7dd61b"
   },
   "outputs": [
    {
     "name": "stdout",
     "output_type": "stream",
     "text": [
      "Most Negative Tech News Article: Google's parent company Alphabet on Monday breached a market capitalisation of $2 trillion for the first time ever after its Class A shares rallied to a record high. Alphabet hit $1 trillion in value for the first time in January 2020. Alphabet joins the club of Apple and Microsoft, the only other American companies that have surpassed $2 trillion value.\n",
      "\n",
      "Most Positive Tech News Article: Tesla CEO Elon Musk should sell about 10% of his Tesla stock, according to 57.9% of people who voted on his Twitter poll asking social media users whether he should offload the stake. The poll garnered over 3.5 million votes. Earlier, US Senate Democrats unveiled a proposal to tax billionaires' stocks and other tradeable assets which was criticised by Musk.\n"
     ]
    }
   ],
   "source": [
    "print('Most Negative Tech News Article:', news_df.iloc[neg_idx][['news_article']][0])\n",
    "print()\n",
    "print('Most Positive Tech News Article:', news_df.iloc[pos_idx][['news_article']][0])"
   ]
  },
  {
   "cell_type": "code",
   "execution_count": null,
   "metadata": {
    "colab": {
     "base_uri": "https://localhost:8080/"
    },
    "id": "kbRpS-UmydKZ",
    "outputId": "8743592a-7150-43ab-9826-e15aa38964a5"
   },
   "outputs": [
    {
     "data": {
      "text/plain": [
       "array([  0., -11.,   6.,  -9., -18.,  -3.,  -4., -10.,  -5.,  -2.,   2.,\n",
       "       -13.,   3., -19.,  -8.])"
      ]
     },
     "execution_count": 48,
     "metadata": {},
     "output_type": "execute_result"
    }
   ],
   "source": [
    "df1 = df[df.news_category=='world']\n",
    "pd.unique(df1.sentiment_score)"
   ]
  },
  {
   "cell_type": "code",
   "execution_count": null,
   "metadata": {
    "colab": {
     "base_uri": "https://localhost:8080/"
    },
    "id": "mOc0xpO_ydMi",
    "outputId": "f0c48a6b-0021-4162-c77d-790aa8243c08"
   },
   "outputs": [
    {
     "name": "stdout",
     "output_type": "stream",
     "text": [
      "Most Negative World News Article: Satellite images have shown that the Chinese military has built mockups in the shape of a US Navy aircraft carrier and other US warships in the desert of Xinjiang. The mockups have been built possibly for target training amid reported tensions between the two countries over Taiwan and the South China Sea.\n",
      "\n",
      "Most Positive World News Article: Satellite images have shown that the Chinese military has built mockups in the shape of a US Navy aircraft carrier and other US warships in the desert of Xinjiang. The mockups have been built possibly for target training amid reported tensions between the two countries over Taiwan and the South China Sea.\n"
     ]
    }
   ],
   "source": [
    "pos_idx = df[(df.news_category=='world') & (df.sentiment_score == 0)].index[0]\n",
    "neg_idx = df[(df.news_category=='world') & (df.sentiment_score == 0)].index[0]\n",
    "\n",
    "print('Most Negative World News Article:', news_df.iloc[neg_idx][['news_article']][0])\n",
    "print()\n",
    "print('Most Positive World News Article:', news_df.iloc[pos_idx][['news_article']][0])"
   ]
  },
  {
   "cell_type": "code",
   "execution_count": null,
   "metadata": {
    "id": "OrxlzuLPydOm"
   },
   "outputs": [],
   "source": [
    "from textblob import TextBlob"
   ]
  },
  {
   "cell_type": "code",
   "execution_count": null,
   "metadata": {
    "id": "p9RjJyZZzLrQ"
   },
   "outputs": [],
   "source": [
    "sentiment_scores_tb = [round(TextBlob(article).sentiment.polarity, 3) for article in news_df['clean_text']]"
   ]
  },
  {
   "cell_type": "code",
   "execution_count": null,
   "metadata": {
    "id": "lZfdmHNwzLxz"
   },
   "outputs": [],
   "source": [
    "sentiment_category_tb = ['positive' if score > 0 \n",
    "                             else 'negative' if score < 0 \n",
    "                                 else 'neutral' \n",
    "                                     for score in sentiment_scores_tb]"
   ]
  },
  {
   "cell_type": "code",
   "execution_count": null,
   "metadata": {
    "colab": {
     "base_uri": "https://localhost:8080/",
     "height": 204
    },
    "id": "CdA48Z0rzL02",
    "outputId": "b1e56fc2-bbb6-4e65-b3cd-85422ffc8550"
   },
   "outputs": [
    {
     "data": {
      "text/html": [
       "<div>\n",
       "<style scoped>\n",
       "    .dataframe tbody tr th:only-of-type {\n",
       "        vertical-align: middle;\n",
       "    }\n",
       "\n",
       "    .dataframe tbody tr th {\n",
       "        vertical-align: top;\n",
       "    }\n",
       "\n",
       "    .dataframe thead tr th {\n",
       "        text-align: left;\n",
       "    }\n",
       "\n",
       "    .dataframe thead tr:last-of-type th {\n",
       "        text-align: right;\n",
       "    }\n",
       "</style>\n",
       "<table border=\"1\" class=\"dataframe\">\n",
       "  <thead>\n",
       "    <tr>\n",
       "      <th></th>\n",
       "      <th colspan=\"8\" halign=\"left\">sentiment_score</th>\n",
       "    </tr>\n",
       "    <tr>\n",
       "      <th></th>\n",
       "      <th>count</th>\n",
       "      <th>mean</th>\n",
       "      <th>std</th>\n",
       "      <th>min</th>\n",
       "      <th>25%</th>\n",
       "      <th>50%</th>\n",
       "      <th>75%</th>\n",
       "      <th>max</th>\n",
       "    </tr>\n",
       "    <tr>\n",
       "      <th>news_category</th>\n",
       "      <th></th>\n",
       "      <th></th>\n",
       "      <th></th>\n",
       "      <th></th>\n",
       "      <th></th>\n",
       "      <th></th>\n",
       "      <th></th>\n",
       "      <th></th>\n",
       "    </tr>\n",
       "  </thead>\n",
       "  <tbody>\n",
       "    <tr>\n",
       "      <th>sports</th>\n",
       "      <td>25.0</td>\n",
       "      <td>0.16788</td>\n",
       "      <td>0.251282</td>\n",
       "      <td>-0.316</td>\n",
       "      <td>0.033</td>\n",
       "      <td>0.150</td>\n",
       "      <td>0.266</td>\n",
       "      <td>0.800</td>\n",
       "    </tr>\n",
       "    <tr>\n",
       "      <th>technology</th>\n",
       "      <td>25.0</td>\n",
       "      <td>0.07756</td>\n",
       "      <td>0.146140</td>\n",
       "      <td>-0.217</td>\n",
       "      <td>0.008</td>\n",
       "      <td>0.071</td>\n",
       "      <td>0.144</td>\n",
       "      <td>0.425</td>\n",
       "    </tr>\n",
       "    <tr>\n",
       "      <th>world</th>\n",
       "      <td>25.0</td>\n",
       "      <td>0.03408</td>\n",
       "      <td>0.158036</td>\n",
       "      <td>-0.517</td>\n",
       "      <td>-0.013</td>\n",
       "      <td>0.038</td>\n",
       "      <td>0.134</td>\n",
       "      <td>0.358</td>\n",
       "    </tr>\n",
       "  </tbody>\n",
       "</table>\n",
       "</div>"
      ],
      "text/plain": [
       "              sentiment_score                     ...                     \n",
       "                        count     mean       std  ...    50%    75%    max\n",
       "news_category                                     ...                     \n",
       "sports                   25.0  0.16788  0.251282  ...  0.150  0.266  0.800\n",
       "technology               25.0  0.07756  0.146140  ...  0.071  0.144  0.425\n",
       "world                    25.0  0.03408  0.158036  ...  0.038  0.134  0.358\n",
       "\n",
       "[3 rows x 8 columns]"
      ]
     },
     "execution_count": 53,
     "metadata": {},
     "output_type": "execute_result"
    }
   ],
   "source": [
    "df = pd.DataFrame([list(news_df['news_category']), sentiment_scores_tb, sentiment_category_tb]).T\n",
    "df.columns = ['news_category', 'sentiment_score', 'sentiment_category']\n",
    "df['sentiment_score'] = df.sentiment_score.astype('float')\n",
    "df.groupby(by=['news_category']).describe()"
   ]
  },
  {
   "cell_type": "code",
   "execution_count": null,
   "metadata": {
    "colab": {
     "base_uri": "https://localhost:8080/"
    },
    "id": "gqvBgBuZzL6I",
    "outputId": "33459c5d-deeb-4fee-9e1c-807254fa2ab1"
   },
   "outputs": [
    {
     "name": "stdout",
     "output_type": "stream",
     "text": [
      "Most Negative World News Article: Satellite images have shown that the Chinese military has built mockups in the shape of a US Navy aircraft carrier and other US warships in the desert of Xinjiang. The mockups have been built possibly for target training amid reported tensions between the two countries over Taiwan and the South China Sea.\n",
      "\n",
      "Most Positive World News Article: A 16-year-old girl who went missing in the US has been found after she used a hand signal that went viral on TikTok to show she was in danger. The girl was spotted inside a car in Kentucky. She used the gesture, designed to help domestic abuse victims ask for help, to alert a passing driver, police said.\n"
     ]
    }
   ],
   "source": [
    "pos_idx = df[(df.news_category=='world') & (df.sentiment_score > 0.)].index[0]\n",
    "neg_idx = df[(df.news_category=='world') & (df.sentiment_score < -0.)].index[0]\n",
    "\n",
    "print('Most Negative World News Article:', news_df.iloc[neg_idx][['news_article']][0])\n",
    "print()\n",
    "print('Most Positive World News Article:', news_df.iloc[pos_idx][['news_article']][0])"
   ]
  },
  {
   "cell_type": "code",
   "execution_count": null,
   "metadata": {
    "colab": {
     "base_uri": "https://localhost:8080/"
    },
    "id": "bme6SA632IVR",
    "outputId": "bf5c7f3b-0ab6-4429-969b-0318ec4c3024"
   },
   "outputs": [
    {
     "data": {
      "text/plain": [
       "array([[10,  4, 16],\n",
       "       [ 3,  0,  8],\n",
       "       [ 3,  0, 31]])"
      ]
     },
     "execution_count": 55,
     "metadata": {},
     "output_type": "execute_result"
    }
   ],
   "source": [
    "from sklearn.metrics import confusion_matrix\n",
    "confusion_matrix(sentiment_category, sentiment_category_tb)"
   ]
  }
 ],
 "metadata": {
  "anaconda-cloud": {},
  "colab": {
   "collapsed_sections": [],
   "name": "Session_3_Inclass_Bharath_SOL",
   "provenance": []
  },
  "kernelspec": {
   "display_name": "Python 3",
   "language": "python",
   "name": "python3"
  },
  "language_info": {
   "codemirror_mode": {
    "name": "ipython",
    "version": 3
   },
   "file_extension": ".py",
   "mimetype": "text/x-python",
   "name": "python",
   "nbconvert_exporter": "python",
   "pygments_lexer": "ipython3",
   "version": "3.8.5"
  }
 },
 "nbformat": 4,
 "nbformat_minor": 1
}
