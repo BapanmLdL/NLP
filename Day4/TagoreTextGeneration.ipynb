{
 "cells": [
  {
   "cell_type": "code",
   "execution_count": 1,
   "metadata": {},
   "outputs": [
    {
     "data": {
      "text/plain": [
       "'2.6.0'"
      ]
     },
     "execution_count": 1,
     "metadata": {},
     "output_type": "execute_result"
    }
   ],
   "source": [
    "import tensorflow\n",
    "tensorflow.__version__"
   ]
  },
  {
   "cell_type": "code",
   "execution_count": 2,
   "metadata": {},
   "outputs": [],
   "source": [
    "import glob\n",
    "\n",
    "from sklearn.utils import shuffle\n",
    "import numpy as np\n",
    "\n",
    "from tensorflow.keras.preprocessing.text import Tokenizer\n",
    "from tensorflow.keras.models import Sequential, load_model\n",
    "from tensorflow.keras.layers import LSTM, Dense, Dropout, Embedding, Masking, Bidirectional\n",
    "from tensorflow.keras.optimizers import Adam"
   ]
  },
  {
   "cell_type": "code",
   "execution_count": 5,
   "metadata": {},
   "outputs": [],
   "source": [
    "filelist = glob.glob('D:/NLP_DataSets/Tagore_Data/dat/*.txt')"
   ]
  },
  {
   "cell_type": "code",
   "execution_count": 6,
   "metadata": {},
   "outputs": [
    {
     "data": {
      "text/plain": [
       "68"
      ]
     },
     "execution_count": 6,
     "metadata": {},
     "output_type": "execute_result"
    }
   ],
   "source": [
    "len(filelist)"
   ]
  },
  {
   "cell_type": "code",
   "execution_count": 23,
   "metadata": {},
   "outputs": [],
   "source": [
    "#filelist"
   ]
  },
  {
   "cell_type": "code",
   "execution_count": 9,
   "metadata": {},
   "outputs": [],
   "source": [
    "text_data = []\n",
    "\n",
    "for file in filelist:\n",
    "    \n",
    "    with open(file,\"r\",encoding='utf-8') as file:\n",
    "        \n",
    "        text_data.append(file.read())"
   ]
  },
  {
   "cell_type": "code",
   "execution_count": 11,
   "metadata": {},
   "outputs": [
    {
     "data": {
      "text/plain": [
       "68"
      ]
     },
     "execution_count": 11,
     "metadata": {},
     "output_type": "execute_result"
    }
   ],
   "source": [
    "len(text_data)"
   ]
  },
  {
   "cell_type": "code",
   "execution_count": 12,
   "metadata": {},
   "outputs": [],
   "source": [
    "tokenizer = Tokenizer()\n",
    "tokenizer.fit_on_texts(text_data)"
   ]
  },
  {
   "cell_type": "code",
   "execution_count": 13,
   "metadata": {},
   "outputs": [],
   "source": [
    "word_idx = tokenizer.word_index #Last is the key\n",
    "idx_word = tokenizer.index_word"
   ]
  },
  {
   "cell_type": "code",
   "execution_count": 16,
   "metadata": {},
   "outputs": [],
   "source": [
    "word_counts = tokenizer.word_counts\n",
    "num_words = len(word_counts)"
   ]
  },
  {
   "cell_type": "code",
   "execution_count": 17,
   "metadata": {},
   "outputs": [
    {
     "data": {
      "text/plain": [
       "77433"
      ]
     },
     "execution_count": 17,
     "metadata": {},
     "output_type": "execute_result"
    }
   ],
   "source": [
    "num_words"
   ]
  },
  {
   "cell_type": "code",
   "execution_count": 18,
   "metadata": {},
   "outputs": [],
   "source": [
    "sequences = tokenizer.texts_to_sequences(text_data)"
   ]
  },
  {
   "cell_type": "code",
   "execution_count": 19,
   "metadata": {},
   "outputs": [],
   "source": [
    "features = []\n",
    "labels = []\n",
    "\n",
    "training_length = 50\n",
    "# Iterate through the sequences of tokens\n",
    "for seq in sequences:\n",
    "    # Create multiple training examples from each sequence\n",
    "    for i in range(training_length, training_length+300):\n",
    "        # Extract the features and label\n",
    "        extract = seq[i - training_length: i - training_length + 20]\n",
    "\n",
    "        # Set the features and label\n",
    "        features.append(extract[:-1])\n",
    "        labels.append(extract[-1])"
   ]
  },
  {
   "cell_type": "code",
   "execution_count": 20,
   "metadata": {},
   "outputs": [],
   "source": [
    "from sklearn.utils import shuffle\n",
    "import numpy as np\n",
    "\n",
    "features, labels = shuffle(features, labels, random_state=1)\n",
    "\n",
    "# Decide on number of samples for training\n",
    "train_end = int(0.75 * len(labels))\n",
    "\n",
    "train_features = np.array(features[:train_end])\n",
    "valid_features = np.array(features[train_end:])\n",
    "\n",
    "train_labels = labels[:train_end]\n",
    "valid_labels = labels[train_end:]\n",
    "\n",
    "# Convert to arrays\n",
    "X_train, X_valid = np.array(train_features), np.array(valid_features)\n",
    "\n",
    "# Using int8 for memory savings\n",
    "y_train = np.zeros((len(train_labels), num_words), dtype=np.int8)\n",
    "y_valid = np.zeros((len(valid_labels), num_words), dtype=np.int8)\n",
    "\n",
    "# One hot encoding of labels\n",
    "for example_index, word_index in enumerate(train_labels):\n",
    "    y_train[example_index, word_index] = 1\n",
    "\n",
    "for example_index, word_index in enumerate(valid_labels):\n",
    "    y_valid[example_index, word_index] = 1"
   ]
  },
  {
   "cell_type": "code",
   "execution_count": 21,
   "metadata": {},
   "outputs": [
    {
     "name": "stdout",
     "output_type": "stream",
     "text": [
      "Features: are changing all over the world be sure to check the copyright laws for your country before posting these\n",
      "\n",
      "Label: files\n",
      "\n"
     ]
    }
   ],
   "source": [
    "for i, sequence in enumerate(X_train[:1]):\n",
    "    text = []\n",
    "    for idx in sequence:\n",
    "        text.append(idx_word[idx])\n",
    "        \n",
    "    print('Features: ' + ' '.join(text)+'\\n')\n",
    "    print('Label: ' + idx_word[np.argmax(y_train[i])] + '\\n')"
   ]
  },
  {
   "cell_type": "code",
   "execution_count": 22,
   "metadata": {},
   "outputs": [
    {
     "name": "stdout",
     "output_type": "stream",
     "text": [
      "Model: \"sequential\"\n",
      "_________________________________________________________________\n",
      "Layer (type)                 Output Shape              Param #   \n",
      "=================================================================\n",
      "embedding (Embedding)        (None, None, 100)         7743300   \n",
      "_________________________________________________________________\n",
      "lstm (LSTM)                  (None, 64)                42240     \n",
      "_________________________________________________________________\n",
      "dense (Dense)                (None, 64)                4160      \n",
      "_________________________________________________________________\n",
      "dropout (Dropout)            (None, 64)                0         \n",
      "_________________________________________________________________\n",
      "dense_1 (Dense)              (None, 77433)             5033145   \n",
      "=================================================================\n",
      "Total params: 12,822,845\n",
      "Trainable params: 12,822,845\n",
      "Non-trainable params: 0\n",
      "_________________________________________________________________\n"
     ]
    }
   ],
   "source": [
    "model = Sequential()\n",
    "\n",
    "# Embedding layer\n",
    "model.add(\n",
    "    Embedding(\n",
    "        input_dim=num_words,\n",
    "        output_dim=100,\n",
    "        weights=None,\n",
    "        trainable=True))\n",
    "\n",
    "# Recurrent layer\n",
    "model.add(\n",
    "    LSTM(\n",
    "        64, return_sequences=False, dropout=0.1,\n",
    "        recurrent_dropout=0.1))\n",
    "\n",
    "# Fully connected layer\n",
    "model.add(Dense(64, activation='relu'))\n",
    "\n",
    "# Dropout for regularization\n",
    "model.add(Dropout(0.5))\n",
    "\n",
    "# Output layer\n",
    "model.add(Dense(num_words, activation='softmax'))\n",
    "\n",
    "# Compile the model\n",
    "model.compile(\n",
    "    optimizer='adam', loss='categorical_crossentropy', metrics=['accuracy'])\n",
    "\n",
    "model.summary()"
   ]
  },
  {
   "cell_type": "code",
   "execution_count": 25,
   "metadata": {},
   "outputs": [
    {
     "name": "stdout",
     "output_type": "stream",
     "text": [
      "Epoch 1/30\n",
      "240/240 [==============================] - 46s 193ms/step - loss: 1.0862 - accuracy: 0.7511s - loss: 1.0881 - accura\n",
      "Epoch 2/30\n",
      "240/240 [==============================] - 45s 188ms/step - loss: 1.0535 - accuracy: 0.7555\n",
      "Epoch 3/30\n",
      "240/240 [==============================] - 45s 188ms/step - loss: 1.0203 - accuracy: 0.7607\n",
      "Epoch 4/30\n",
      "240/240 [==============================] - 45s 187ms/step - loss: 1.0002 - accuracy: 0.7633\n",
      "Epoch 5/30\n",
      "240/240 [==============================] - 46s 193ms/step - loss: 0.9764 - accuracy: 0.7652\n",
      "Epoch 6/30\n",
      "240/240 [==============================] - 45s 187ms/step - loss: 0.9458 - accuracy: 0.7765\n",
      "Epoch 7/30\n",
      "240/240 [==============================] - 45s 188ms/step - loss: 0.9302 - accuracy: 0.7737\n",
      "Epoch 8/30\n",
      "240/240 [==============================] - 45s 187ms/step - loss: 0.9083 - accuracy: 0.7795\n",
      "Epoch 9/30\n",
      "240/240 [==============================] - 45s 187ms/step - loss: 0.8918 - accuracy: 0.7833\n",
      "Epoch 10/30\n",
      "240/240 [==============================] - 45s 187ms/step - loss: 0.8598 - accuracy: 0.7863\n",
      "Epoch 11/30\n",
      "240/240 [==============================] - 45s 188ms/step - loss: 0.8571 - accuracy: 0.7865\n",
      "Epoch 12/30\n",
      "240/240 [==============================] - 45s 188ms/step - loss: 0.8268 - accuracy: 0.7915\n",
      "Epoch 13/30\n",
      "240/240 [==============================] - 45s 188ms/step - loss: 0.8120 - accuracy: 0.7924\n",
      "Epoch 14/30\n",
      "240/240 [==============================] - 45s 189ms/step - loss: 0.7891 - accuracy: 0.7996\n",
      "Epoch 15/30\n",
      "240/240 [==============================] - 45s 190ms/step - loss: 0.7776 - accuracy: 0.8010\n",
      "Epoch 16/30\n",
      "240/240 [==============================] - 45s 189ms/step - loss: 0.7750 - accuracy: 0.8020\n",
      "Epoch 17/30\n",
      "240/240 [==============================] - 45s 189ms/step - loss: 0.7453 - accuracy: 0.8093\n",
      "Epoch 18/30\n",
      "240/240 [==============================] - 45s 188ms/step - loss: 0.7422 - accuracy: 0.8067\n",
      "Epoch 19/30\n",
      "240/240 [==============================] - 45s 189ms/step - loss: 0.7337 - accuracy: 0.8088\n",
      "Epoch 20/30\n",
      "240/240 [==============================] - 45s 189ms/step - loss: 0.7173 - accuracy: 0.8131\n",
      "Epoch 21/30\n",
      "240/240 [==============================] - 46s 190ms/step - loss: 0.6962 - accuracy: 0.8189\n",
      "Epoch 22/30\n",
      "240/240 [==============================] - 45s 188ms/step - loss: 0.6878 - accuracy: 0.8197\n",
      "Epoch 23/30\n",
      "240/240 [==============================] - 45s 188ms/step - loss: 0.6897 - accuracy: 0.8184\n",
      "Epoch 24/30\n",
      "240/240 [==============================] - 45s 188ms/step - loss: 0.6659 - accuracy: 0.8219\n",
      "Epoch 25/30\n",
      "240/240 [==============================] - 45s 188ms/step - loss: 0.6596 - accuracy: 0.8248\n",
      "Epoch 26/30\n",
      "240/240 [==============================] - 45s 188ms/step - loss: 0.6445 - accuracy: 0.8261\n",
      "Epoch 27/30\n",
      "240/240 [==============================] - 46s 191ms/step - loss: 0.6339 - accuracy: 0.8318\n",
      "Epoch 28/30\n",
      "240/240 [==============================] - 46s 190ms/step - loss: 0.6356 - accuracy: 0.8307\n",
      "Epoch 29/30\n",
      "240/240 [==============================] - 45s 188ms/step - loss: 0.6186 - accuracy: 0.8338\n",
      "Epoch 30/30\n",
      "240/240 [==============================] - 45s 188ms/step - loss: 0.6111 - accuracy: 0.8374\n"
     ]
    }
   ],
   "source": [
    "h = model.fit(X_train, y_train, epochs = 30, batch_size = 64, verbose = 1)"
   ]
  },
  {
   "cell_type": "code",
   "execution_count": 27,
   "metadata": {},
   "outputs": [],
   "source": [
    "# model.save('./Tagore/data/model_60epochs.h5')"
   ]
  }
 ],
 "metadata": {
  "kernelspec": {
   "display_name": "Python 3",
   "language": "python",
   "name": "python3"
  },
  "language_info": {
   "codemirror_mode": {
    "name": "ipython",
    "version": 3
   },
   "file_extension": ".py",
   "mimetype": "text/x-python",
   "name": "python",
   "nbconvert_exporter": "python",
   "pygments_lexer": "ipython3",
   "version": "3.8.5"
  }
 },
 "nbformat": 4,
 "nbformat_minor": 4
}
