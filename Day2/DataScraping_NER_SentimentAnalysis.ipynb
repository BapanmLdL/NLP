{
 "cells": [
  {
   "cell_type": "markdown",
   "metadata": {
    "id": "Zdz_ekJpPYK2"
   },
   "source": [
    "# Data retrieval"
   ]
  },
  {
   "cell_type": "code",
   "execution_count": 1,
   "metadata": {
    "id": "t17sG7GyPYK8"
   },
   "outputs": [],
   "source": [
    "import requests\n",
    "from bs4 import BeautifulSoup\n",
    "import pandas as pd\n",
    "import numpy as np\n",
    "import matplotlib.pyplot as plt\n",
    "import seaborn as sns\n",
    "import os\n",
    "\n",
    "%matplotlib inline"
   ]
  },
  {
   "cell_type": "code",
   "execution_count": 2,
   "metadata": {
    "id": "_8K170p5PYK9"
   },
   "outputs": [],
   "source": [
    "url = 'https://inshorts.com/en/read/technology'"
   ]
  },
  {
   "cell_type": "code",
   "execution_count": 3,
   "metadata": {
    "id": "vh_kYrsRPYK9"
   },
   "outputs": [],
   "source": [
    "news_data = []"
   ]
  },
  {
   "cell_type": "code",
   "execution_count": 4,
   "metadata": {
    "id": "qJrZxnrKPYK9",
    "outputId": "97b54762-35e2-4edb-c6b7-17049e641ca7"
   },
   "outputs": [
    {
     "data": {
      "text/plain": [
       "['https:', '', 'inshorts.com', 'en', 'read', 'technology']"
      ]
     },
     "execution_count": 4,
     "metadata": {},
     "output_type": "execute_result"
    }
   ],
   "source": [
    "news_category = url.split('/')\n",
    "news_category"
   ]
  },
  {
   "cell_type": "code",
   "execution_count": 5,
   "metadata": {
    "id": "NS48sEHbPYK_"
   },
   "outputs": [],
   "source": [
    "news_category = news_category[-1]"
   ]
  },
  {
   "cell_type": "code",
   "execution_count": 6,
   "metadata": {
    "id": "AK7h105qPYK_",
    "outputId": "9a5746f4-e911-48ae-c477-577e41fe81b6"
   },
   "outputs": [
    {
     "data": {
      "text/plain": [
       "b'<!doctype html>\\n<html lang=\"en\">\\n\\n<head>\\n  <meta charset=\"utf-8\" />\\n  <style>\\n    /* The Modal (background) */\\n    .modal_contact {\\n        display: none; /* Hidden by default */\\n        position: fixed; /* Stay in place */\\n        z-index: 8; /* Sit on top */\\n        left: 0;\\n        top: 0;\\n        width: 100%; /* Full width */\\n        height: 100%;\\n        overflow: auto; /* Enable scroll if needed */\\n        background-color: rgb(0,0,0); /* Fallback color */\\n        background-color: rgba(0,0,0,0.4); /* Black w/ opacity */\\n    }\\n\\n    /* Modal Content/Box */\\n    .modal-content {\\n        background-color: #fefefe;\\n        margin: 15% auto;\\n        padding: 20px !important;\\n        padding-top: 0 !important;\\n        /* border: 1px solid #888; */\\n        text-align: center;\\n        position: relative;\\n        border-radius: 6px;\\n    }\\n\\n    /* The Close Button */\\n    .close {\\n      left: 90%;\\n      color: #aaa;\\n      float: right;\\n      font-size: 28px;\\n      font-weight: bold;\\n    /* position: absolute; */\\n    /* bottom: 86%; */\\n    /* display: inline-block; */\\n    /* padding-left: 5%; */\\n    }\\n\\n    .close:hover,\\n    .close:focus {\\n        color: black;\\n        text-decoration: none;\\n        cursor: pointer;\\n    }\\n\\n    #myBtn {\\n      background: #999999;\\n      color: #ffffff;\\n      text-transform: uppercase;\\n      font-weight: bold;\\n      box-shadow: none;\\n      border-radius: 4px;\\n      border: none;\\n      font-size: .8rem;\\n      /* width: 8rem; */\\n      height: 2rem;\\n      line-height: 2rem;\\n    }\\n\\n    .contact {\\n      margin-bottom: 4%;\\n      clear: both;\\n    }\\n  </style>\\n\\n  \\n    \\n  <meta http-equiv=\"Content-Type\" content=\"text/html; charset=UTF-8\"/>\\n  <meta name=\"viewport\" content=\"width=device-width, initial-scale=1, maximum-scale=1.0, user-scalable=no\"/>\\n\\n  <meta http-equiv=\"X-UA-Compatible\" content=\"IE=edge\">\\n  <link rel=\"manifest\" href=\"manifest.json\">\\n\\n  <!-- Fallback to homescreen for Chrome   <39 on Android -->\\n  <meta name=\"mobile-web-app-capable\" content=\"yes\">\\n  <meta name=\"application-name\" content=\"inshorts\">\\n  <link rel=\"icon\" sizes=\"192x192\" href=\"https://assets.inshorts.com/website_assets/images/favicon.png\">\\n\\n  <!-- Add to homescreen for Safari on iOS -->\\n  <meta name=\"apple-mobile-web-app-capable\" content=\"yes\">\\n  <meta name=\"apple-mobile-web-app-status-bar-style\" content=\"#424242\">\\n  <meta name=\"apple-mobile-web-app-title\" content=\"inshorts\">\\n  <link rel=\"apple-touch-icon\" href=\"https://assets.inshorts.com/website_assets/images/favicon.png\">\\n\\n  <!-- Tile icon for Win8 (144x144 + tile color) -->\\n  <meta name=\"msapplication-TileImage\" content=\"fav/favicon.png\">\\n  <meta name=\"msapplication-TileColor\" content=\"#424242\">\\n\\n  <meta name=\"theme-color\" content=\"#424242\">\\n  <meta http-equiv=\"content-type\" content=\"text/html; charset=UTF-8\"/>\\n  <meta name=\"msapplication-navbutton-color\" content=\"#424242\">\\n  <meta name=\"apple-mobile-web-app-status-bar-style\" content=\"#424242\">\\n  <link rel=\"apple-touch-startup-image\" href=\"https://assets.inshorts.com/website_assets/images/favicon.png\">\\n  <meta name=\"apple-mobile-web-app-status-bar-style\" content=\"black-translucent\">\\n    <meta name=\"twitter:card\" content=\"app\"/>\\n  <meta name=\"twitter:site\" content=\"@inshorts\"/>\\n  <meta name=\"twitter:creator\" content=\"@inshorts\"/>\\n  <meta name=\"twitter:description\" content=\"Inshorts delivers news in less than 60 words, containing only the essential facts, compromising on anything that is close to opinionating and storytelling.\"/>\\n  <meta name=\"twitter:app:country\" content=\"IN\"/>\\n  <meta name=\"twitter:app:name:iphone\" content=\"Inshorts - Stay Informed\"/>\\n  <meta name=\"twitter:app:id:iphone\" content=\"892146527\"/>\\n  <meta name=\"twitter:app:url:iphone\" content=\"nis://news\"/>\\n  <meta name=\"twitter:app:name:ipad\" content=\"Inshorts - Stay Informed\"/>\\n  <meta name=\"twitter:app:id:ipad\" content=\"892146527\"/>\\n  <meta name=\"twitter:app:url:ipad\" content=\"nis://news\"/>\\n  <meta name=\"twitter:app:name:googleplay\" content=\"Inshorts - Stay Informed\"/>\\n  <meta name=\"twitter:app:id:googleplay\" content=\"com.nis.app\"/>\\n  <meta name=\"twitter:app:url:googleplay\" content=\"nis://news\"/>\\n\\n  <meta name=\"description\" content=\"Read technology news in English in less that 60 words and get updated with all top news and current affairs related to mobile, internet and computer in a fast and easy way with inshorts.\"/>\\n  <link href=\"https://inshorts.com/en/read/technology\" rel=\"canonical\" />\\n  <link href=\"https://inshorts.com/en/read/technology\" rel=\"alternate\" reflang=\"en\" />\\n  <meta name=\"apple-itunes-app\" content=\"app-id=892146527\">\\n  <meta name=\"google-play-app\" content=\"app-id=com.nis.app\">\\n\\n  <title>Technology News: Moblie News, Computer News in English with Inshorts</title>\\n  <!-- CSS  -->\\n  <link href=\\'https://fonts.googleapis.com/css?family=Roboto\\' rel=\\'stylesheet\\' type=\\'text/css\\'>\\n  <link href=\"https://fonts.googleapis.com/icon?family=Material+Icons\" rel=\"stylesheet\">\\n  <link rel=\"stylesheet\" href=\"https://cdnjs.cloudflare.com/ajax/libs/materialize/0.97.1/css/materialize.min.css\">\\n  <link href=\\'https://fonts.googleapis.com/css?family=Hind:500,600,400&subset=latin,devanagari\\' rel=\\'stylesheet\\' type=\\'text/css\\'>\\n  <link href=\"/dist/styles/main.css\" type=\"text/css\" rel=\"stylesheet\" media=\"screen,projection\"/>\\n  <link href=\"/dist/styles/index.css\" type=\"text/css\" rel=\"stylesheet\" media=\"screen,projection\"/>\\n  <link href=\"/dist/styles/read.css\" type=\"text/css\" rel=\"stylesheet\" media=\"screen,projection\"/>\\n  <link href=\"/dist/styles/news-card.css\" type=\"text/css\" rel=\"stylesheet\" media=\"screen,projection\"/>\\n  <link rel=\"icon\" type=\"image/png\" href=\"https://assets.inshorts.com/website_assets/images/favicon.png\" />\\n  <link rel=\"manifest\" href=\"/dist/manifest.json\">\\n  <script async=\\'async\\' src=\\'https://www.googletagservices.com/tag/js/gpt.js\\'></script>\\n  <script>\\n    var googletag = googletag || {};\\n    googletag.cmd = googletag.cmd || [];\\n    let top_banner_slot;\\n  </script>\\n\\n  <!-- Top banner for desktop-->\\n  <script>\\n    googletag.cmd.push(function() {\\n      \\n      \\n        //Top banner for desktop\\n        top_banner_slot = googletag.defineSlot(\\'/142919096/inshorts_website_728x90\\', [728, 90], \\'div-gpt-ad-1536585015617-0\\')\\n        .addService(googletag.pubads())\\n        .setCollapseEmptyDiv(true,true);\\n      \\n\\n      googletag.pubads().disableInitialLoad();\\n      googletag.pubads().enableSingleRequest();\\n      googletag.enableServices();\\n    });\\n  </script>\\n\\n  <!-- Facebook Pixel Code -->\\n  <script>\\n    !function(f,b,e,v,n,t,s)\\n    {if(f.fbq)return;n=f.fbq=function(){n.callMethod?\\n    n.callMethod.apply(n,arguments):n.queue.push(arguments)};\\n    if(!f._fbq)f._fbq=n;n.push=n;n.loaded=!0;n.version=\\'2.0\\';\\n    n.queue=[];t=b.createElement(e);t.async=!0;\\n    t.src=v;s=b.getElementsByTagName(e)[0];\\n    s.parentNode.insertBefore(t,s)}(window, document,\\'script\\',\\n    \\'https://connect.facebook.net/en_US/fbevents.js\\');\\n    fbq(\\'init\\', \\'822966517773327\\');\\n    fbq(\\'track\\', \\'PageView\\');\\n  </script>\\n  <noscript><img height=\"1\" width=\"1\" style=\"display:none\"\\n    src=\"https://www.facebook.com/tr?id=822966517773327&ev=PageView&noscript=1\"\\n  /></noscript>\\n  <!-- End Facebook Pixel Code -->\\n  <!-- Mix panel script start -->\\n<script>\\n  (function(f,b){if(!b.__SV){var e,g,i,h;window.mixpanel=b;b._i=[];b.init=function(e,f,c){function g(a,d){var b=d.split(\".\");2==b.length&&(a=a[b[0]],d=b[1]);a[d]=function(){a.push([d].concat(Array.prototype.slice.call(arguments,0)))}}var a=b;\"undefined\"!==typeof c?a=b[c]=[]:c=\"mixpanel\";a.people=a.people||[];a.toString=function(a){var d=\"mixpanel\";\"mixpanel\"!==c&&(d+=\".\"+c);a||(d+=\" (stub)\");return d};a.people.toString=function(){return a.toString(1)+\".people (stub)\"};i=\"disable time_event track track_pageview track_links track_forms track_with_groups add_group set_group remove_group register register_once alias unregister identify name_tag set_config reset opt_in_tracking opt_out_tracking has_opted_in_tracking has_opted_out_tracking clear_opt_in_out_tracking start_batch_senders people.set people.set_once people.unset people.increment people.append people.union people.track_charge people.clear_charges people.delete_user people.remove\".split(\" \");\\n  for(h=0;h<i.length;h++)g(a,i[h]);var j=\"set set_once union unset remove delete\".split(\" \");a.get_group=function(){function b(c){d[c]=function(){call2_args=arguments;call2=[c].concat(Array.prototype.slice.call(call2_args,0));a.push([e,call2])}}for(var d={},e=[\"get_group\"].concat(Array.prototype.slice.call(arguments,0)),c=0;c<j.length;c++)b(j[c]);return d};b._i.push([e,f,c])};b.__SV=1.2;e=f.createElement(\"script\");e.type=\"text/javascript\";e.async=!0;e.src=\"undefined\"!==typeof MIXPANEL_CUSTOM_LIB_URL?\\n  MIXPANEL_CUSTOM_LIB_URL:\"file:\"===f.location.protocol&&\"//cdn.mxpnl.com/libs/mixpanel-2-latest.min.js\".match(/^\\\\/\\\\//)?\"https://cdn.mxpnl.com/libs/mixpanel-2-latest.min.js\":\"//cdn.mxpnl.com/libs/mixpanel-2-latest.min.js\";g=f.getElementsByTagName(\"script\")[0];g.parentNode.insertBefore(e,g)}})(document,window.mixpanel||[]);\\n  mixpanel.init(\"a99a1037068944b00a0cc8ee56c94e8c\")\\n  mixpanel.track(\"pageview\")\\n  </script>\\n<!-- Mix panel script end -->\\n</head>\\n<script>\\n  (function(i,s,o,g,r,a,m){i[\\'GoogleAnalyticsObject\\']=r;i[r]=i[r]||function(){\\n  (i[r].q=i[r].q||[]).push(arguments)},i[r].l=1*new Date();a=s.createElement(o),\\n  m=s.getElementsByTagName(o)[0];a.async=1;a.src=g;m.parentNode.insertBefore(a,m)\\n  })(window,document,\\'script\\',\\'//www.google-analytics.com/analytics.js\\',\\'ga\\');\\n\\n  ga(\\'create\\', \\'UA-55157535-6\\', \\'auto\\');\\n  ga(\\'send\\', \\'pageview\\');  \\n</script>\\n  <!-- Add After importing GA and Mixpanel scripts -->\\n<script>\\n  function track_GA_Mixpanel({hitType, category, action, label, value = 1}){\\n    if (window && window.ga) {\\n      ga(\\'send\\', {\\n            hitType: \\'event\\',\\n            eventCategory: category,\\n            eventAction: action,\\n            eventLabel: label,\\n            eventValue: value\\n        });\\n    }\\n    // mix panel analytics\\n    if(window && window.mixpanel){\\n        mixpanel.track(\"event\", {category, action, label, value});\\n    }\\n  }\\n</script>\\n<body>\\n\\n\\n  <!-- Begin comScore Tag -->\\n  <script>\\n    var _comscore = _comscore || [];\\n    _comscore.push({ c1: \"2\", c2: \"28268321\" });\\n    (function() {\\n      var s = document.createElement(\"script\"), el = document.getElementsByTagName(\"script\")[0]; s.async = true;\\n      s.src = (document.location.protocol == \"https:\" ? \"https://sb\" : \"http://b\") + \".scorecardresearch.com/beacon.js\";\\n      el.parentNode.insertBefore(s, el);\\n    })();\\n  </script>\\n  <noscript>\\n    <img src=\"https://sb.scorecardresearch.com/p?c1=2&c2=28268321&cv=2.0&cj=1\" />\\n  </noscript>\\n  \\n  \\n  <!-- HEADER START -->\\n  <div class=\"header z-depth-1\">\\n    <div class=\"menu clickable\">\\n      <button class=\"c-hamburger c-hamburger--htx\" ><span>toggle menu</span></button><span class=\"unselectable\">Menu</span>\\n    </div>\\n    <!--\\n    <div class=\"search-wrapper hide-on-small-only\">\\n      <input class=\"search-box\" placeholder=\"Search\" id=\"search\"/>\\n      <i id=\"search_icon\" class=\"material-icons search-icon\">search</i>\\n      <div class=\"search-box-ul\">&nbsp;</div>\\n    </div>\\n    -->\\n    <a href=\"/\"><img src=\"https://assets.inshorts.com/website_assets/images/logo_inshorts.png\" class=\"logo\"/></a>\\n  </div>\\n  <!-- HEADER END -->\\n\\n  \\n<!--SIDEBAR START -->\\n    <div class=\"hide-on-med-and-up sidebar-bg\" style=\"display: none;\">&nbsp;</div>\\n    <div class=\"sidebar\" style=\"overflow-y: scroll;\">\\n      <div class=\"lang-bar\" style=\"\">\\n        <div class=\"lang-selector clickable\">\\n          <a href=\\'/en/read/technology\\'><div class=\"lang-en selected\">English</div></a>\\n          <a href=\\'/hi/read/technology\\'><div class=\"lang-hi \">\\xe0\\xa4\\xb9\\xe0\\xa4\\xbf\\xe0\\xa4\\xa8\\xe0\\xa5\\x8d\\xe0\\xa4\\xa6\\xe0\\xa5\\x80</div></a>\\n        </div>\\n      </div>\\n\\n      <div>\\n        <div class=\"category-header\">Categories</div>\\n        <ul class=\"category-list\">\\n\\n          <a onclick=\"track_GA_Mixpanel({\\'hitType\\': \\'event\\', \\'category\\': \\'LinkToAllNews\\', \\'action\\': \\'clicked\\', \\'label\\': \\'RedirectedToAllNews\\' });\" href=\\'/en/read\\'> <li class=\"active-category \" >All News</li> </a>\\n\\n\\n          <a onclick=\"track_GA_Mixpanel({\\'hitType\\': \\'event\\', \\'category\\': \\'LinkToIndiaNews\\', \\'action\\': \\'clicked\\', \\'label\\': \\'RedirectedToIndiaNews\\' });\" href=\\'/en/read/national\\'> <li class=\"active-category \">India</li> </a>\\n\\n          <a onclick=\"track_GA_Mixpanel({\\'hitType\\': \\'event\\', \\'category\\': \\'LinkToBusinessNews\\', \\'action\\': \\'clicked\\', \\'label\\':  \\'RedirectedToBusinessNews\\' });\"  href=\\'/en/read/business\\'> <li class=\"active-category \">Business</li> </a>\\n\\n          <a onclick=\"track_GA_Mixpanel({\\'hitType\\': \\'event\\', \\'category\\': \\'LinkTosportsNews\\', \\'action\\': \\'clicked\\', \\'label\\': \\'RedirectedToSportsNews\\' });\"  href=\\'/en/read/sports\\'> <li class=\"active-category \">Sports</li> </a>\\n          <a onclick=\"track_GA_Mixpanel({\\'hitType\\': \\'event\\', \\'category\\': \\'LinkToworldNews\\', \\'action\\': \\'clicked\\', \\'label\\': \\'RedirectedToworldNews\\' });\" href=\\'/en/read/world\\'> <li class=\"active-category \">World</li> </a>\\n\\n          <a onclick=\"track_GA_Mixpanel({\\'hitType\\': \\'event\\', \\'category\\': \\'LinkToworldNews\\', \\'action\\': \\'clicked\\',   \\'label\\': \\'RedirectedToworldNews\\' });\"  href=\\'/en/read/politics\\'> <li class=\"active-category \">Politics</li> </a>\\n          <a onclick=\"track_GA_Mixpanel({\\'hitType\\': \\'event\\', \\'category\\': \\'LinkTotechnologyNews\\', \\'action\\': \\'clicked\\', \\'label\\': \\'RedirectedTotechnologyNews\\' });\" href=\\'/en/read/technology\\'> <li class=\"active-category selected\">Technology</li> </a>\\n\\n          <a onclick=\"track_GA_Mixpanel({\\'hitType\\': \\'event\\', \\'category\\': \\'LinkTostartupNews\\', \\'action\\': \\'clicked\\', \\'label\\': \\'RedirectedTostartupNews\\' });\"  href=\\'/en/read/startup\\'> <li class=\"active-category \">Startup</li> </a>\\n\\n\\n          <a onclick=\"track_GA_Mixpanel({\\'hitType\\': \\'event\\', \\'category\\': \\'LinkToEntertainmentNews\\', \\'action\\': \\'clicked\\', \\'label\\': \\'RedirectedToEntertainmentNews\\' });\"  href=\\'/en/read/entertainment\\'> <li class=\"active-category \">Entertainment</li> </a>\\n\\n\\n          <a onclick=\"track_GA_Mixpanel({\\'hitType\\': \\'event\\', \\'category\\': \\'LinkToMiscellaneousNews\\', \\'action\\': \\'clicked\\', \\'label\\': \\'RedirectedToMiscellaneousNews\\' });\"  href=\\'/en/read/miscellaneous\\'> <li class=\"active-category \">Miscellaneous</li> </a>\\n\\n          <a onclick=\"track_GA_Mixpanel({\\'hitType\\': \\'event\\', \\'category\\': \\'LinkTohatkeNews\\', \\'action\\': \\'clicked\\', \\'label\\': \\'RedirectedTohatkeNews\\' });\"  href=\\'/en/read/hatke\\'> <li class=\"active-category \">Hatke</li> </a>\\n\\n          <a onclick=\"track_GA_Mixpanel({\\'hitType\\': \\'event\\', \\'category\\': \\'LinkToscienceNews\\', \\'action\\': \\'clicked\\', \\'label\\': \\'RedirectedToscienceNews\\' });\"  href=\\'/en/read/science\\'> <li class=\"active-category \">Science</li> </a>\\n\\n          <a onclick=\"track_GA_Mixpanel({\\'hitType\\': \\'event\\', \\'category\\': \\'LinkToautomobileNews\\', \\'action\\': \\'clicked\\', \\'label\\': \\'RedirectedToautomobileNews\\' });\"  href=\\'/en/read/automobile\\'> <li class=\"active-category \">Automobile</li> </a>\\n\\n        </ul>\\n      </div>\\n    </div>\\n<!--SIDEBAR END -->\\n\\n  <!-- BODY START -->\\n  <div class=\"container\" style=\"min-height:550px;\">\\n    <div class=\"row\" style=\"padding-top:110px;\">\\n      \\n        <div id=\\'div-gpt-ad-1536585015617-0\\' style=\\'height:90px; width:728px;margin: auto; margin-bottom: 1%;\\'>\\n          <script>\\n          googletag.cmd.push(function() { \\n            googletag.display(\\'div-gpt-ad-1536585015617-0\\'); \\n            googletag.pubads().refresh([top_banner_slot]);\\n          });\\n          </script>\\n        </div>\\n      \\n      \\n\\n      \\n      <div class=\"hide-on-med-and-down z-depth-1\" style=\"margin-left : auto;margin-right : auto;margin-bottom: 32px;width : 900px;height:48px;background: #f44336\">\\n        <div style=\"font-weight: 300;color:white !important;font-size:14px;margin-left: 48px;margin-top: 13px;position: absolute;display: block;\">\\n          For the best experience use <a target=\"_blank\" href=\"https://inshorts.com/mobile\" style=\"color:white;appearance: none;font-weight: 500;\">inshorts</a> app on your smartphone\\n        </div>\\n        \\n        \\n      </div>\\n      \\n      <div class=\"card-stack\">\\n        \\n\\n\\n\\n\\n\\n<div class=\"\">\\n<div class=\"news-card z-depth-1\" itemscope itemtype=\"http://schema.org/NewsArticle\">\\n  <span content=\"\" itemscope itemprop=\"mainEntityOfPage\" itemType=\"https://schema.org/WebPage\" itemid=\"https://inshorts.com/en/news/amitabh-bachchans-nft-collection-sold-at-record-\\xe2\\x82\\xb97-crore-in-india-1636172096032\"></span>\\n  <span itemtype=\"https://schema.org/Person\" itemscope=\"itemscope\" itemprop=\"author\">\\n    <span itemprop=\"name\" content=\"Kiran Khatri\"></span>\\n  </span>\\n  <span itemprop=\"description\" content=\"Amitabh Bachchan&#39;s NFT collection sold at record \\xe2\\x82\\xb97 crore in India\"></span>\\n  <span itemprop=\"image\" itemscope itemtype=\"https://schema.org/ImageObject\">\\n    <meta itemprop=\"url\" content=\"https://static.inshorts.com/inshorts/images/v1/variants/jpg/m/2021/11_nov/6_sat/img_1636170041454_762.jpg?\"></meta>\\n    <meta itemprop=\"width\" content=\"864\"></meta>\\n    <meta itemprop=\"height\" content=\"483\"></meta>\\n  </span>\\n  <span itemtype=\"https://schema.org/Organization\" itemscope=\"itemscope\" itemprop=\"publisher\">\\n    <span itemprop=\"url\" content=\"https://inshorts.com/\"></span>\\n    <span itemprop=\"name\" content=\"Inshorts\"></span>\\n    <span itemprop=\"logo\" itemscope itemtype=\"https://schema.org/ImageObject\">\\n      <span itemprop=\"url\" content=\"https://assets.inshorts.com/inshorts/images/v1/variants/jpg/m/2018/11_nov/21_wed/img_1542823931298_497.jpg\"></span>\\n      <meta itemprop=\"width\" content=\"400\"></meta>\\n      <meta itemprop=\"height\" content=\"60\"></meta>\\n    </span>\\n  </span>\\n  <div class=\"news-card-image\" style= \"background-image: url(\\'https://static.inshorts.com/inshorts/images/v1/variants/jpg/m/2021/11_nov/6_sat/img_1636170041454_762.jpg?\\')\">\\n  </div>\\n  <div class=\"news-card-title news-right-box\">\\n    <a class=\"clickable\" onclick=\"track_GA_Mixpanel({\\'hitType\\': \\'event\\', \\'category\\': \\'TitleOfNews\\', \\'action\\': \\'clicked\\', \\'label\\': \\'Amitabh%20Bachchan&#39;s%20NFT%20collection%20sold%20at%20record%20%E2%82%B97%20crore%20in%20India)\\' });\"  style=\"color:#44444d!important\" href=\"/en/news/amitabh-bachchans-nft-collection-sold-at-record-\\xe2\\x82\\xb97-crore-in-india-1636172096032\">\\n      <span itemprop=\"headline\">Amitabh Bachchan&#39;s NFT collection sold at record \\xe2\\x82\\xb97 crore in India</span>\\n    </a>\\n    <div class=\"news-card-author-time news-card-author-time-in-title\">\\n      <a href=\"/prev/en/news/amitabh-bachchans-nft-collection-sold-at-record-\\xe2\\x82\\xb97-crore-in-india-1636172096032\"><span class=\"short\">short</span></a> by <span class=\"author\">Kiran Khatri</span> / \\n      <span class=\"time\" itemprop=\"datePublished\" content=\"2021-11-06T04:14:56.000Z\">09:44 am</span> on <span clas=\"date\">06 Nov 2021,Saturday</span>\\n    </div>\\n  </div>\\n  <div class=\"news-card-content news-right-box\">\\n    <div itemprop=\"articleBody\">Amitabh Bachchan&#39;s NFT collection has been sold at $966,000 (\\xe2\\x82\\xb97.18 crore) following the highest-ever NFT bidding in India. The Madhushala NFTs, a collection of his father&#39;s poems recorded in the actor&#39;s own voice, fetched a total of $756,000 (\\xe2\\x82\\xb95.6 crore). NFTs of Bachchan signing his movies&#39; original posters in a video, along with their physical copies, fetched $94,052 (\\xe2\\x82\\xb969.7 lakh).</div>\\n    <div class=\"news-card-author-time news-card-author-time-in-content\">\\n      <a href=\"/prev/en/news/amitabh-bachchans-nft-collection-sold-at-record-\\xe2\\x82\\xb97-crore-in-india-1636172096032\"><span class=\"short\">short</span></a> by <span class=\"author\">Kiran Khatri</span> / \\n      <span class=\"time\" itemprop=\"dateModified\" content=\"2021-11-06T04:14:56.000Z\" >09:44 am</span> on <span class=\"date\">06 Nov</span>\\n    </div>\\n  </div>\\n  \\n    <div class=\"news-card-footer news-right-box\">\\n      <div class=\"read-more\">read more at <a class=\"source\" onclick=\"track_GA_Mixpanel({\\'hitType\\': \\'event\\', \\'category\\': \\'ReadMore\\', \\'action\\': \\'clicked\\', \\'label\\': \\'Moneycontrol\\' });\" target=\"_blank\" href=\"https://www.moneycontrol.com/news/trends/amitabh-bachchans-exclusive-nft-collection-auctioned-for-over-rs-7-crore-7683591.html/amp?utm_campaign=fullarticle&amp;utm_medium=referral&amp;utm_source=inshorts \">Moneycontrol</a></div>\\n    </div>\\n  \\n\\n</div>\\n\\n  \\n</div>\\n\\n\\n\\n\\n<div class=\"\">\\n<div class=\"news-card z-depth-1\" itemscope itemtype=\"http://schema.org/NewsArticle\">\\n  <span content=\"\" itemscope itemprop=\"mainEntityOfPage\" itemType=\"https://schema.org/WebPage\" itemid=\"https://inshorts.com/en/news/907kg-tungsten-cube-nft-sells-for-\\xe2\\x82\\xb918-cr-buyer-can-visit-it-once-a-year-1636112857315\"></span>\\n  <span itemtype=\"https://schema.org/Person\" itemscope=\"itemscope\" itemprop=\"author\">\\n    <span itemprop=\"name\" content=\"Hiral Goyal\"></span>\\n  </span>\\n  <span itemprop=\"description\" content=\"907-kg tungsten cube NFT sells for \\xe2\\x82\\xb91.8 cr, buyer can visit it once a year\"></span>\\n  <span itemprop=\"image\" itemscope itemtype=\"https://schema.org/ImageObject\">\\n    <meta itemprop=\"url\" content=\"https://static.inshorts.com/inshorts/images/v1/variants/jpg/m/2021/11_nov/5_fri/img_1636112112940_647.jpg?\"></meta>\\n    <meta itemprop=\"width\" content=\"864\"></meta>\\n    <meta itemprop=\"height\" content=\"483\"></meta>\\n  </span>\\n  <span itemtype=\"https://schema.org/Organization\" itemscope=\"itemscope\" itemprop=\"publisher\">\\n    <span itemprop=\"url\" content=\"https://inshorts.com/\"></span>\\n    <span itemprop=\"name\" content=\"Inshorts\"></span>\\n    <span itemprop=\"logo\" itemscope itemtype=\"https://schema.org/ImageObject\">\\n      <span itemprop=\"url\" content=\"https://assets.inshorts.com/inshorts/images/v1/variants/jpg/m/2018/11_nov/21_wed/img_1542823931298_497.jpg\"></span>\\n      <meta itemprop=\"width\" content=\"400\"></meta>\\n      <meta itemprop=\"height\" content=\"60\"></meta>\\n    </span>\\n  </span>\\n  <div class=\"news-card-image\" style= \"background-image: url(\\'https://static.inshorts.com/inshorts/images/v1/variants/jpg/m/2021/11_nov/5_fri/img_1636112112940_647.jpg?\\')\">\\n  </div>\\n  <div class=\"news-card-title news-right-box\">\\n    <a class=\"clickable\" onclick=\"track_GA_Mixpanel({\\'hitType\\': \\'event\\', \\'category\\': \\'TitleOfNews\\', \\'action\\': \\'clicked\\', \\'label\\': \\'907-kg%20tungsten%20cube%20NFT%20sells%20for%20%E2%82%B91.8%20cr%2C%20buyer%20can%20visit%20it%20once%20a%20year)\\' });\"  style=\"color:#44444d!important\" href=\"/en/news/907kg-tungsten-cube-nft-sells-for-\\xe2\\x82\\xb918-cr-buyer-can-visit-it-once-a-year-1636112857315\">\\n      <span itemprop=\"headline\">907-kg tungsten cube NFT sells for \\xe2\\x82\\xb91.8 cr, buyer can visit it once a year</span>\\n    </a>\\n    <div class=\"news-card-author-time news-card-author-time-in-title\">\\n      <a href=\"/prev/en/news/907kg-tungsten-cube-nft-sells-for-\\xe2\\x82\\xb918-cr-buyer-can-visit-it-once-a-year-1636112857315\"><span class=\"short\">short</span></a> by <span class=\"author\">Hiral Goyal</span> / \\n      <span class=\"time\" itemprop=\"datePublished\" content=\"2021-11-05T11:47:37.000Z\">05:17 pm</span> on <span clas=\"date\">05 Nov 2021,Friday</span>\\n    </div>\\n  </div>\\n  <div class=\"news-card-content news-right-box\">\\n    <div itemprop=\"articleBody\">An NFT (non-fungible token) of a 907-kg tungsten cube has been sold to a group of anonymous crypto investors for roughly $250,000 (\\xe2\\x82\\xb91.8 crore). The NFT represents a real-world physical cube that will be stored at Midwest Tungsten Service in Illinois. The owner of the NFT can visit the headquarters once a year to see, photograph, or touch the cube.</div>\\n    <div class=\"news-card-author-time news-card-author-time-in-content\">\\n      <a href=\"/prev/en/news/907kg-tungsten-cube-nft-sells-for-\\xe2\\x82\\xb918-cr-buyer-can-visit-it-once-a-year-1636112857315\"><span class=\"short\">short</span></a> by <span class=\"author\">Hiral Goyal</span> / \\n      <span class=\"time\" itemprop=\"dateModified\" content=\"2021-11-05T11:47:37.000Z\" >05:17 pm</span> on <span class=\"date\">05 Nov</span>\\n    </div>\\n  </div>\\n  \\n    <div class=\"news-card-footer news-right-box\">\\n      <div class=\"read-more\">read more at <a class=\"source\" onclick=\"track_GA_Mixpanel({\\'hitType\\': \\'event\\', \\'category\\': \\'ReadMore\\', \\'action\\': \\'clicked\\', \\'label\\': \\'Vice\\' });\" target=\"_blank\" href=\"https://www.vice.com/amp/en/article/v7dgnm/crypto-investors-spend-dollar250k-to-touch-2000-lb-tungsten-cube-once-a-year?utm_campaign=fullarticle&amp;utm_medium=referral&amp;utm_source=inshorts \">Vice</a></div>\\n    </div>\\n  \\n\\n</div>\\n\\n  \\n</div>\\n\\n\\n\\n\\n<div class=\"\">\\n<div class=\"news-card z-depth-1\" itemscope itemtype=\"http://schema.org/NewsArticle\">\\n  <span content=\"\" itemscope itemprop=\"mainEntityOfPage\" itemType=\"https://schema.org/WebPage\" itemid=\"https://inshorts.com/en/news/astronauts-to-return-to-earth-wearing-diapers-due-to-spacex-capsules-broken-toilet-1636193464101\"></span>\\n  <span itemtype=\"https://schema.org/Person\" itemscope=\"itemscope\" itemprop=\"author\">\\n    <span itemprop=\"name\" content=\"Kiran Khatri\"></span>\\n  </span>\\n  <span itemprop=\"description\" content=\"Astronauts to return to Earth wearing diapers due to SpaceX capsule&#39;s broken toilet\"></span>\\n  <span itemprop=\"image\" itemscope itemtype=\"https://schema.org/ImageObject\">\\n    <meta itemprop=\"url\" content=\"https://static.inshorts.com/inshorts/images/v1/variants/jpg/m/2021/11_nov/6_sat/img_1636190495912_809.jpg?\"></meta>\\n    <meta itemprop=\"width\" content=\"864\"></meta>\\n    <meta itemprop=\"height\" content=\"483\"></meta>\\n  </span>\\n  <span itemtype=\"https://schema.org/Organization\" itemscope=\"itemscope\" itemprop=\"publisher\">\\n    <span itemprop=\"url\" content=\"https://inshorts.com/\"></span>\\n    <span itemprop=\"name\" content=\"Inshorts\"></span>\\n    <span itemprop=\"logo\" itemscope itemtype=\"https://schema.org/ImageObject\">\\n      <span itemprop=\"url\" content=\"https://assets.inshorts.com/inshorts/images/v1/variants/jpg/m/2018/11_nov/21_wed/img_1542823931298_497.jpg\"></span>\\n      <meta itemprop=\"width\" content=\"400\"></meta>\\n      <meta itemprop=\"height\" content=\"60\"></meta>\\n    </span>\\n  </span>\\n  <div class=\"news-card-image\" style= \"background-image: url(\\'https://static.inshorts.com/inshorts/images/v1/variants/jpg/m/2021/11_nov/6_sat/img_1636190495912_809.jpg?\\')\">\\n  </div>\\n  <div class=\"news-card-title news-right-box\">\\n    <a class=\"clickable\" onclick=\"track_GA_Mixpanel({\\'hitType\\': \\'event\\', \\'category\\': \\'TitleOfNews\\', \\'action\\': \\'clicked\\', \\'label\\': \\'Astronauts%20to%20return%20to%20Earth%20wearing%20diapers%20due%20to%20SpaceX%20capsule&#39;s%20broken%20toilet)\\' });\"  style=\"color:#44444d!important\" href=\"/en/news/astronauts-to-return-to-earth-wearing-diapers-due-to-spacex-capsules-broken-toilet-1636193464101\">\\n      <span itemprop=\"headline\">Astronauts to return to Earth wearing diapers due to SpaceX capsule&#39;s broken toilet</span>\\n    </a>\\n    <div class=\"news-card-author-time news-card-author-time-in-title\">\\n      <a href=\"/prev/en/news/astronauts-to-return-to-earth-wearing-diapers-due-to-spacex-capsules-broken-toilet-1636193464101\"><span class=\"short\">short</span></a> by <span class=\"author\">Kiran Khatri</span> / \\n      <span class=\"time\" itemprop=\"datePublished\" content=\"2021-11-06T10:11:04.000Z\">03:41 pm</span> on <span clas=\"date\">06 Nov 2021,Saturday</span>\\n    </div>\\n  </div>\\n  <div class=\"news-card-content news-right-box\">\\n    <div itemprop=\"articleBody\">Four astronauts, who will leave the International Space Station on November 8, will have to use diapers due to their SpaceX capsule&#39;s broken toilet. The crew will spend 20 hours in the capsule before splashing down off the Florida coast. &#34;This is just one more [challenge]...we&#39;ll encounter and take care of in our mission,&#34; astronaut Megan McArthur said.</div>\\n    <div class=\"news-card-author-time news-card-author-time-in-content\">\\n      <a href=\"/prev/en/news/astronauts-to-return-to-earth-wearing-diapers-due-to-spacex-capsules-broken-toilet-1636193464101\"><span class=\"short\">short</span></a> by <span class=\"author\">Kiran Khatri</span> / \\n      <span class=\"time\" itemprop=\"dateModified\" content=\"2021-11-06T10:11:04.000Z\" >03:41 pm</span> on <span class=\"date\">06 Nov</span>\\n    </div>\\n  </div>\\n  \\n    <div class=\"news-card-footer news-right-box\">\\n      <div class=\"read-more\">read more at <a class=\"source\" onclick=\"track_GA_Mixpanel({\\'hitType\\': \\'event\\', \\'category\\': \\'ReadMore\\', \\'action\\': \\'clicked\\', \\'label\\': \\'AP\\' });\" target=\"_blank\" href=\"https://apnews.com/article/space-exploration-science-business-e1fa2260e8c8d66fa80a8a5d4bd8d870?utm_campaign=fullarticle&amp;utm_medium=referral&amp;utm_source=inshorts \">AP</a></div>\\n    </div>\\n  \\n\\n</div>\\n\\n  \\n</div>\\n\\n\\n\\n\\n<div class=\"\">\\n<div class=\"news-card z-depth-1\" itemscope itemtype=\"http://schema.org/NewsArticle\">\\n  <span content=\"\" itemscope itemprop=\"mainEntityOfPage\" itemType=\"https://schema.org/WebPage\" itemid=\"https://inshorts.com/en/news/steve-jobs-letter-about-his-plans-to-visit-kumbh-mela-sells-for-$500312-1636123749763\"></span>\\n  <span itemtype=\"https://schema.org/Person\" itemscope=\"itemscope\" itemprop=\"author\">\\n    <span itemprop=\"name\" content=\"Hiral Goyal\"></span>\\n  </span>\\n  <span itemprop=\"description\" content=\"Steve Jobs&#39; letter about his plans to visit Kumbh Mela sells for $500,312\"></span>\\n  <span itemprop=\"image\" itemscope itemtype=\"https://schema.org/ImageObject\">\\n    <meta itemprop=\"url\" content=\"https://static.inshorts.com/inshorts/images/v1/variants/jpg/m/2021/11_nov/5_fri/img_1636121063418_358.jpg?\"></meta>\\n    <meta itemprop=\"width\" content=\"864\"></meta>\\n    <meta itemprop=\"height\" content=\"483\"></meta>\\n  </span>\\n  <span itemtype=\"https://schema.org/Organization\" itemscope=\"itemscope\" itemprop=\"publisher\">\\n    <span itemprop=\"url\" content=\"https://inshorts.com/\"></span>\\n    <span itemprop=\"name\" content=\"Inshorts\"></span>\\n    <span itemprop=\"logo\" itemscope itemtype=\"https://schema.org/ImageObject\">\\n      <span itemprop=\"url\" content=\"https://assets.inshorts.com/inshorts/images/v1/variants/jpg/m/2018/11_nov/21_wed/img_1542823931298_497.jpg\"></span>\\n      <meta itemprop=\"width\" content=\"400\"></meta>\\n      <meta itemprop=\"height\" content=\"60\"></meta>\\n    </span>\\n  </span>\\n  <div class=\"news-card-image\" style= \"background-image: url(\\'https://static.inshorts.com/inshorts/images/v1/variants/jpg/m/2021/11_nov/5_fri/img_1636121063418_358.jpg?\\')\">\\n  </div>\\n  <div class=\"news-card-title news-right-box\">\\n    <a class=\"clickable\" onclick=\"track_GA_Mixpanel({\\'hitType\\': \\'event\\', \\'category\\': \\'TitleOfNews\\', \\'action\\': \\'clicked\\', \\'label\\': \\'Steve%20Jobs&#39;%20letter%20about%20his%20plans%20to%20visit%20Kumbh%20Mela%20sells%20for%20%24500%2C312)\\' });\"  style=\"color:#44444d!important\" href=\"/en/news/steve-jobs-letter-about-his-plans-to-visit-kumbh-mela-sells-for-$500312-1636123749763\">\\n      <span itemprop=\"headline\">Steve Jobs&#39; letter about his plans to visit Kumbh Mela sells for $500,312</span>\\n    </a>\\n    <div class=\"news-card-author-time news-card-author-time-in-title\">\\n      <a href=\"/prev/en/news/steve-jobs-letter-about-his-plans-to-visit-kumbh-mela-sells-for-$500312-1636123749763\"><span class=\"short\">short</span></a> by <span class=\"author\">Hiral Goyal</span> / \\n      <span class=\"time\" itemprop=\"datePublished\" content=\"2021-11-05T14:49:09.000Z\">08:19 pm</span> on <span clas=\"date\">05 Nov 2021,Friday</span>\\n    </div>\\n  </div>\\n  <div class=\"news-card-content news-right-box\">\\n    <div itemprop=\"articleBody\">Apple&#39;s late Co-founder Steve Jobs&#39; handwritten letter from 1974 featuring his plans to travel to India to attend the Kumbh Mela was auctioned by Bonhams for $500,312. The letter is postmarked a day before Jobs&#39; 19th birthday and is addressed to his childhood friend Tim Brown. Jobs came to India for seven months in 1974 in search of spiritual enlightenment.</div>\\n    <div class=\"news-card-author-time news-card-author-time-in-content\">\\n      <a href=\"/prev/en/news/steve-jobs-letter-about-his-plans-to-visit-kumbh-mela-sells-for-$500312-1636123749763\"><span class=\"short\">short</span></a> by <span class=\"author\">Hiral Goyal</span> / \\n      <span class=\"time\" itemprop=\"dateModified\" content=\"2021-11-05T14:49:09.000Z\" >08:19 pm</span> on <span class=\"date\">05 Nov</span>\\n    </div>\\n  </div>\\n  \\n    <div class=\"news-card-footer news-right-box\">\\n      <div class=\"read-more\">read more at <a class=\"source\" onclick=\"track_GA_Mixpanel({\\'hitType\\': \\'event\\', \\'category\\': \\'ReadMore\\', \\'action\\': \\'clicked\\', \\'label\\': \\'bonhams.com\\' });\" target=\"_blank\" href=\"https://www.bonhams.com/auctions/26897/lot/44/?utm_campaign=fullarticle&amp;utm_medium=referral&amp;utm_source=inshorts \">bonhams.com</a></div>\\n    </div>\\n  \\n\\n</div>\\n\\n  \\n</div>\\n\\n\\n\\n\\n  \\n    <div id=\\'div-gpt-ad-1536748319959-ocqdyaq4-1\\' style=\\'height:250px; width:900px; margin: auto; margin-bottom: 2%;\\'>\\n      <script>\\n        googletag.cmd.push(function() { \\n          //News banner for desktop\\n          var slotIdWeb = \\'div-gpt-ad-1536748319959-ocqdyaq4-1\\';\\n          var slot = googletag.defineSlot(\\'/142919096/inshorts_website_900x250\\', [900, 250], slotIdWeb)\\n          .addService(googletag.pubads())\\n          .setCollapseEmptyDiv(true,true);\\n\\n          googletag.display(\\'div-gpt-ad-1536748319959-ocqdyaq4-1\\');\\n          googletag.pubads().refresh([slot]);\\n        });\\n      </script>\\n    </div>\\n  \\n\\n<div class=\"\">\\n<div class=\"news-card z-depth-1\" itemscope itemtype=\"http://schema.org/NewsArticle\">\\n  <span content=\"\" itemscope itemprop=\"mainEntityOfPage\" itemType=\"https://schema.org/WebPage\" itemid=\"https://inshorts.com/en/news/teslas-market-value-surpasses-an-entire-energy-sector-index-1636168793618\"></span>\\n  <span itemtype=\"https://schema.org/Person\" itemscope=\"itemscope\" itemprop=\"author\">\\n    <span itemprop=\"name\" content=\"Kiran Khatri\"></span>\\n  </span>\\n  <span itemprop=\"description\" content=\"Tesla&#39;s market value surpasses an entire energy sector index\"></span>\\n  <span itemprop=\"image\" itemscope itemtype=\"https://schema.org/ImageObject\">\\n    <meta itemprop=\"url\" content=\"https://static.inshorts.com/inshorts/images/v1/variants/jpg/m/2021/11_nov/6_sat/img_1636167313251_512.jpg?\"></meta>\\n    <meta itemprop=\"width\" content=\"864\"></meta>\\n    <meta itemprop=\"height\" content=\"483\"></meta>\\n  </span>\\n  <span itemtype=\"https://schema.org/Organization\" itemscope=\"itemscope\" itemprop=\"publisher\">\\n    <span itemprop=\"url\" content=\"https://inshorts.com/\"></span>\\n    <span itemprop=\"name\" content=\"Inshorts\"></span>\\n    <span itemprop=\"logo\" itemscope itemtype=\"https://schema.org/ImageObject\">\\n      <span itemprop=\"url\" content=\"https://assets.inshorts.com/inshorts/images/v1/variants/jpg/m/2018/11_nov/21_wed/img_1542823931298_497.jpg\"></span>\\n      <meta itemprop=\"width\" content=\"400\"></meta>\\n      <meta itemprop=\"height\" content=\"60\"></meta>\\n    </span>\\n  </span>\\n  <div class=\"news-card-image\" style= \"background-image: url(\\'https://static.inshorts.com/inshorts/images/v1/variants/jpg/m/2021/11_nov/6_sat/img_1636167313251_512.jpg?\\')\">\\n  </div>\\n  <div class=\"news-card-title news-right-box\">\\n    <a class=\"clickable\" onclick=\"track_GA_Mixpanel({\\'hitType\\': \\'event\\', \\'category\\': \\'TitleOfNews\\', \\'action\\': \\'clicked\\', \\'label\\': \\'Tesla&#39;s%20market%20value%20surpasses%20an%20entire%20energy%20sector%20index)\\' });\"  style=\"color:#44444d!important\" href=\"/en/news/teslas-market-value-surpasses-an-entire-energy-sector-index-1636168793618\">\\n      <span itemprop=\"headline\">Tesla&#39;s market value surpasses an entire energy sector index</span>\\n    </a>\\n    <div class=\"news-card-author-time news-card-author-time-in-title\">\\n      <a href=\"/prev/en/news/teslas-market-value-surpasses-an-entire-energy-sector-index-1636168793618\"><span class=\"short\">short</span></a> by <span class=\"author\">Kiran Khatri</span> / \\n      <span class=\"time\" itemprop=\"datePublished\" content=\"2021-11-06T03:19:53.000Z\">08:49 am</span> on <span clas=\"date\">06 Nov 2021,Saturday</span>\\n    </div>\\n  </div>\\n  <div class=\"news-card-content news-right-box\">\\n    <div itemprop=\"articleBody\">Elon Musk-led Tesla&#39;s market value has surpassed that of an entire energy sector index, according to Bloomberg. The market capitalisation of the electric carmaker, headed by the world&#39;s richest person, hit $1.2 trillion following a 43% surge in October. This is higher than the $1.1 trillion market value of the US equity benchmark index S&amp;P 500&#39;s energy sector. </div>\\n    <div class=\"news-card-author-time news-card-author-time-in-content\">\\n      <a href=\"/prev/en/news/teslas-market-value-surpasses-an-entire-energy-sector-index-1636168793618\"><span class=\"short\">short</span></a> by <span class=\"author\">Kiran Khatri</span> / \\n      <span class=\"time\" itemprop=\"dateModified\" content=\"2021-11-06T03:19:53.000Z\" >08:49 am</span> on <span class=\"date\">06 Nov</span>\\n    </div>\\n  </div>\\n  \\n    <div class=\"news-card-footer news-right-box\">\\n      <div class=\"read-more\">read more at <a class=\"source\" onclick=\"track_GA_Mixpanel({\\'hitType\\': \\'event\\', \\'category\\': \\'ReadMore\\', \\'action\\': \\'clicked\\', \\'label\\': \\'BloombergQuint\\' });\" target=\"_blank\" href=\"https://www.bloombergquint.com/business/tesla-surpasses-a-whole-index-worth-of-energy-industry-leaders?utm_campaign=fullarticle&amp;utm_medium=referral&amp;utm_source=inshorts \">BloombergQuint</a></div>\\n    </div>\\n  \\n\\n</div>\\n\\n  \\n</div>\\n\\n\\n\\n\\n<div class=\"\">\\n<div class=\"news-card z-depth-1\" itemscope itemtype=\"http://schema.org/NewsArticle\">\\n  <span content=\"\" itemscope itemprop=\"mainEntityOfPage\" itemType=\"https://schema.org/WebPage\" itemid=\"https://inshorts.com/en/news/alternate-name-for-tesla-was-faraday-musk-on-how-the-company-bought-its-name-1636199814655\"></span>\\n  <span itemtype=\"https://schema.org/Person\" itemscope=\"itemscope\" itemprop=\"author\">\\n    <span itemprop=\"name\" content=\"Arshiya Chopra\"></span>\\n  </span>\\n  <span itemprop=\"description\" content=\"Alternate name for Tesla was &#39;Faraday&#39;: Musk on how the company bought its name\"></span>\\n  <span itemprop=\"image\" itemscope itemtype=\"https://schema.org/ImageObject\">\\n    <meta itemprop=\"url\" content=\"https://static.inshorts.com/inshorts/images/v1/variants/jpg/m/2021/11_nov/6_sat/img_1636198412751_319.jpg?\"></meta>\\n    <meta itemprop=\"width\" content=\"864\"></meta>\\n    <meta itemprop=\"height\" content=\"483\"></meta>\\n  </span>\\n  <span itemtype=\"https://schema.org/Organization\" itemscope=\"itemscope\" itemprop=\"publisher\">\\n    <span itemprop=\"url\" content=\"https://inshorts.com/\"></span>\\n    <span itemprop=\"name\" content=\"Inshorts\"></span>\\n    <span itemprop=\"logo\" itemscope itemtype=\"https://schema.org/ImageObject\">\\n      <span itemprop=\"url\" content=\"https://assets.inshorts.com/inshorts/images/v1/variants/jpg/m/2018/11_nov/21_wed/img_1542823931298_497.jpg\"></span>\\n      <meta itemprop=\"width\" content=\"400\"></meta>\\n      <meta itemprop=\"height\" content=\"60\"></meta>\\n    </span>\\n  </span>\\n  <div class=\"news-card-image\" style= \"background-image: url(\\'https://static.inshorts.com/inshorts/images/v1/variants/jpg/m/2021/11_nov/6_sat/img_1636198412751_319.jpg?\\')\">\\n  </div>\\n  <div class=\"news-card-title news-right-box\">\\n    <a class=\"clickable\" onclick=\"track_GA_Mixpanel({\\'hitType\\': \\'event\\', \\'category\\': \\'TitleOfNews\\', \\'action\\': \\'clicked\\', \\'label\\': \\'Alternate%20name%20for%20Tesla%20was%20&#39;Faraday&#39;%3A%20Musk%20on%20how%20the%20company%20bought%20its%20name)\\' });\"  style=\"color:#44444d!important\" href=\"/en/news/alternate-name-for-tesla-was-faraday-musk-on-how-the-company-bought-its-name-1636199814655\">\\n      <span itemprop=\"headline\">Alternate name for Tesla was &#39;Faraday&#39;: Musk on how the company bought its name</span>\\n    </a>\\n    <div class=\"news-card-author-time news-card-author-time-in-title\">\\n      <a href=\"/prev/en/news/alternate-name-for-tesla-was-faraday-musk-on-how-the-company-bought-its-name-1636199814655\"><span class=\"short\">short</span></a> by <span class=\"author\">Arshiya Chopra</span> / \\n      <span class=\"time\" itemprop=\"datePublished\" content=\"2021-11-06T11:56:54.000Z\">05:26 pm</span> on <span clas=\"date\">06 Nov 2021,Saturday</span>\\n    </div>\\n  </div>\\n  <div class=\"news-card-content news-right-box\">\\n    <div itemprop=\"articleBody\">Tesla CEO Elon Musk responded to a Twitter user who shared a video of Musk revealing he bought the company&#39;s name, which was already owned by a firm in US&#39; Sacramento, for $75,000. &#34;The top alternate name, if we couldn&#39;t acquire the Tesla Motors trademark, was Faraday, which a competitor ended up using,&#34; Musk said.</div>\\n    <div class=\"news-card-author-time news-card-author-time-in-content\">\\n      <a href=\"/prev/en/news/alternate-name-for-tesla-was-faraday-musk-on-how-the-company-bought-its-name-1636199814655\"><span class=\"short\">short</span></a> by <span class=\"author\">Arshiya Chopra</span> / \\n      <span class=\"time\" itemprop=\"dateModified\" content=\"2021-11-06T11:56:54.000Z\" >05:26 pm</span> on <span class=\"date\">06 Nov</span>\\n    </div>\\n  </div>\\n  \\n    <div class=\"news-card-footer news-right-box\">\\n      <div class=\"read-more\">read more at <a class=\"source\" onclick=\"track_GA_Mixpanel({\\'hitType\\': \\'event\\', \\'category\\': \\'ReadMore\\', \\'action\\': \\'clicked\\', \\'label\\': \\'Hindustan%20Times\\' });\" target=\"_blank\" href=\"https://auto.hindustantimes.com/auto/news/watch-tesla-ceo-elon-musk-reveals-how-the-ev-giant-got-its-name/amp-41636181133032.html?utm_campaign=fullarticle&amp;utm_medium=referral&amp;utm_source=inshorts \">Hindustan Times</a></div>\\n    </div>\\n  \\n\\n</div>\\n\\n  \\n</div>\\n\\n\\n\\n\\n<div class=\"\">\\n<div class=\"news-card z-depth-1\" itemscope itemtype=\"http://schema.org/NewsArticle\">\\n  <span content=\"\" itemscope itemprop=\"mainEntityOfPage\" itemType=\"https://schema.org/WebPage\" itemid=\"https://inshorts.com/en/news/mcafee-nears-deal-to-sell-itself-to-advent-for-over-$10-bn-report-1636182749479\"></span>\\n  <span itemtype=\"https://schema.org/Person\" itemscope=\"itemscope\" itemprop=\"author\">\\n    <span itemprop=\"name\" content=\"Aishwarya Awasthi\"></span>\\n  </span>\\n  <span itemprop=\"description\" content=\"McAfee nears deal to sell itself to Advent for over $10 bn: Report\"></span>\\n  <span itemprop=\"image\" itemscope itemtype=\"https://schema.org/ImageObject\">\\n    <meta itemprop=\"url\" content=\"https://static.inshorts.com/inshorts/images/v1/variants/jpg/m/2021/11_nov/6_sat/img_1636179432416_871.jpg?\"></meta>\\n    <meta itemprop=\"width\" content=\"864\"></meta>\\n    <meta itemprop=\"height\" content=\"483\"></meta>\\n  </span>\\n  <span itemtype=\"https://schema.org/Organization\" itemscope=\"itemscope\" itemprop=\"publisher\">\\n    <span itemprop=\"url\" content=\"https://inshorts.com/\"></span>\\n    <span itemprop=\"name\" content=\"Inshorts\"></span>\\n    <span itemprop=\"logo\" itemscope itemtype=\"https://schema.org/ImageObject\">\\n      <span itemprop=\"url\" content=\"https://assets.inshorts.com/inshorts/images/v1/variants/jpg/m/2018/11_nov/21_wed/img_1542823931298_497.jpg\"></span>\\n      <meta itemprop=\"width\" content=\"400\"></meta>\\n      <meta itemprop=\"height\" content=\"60\"></meta>\\n    </span>\\n  </span>\\n  <div class=\"news-card-image\" style= \"background-image: url(\\'https://static.inshorts.com/inshorts/images/v1/variants/jpg/m/2021/11_nov/6_sat/img_1636179432416_871.jpg?\\')\">\\n  </div>\\n  <div class=\"news-card-title news-right-box\">\\n    <a class=\"clickable\" onclick=\"track_GA_Mixpanel({\\'hitType\\': \\'event\\', \\'category\\': \\'TitleOfNews\\', \\'action\\': \\'clicked\\', \\'label\\': \\'McAfee%20nears%20deal%20to%20sell%20itself%20to%20Advent%20for%20over%20%2410%20bn%3A%20Report)\\' });\"  style=\"color:#44444d!important\" href=\"/en/news/mcafee-nears-deal-to-sell-itself-to-advent-for-over-$10-bn-report-1636182749479\">\\n      <span itemprop=\"headline\">McAfee nears deal to sell itself to Advent for over $10 bn: Report</span>\\n    </a>\\n    <div class=\"news-card-author-time news-card-author-time-in-title\">\\n      <a href=\"/prev/en/news/mcafee-nears-deal-to-sell-itself-to-advent-for-over-$10-bn-report-1636182749479\"><span class=\"short\">short</span></a> by <span class=\"author\">Aishwarya Awasthi</span> / \\n      <span class=\"time\" itemprop=\"datePublished\" content=\"2021-11-06T07:12:29.000Z\">12:42 pm</span> on <span clas=\"date\">06 Nov 2021,Saturday</span>\\n    </div>\\n  </div>\\n  <div class=\"news-card-content news-right-box\">\\n    <div itemprop=\"articleBody\">Cyber security firm McAfee is nearing a deal to sell itself to US private equity firm Advent International for over $10 billion, media reports said. The deal could be announced on Monday, however the talks could still fall apart. Shares of McAfee closed up 20% at $25.46, giving the company a market valuation of $11 billion.</div>\\n    <div class=\"news-card-author-time news-card-author-time-in-content\">\\n      <a href=\"/prev/en/news/mcafee-nears-deal-to-sell-itself-to-advent-for-over-$10-bn-report-1636182749479\"><span class=\"short\">short</span></a> by <span class=\"author\">Aishwarya Awasthi</span> / \\n      <span class=\"time\" itemprop=\"dateModified\" content=\"2021-11-06T07:12:29.000Z\" >12:42 pm</span> on <span class=\"date\">06 Nov</span>\\n    </div>\\n  </div>\\n  \\n    <div class=\"news-card-footer news-right-box\">\\n      <div class=\"read-more\">read more at <a class=\"source\" onclick=\"track_GA_Mixpanel({\\'hitType\\': \\'event\\', \\'category\\': \\'ReadMore\\', \\'action\\': \\'clicked\\', \\'label\\': \\'Reuters\\' });\" target=\"_blank\" href=\"https://www.reuters.com/technology/mcafee-nears-deal-sell-itself-advent-over-10-bln-wsj-2021-11-05/?utm_campaign=fullarticle&amp;utm_medium=referral&amp;utm_source=inshorts \">Reuters</a></div>\\n    </div>\\n  \\n\\n</div>\\n\\n  \\n</div>\\n\\n\\n\\n\\n<div class=\"\">\\n<div class=\"news-card z-depth-1\" itemscope itemtype=\"http://schema.org/NewsArticle\">\\n  <span content=\"\" itemscope itemprop=\"mainEntityOfPage\" itemType=\"https://schema.org/WebPage\" itemid=\"https://inshorts.com/en/news/after-nyc-mayorelect-tampa-mayor-to-accept-paycheck-in-bitcoin-1636212001954\"></span>\\n  <span itemtype=\"https://schema.org/Person\" itemscope=\"itemscope\" itemprop=\"author\">\\n    <span itemprop=\"name\" content=\"Hiral Goyal\"></span>\\n  </span>\\n  <span itemprop=\"description\" content=\"After NYC Mayor-elect, Tampa Mayor to accept paycheck in Bitcoin\"></span>\\n  <span itemprop=\"image\" itemscope itemtype=\"https://schema.org/ImageObject\">\\n    <meta itemprop=\"url\" content=\"https://static.inshorts.com/inshorts/images/v1/variants/jpg/m/2021/11_nov/6_sat/img_1636210732276_690.jpg?\"></meta>\\n    <meta itemprop=\"width\" content=\"864\"></meta>\\n    <meta itemprop=\"height\" content=\"483\"></meta>\\n  </span>\\n  <span itemtype=\"https://schema.org/Organization\" itemscope=\"itemscope\" itemprop=\"publisher\">\\n    <span itemprop=\"url\" content=\"https://inshorts.com/\"></span>\\n    <span itemprop=\"name\" content=\"Inshorts\"></span>\\n    <span itemprop=\"logo\" itemscope itemtype=\"https://schema.org/ImageObject\">\\n      <span itemprop=\"url\" content=\"https://assets.inshorts.com/inshorts/images/v1/variants/jpg/m/2018/11_nov/21_wed/img_1542823931298_497.jpg\"></span>\\n      <meta itemprop=\"width\" content=\"400\"></meta>\\n      <meta itemprop=\"height\" content=\"60\"></meta>\\n    </span>\\n  </span>\\n  <div class=\"news-card-image\" style= \"background-image: url(\\'https://static.inshorts.com/inshorts/images/v1/variants/jpg/m/2021/11_nov/6_sat/img_1636210732276_690.jpg?\\')\">\\n  </div>\\n  <div class=\"news-card-title news-right-box\">\\n    <a class=\"clickable\" onclick=\"track_GA_Mixpanel({\\'hitType\\': \\'event\\', \\'category\\': \\'TitleOfNews\\', \\'action\\': \\'clicked\\', \\'label\\': \\'After%20NYC%20Mayor-elect%2C%20Tampa%20Mayor%20to%20accept%20paycheck%20in%20Bitcoin)\\' });\"  style=\"color:#44444d!important\" href=\"/en/news/after-nyc-mayorelect-tampa-mayor-to-accept-paycheck-in-bitcoin-1636212001954\">\\n      <span itemprop=\"headline\">After NYC Mayor-elect, Tampa Mayor to accept paycheck in Bitcoin</span>\\n    </a>\\n    <div class=\"news-card-author-time news-card-author-time-in-title\">\\n      <a href=\"/prev/en/news/after-nyc-mayorelect-tampa-mayor-to-accept-paycheck-in-bitcoin-1636212001954\"><span class=\"short\">short</span></a> by <span class=\"author\">Hiral Goyal</span> / \\n      <span class=\"time\" itemprop=\"datePublished\" content=\"2021-11-06T15:20:01.000Z\">08:50 pm</span> on <span clas=\"date\">06 Nov 2021,Saturday</span>\\n    </div>\\n  </div>\\n  <div class=\"news-card-content news-right-box\">\\n    <div itemprop=\"articleBody\">After NYC Mayor-elect Eric Adams announced plans to take his first three paychecks in Bitcoin, Florida&#39;s Tampa city Mayor Jane Castor said she&#39;ll also accept her paycheck in Bitcoin. Earlier, Miami Mayor Francis Suarez said he&#39;ll take his next paycheck in Bitcoin, while Scott Conger, the Mayor of City of Jackson, announced he will convert his next paycheck to Bitcoin.</div>\\n    <div class=\"news-card-author-time news-card-author-time-in-content\">\\n      <a href=\"/prev/en/news/after-nyc-mayorelect-tampa-mayor-to-accept-paycheck-in-bitcoin-1636212001954\"><span class=\"short\">short</span></a> by <span class=\"author\">Hiral Goyal</span> / \\n      <span class=\"time\" itemprop=\"dateModified\" content=\"2021-11-06T15:20:01.000Z\" >08:50 pm</span> on <span class=\"date\">06 Nov</span>\\n    </div>\\n  </div>\\n  \\n    <div class=\"news-card-footer news-right-box\">\\n      <div class=\"read-more\">read more at <a class=\"source\" onclick=\"track_GA_Mixpanel({\\'hitType\\': \\'event\\', \\'category\\': \\'ReadMore\\', \\'action\\': \\'clicked\\', \\'label\\': \\'Twitter\\' });\" target=\"_blank\" href=\"https://twitter.com/JaneCastor/status/1456690329348976649?utm_campaign=fullarticle&amp;utm_medium=referral&amp;utm_source=inshorts \">Twitter</a></div>\\n    </div>\\n  \\n\\n</div>\\n\\n  \\n</div>\\n\\n\\n\\n\\n<div class=\"\">\\n<div class=\"news-card z-depth-1\" itemscope itemtype=\"http://schema.org/NewsArticle\">\\n  <span content=\"\" itemscope itemprop=\"mainEntityOfPage\" itemType=\"https://schema.org/WebPage\" itemid=\"https://inshorts.com/en/news/musk-sought-as-witness-in-tesla-crash-trial-in-us-filings-1636112508259\"></span>\\n  <span itemtype=\"https://schema.org/Person\" itemscope=\"itemscope\" itemprop=\"author\">\\n    <span itemprop=\"name\" content=\"Aishwarya Awasthi\"></span>\\n  </span>\\n  <span itemprop=\"description\" content=\"Musk sought as witness in Tesla crash trial in US: Filings\"></span>\\n  <span itemprop=\"image\" itemscope itemtype=\"https://schema.org/ImageObject\">\\n    <meta itemprop=\"url\" content=\"https://static.inshorts.com/inshorts/images/v1/variants/jpg/m/2021/11_nov/5_fri/img_1636111027726_231.jpg?\"></meta>\\n    <meta itemprop=\"width\" content=\"864\"></meta>\\n    <meta itemprop=\"height\" content=\"483\"></meta>\\n  </span>\\n  <span itemtype=\"https://schema.org/Organization\" itemscope=\"itemscope\" itemprop=\"publisher\">\\n    <span itemprop=\"url\" content=\"https://inshorts.com/\"></span>\\n    <span itemprop=\"name\" content=\"Inshorts\"></span>\\n    <span itemprop=\"logo\" itemscope itemtype=\"https://schema.org/ImageObject\">\\n      <span itemprop=\"url\" content=\"https://assets.inshorts.com/inshorts/images/v1/variants/jpg/m/2018/11_nov/21_wed/img_1542823931298_497.jpg\"></span>\\n      <meta itemprop=\"width\" content=\"400\"></meta>\\n      <meta itemprop=\"height\" content=\"60\"></meta>\\n    </span>\\n  </span>\\n  <div class=\"news-card-image\" style= \"background-image: url(\\'https://static.inshorts.com/inshorts/images/v1/variants/jpg/m/2021/11_nov/5_fri/img_1636111027726_231.jpg?\\')\">\\n  </div>\\n  <div class=\"news-card-title news-right-box\">\\n    <a class=\"clickable\" onclick=\"track_GA_Mixpanel({\\'hitType\\': \\'event\\', \\'category\\': \\'TitleOfNews\\', \\'action\\': \\'clicked\\', \\'label\\': \\'Musk%20sought%20as%20witness%20in%20Tesla%20crash%20trial%20in%20US%3A%20Filings)\\' });\"  style=\"color:#44444d!important\" href=\"/en/news/musk-sought-as-witness-in-tesla-crash-trial-in-us-filings-1636112508259\">\\n      <span itemprop=\"headline\">Musk sought as witness in Tesla crash trial in US: Filings</span>\\n    </a>\\n    <div class=\"news-card-author-time news-card-author-time-in-title\">\\n      <a href=\"/prev/en/news/musk-sought-as-witness-in-tesla-crash-trial-in-us-filings-1636112508259\"><span class=\"short\">short</span></a> by <span class=\"author\">Aishwarya Awasthi</span> / \\n      <span class=\"time\" itemprop=\"datePublished\" content=\"2021-11-05T11:41:48.000Z\">05:11 pm</span> on <span clas=\"date\">05 Nov 2021,Friday</span>\\n    </div>\\n  </div>\\n  <div class=\"news-card-content news-right-box\">\\n    <div itemprop=\"articleBody\">Tesla CEO Elon Musk has been listed as potential witness in a trial to determine whether Tesla&#39;s Autopilot tech led to a fatal car crash in the US, filings revealed. The lawyers of the family of Jeremy Banner, who died in 2019 when his Tesla collided with a semi-trailer truck, have listed Musk. The trial could take place in January.</div>\\n    <div class=\"news-card-author-time news-card-author-time-in-content\">\\n      <a href=\"/prev/en/news/musk-sought-as-witness-in-tesla-crash-trial-in-us-filings-1636112508259\"><span class=\"short\">short</span></a> by <span class=\"author\">Aishwarya Awasthi</span> / \\n      <span class=\"time\" itemprop=\"dateModified\" content=\"2021-11-05T11:41:48.000Z\" >05:11 pm</span> on <span class=\"date\">05 Nov</span>\\n    </div>\\n  </div>\\n  \\n    <div class=\"news-card-footer news-right-box\">\\n      <div class=\"read-more\">read more at <a class=\"source\" onclick=\"track_GA_Mixpanel({\\'hitType\\': \\'event\\', \\'category\\': \\'ReadMore\\', \\'action\\': \\'clicked\\', \\'label\\': \\'Business%20Insider%20India\\' });\" target=\"_blank\" href=\"https://www.businessinsider.in/thelife/news/lawyers-want-elon-musk-to-appear-as-a-witness-in-a-trial-examining-whether-teslas-autopilot-system-led-to-a-fatal-crash-a-report-says/amp_articleshow/87528877.cms?utm_campaign=fullarticle&amp;utm_medium=referral&amp;utm_source=inshorts \">Business Insider India</a></div>\\n    </div>\\n  \\n\\n</div>\\n\\n  \\n</div>\\n\\n\\n\\n\\n<div class=\"\">\\n<div class=\"news-card z-depth-1\" itemscope itemtype=\"http://schema.org/NewsArticle\">\\n  <span content=\"\" itemscope itemprop=\"mainEntityOfPage\" itemType=\"https://schema.org/WebPage\" itemid=\"https://inshorts.com/en/news/tesla-opens-battery-manufacturing-equipment-plant-in-canada-1636169853473\"></span>\\n  <span itemtype=\"https://schema.org/Person\" itemscope=\"itemscope\" itemprop=\"author\">\\n    <span itemprop=\"name\" content=\"Aishwarya Awasthi\"></span>\\n  </span>\\n  <span itemprop=\"description\" content=\"Tesla opens battery manufacturing equipment plant in Canada\"></span>\\n  <span itemprop=\"image\" itemscope itemtype=\"https://schema.org/ImageObject\">\\n    <meta itemprop=\"url\" content=\"https://static.inshorts.com/inshorts/images/v1/variants/jpg/m/2021/11_nov/6_sat/img_1636167582820_574.jpg?\"></meta>\\n    <meta itemprop=\"width\" content=\"864\"></meta>\\n    <meta itemprop=\"height\" content=\"483\"></meta>\\n  </span>\\n  <span itemtype=\"https://schema.org/Organization\" itemscope=\"itemscope\" itemprop=\"publisher\">\\n    <span itemprop=\"url\" content=\"https://inshorts.com/\"></span>\\n    <span itemprop=\"name\" content=\"Inshorts\"></span>\\n    <span itemprop=\"logo\" itemscope itemtype=\"https://schema.org/ImageObject\">\\n      <span itemprop=\"url\" content=\"https://assets.inshorts.com/inshorts/images/v1/variants/jpg/m/2018/11_nov/21_wed/img_1542823931298_497.jpg\"></span>\\n      <meta itemprop=\"width\" content=\"400\"></meta>\\n      <meta itemprop=\"height\" content=\"60\"></meta>\\n    </span>\\n  </span>\\n  <div class=\"news-card-image\" style= \"background-image: url(\\'https://static.inshorts.com/inshorts/images/v1/variants/jpg/m/2021/11_nov/6_sat/img_1636167582820_574.jpg?\\')\">\\n  </div>\\n  <div class=\"news-card-title news-right-box\">\\n    <a class=\"clickable\" onclick=\"track_GA_Mixpanel({\\'hitType\\': \\'event\\', \\'category\\': \\'TitleOfNews\\', \\'action\\': \\'clicked\\', \\'label\\': \\'Tesla%20opens%20battery%20manufacturing%20equipment%20plant%20in%20Canada)\\' });\"  style=\"color:#44444d!important\" href=\"/en/news/tesla-opens-battery-manufacturing-equipment-plant-in-canada-1636169853473\">\\n      <span itemprop=\"headline\">Tesla opens battery manufacturing equipment plant in Canada</span>\\n    </a>\\n    <div class=\"news-card-author-time news-card-author-time-in-title\">\\n      <a href=\"/prev/en/news/tesla-opens-battery-manufacturing-equipment-plant-in-canada-1636169853473\"><span class=\"short\">short</span></a> by <span class=\"author\">Aishwarya Awasthi</span> / \\n      <span class=\"time\" itemprop=\"datePublished\" content=\"2021-11-06T03:37:33.000Z\">09:07 am</span> on <span clas=\"date\">06 Nov 2021,Saturday</span>\\n    </div>\\n  </div>\\n  <div class=\"news-card-content news-right-box\">\\n    <div itemprop=\"articleBody\">Tesla has opened a factory to produce battery manufacturing equipment in the Canadian city of Markham, Ontario, the city&#39;s Mayor revealed. &#34;The facility...will produce state-of-the-art manufacturing equipment to be used at the Gigafactories located around the world in the production of batteries,&#34; the Mayor said. City official Bryan Frois told Reuters the Markham facility opened this summer.</div>\\n    <div class=\"news-card-author-time news-card-author-time-in-content\">\\n      <a href=\"/prev/en/news/tesla-opens-battery-manufacturing-equipment-plant-in-canada-1636169853473\"><span class=\"short\">short</span></a> by <span class=\"author\">Aishwarya Awasthi</span> / \\n      <span class=\"time\" itemprop=\"dateModified\" content=\"2021-11-06T03:37:33.000Z\" >09:07 am</span> on <span class=\"date\">06 Nov</span>\\n    </div>\\n  </div>\\n  \\n    <div class=\"news-card-footer news-right-box\">\\n      <div class=\"read-more\">read more at <a class=\"source\" onclick=\"track_GA_Mixpanel({\\'hitType\\': \\'event\\', \\'category\\': \\'ReadMore\\', \\'action\\': \\'clicked\\', \\'label\\': \\'Reuters\\' });\" target=\"_blank\" href=\"https://www.reuters.com/business/autos-transportation/tesla-open-canada-battery-gear-factory-markham-ontario-mayor-2021-11-05/?utm_campaign=fullarticle&amp;utm_medium=referral&amp;utm_source=inshorts \">Reuters</a></div>\\n    </div>\\n  \\n\\n</div>\\n\\n  \\n</div>\\n\\n\\n\\n\\n  \\n    <div id=\\'div-gpt-ad-1536748319959-kfjpzlft-1\\' style=\\'height:250px; width:900px; margin: auto; margin-bottom: 2%;\\'>\\n      <script>\\n        googletag.cmd.push(function() { \\n          //News banner for desktop\\n          var slotIdWeb = \\'div-gpt-ad-1536748319959-kfjpzlft-1\\';\\n          var slot = googletag.defineSlot(\\'/142919096/inshorts_website_900x250\\', [900, 250], slotIdWeb)\\n          .addService(googletag.pubads())\\n          .setCollapseEmptyDiv(true,true);\\n\\n          googletag.display(\\'div-gpt-ad-1536748319959-kfjpzlft-1\\');\\n          googletag.pubads().refresh([slot]);\\n        });\\n      </script>\\n    </div>\\n  \\n\\n<div class=\"\">\\n<div class=\"news-card z-depth-1\" itemscope itemtype=\"http://schema.org/NewsArticle\">\\n  <span content=\"\" itemscope itemprop=\"mainEntityOfPage\" itemType=\"https://schema.org/WebPage\" itemid=\"https://inshorts.com/en/news/spacexs-starlink-to-discuss-collaboration-with-indian-telecos-india-head-1636187024980\"></span>\\n  <span itemtype=\"https://schema.org/Person\" itemscope=\"itemscope\" itemprop=\"author\">\\n    <span itemprop=\"name\" content=\"Aishwarya Awasthi\"></span>\\n  </span>\\n  <span itemprop=\"description\" content=\"SpaceX&#39;s Starlink to discuss collaboration with Indian telecos: India head\"></span>\\n  <span itemprop=\"image\" itemscope itemtype=\"https://schema.org/ImageObject\">\\n    <meta itemprop=\"url\" content=\"https://static.inshorts.com/inshorts/images/v1/variants/jpg/m/2021/11_nov/6_sat/img_1636185679237_508.jpg?\"></meta>\\n    <meta itemprop=\"width\" content=\"864\"></meta>\\n    <meta itemprop=\"height\" content=\"483\"></meta>\\n  </span>\\n  <span itemtype=\"https://schema.org/Organization\" itemscope=\"itemscope\" itemprop=\"publisher\">\\n    <span itemprop=\"url\" content=\"https://inshorts.com/\"></span>\\n    <span itemprop=\"name\" content=\"Inshorts\"></span>\\n    <span itemprop=\"logo\" itemscope itemtype=\"https://schema.org/ImageObject\">\\n      <span itemprop=\"url\" content=\"https://assets.inshorts.com/inshorts/images/v1/variants/jpg/m/2018/11_nov/21_wed/img_1542823931298_497.jpg\"></span>\\n      <meta itemprop=\"width\" content=\"400\"></meta>\\n      <meta itemprop=\"height\" content=\"60\"></meta>\\n    </span>\\n  </span>\\n  <div class=\"news-card-image\" style= \"background-image: url(\\'https://static.inshorts.com/inshorts/images/v1/variants/jpg/m/2021/11_nov/6_sat/img_1636185679237_508.jpg?\\')\">\\n  </div>\\n  <div class=\"news-card-title news-right-box\">\\n    <a class=\"clickable\" onclick=\"track_GA_Mixpanel({\\'hitType\\': \\'event\\', \\'category\\': \\'TitleOfNews\\', \\'action\\': \\'clicked\\', \\'label\\': \\'SpaceX&#39;s%20Starlink%20to%20discuss%20collaboration%20with%20Indian%20telecos%3A%20India%20head)\\' });\"  style=\"color:#44444d!important\" href=\"/en/news/spacexs-starlink-to-discuss-collaboration-with-indian-telecos-india-head-1636187024980\">\\n      <span itemprop=\"headline\">SpaceX&#39;s Starlink to discuss collaboration with Indian telecos: India head</span>\\n    </a>\\n    <div class=\"news-card-author-time news-card-author-time-in-title\">\\n      <a href=\"/prev/en/news/spacexs-starlink-to-discuss-collaboration-with-indian-telecos-india-head-1636187024980\"><span class=\"short\">short</span></a> by <span class=\"author\">Aishwarya Awasthi</span> / \\n      <span class=\"time\" itemprop=\"datePublished\" content=\"2021-11-06T08:23:44.000Z\">01:53 pm</span> on <span clas=\"date\">06 Nov 2021,Saturday</span>\\n    </div>\\n  </div>\\n  <div class=\"news-card-content news-right-box\">\\n    <div itemprop=\"articleBody\">SpaceX&#39;s Starlink Country Director India Sanjay Bhargava has said the firm will discuss collaboration with telecom companies in India in future. He said the discussions will start once the 12 Phase-1 aspirational districts are identified by the NITI Aayog. The firm will also see the interest levels of various players and the USOF (Universal Service Obligation Fund).</div>\\n    <div class=\"news-card-author-time news-card-author-time-in-content\">\\n      <a href=\"/prev/en/news/spacexs-starlink-to-discuss-collaboration-with-indian-telecos-india-head-1636187024980\"><span class=\"short\">short</span></a> by <span class=\"author\">Aishwarya Awasthi</span> / \\n      <span class=\"time\" itemprop=\"dateModified\" content=\"2021-11-06T08:23:44.000Z\" >01:53 pm</span> on <span class=\"date\">06 Nov</span>\\n    </div>\\n  </div>\\n  \\n    <div class=\"news-card-footer news-right-box\">\\n      <div class=\"read-more\">read more at <a class=\"source\" onclick=\"track_GA_Mixpanel({\\'hitType\\': \\'event\\', \\'category\\': \\'ReadMore\\', \\'action\\': \\'clicked\\', \\'label\\': \\'The%20Financial%20Express\\' });\" target=\"_blank\" href=\"https://www.financialexpress.com/industry/elon-musks-starlink-to-explore-collaboration-with-indian-telcos-for-broadband/2363572/lite/?utm_campaign=fullarticle&amp;utm_medium=referral&amp;utm_source=inshorts \">The Financial Express</a></div>\\n    </div>\\n  \\n\\n</div>\\n\\n  \\n</div>\\n\\n\\n\\n\\n<div class=\"\">\\n<div class=\"news-card z-depth-1\" itemscope itemtype=\"http://schema.org/NewsArticle\">\\n  <span content=\"\" itemscope itemprop=\"mainEntityOfPage\" itemType=\"https://schema.org/WebPage\" itemid=\"https://inshorts.com/en/news/kroger-says-press-release-about-accepting-bitcoin-cash-fraudulent-1636194168723\"></span>\\n  <span itemtype=\"https://schema.org/Person\" itemscope=\"itemscope\" itemprop=\"author\">\\n    <span itemprop=\"name\" content=\"Aishwarya Awasthi\"></span>\\n  </span>\\n  <span itemprop=\"description\" content=\"Kroger says press release about accepting Bitcoin Cash &#39;fraudulent&#39;\"></span>\\n  <span itemprop=\"image\" itemscope itemtype=\"https://schema.org/ImageObject\">\\n    <meta itemprop=\"url\" content=\"https://static.inshorts.com/inshorts/images/v1/variants/jpg/m/2021/11_nov/6_sat/img_1636182451795_63.jpg?\"></meta>\\n    <meta itemprop=\"width\" content=\"864\"></meta>\\n    <meta itemprop=\"height\" content=\"483\"></meta>\\n  </span>\\n  <span itemtype=\"https://schema.org/Organization\" itemscope=\"itemscope\" itemprop=\"publisher\">\\n    <span itemprop=\"url\" content=\"https://inshorts.com/\"></span>\\n    <span itemprop=\"name\" content=\"Inshorts\"></span>\\n    <span itemprop=\"logo\" itemscope itemtype=\"https://schema.org/ImageObject\">\\n      <span itemprop=\"url\" content=\"https://assets.inshorts.com/inshorts/images/v1/variants/jpg/m/2018/11_nov/21_wed/img_1542823931298_497.jpg\"></span>\\n      <meta itemprop=\"width\" content=\"400\"></meta>\\n      <meta itemprop=\"height\" content=\"60\"></meta>\\n    </span>\\n  </span>\\n  <div class=\"news-card-image\" style= \"background-image: url(\\'https://static.inshorts.com/inshorts/images/v1/variants/jpg/m/2021/11_nov/6_sat/img_1636182451795_63.jpg?\\')\">\\n  </div>\\n  <div class=\"news-card-title news-right-box\">\\n    <a class=\"clickable\" onclick=\"track_GA_Mixpanel({\\'hitType\\': \\'event\\', \\'category\\': \\'TitleOfNews\\', \\'action\\': \\'clicked\\', \\'label\\': \\'Kroger%20says%20press%20release%20about%20accepting%20Bitcoin%20Cash%20&#39;fraudulent&#39;)\\' });\"  style=\"color:#44444d!important\" href=\"/en/news/kroger-says-press-release-about-accepting-bitcoin-cash-fraudulent-1636194168723\">\\n      <span itemprop=\"headline\">Kroger says press release about accepting Bitcoin Cash &#39;fraudulent&#39;</span>\\n    </a>\\n    <div class=\"news-card-author-time news-card-author-time-in-title\">\\n      <a href=\"/prev/en/news/kroger-says-press-release-about-accepting-bitcoin-cash-fraudulent-1636194168723\"><span class=\"short\">short</span></a> by <span class=\"author\">Aishwarya Awasthi</span> / \\n      <span class=\"time\" itemprop=\"datePublished\" content=\"2021-11-06T10:22:48.000Z\">03:52 pm</span> on <span clas=\"date\">06 Nov 2021,Saturday</span>\\n    </div>\\n  </div>\\n  <div class=\"news-card-content news-right-box\">\\n    <div itemprop=\"articleBody\">US retail firm Kroger has called a press release that claimed it will accept Bitcoin at its stores &#34;fraudulent&#34;. The release appeared on Kroger&#39;s investor relations page and was later deleted. The company said the page, which gets automatically updated, receives a direct feed from PR Newswire. Kroger has launched a probe into the release.</div>\\n    <div class=\"news-card-author-time news-card-author-time-in-content\">\\n      <a href=\"/prev/en/news/kroger-says-press-release-about-accepting-bitcoin-cash-fraudulent-1636194168723\"><span class=\"short\">short</span></a> by <span class=\"author\">Aishwarya Awasthi</span> / \\n      <span class=\"time\" itemprop=\"dateModified\" content=\"2021-11-06T10:22:48.000Z\" >03:52 pm</span> on <span class=\"date\">06 Nov</span>\\n    </div>\\n  </div>\\n  \\n    <div class=\"news-card-footer news-right-box\">\\n      <div class=\"read-more\">read more at <a class=\"source\" onclick=\"track_GA_Mixpanel({\\'hitType\\': \\'event\\', \\'category\\': \\'ReadMore\\', \\'action\\': \\'clicked\\', \\'label\\': \\'Business%20Insider%20India\\' });\" target=\"_blank\" href=\"https://www.businessinsider.in/cryptocurrency/news/kroger-says-it-is-not-accepting-bitcoin-cash-after-fake-press-release-sends-the-crypto-briefly-soaring/amp_articleshow/87544330.cms?utm_campaign=fullarticle&amp;utm_medium=referral&amp;utm_source=inshorts \">Business Insider India</a></div>\\n    </div>\\n  \\n\\n</div>\\n\\n  \\n</div>\\n\\n\\n\\n\\n<div class=\"\">\\n<div class=\"news-card z-depth-1\" itemscope itemtype=\"http://schema.org/NewsArticle\">\\n  <span content=\"\" itemscope itemprop=\"mainEntityOfPage\" itemType=\"https://schema.org/WebPage\" itemid=\"https://inshorts.com/en/news/google-parent-launches-new-company-that-uses-ai-to-create-new-drugs-1636114146786\"></span>\\n  <span itemtype=\"https://schema.org/Person\" itemscope=\"itemscope\" itemprop=\"author\">\\n    <span itemprop=\"name\" content=\"Hiral Goyal\"></span>\\n  </span>\\n  <span itemprop=\"description\" content=\"Google parent launches new company that uses AI to create new drugs\"></span>\\n  <span itemprop=\"image\" itemscope itemtype=\"https://schema.org/ImageObject\">\\n    <meta itemprop=\"url\" content=\"https://static.inshorts.com/inshorts/images/v1/variants/jpg/m/2021/11_nov/5_fri/img_1636112648756_603.jpg?\"></meta>\\n    <meta itemprop=\"width\" content=\"864\"></meta>\\n    <meta itemprop=\"height\" content=\"483\"></meta>\\n  </span>\\n  <span itemtype=\"https://schema.org/Organization\" itemscope=\"itemscope\" itemprop=\"publisher\">\\n    <span itemprop=\"url\" content=\"https://inshorts.com/\"></span>\\n    <span itemprop=\"name\" content=\"Inshorts\"></span>\\n    <span itemprop=\"logo\" itemscope itemtype=\"https://schema.org/ImageObject\">\\n      <span itemprop=\"url\" content=\"https://assets.inshorts.com/inshorts/images/v1/variants/jpg/m/2018/11_nov/21_wed/img_1542823931298_497.jpg\"></span>\\n      <meta itemprop=\"width\" content=\"400\"></meta>\\n      <meta itemprop=\"height\" content=\"60\"></meta>\\n    </span>\\n  </span>\\n  <div class=\"news-card-image\" style= \"background-image: url(\\'https://static.inshorts.com/inshorts/images/v1/variants/jpg/m/2021/11_nov/5_fri/img_1636112648756_603.jpg?\\')\">\\n  </div>\\n  <div class=\"news-card-title news-right-box\">\\n    <a class=\"clickable\" onclick=\"track_GA_Mixpanel({\\'hitType\\': \\'event\\', \\'category\\': \\'TitleOfNews\\', \\'action\\': \\'clicked\\', \\'label\\': \\'Google%20parent%20launches%20new%20company%20that%20uses%20AI%20to%20create%20new%20drugs)\\' });\"  style=\"color:#44444d!important\" href=\"/en/news/google-parent-launches-new-company-that-uses-ai-to-create-new-drugs-1636114146786\">\\n      <span itemprop=\"headline\">Google parent launches new company that uses AI to create new drugs</span>\\n    </a>\\n    <div class=\"news-card-author-time news-card-author-time-in-title\">\\n      <a href=\"/prev/en/news/google-parent-launches-new-company-that-uses-ai-to-create-new-drugs-1636114146786\"><span class=\"short\">short</span></a> by <span class=\"author\">Hiral Goyal</span> / \\n      <span class=\"time\" itemprop=\"datePublished\" content=\"2021-11-05T12:09:06.000Z\">05:39 pm</span> on <span clas=\"date\">05 Nov 2021,Friday</span>\\n    </div>\\n  </div>\\n  <div class=\"news-card-content news-right-box\">\\n    <div itemprop=\"articleBody\">Google&#39;s parent company Alphabet said it has launched a new company called Isomorphic Labs in the UK. The company plans to use artificial intelligence (AI) software to create new drugs and medicines and will build on research carried out by another Alphabet subsidiary DeepMind. Demis Hassabis, the CEO of DeepMind, said he will serve as CEO for Isomorphic&#39;s initial phase.</div>\\n    <div class=\"news-card-author-time news-card-author-time-in-content\">\\n      <a href=\"/prev/en/news/google-parent-launches-new-company-that-uses-ai-to-create-new-drugs-1636114146786\"><span class=\"short\">short</span></a> by <span class=\"author\">Hiral Goyal</span> / \\n      <span class=\"time\" itemprop=\"dateModified\" content=\"2021-11-05T12:09:06.000Z\" >05:39 pm</span> on <span class=\"date\">05 Nov</span>\\n    </div>\\n  </div>\\n  \\n    <div class=\"news-card-footer news-right-box\">\\n      <div class=\"read-more\">read more at <a class=\"source\" onclick=\"track_GA_Mixpanel({\\'hitType\\': \\'event\\', \\'category\\': \\'ReadMore\\', \\'action\\': \\'clicked\\', \\'label\\': \\'isomorphiclabs.com\\' });\" target=\"_blank\" href=\"https://www.isomorphiclabs.com/blog?utm_campaign=fullarticle&amp;utm_medium=referral&amp;utm_source=inshorts \">isomorphiclabs.com</a></div>\\n    </div>\\n  \\n\\n</div>\\n\\n  \\n</div>\\n\\n\\n\\n\\n<div class=\"\">\\n<div class=\"news-card z-depth-1\" itemscope itemtype=\"http://schema.org/NewsArticle\">\\n  <span content=\"\" itemscope itemprop=\"mainEntityOfPage\" itemType=\"https://schema.org/WebPage\" itemid=\"https://inshorts.com/en/news/bmw-pulls-touchscreen-features-from-some-cars-amid-chip-shortage-1636198369983\"></span>\\n  <span itemtype=\"https://schema.org/Person\" itemscope=\"itemscope\" itemprop=\"author\">\\n    <span itemprop=\"name\" content=\"Hiral Goyal\"></span>\\n  </span>\\n  <span itemprop=\"description\" content=\"BMW pulls touchscreen features from some cars amid chip shortage\"></span>\\n  <span itemprop=\"image\" itemscope itemtype=\"https://schema.org/ImageObject\">\\n    <meta itemprop=\"url\" content=\"https://static.inshorts.com/inshorts/images/v1/variants/jpg/m/2021/11_nov/6_sat/img_1636196755275_861.jpg?\"></meta>\\n    <meta itemprop=\"width\" content=\"864\"></meta>\\n    <meta itemprop=\"height\" content=\"483\"></meta>\\n  </span>\\n  <span itemtype=\"https://schema.org/Organization\" itemscope=\"itemscope\" itemprop=\"publisher\">\\n    <span itemprop=\"url\" content=\"https://inshorts.com/\"></span>\\n    <span itemprop=\"name\" content=\"Inshorts\"></span>\\n    <span itemprop=\"logo\" itemscope itemtype=\"https://schema.org/ImageObject\">\\n      <span itemprop=\"url\" content=\"https://assets.inshorts.com/inshorts/images/v1/variants/jpg/m/2018/11_nov/21_wed/img_1542823931298_497.jpg\"></span>\\n      <meta itemprop=\"width\" content=\"400\"></meta>\\n      <meta itemprop=\"height\" content=\"60\"></meta>\\n    </span>\\n  </span>\\n  <div class=\"news-card-image\" style= \"background-image: url(\\'https://static.inshorts.com/inshorts/images/v1/variants/jpg/m/2021/11_nov/6_sat/img_1636196755275_861.jpg?\\')\">\\n  </div>\\n  <div class=\"news-card-title news-right-box\">\\n    <a class=\"clickable\" onclick=\"track_GA_Mixpanel({\\'hitType\\': \\'event\\', \\'category\\': \\'TitleOfNews\\', \\'action\\': \\'clicked\\', \\'label\\': \\'BMW%20pulls%20touchscreen%20features%20from%20some%20cars%20amid%20chip%20shortage)\\' });\"  style=\"color:#44444d!important\" href=\"/en/news/bmw-pulls-touchscreen-features-from-some-cars-amid-chip-shortage-1636198369983\">\\n      <span itemprop=\"headline\">BMW pulls touchscreen features from some cars amid chip shortage</span>\\n    </a>\\n    <div class=\"news-card-author-time news-card-author-time-in-title\">\\n      <a href=\"/prev/en/news/bmw-pulls-touchscreen-features-from-some-cars-amid-chip-shortage-1636198369983\"><span class=\"short\">short</span></a> by <span class=\"author\">Hiral Goyal</span> / \\n      <span class=\"time\" itemprop=\"datePublished\" content=\"2021-11-06T11:32:49.000Z\">05:02 pm</span> on <span clas=\"date\">06 Nov 2021,Saturday</span>\\n    </div>\\n  </div>\\n  <div class=\"news-card-content news-right-box\">\\n    <div itemprop=\"articleBody\">BMW is temporarily removing touchscreen functions from several models due to global chip shortage, the company told AutoBlog. Customers who receive delivery of BMW cars without touchscreen will be given a $500 credit. Further, some cars will reportedly lose access to BMW&#39;s Backup Assistant feature, which automatically reverses the car along the path along which it drove into a spot.</div>\\n    <div class=\"news-card-author-time news-card-author-time-in-content\">\\n      <a href=\"/prev/en/news/bmw-pulls-touchscreen-features-from-some-cars-amid-chip-shortage-1636198369983\"><span class=\"short\">short</span></a> by <span class=\"author\">Hiral Goyal</span> / \\n      <span class=\"time\" itemprop=\"dateModified\" content=\"2021-11-06T11:32:49.000Z\" >05:02 pm</span> on <span class=\"date\">06 Nov</span>\\n    </div>\\n  </div>\\n  \\n    <div class=\"news-card-footer news-right-box\">\\n      <div class=\"read-more\">read more at <a class=\"source\" onclick=\"track_GA_Mixpanel({\\'hitType\\': \\'event\\', \\'category\\': \\'ReadMore\\', \\'action\\': \\'clicked\\', \\'label\\': \\'Business%20Insider%20India\\' });\" target=\"_blank\" href=\"https://www.businessinsider.in/thelife/news/your-next-car-may-come-without-a-touchscreen-and-other-tech-as-the-chip-shortage-wreaks-havoc-on-automakers/amp_articleshow/87544335.cms?utm_campaign=fullarticle&amp;utm_medium=referral&amp;utm_source=inshorts \">Business Insider India</a></div>\\n    </div>\\n  \\n\\n</div>\\n\\n  \\n</div>\\n\\n\\n\\n\\n<div class=\"\">\\n<div class=\"news-card z-depth-1\" itemscope itemtype=\"http://schema.org/NewsArticle\">\\n  <span content=\"\" itemscope itemprop=\"mainEntityOfPage\" itemType=\"https://schema.org/WebPage\" itemid=\"https://inshorts.com/en/news/meta-sued-by-defunct-startup-phhhoto-for-allegedly-copying-its-app-1636130929777\"></span>\\n  <span itemtype=\"https://schema.org/Person\" itemscope=\"itemscope\" itemprop=\"author\">\\n    <span itemprop=\"name\" content=\"Hiral Goyal\"></span>\\n  </span>\\n  <span itemprop=\"description\" content=\"Meta sued by defunct startup Phhhoto for allegedly copying its app\"></span>\\n  <span itemprop=\"image\" itemscope itemtype=\"https://schema.org/ImageObject\">\\n    <meta itemprop=\"url\" content=\"https://static.inshorts.com/inshorts/images/v1/variants/jpg/m/2021/11_nov/5_fri/img_1636128391758_768.jpg?\"></meta>\\n    <meta itemprop=\"width\" content=\"864\"></meta>\\n    <meta itemprop=\"height\" content=\"483\"></meta>\\n  </span>\\n  <span itemtype=\"https://schema.org/Organization\" itemscope=\"itemscope\" itemprop=\"publisher\">\\n    <span itemprop=\"url\" content=\"https://inshorts.com/\"></span>\\n    <span itemprop=\"name\" content=\"Inshorts\"></span>\\n    <span itemprop=\"logo\" itemscope itemtype=\"https://schema.org/ImageObject\">\\n      <span itemprop=\"url\" content=\"https://assets.inshorts.com/inshorts/images/v1/variants/jpg/m/2018/11_nov/21_wed/img_1542823931298_497.jpg\"></span>\\n      <meta itemprop=\"width\" content=\"400\"></meta>\\n      <meta itemprop=\"height\" content=\"60\"></meta>\\n    </span>\\n  </span>\\n  <div class=\"news-card-image\" style= \"background-image: url(\\'https://static.inshorts.com/inshorts/images/v1/variants/jpg/m/2021/11_nov/5_fri/img_1636128391758_768.jpg?\\')\">\\n  </div>\\n  <div class=\"news-card-title news-right-box\">\\n    <a class=\"clickable\" onclick=\"track_GA_Mixpanel({\\'hitType\\': \\'event\\', \\'category\\': \\'TitleOfNews\\', \\'action\\': \\'clicked\\', \\'label\\': \\'Meta%20sued%20by%20defunct%20startup%20Phhhoto%20for%20allegedly%20copying%20its%20app)\\' });\"  style=\"color:#44444d!important\" href=\"/en/news/meta-sued-by-defunct-startup-phhhoto-for-allegedly-copying-its-app-1636130929777\">\\n      <span itemprop=\"headline\">Meta sued by defunct startup Phhhoto for allegedly copying its app</span>\\n    </a>\\n    <div class=\"news-card-author-time news-card-author-time-in-title\">\\n      <a href=\"/prev/en/news/meta-sued-by-defunct-startup-phhhoto-for-allegedly-copying-its-app-1636130929777\"><span class=\"short\">short</span></a> by <span class=\"author\">Hiral Goyal</span> / \\n      <span class=\"time\" itemprop=\"datePublished\" content=\"2021-11-05T16:48:49.000Z\">10:18 pm</span> on <span clas=\"date\">05 Nov 2021,Friday</span>\\n    </div>\\n  </div>\\n  <div class=\"news-card-content news-right-box\">\\n    <div itemprop=\"articleBody\">Defunct photo-app startup Phhhoto has filed an antitrust lawsuit against Meta, alleging Facebook feigned interest in working with it, copied its main feature and launched it as &#39;Boomerang&#39; on Instagram. It accuses Facebook of suppressing Phhhoto&#39;s content within Instagram and &#34;destroying Phhhoto as a viable business&#34;. Calling the suit meritless, Meta said it will defend itself &#34;vigorously&#34;.</div>\\n    <div class=\"news-card-author-time news-card-author-time-in-content\">\\n      <a href=\"/prev/en/news/meta-sued-by-defunct-startup-phhhoto-for-allegedly-copying-its-app-1636130929777\"><span class=\"short\">short</span></a> by <span class=\"author\">Hiral Goyal</span> / \\n      <span class=\"time\" itemprop=\"dateModified\" content=\"2021-11-05T16:48:49.000Z\" >10:18 pm</span> on <span class=\"date\">05 Nov</span>\\n    </div>\\n  </div>\\n  \\n    <div class=\"news-card-footer news-right-box\">\\n      <div class=\"read-more\">read more at <a class=\"source\" onclick=\"track_GA_Mixpanel({\\'hitType\\': \\'event\\', \\'category\\': \\'ReadMore\\', \\'action\\': \\'clicked\\', \\'label\\': \\'Business%20Insider%20India\\' });\" target=\"_blank\" href=\"https://www.businessinsider.in/tech/news/mark-zuckerberg-downloaded-and-used-a-photo-app-that-facebook-later-cloned-and-crushed-antitrust-lawsuit-claims/amp_articleshow/87541577.cms?utm_campaign=fullarticle&amp;utm_medium=referral&amp;utm_source=inshorts \">Business Insider India</a></div>\\n    </div>\\n  \\n\\n</div>\\n\\n  \\n</div>\\n\\n\\n\\n\\n<div class=\"\">\\n<div class=\"news-card z-depth-1\" itemscope itemtype=\"http://schema.org/NewsArticle\">\\n  <span content=\"\" itemscope itemprop=\"mainEntityOfPage\" itemType=\"https://schema.org/WebPage\" itemid=\"https://inshorts.com/en/news/meta-plans-to-open-retail-stores-to-showcase-its-products-report-1636133059910\"></span>\\n  <span itemtype=\"https://schema.org/Person\" itemscope=\"itemscope\" itemprop=\"author\">\\n    <span itemprop=\"name\" content=\"Hiral Goyal\"></span>\\n  </span>\\n  <span itemprop=\"description\" content=\"Meta plans to open retail stores to showcase its products: Report\"></span>\\n  <span itemprop=\"image\" itemscope itemtype=\"https://schema.org/ImageObject\">\\n    <meta itemprop=\"url\" content=\"https://static.inshorts.com/inshorts/images/v1/variants/jpg/m/2021/11_nov/5_fri/img_1636131096708_116.jpg?\"></meta>\\n    <meta itemprop=\"width\" content=\"864\"></meta>\\n    <meta itemprop=\"height\" content=\"483\"></meta>\\n  </span>\\n  <span itemtype=\"https://schema.org/Organization\" itemscope=\"itemscope\" itemprop=\"publisher\">\\n    <span itemprop=\"url\" content=\"https://inshorts.com/\"></span>\\n    <span itemprop=\"name\" content=\"Inshorts\"></span>\\n    <span itemprop=\"logo\" itemscope itemtype=\"https://schema.org/ImageObject\">\\n      <span itemprop=\"url\" content=\"https://assets.inshorts.com/inshorts/images/v1/variants/jpg/m/2018/11_nov/21_wed/img_1542823931298_497.jpg\"></span>\\n      <meta itemprop=\"width\" content=\"400\"></meta>\\n      <meta itemprop=\"height\" content=\"60\"></meta>\\n    </span>\\n  </span>\\n  <div class=\"news-card-image\" style= \"background-image: url(\\'https://static.inshorts.com/inshorts/images/v1/variants/jpg/m/2021/11_nov/5_fri/img_1636131096708_116.jpg?\\')\">\\n  </div>\\n  <div class=\"news-card-title news-right-box\">\\n    <a class=\"clickable\" onclick=\"track_GA_Mixpanel({\\'hitType\\': \\'event\\', \\'category\\': \\'TitleOfNews\\', \\'action\\': \\'clicked\\', \\'label\\': \\'Meta%20plans%20to%20open%20retail%20stores%20to%20showcase%20its%20products%3A%20Report)\\' });\"  style=\"color:#44444d!important\" href=\"/en/news/meta-plans-to-open-retail-stores-to-showcase-its-products-report-1636133059910\">\\n      <span itemprop=\"headline\">Meta plans to open retail stores to showcase its products: Report</span>\\n    </a>\\n    <div class=\"news-card-author-time news-card-author-time-in-title\">\\n      <a href=\"/prev/en/news/meta-plans-to-open-retail-stores-to-showcase-its-products-report-1636133059910\"><span class=\"short\">short</span></a> by <span class=\"author\">Hiral Goyal</span> / \\n      <span class=\"time\" itemprop=\"datePublished\" content=\"2021-11-05T17:24:19.000Z\">10:54 pm</span> on <span clas=\"date\">05 Nov 2021,Friday</span>\\n    </div>\\n  </div>\\n  <div class=\"news-card-content news-right-box\">\\n    <div itemprop=\"articleBody\">Meta, formerly Facebook, is discussing opening its retail stores, according to The New York Times. This would mark the social media company&#39;s first physical store. The stores would be used to showcase the company&#39;s devices, such as virtual reality headsets and upcoming augmented reality glasses, the report said. Before rebranding, it had settled on calling the retail locations &#34;Facebook Store&#34;.</div>\\n    <div class=\"news-card-author-time news-card-author-time-in-content\">\\n      <a href=\"/prev/en/news/meta-plans-to-open-retail-stores-to-showcase-its-products-report-1636133059910\"><span class=\"short\">short</span></a> by <span class=\"author\">Hiral Goyal</span> / \\n      <span class=\"time\" itemprop=\"dateModified\" content=\"2021-11-05T17:24:19.000Z\" >10:54 pm</span> on <span class=\"date\">05 Nov</span>\\n    </div>\\n  </div>\\n  \\n    <div class=\"news-card-footer news-right-box\">\\n      <div class=\"read-more\">read more at <a class=\"source\" onclick=\"track_GA_Mixpanel({\\'hitType\\': \\'event\\', \\'category\\': \\'ReadMore\\', \\'action\\': \\'clicked\\', \\'label\\': \\'TechCrunch\\' });\" target=\"_blank\" href=\"https://techcrunch.com/2021/11/05/meta-is-reportedly-planning-physical-stores-to-showcase-its-products/amp/?utm_campaign=fullarticle&amp;utm_medium=referral&amp;utm_source=inshorts \">TechCrunch</a></div>\\n    </div>\\n  \\n\\n</div>\\n\\n  \\n</div>\\n\\n\\n\\n\\n  \\n    <div id=\\'div-gpt-ad-1536748319959-ivunsxcu-1\\' style=\\'height:250px; width:900px; margin: auto; margin-bottom: 2%;\\'>\\n      <script>\\n        googletag.cmd.push(function() { \\n          //News banner for desktop\\n          var slotIdWeb = \\'div-gpt-ad-1536748319959-ivunsxcu-1\\';\\n          var slot = googletag.defineSlot(\\'/142919096/inshorts_website_900x250\\', [900, 250], slotIdWeb)\\n          .addService(googletag.pubads())\\n          .setCollapseEmptyDiv(true,true);\\n\\n          googletag.display(\\'div-gpt-ad-1536748319959-ivunsxcu-1\\');\\n          googletag.pubads().refresh([slot]);\\n        });\\n      </script>\\n    </div>\\n  \\n\\n<div class=\"\">\\n<div class=\"news-card z-depth-1\" itemscope itemtype=\"http://schema.org/NewsArticle\">\\n  <span content=\"\" itemscope itemprop=\"mainEntityOfPage\" itemType=\"https://schema.org/WebPage\" itemid=\"https://inshorts.com/en/news/scammers-use-google-ads-to-steal-crypto-worth-$500000-in-days-report-1636198980356\"></span>\\n  <span itemtype=\"https://schema.org/Person\" itemscope=\"itemscope\" itemprop=\"author\">\\n    <span itemprop=\"name\" content=\"Aishwarya Awasthi\"></span>\\n  </span>\\n  <span itemprop=\"description\" content=\"Scammers use Google Ads to steal crypto worth $500,000 in days: Report\"></span>\\n  <span itemprop=\"image\" itemscope itemtype=\"https://schema.org/ImageObject\">\\n    <meta itemprop=\"url\" content=\"https://static.inshorts.com/inshorts/images/v1/variants/jpg/m/2021/11_nov/6_sat/img_1636196174049_762.jpg?\"></meta>\\n    <meta itemprop=\"width\" content=\"864\"></meta>\\n    <meta itemprop=\"height\" content=\"483\"></meta>\\n  </span>\\n  <span itemtype=\"https://schema.org/Organization\" itemscope=\"itemscope\" itemprop=\"publisher\">\\n    <span itemprop=\"url\" content=\"https://inshorts.com/\"></span>\\n    <span itemprop=\"name\" content=\"Inshorts\"></span>\\n    <span itemprop=\"logo\" itemscope itemtype=\"https://schema.org/ImageObject\">\\n      <span itemprop=\"url\" content=\"https://assets.inshorts.com/inshorts/images/v1/variants/jpg/m/2018/11_nov/21_wed/img_1542823931298_497.jpg\"></span>\\n      <meta itemprop=\"width\" content=\"400\"></meta>\\n      <meta itemprop=\"height\" content=\"60\"></meta>\\n    </span>\\n  </span>\\n  <div class=\"news-card-image\" style= \"background-image: url(\\'https://static.inshorts.com/inshorts/images/v1/variants/jpg/m/2021/11_nov/6_sat/img_1636196174049_762.jpg?\\')\">\\n  </div>\\n  <div class=\"news-card-title news-right-box\">\\n    <a class=\"clickable\" onclick=\"track_GA_Mixpanel({\\'hitType\\': \\'event\\', \\'category\\': \\'TitleOfNews\\', \\'action\\': \\'clicked\\', \\'label\\': \\'Scammers%20use%20Google%20Ads%20to%20steal%20crypto%20worth%20%24500%2C000%20in%20days%3A%20Report)\\' });\"  style=\"color:#44444d!important\" href=\"/en/news/scammers-use-google-ads-to-steal-crypto-worth-$500000-in-days-report-1636198980356\">\\n      <span itemprop=\"headline\">Scammers use Google Ads to steal crypto worth $500,000 in days: Report</span>\\n    </a>\\n    <div class=\"news-card-author-time news-card-author-time-in-title\">\\n      <a href=\"/prev/en/news/scammers-use-google-ads-to-steal-crypto-worth-$500000-in-days-report-1636198980356\"><span class=\"short\">short</span></a> by <span class=\"author\">Aishwarya Awasthi</span> / \\n      <span class=\"time\" itemprop=\"datePublished\" content=\"2021-11-06T11:43:00.000Z\">05:13 pm</span> on <span clas=\"date\">06 Nov 2021,Saturday</span>\\n    </div>\\n  </div>\\n  <div class=\"news-card-content news-right-box\">\\n    <div itemprop=\"articleBody\">Scammers used Google Ads to steal cryptocurrency worth $500,000 in a matter of days, Check Point said. They purchased Google Ads placement for their fake websites that imitated popular wallets, such as Phantom App. Scammers&#39; ads appeared first on a search query related to the wallets. The malicious links that appeared as Google Ads directed victims to a phishing website.</div>\\n    <div class=\"news-card-author-time news-card-author-time-in-content\">\\n      <a href=\"/prev/en/news/scammers-use-google-ads-to-steal-crypto-worth-$500000-in-days-report-1636198980356\"><span class=\"short\">short</span></a> by <span class=\"author\">Aishwarya Awasthi</span> / \\n      <span class=\"time\" itemprop=\"dateModified\" content=\"2021-11-06T11:43:00.000Z\" >05:13 pm</span> on <span class=\"date\">06 Nov</span>\\n    </div>\\n  </div>\\n  \\n\\n</div>\\n\\n  \\n</div>\\n\\n\\n\\n\\n<div class=\"\">\\n<div class=\"news-card z-depth-1\" itemscope itemtype=\"http://schema.org/NewsArticle\">\\n  <span content=\"\" itemscope itemprop=\"mainEntityOfPage\" itemType=\"https://schema.org/WebPage\" itemid=\"https://inshorts.com/en/news/microsoft-fixes-windows-11-features-failing-due-to-expired-certificate-1636199184326\"></span>\\n  <span itemtype=\"https://schema.org/Person\" itemscope=\"itemscope\" itemprop=\"author\">\\n    <span itemprop=\"name\" content=\"Aishwarya Awasthi\"></span>\\n  </span>\\n  <span itemprop=\"description\" content=\"Microsoft fixes Windows 11 features failing due to expired certificate\"></span>\\n  <span itemprop=\"image\" itemscope itemtype=\"https://schema.org/ImageObject\">\\n    <meta itemprop=\"url\" content=\"https://static.inshorts.com/inshorts/images/v1/variants/jpg/m/2021/11_nov/6_sat/img_1636197280005_354.jpg?\"></meta>\\n    <meta itemprop=\"width\" content=\"864\"></meta>\\n    <meta itemprop=\"height\" content=\"483\"></meta>\\n  </span>\\n  <span itemtype=\"https://schema.org/Organization\" itemscope=\"itemscope\" itemprop=\"publisher\">\\n    <span itemprop=\"url\" content=\"https://inshorts.com/\"></span>\\n    <span itemprop=\"name\" content=\"Inshorts\"></span>\\n    <span itemprop=\"logo\" itemscope itemtype=\"https://schema.org/ImageObject\">\\n      <span itemprop=\"url\" content=\"https://assets.inshorts.com/inshorts/images/v1/variants/jpg/m/2018/11_nov/21_wed/img_1542823931298_497.jpg\"></span>\\n      <meta itemprop=\"width\" content=\"400\"></meta>\\n      <meta itemprop=\"height\" content=\"60\"></meta>\\n    </span>\\n  </span>\\n  <div class=\"news-card-image\" style= \"background-image: url(\\'https://static.inshorts.com/inshorts/images/v1/variants/jpg/m/2021/11_nov/6_sat/img_1636197280005_354.jpg?\\')\">\\n  </div>\\n  <div class=\"news-card-title news-right-box\">\\n    <a class=\"clickable\" onclick=\"track_GA_Mixpanel({\\'hitType\\': \\'event\\', \\'category\\': \\'TitleOfNews\\', \\'action\\': \\'clicked\\', \\'label\\': \\'Microsoft%20fixes%20Windows%2011%20features%20failing%20due%20to%20expired%20certificate)\\' });\"  style=\"color:#44444d!important\" href=\"/en/news/microsoft-fixes-windows-11-features-failing-due-to-expired-certificate-1636199184326\">\\n      <span itemprop=\"headline\">Microsoft fixes Windows 11 features failing due to expired certificate</span>\\n    </a>\\n    <div class=\"news-card-author-time news-card-author-time-in-title\">\\n      <a href=\"/prev/en/news/microsoft-fixes-windows-11-features-failing-due-to-expired-certificate-1636199184326\"><span class=\"short\">short</span></a> by <span class=\"author\">Aishwarya Awasthi</span> / \\n      <span class=\"time\" itemprop=\"datePublished\" content=\"2021-11-06T11:46:24.000Z\">05:16 pm</span> on <span clas=\"date\">06 Nov 2021,Saturday</span>\\n    </div>\\n  </div>\\n  <div class=\"news-card-content news-right-box\">\\n    <div itemprop=\"articleBody\">Microsoft has fixed several Windows 11 features failing to load after an expired certificate was discovered earlier this week. Earlier, users had not been able to open apps like the Snipping Tool, touch keyboard, or emoji panel since a certificate expired on October 31. Microsoft had earlier warned users of the issues and has now released an out-of-band update.</div>\\n    <div class=\"news-card-author-time news-card-author-time-in-content\">\\n      <a href=\"/prev/en/news/microsoft-fixes-windows-11-features-failing-due-to-expired-certificate-1636199184326\"><span class=\"short\">short</span></a> by <span class=\"author\">Aishwarya Awasthi</span> / \\n      <span class=\"time\" itemprop=\"dateModified\" content=\"2021-11-06T11:46:24.000Z\" >05:16 pm</span> on <span class=\"date\">06 Nov</span>\\n    </div>\\n  </div>\\n  \\n    <div class=\"news-card-footer news-right-box\">\\n      <div class=\"read-more\">read more at <a class=\"source\" onclick=\"track_GA_Mixpanel({\\'hitType\\': \\'event\\', \\'category\\': \\'ReadMore\\', \\'action\\': \\'clicked\\', \\'label\\': \\'Twitter\\' });\" target=\"_blank\" href=\"https://twitter.com/WindowsUpdate/status/1456677227010007046?ref_src=twsrc%5Etfw%7Ctwcamp%5Etweetembed%7Ctwterm%5E1456677227010007046%7Ctwgr%5E%7Ctwcon%5Es1_&amp;utm_campaign=fullarticle&amp;utm_medium=referral&amp;ref_url=https%3A%2F%2Fwww.theverge.com%2F2021%2F11%2F5%2F22765701%2Fmicrosoft-windows-11-snipping-tool-emoji-picker-fix-patch&amp;utm_source=inshorts \">Twitter</a></div>\\n    </div>\\n  \\n\\n</div>\\n\\n  \\n</div>\\n\\n\\n\\n\\n<div class=\"\">\\n<div class=\"news-card z-depth-1\" itemscope itemtype=\"http://schema.org/NewsArticle\">\\n  <span content=\"\" itemscope itemprop=\"mainEntityOfPage\" itemType=\"https://schema.org/WebPage\" itemid=\"https://inshorts.com/en/news/pretty-desperate-spacex-exexec-on-blue-origin-suing-nasa-spacex-1636202384212\"></span>\\n  <span itemtype=\"https://schema.org/Person\" itemscope=\"itemscope\" itemprop=\"author\">\\n    <span itemprop=\"name\" content=\"Hiral Goyal\"></span>\\n  </span>\\n  <span itemprop=\"description\" content=\"Pretty desperate: SpaceX ex-exec on Blue Origin suing NASA, SpaceX\"></span>\\n  <span itemprop=\"image\" itemscope itemtype=\"https://schema.org/ImageObject\">\\n    <meta itemprop=\"url\" content=\"https://static.inshorts.com/inshorts/images/v1/variants/jpg/m/2021/11_nov/6_sat/img_1636199768127_951.jpg?\"></meta>\\n    <meta itemprop=\"width\" content=\"864\"></meta>\\n    <meta itemprop=\"height\" content=\"483\"></meta>\\n  </span>\\n  <span itemtype=\"https://schema.org/Organization\" itemscope=\"itemscope\" itemprop=\"publisher\">\\n    <span itemprop=\"url\" content=\"https://inshorts.com/\"></span>\\n    <span itemprop=\"name\" content=\"Inshorts\"></span>\\n    <span itemprop=\"logo\" itemscope itemtype=\"https://schema.org/ImageObject\">\\n      <span itemprop=\"url\" content=\"https://assets.inshorts.com/inshorts/images/v1/variants/jpg/m/2018/11_nov/21_wed/img_1542823931298_497.jpg\"></span>\\n      <meta itemprop=\"width\" content=\"400\"></meta>\\n      <meta itemprop=\"height\" content=\"60\"></meta>\\n    </span>\\n  </span>\\n  <div class=\"news-card-image\" style= \"background-image: url(\\'https://static.inshorts.com/inshorts/images/v1/variants/jpg/m/2021/11_nov/6_sat/img_1636199768127_951.jpg?\\')\">\\n  </div>\\n  <div class=\"news-card-title news-right-box\">\\n    <a class=\"clickable\" onclick=\"track_GA_Mixpanel({\\'hitType\\': \\'event\\', \\'category\\': \\'TitleOfNews\\', \\'action\\': \\'clicked\\', \\'label\\': \\'Pretty%20desperate%3A%20SpaceX%20ex-exec%20on%20Blue%20Origin%20suing%20NASA%2C%20SpaceX)\\' });\"  style=\"color:#44444d!important\" href=\"/en/news/pretty-desperate-spacex-exexec-on-blue-origin-suing-nasa-spacex-1636202384212\">\\n      <span itemprop=\"headline\">Pretty desperate: SpaceX ex-exec on Blue Origin suing NASA, SpaceX</span>\\n    </a>\\n    <div class=\"news-card-author-time news-card-author-time-in-title\">\\n      <a href=\"/prev/en/news/pretty-desperate-spacex-exexec-on-blue-origin-suing-nasa-spacex-1636202384212\"><span class=\"short\">short</span></a> by <span class=\"author\">Hiral Goyal</span> / \\n      <span class=\"time\" itemprop=\"datePublished\" content=\"2021-11-06T12:39:44.000Z\">06:09 pm</span> on <span clas=\"date\">06 Nov 2021,Saturday</span>\\n    </div>\\n  </div>\\n  <div class=\"news-card-content news-right-box\">\\n    <div itemprop=\"articleBody\">SpaceX&#39;s former Senior Advisor Hans Koenigsmann told Insider that Blue Origin suing NASA for awarding a $2.9 billion lunar lander contract to SpaceX &#34;looks pretty desperate&#34;. &#34;Suing is always the last resort,&#34; he added. Koenigsmann, who worked at SpaceX for 19 years, also said Blue Origin &#34;comes up&#34; in SpaceX&#39;s meetings, but &#34;there&#39;s anything we need to beat them at&#34;.</div>\\n    <div class=\"news-card-author-time news-card-author-time-in-content\">\\n      <a href=\"/prev/en/news/pretty-desperate-spacex-exexec-on-blue-origin-suing-nasa-spacex-1636202384212\"><span class=\"short\">short</span></a> by <span class=\"author\">Hiral Goyal</span> / \\n      <span class=\"time\" itemprop=\"dateModified\" content=\"2021-11-06T12:39:44.000Z\" >06:09 pm</span> on <span class=\"date\">06 Nov</span>\\n    </div>\\n  </div>\\n  \\n    <div class=\"news-card-footer news-right-box\">\\n      <div class=\"read-more\">read more at <a class=\"source\" onclick=\"track_GA_Mixpanel({\\'hitType\\': \\'event\\', \\'category\\': \\'ReadMore\\', \\'action\\': \\'clicked\\', \\'label\\': \\'Business%20Insider%20India\\' });\" target=\"_blank\" href=\"https://www.businessinsider.in/tech/news/former-spacex-exec-says-blue-origins-lawsuit-over-nasa-choosing-spacex-for-a-2-9-billion-contract-looks-desperate/amp_articleshow/87554091.cms?utm_campaign=fullarticle&amp;utm_medium=referral&amp;utm_source=inshorts \">Business Insider India</a></div>\\n    </div>\\n  \\n\\n</div>\\n\\n  \\n</div>\\n\\n\\n\\n\\n<div class=\"\">\\n<div class=\"news-card z-depth-1\" itemscope itemtype=\"http://schema.org/NewsArticle\">\\n  <span content=\"\" itemscope itemprop=\"mainEntityOfPage\" itemType=\"https://schema.org/WebPage\" itemid=\"https://inshorts.com/en/news/its-my-task-to-assess-competition-ceo-on-comparing-vw-with-tesla-1636210045292\"></span>\\n  <span itemtype=\"https://schema.org/Person\" itemscope=\"itemscope\" itemprop=\"author\">\\n    <span itemprop=\"name\" content=\"Hiral Goyal\"></span>\\n  </span>\\n  <span itemprop=\"description\" content=\"It&#39;s my task to assess competition: CEO on comparing VW with Tesla\"></span>\\n  <span itemprop=\"image\" itemscope itemtype=\"https://schema.org/ImageObject\">\\n    <meta itemprop=\"url\" content=\"https://static.inshorts.com/inshorts/images/v1/variants/jpg/m/2021/11_nov/6_sat/img_1636207639044_420.jpg?\"></meta>\\n    <meta itemprop=\"width\" content=\"864\"></meta>\\n    <meta itemprop=\"height\" content=\"483\"></meta>\\n  </span>\\n  <span itemtype=\"https://schema.org/Organization\" itemscope=\"itemscope\" itemprop=\"publisher\">\\n    <span itemprop=\"url\" content=\"https://inshorts.com/\"></span>\\n    <span itemprop=\"name\" content=\"Inshorts\"></span>\\n    <span itemprop=\"logo\" itemscope itemtype=\"https://schema.org/ImageObject\">\\n      <span itemprop=\"url\" content=\"https://assets.inshorts.com/inshorts/images/v1/variants/jpg/m/2018/11_nov/21_wed/img_1542823931298_497.jpg\"></span>\\n      <meta itemprop=\"width\" content=\"400\"></meta>\\n      <meta itemprop=\"height\" content=\"60\"></meta>\\n    </span>\\n  </span>\\n  <div class=\"news-card-image\" style= \"background-image: url(\\'https://static.inshorts.com/inshorts/images/v1/variants/jpg/m/2021/11_nov/6_sat/img_1636207639044_420.jpg?\\')\">\\n  </div>\\n  <div class=\"news-card-title news-right-box\">\\n    <a class=\"clickable\" onclick=\"track_GA_Mixpanel({\\'hitType\\': \\'event\\', \\'category\\': \\'TitleOfNews\\', \\'action\\': \\'clicked\\', \\'label\\': \\'It&#39;s%20my%20task%20to%20assess%20competition%3A%20CEO%20on%20comparing%20VW%20with%20Tesla)\\' });\"  style=\"color:#44444d!important\" href=\"/en/news/its-my-task-to-assess-competition-ceo-on-comparing-vw-with-tesla-1636210045292\">\\n      <span itemprop=\"headline\">It&#39;s my task to assess competition: CEO on comparing VW with Tesla</span>\\n    </a>\\n    <div class=\"news-card-author-time news-card-author-time-in-title\">\\n      <a href=\"/prev/en/news/its-my-task-to-assess-competition-ceo-on-comparing-vw-with-tesla-1636210045292\"><span class=\"short\">short</span></a> by <span class=\"author\">Hiral Goyal</span> / \\n      <span class=\"time\" itemprop=\"datePublished\" content=\"2021-11-06T14:47:25.000Z\">08:17 pm</span> on <span clas=\"date\">06 Nov 2021,Saturday</span>\\n    </div>\\n  </div>\\n  <div class=\"news-card-content news-right-box\">\\n    <div itemprop=\"articleBody\">Volkswagen CEO Herbert Diess addressed thousands of workers at the German carmaker&#39;s Wolfsburg plant, where he said that he&#39;s often asked why he keeps comparing Volkswagen with Tesla. &#34;I know it&#39;s annoying some people...But it&#39;s my task and that of the entire management to assess the competition correctly, to prepare the group for it and make it future-proof,&#34; he explained.</div>\\n    <div class=\"news-card-author-time news-card-author-time-in-content\">\\n      <a href=\"/prev/en/news/its-my-task-to-assess-competition-ceo-on-comparing-vw-with-tesla-1636210045292\"><span class=\"short\">short</span></a> by <span class=\"author\">Hiral Goyal</span> / \\n      <span class=\"time\" itemprop=\"dateModified\" content=\"2021-11-06T14:47:25.000Z\" >08:17 pm</span> on <span class=\"date\">06 Nov</span>\\n    </div>\\n  </div>\\n  \\n    <div class=\"news-card-footer news-right-box\">\\n      <div class=\"read-more\">read more at <a class=\"source\" onclick=\"track_GA_Mixpanel({\\'hitType\\': \\'event\\', \\'category\\': \\'ReadMore\\', \\'action\\': \\'clicked\\', \\'label\\': \\'BloombergQuint\\' });\" target=\"_blank\" href=\"https://www.bloombergquint.com/onweb/vw-ceo-tells-german-workers-tesla-factory-will-threaten-jobs?utm_campaign=fullarticle&amp;utm_medium=referral&amp;utm_source=inshorts \">BloombergQuint</a></div>\\n    </div>\\n  \\n\\n</div>\\n\\n  \\n</div>\\n\\n\\n\\n\\n<div class=\"\">\\n<div class=\"news-card z-depth-1\" itemscope itemtype=\"http://schema.org/NewsArticle\">\\n  <span content=\"\" itemscope itemprop=\"mainEntityOfPage\" itemType=\"https://schema.org/WebPage\" itemid=\"https://inshorts.com/en/news/iphone-x-with-modded-usbc-port-listed-on-ebay-hits-$100100-bid-1636211165938\"></span>\\n  <span itemtype=\"https://schema.org/Person\" itemscope=\"itemscope\" itemprop=\"author\">\\n    <span itemprop=\"name\" content=\"Hiral Goyal\"></span>\\n  </span>\\n  <span itemprop=\"description\" content=\"iPhone X with modded USB-C port listed on eBay hits $100,100 bid\"></span>\\n  <span itemprop=\"image\" itemscope itemtype=\"https://schema.org/ImageObject\">\\n    <meta itemprop=\"url\" content=\"https://static.inshorts.com/inshorts/images/v1/variants/jpg/m/2021/11_nov/6_sat/img_1636208021750_774.jpg?\"></meta>\\n    <meta itemprop=\"width\" content=\"864\"></meta>\\n    <meta itemprop=\"height\" content=\"483\"></meta>\\n  </span>\\n  <span itemtype=\"https://schema.org/Organization\" itemscope=\"itemscope\" itemprop=\"publisher\">\\n    <span itemprop=\"url\" content=\"https://inshorts.com/\"></span>\\n    <span itemprop=\"name\" content=\"Inshorts\"></span>\\n    <span itemprop=\"logo\" itemscope itemtype=\"https://schema.org/ImageObject\">\\n      <span itemprop=\"url\" content=\"https://assets.inshorts.com/inshorts/images/v1/variants/jpg/m/2018/11_nov/21_wed/img_1542823931298_497.jpg\"></span>\\n      <meta itemprop=\"width\" content=\"400\"></meta>\\n      <meta itemprop=\"height\" content=\"60\"></meta>\\n    </span>\\n  </span>\\n  <div class=\"news-card-image\" style= \"background-image: url(\\'https://static.inshorts.com/inshorts/images/v1/variants/jpg/m/2021/11_nov/6_sat/img_1636208021750_774.jpg?\\')\">\\n  </div>\\n  <div class=\"news-card-title news-right-box\">\\n    <a class=\"clickable\" onclick=\"track_GA_Mixpanel({\\'hitType\\': \\'event\\', \\'category\\': \\'TitleOfNews\\', \\'action\\': \\'clicked\\', \\'label\\': \\'iPhone%20X%20with%20modded%20USB-C%20port%20listed%20on%20eBay%20hits%20%24100%2C100%20bid)\\' });\"  style=\"color:#44444d!important\" href=\"/en/news/iphone-x-with-modded-usbc-port-listed-on-ebay-hits-$100100-bid-1636211165938\">\\n      <span itemprop=\"headline\">iPhone X with modded USB-C port listed on eBay hits $100,100 bid</span>\\n    </a>\\n    <div class=\"news-card-author-time news-card-author-time-in-title\">\\n      <a href=\"/prev/en/news/iphone-x-with-modded-usbc-port-listed-on-ebay-hits-$100100-bid-1636211165938\"><span class=\"short\">short</span></a> by <span class=\"author\">Hiral Goyal</span> / \\n      <span class=\"time\" itemprop=\"datePublished\" content=\"2021-11-06T15:06:05.000Z\">08:36 pm</span> on <span clas=\"date\">06 Nov 2021,Saturday</span>\\n    </div>\\n  </div>\\n  <div class=\"news-card-content news-right-box\">\\n    <div itemprop=\"articleBody\">Swiss engineering student Ken Pillonel who modified an iPhone X with a USB-C charging port has listed the phone on eBay for auction and as of Saturday, it has received bids as high as $100,100. While Pillonel claims that the iPhone is a working one, he has prohibited the buyer from using it as a &#34;daily phone&#34; or opening it.</div>\\n    <div class=\"news-card-author-time news-card-author-time-in-content\">\\n      <a href=\"/prev/en/news/iphone-x-with-modded-usbc-port-listed-on-ebay-hits-$100100-bid-1636211165938\"><span class=\"short\">short</span></a> by <span class=\"author\">Hiral Goyal</span> / \\n      <span class=\"time\" itemprop=\"dateModified\" content=\"2021-11-06T15:06:05.000Z\" >08:36 pm</span> on <span class=\"date\">06 Nov</span>\\n    </div>\\n  </div>\\n  \\n    <div class=\"news-card-footer news-right-box\">\\n      <div class=\"read-more\">read more at <a class=\"source\" onclick=\"track_GA_Mixpanel({\\'hitType\\': \\'event\\', \\'category\\': \\'ReadMore\\', \\'action\\': \\'clicked\\', \\'label\\': \\'Business%20Insider%20India\\' });\" target=\"_blank\" href=\"https://www.businessinsider.in/tech/news/the-first-iphone-modded-to-have-a-usb-c-charging-port-is-being-auctioned-for-over-85000-but-the-buyer-cant-use-it/amp_articleshow/87528431.cms?utm_campaign=fullarticle&amp;utm_medium=referral&amp;utm_source=inshorts \">Business Insider India</a></div>\\n    </div>\\n  \\n\\n</div>\\n\\n  \\n</div>\\n\\n\\n\\n\\n<div class=\"\">\\n<div class=\"news-card z-depth-1\" itemscope itemtype=\"http://schema.org/NewsArticle\">\\n  <span content=\"\" itemscope itemprop=\"mainEntityOfPage\" itemType=\"https://schema.org/WebPage\" itemid=\"https://inshorts.com/en/news/amazon-seeks-us-fcc-nod-to-launch-4538-broadband-satellites-1636134343139\"></span>\\n  <span itemtype=\"https://schema.org/Person\" itemscope=\"itemscope\" itemprop=\"author\">\\n    <span itemprop=\"name\" content=\"Hiral Goyal\"></span>\\n  </span>\\n  <span itemprop=\"description\" content=\"Amazon seeks US FCC nod to launch 4,538 broadband satellites\"></span>\\n  <span itemprop=\"image\" itemscope itemtype=\"https://schema.org/ImageObject\">\\n    <meta itemprop=\"url\" content=\"https://static.inshorts.com/inshorts/images/v1/variants/jpg/m/2021/11_nov/5_fri/img_1636131671750_722.jpg?\"></meta>\\n    <meta itemprop=\"width\" content=\"864\"></meta>\\n    <meta itemprop=\"height\" content=\"483\"></meta>\\n  </span>\\n  <span itemtype=\"https://schema.org/Organization\" itemscope=\"itemscope\" itemprop=\"publisher\">\\n    <span itemprop=\"url\" content=\"https://inshorts.com/\"></span>\\n    <span itemprop=\"name\" content=\"Inshorts\"></span>\\n    <span itemprop=\"logo\" itemscope itemtype=\"https://schema.org/ImageObject\">\\n      <span itemprop=\"url\" content=\"https://assets.inshorts.com/inshorts/images/v1/variants/jpg/m/2018/11_nov/21_wed/img_1542823931298_497.jpg\"></span>\\n      <meta itemprop=\"width\" content=\"400\"></meta>\\n      <meta itemprop=\"height\" content=\"60\"></meta>\\n    </span>\\n  </span>\\n  <div class=\"news-card-image\" style= \"background-image: url(\\'https://static.inshorts.com/inshorts/images/v1/variants/jpg/m/2021/11_nov/5_fri/img_1636131671750_722.jpg?\\')\">\\n  </div>\\n  <div class=\"news-card-title news-right-box\">\\n    <a class=\"clickable\" onclick=\"track_GA_Mixpanel({\\'hitType\\': \\'event\\', \\'category\\': \\'TitleOfNews\\', \\'action\\': \\'clicked\\', \\'label\\': \\'Amazon%20seeks%20US%20FCC%20nod%20to%20launch%204%2C538%20broadband%20satellites)\\' });\"  style=\"color:#44444d!important\" href=\"/en/news/amazon-seeks-us-fcc-nod-to-launch-4538-broadband-satellites-1636134343139\">\\n      <span itemprop=\"headline\">Amazon seeks US FCC nod to launch 4,538 broadband satellites</span>\\n    </a>\\n    <div class=\"news-card-author-time news-card-author-time-in-title\">\\n      <a href=\"/prev/en/news/amazon-seeks-us-fcc-nod-to-launch-4538-broadband-satellites-1636134343139\"><span class=\"short\">short</span></a> by <span class=\"author\">Hiral Goyal</span> / \\n      <span class=\"time\" itemprop=\"datePublished\" content=\"2021-11-05T17:45:43.000Z\">11:15 pm</span> on <span clas=\"date\">05 Nov 2021,Friday</span>\\n    </div>\\n  </div>\\n  <div class=\"news-card-content news-right-box\">\\n    <div itemprop=\"articleBody\">Amazon&#39;s Project Kuiper has asked the US Federal Communications Commission&#39;s (FCC) permission to launch another 4,538 broadband satellites. This would take the total number of satellites in Kuiper&#39;s constellation to 7,774. Kuiper is aiming to launch its first two prototype satellites by the end of next year. Meanwhile, its rival company SpaceX has launched more than 1,700 satellites to date.</div>\\n    <div class=\"news-card-author-time news-card-author-time-in-content\">\\n      <a href=\"/prev/en/news/amazon-seeks-us-fcc-nod-to-launch-4538-broadband-satellites-1636134343139\"><span class=\"short\">short</span></a> by <span class=\"author\">Hiral Goyal</span> / \\n      <span class=\"time\" itemprop=\"dateModified\" content=\"2021-11-05T17:45:43.000Z\" >11:15 pm</span> on <span class=\"date\">05 Nov</span>\\n    </div>\\n  </div>\\n  \\n    <div class=\"news-card-footer news-right-box\">\\n      <div class=\"read-more\">read more at <a class=\"source\" onclick=\"track_GA_Mixpanel({\\'hitType\\': \\'event\\', \\'category\\': \\'ReadMore\\', \\'action\\': \\'clicked\\', \\'label\\': \\'BloombergQuint\\' });\" target=\"_blank\" href=\"https://www.bloombergquint.com/onweb/amazon-seeks-to-add-4-538-satellites-to-challenge-musk-s-spacex?utm_campaign=fullarticle&amp;utm_medium=referral&amp;utm_source=inshorts \">BloombergQuint</a></div>\\n    </div>\\n  \\n\\n</div>\\n\\n  \\n</div>\\n\\n\\n\\n\\n  \\n    <div id=\\'div-gpt-ad-1536748319959-jew0ayrn-1\\' style=\\'height:250px; width:900px; margin: auto; margin-bottom: 2%;\\'>\\n      <script>\\n        googletag.cmd.push(function() { \\n          //News banner for desktop\\n          var slotIdWeb = \\'div-gpt-ad-1536748319959-jew0ayrn-1\\';\\n          var slot = googletag.defineSlot(\\'/142919096/inshorts_website_900x250\\', [900, 250], slotIdWeb)\\n          .addService(googletag.pubads())\\n          .setCollapseEmptyDiv(true,true);\\n\\n          googletag.display(\\'div-gpt-ad-1536748319959-jew0ayrn-1\\');\\n          googletag.pubads().refresh([slot]);\\n        });\\n      </script>\\n    </div>\\n  \\n\\n<div class=\"\">\\n<div class=\"news-card z-depth-1\" itemscope itemtype=\"http://schema.org/NewsArticle\">\\n  <span content=\"\" itemscope itemprop=\"mainEntityOfPage\" itemType=\"https://schema.org/WebPage\" itemid=\"https://inshorts.com/en/news/apple-hires-former-tesla-engineer-for-its-selfdriving-car-report-1636172917324\"></span>\\n  <span itemtype=\"https://schema.org/Person\" itemscope=\"itemscope\" itemprop=\"author\">\\n    <span itemprop=\"name\" content=\"Aishwarya Awasthi\"></span>\\n  </span>\\n  <span itemprop=\"description\" content=\"Apple hires former Tesla engineer for its self-driving car: Report\"></span>\\n  <span itemprop=\"image\" itemscope itemtype=\"https://schema.org/ImageObject\">\\n    <meta itemprop=\"url\" content=\"https://static.inshorts.com/inshorts/images/v1/variants/jpg/m/2021/11_nov/6_sat/img_1636170661271_746.jpg?\"></meta>\\n    <meta itemprop=\"width\" content=\"864\"></meta>\\n    <meta itemprop=\"height\" content=\"483\"></meta>\\n  </span>\\n  <span itemtype=\"https://schema.org/Organization\" itemscope=\"itemscope\" itemprop=\"publisher\">\\n    <span itemprop=\"url\" content=\"https://inshorts.com/\"></span>\\n    <span itemprop=\"name\" content=\"Inshorts\"></span>\\n    <span itemprop=\"logo\" itemscope itemtype=\"https://schema.org/ImageObject\">\\n      <span itemprop=\"url\" content=\"https://assets.inshorts.com/inshorts/images/v1/variants/jpg/m/2018/11_nov/21_wed/img_1542823931298_497.jpg\"></span>\\n      <meta itemprop=\"width\" content=\"400\"></meta>\\n      <meta itemprop=\"height\" content=\"60\"></meta>\\n    </span>\\n  </span>\\n  <div class=\"news-card-image\" style= \"background-image: url(\\'https://static.inshorts.com/inshorts/images/v1/variants/jpg/m/2021/11_nov/6_sat/img_1636170661271_746.jpg?\\')\">\\n  </div>\\n  <div class=\"news-card-title news-right-box\">\\n    <a class=\"clickable\" onclick=\"track_GA_Mixpanel({\\'hitType\\': \\'event\\', \\'category\\': \\'TitleOfNews\\', \\'action\\': \\'clicked\\', \\'label\\': \\'Apple%20hires%20former%20Tesla%20engineer%20for%20its%20self-driving%20car%3A%20Report)\\' });\"  style=\"color:#44444d!important\" href=\"/en/news/apple-hires-former-tesla-engineer-for-its-selfdriving-car-report-1636172917324\">\\n      <span itemprop=\"headline\">Apple hires former Tesla engineer for its self-driving car: Report</span>\\n    </a>\\n    <div class=\"news-card-author-time news-card-author-time-in-title\">\\n      <a href=\"/prev/en/news/apple-hires-former-tesla-engineer-for-its-selfdriving-car-report-1636172917324\"><span class=\"short\">short</span></a> by <span class=\"author\">Aishwarya Awasthi</span> / \\n      <span class=\"time\" itemprop=\"datePublished\" content=\"2021-11-06T04:28:37.000Z\">09:58 am</span> on <span clas=\"date\">06 Nov 2021,Saturday</span>\\n    </div>\\n  </div>\\n  <div class=\"news-card-content news-right-box\">\\n    <div itemprop=\"articleBody\">Apple has hired former Tesla engineer CJ Moore for its team working on a self-driving car, Bloomberg reported. Moore is working on the car&#39;s software and reporting to Stuart Bowers, former Tesla executive who joined Apple in 2020. Earlier this year, Moore implied that CEO Elon Musk had overstated the capabilities of the Autopilot software.</div>\\n    <div class=\"news-card-author-time news-card-author-time-in-content\">\\n      <a href=\"/prev/en/news/apple-hires-former-tesla-engineer-for-its-selfdriving-car-report-1636172917324\"><span class=\"short\">short</span></a> by <span class=\"author\">Aishwarya Awasthi</span> / \\n      <span class=\"time\" itemprop=\"dateModified\" content=\"2021-11-06T04:28:37.000Z\" >09:58 am</span> on <span class=\"date\">06 Nov</span>\\n    </div>\\n  </div>\\n  \\n    <div class=\"news-card-footer news-right-box\">\\n      <div class=\"read-more\">read more at <a class=\"source\" onclick=\"track_GA_Mixpanel({\\'hitType\\': \\'event\\', \\'category\\': \\'ReadMore\\', \\'action\\': \\'clicked\\', \\'label\\': \\'BloombergQuint\\' });\" target=\"_blank\" href=\"https://www.bloombergquint.com/business/apple-hires-tesla-s-autopilot-software-director-for-car-effort?utm_campaign=fullarticle&amp;utm_medium=referral&amp;utm_source=inshorts \">BloombergQuint</a></div>\\n    </div>\\n  \\n\\n</div>\\n\\n  \\n</div>\\n\\n\\n\\n\\n<div class=\"\">\\n<div class=\"news-card z-depth-1\" itemscope itemtype=\"http://schema.org/NewsArticle\">\\n  <span content=\"\" itemscope itemprop=\"mainEntityOfPage\" itemType=\"https://schema.org/WebPage\" itemid=\"https://inshorts.com/en/news/twitter-temporarily-suspends-trends-in-ethiopia-amid-conflict-1636199554670\"></span>\\n  <span itemtype=\"https://schema.org/Person\" itemscope=\"itemscope\" itemprop=\"author\">\\n    <span itemprop=\"name\" content=\"Aishwarya Awasthi\"></span>\\n  </span>\\n  <span itemprop=\"description\" content=\"Twitter temporarily suspends Trends in Ethiopia amid conflict\"></span>\\n  <span itemprop=\"image\" itemscope itemtype=\"https://schema.org/ImageObject\">\\n    <meta itemprop=\"url\" content=\"https://static.inshorts.com/inshorts/images/v1/variants/jpg/m/2021/11_nov/6_sat/img_1636198051745_176.jpg?\"></meta>\\n    <meta itemprop=\"width\" content=\"864\"></meta>\\n    <meta itemprop=\"height\" content=\"483\"></meta>\\n  </span>\\n  <span itemtype=\"https://schema.org/Organization\" itemscope=\"itemscope\" itemprop=\"publisher\">\\n    <span itemprop=\"url\" content=\"https://inshorts.com/\"></span>\\n    <span itemprop=\"name\" content=\"Inshorts\"></span>\\n    <span itemprop=\"logo\" itemscope itemtype=\"https://schema.org/ImageObject\">\\n      <span itemprop=\"url\" content=\"https://assets.inshorts.com/inshorts/images/v1/variants/jpg/m/2018/11_nov/21_wed/img_1542823931298_497.jpg\"></span>\\n      <meta itemprop=\"width\" content=\"400\"></meta>\\n      <meta itemprop=\"height\" content=\"60\"></meta>\\n    </span>\\n  </span>\\n  <div class=\"news-card-image\" style= \"background-image: url(\\'https://static.inshorts.com/inshorts/images/v1/variants/jpg/m/2021/11_nov/6_sat/img_1636198051745_176.jpg?\\')\">\\n  </div>\\n  <div class=\"news-card-title news-right-box\">\\n    <a class=\"clickable\" onclick=\"track_GA_Mixpanel({\\'hitType\\': \\'event\\', \\'category\\': \\'TitleOfNews\\', \\'action\\': \\'clicked\\', \\'label\\': \\'Twitter%20temporarily%20suspends%20Trends%20in%20Ethiopia%20amid%20conflict)\\' });\"  style=\"color:#44444d!important\" href=\"/en/news/twitter-temporarily-suspends-trends-in-ethiopia-amid-conflict-1636199554670\">\\n      <span itemprop=\"headline\">Twitter temporarily suspends Trends in Ethiopia amid conflict</span>\\n    </a>\\n    <div class=\"news-card-author-time news-card-author-time-in-title\">\\n      <a href=\"/prev/en/news/twitter-temporarily-suspends-trends-in-ethiopia-amid-conflict-1636199554670\"><span class=\"short\">short</span></a> by <span class=\"author\">Aishwarya Awasthi</span> / \\n      <span class=\"time\" itemprop=\"datePublished\" content=\"2021-11-06T11:52:34.000Z\">05:22 pm</span> on <span clas=\"date\">06 Nov 2021,Saturday</span>\\n    </div>\\n  </div>\\n  <div class=\"news-card-content news-right-box\">\\n    <div itemprop=\"articleBody\">Twitter has temporarily disabled Trends section in Africa&#39;s conflict-hit nation of Ethiopia over threats of physical harm. &#34;Inciting violence...is against our rules...Given the imminent threat of physical harm, we&#39;ve...temporarily disabled Trends in Ethiopia,&#34; the platform said. The Ethiopian government had declared a state of emergency as Tigrayan rebels threatened to march towards the capital.</div>\\n    <div class=\"news-card-author-time news-card-author-time-in-content\">\\n      <a href=\"/prev/en/news/twitter-temporarily-suspends-trends-in-ethiopia-amid-conflict-1636199554670\"><span class=\"short\">short</span></a> by <span class=\"author\">Aishwarya Awasthi</span> / \\n      <span class=\"time\" itemprop=\"dateModified\" content=\"2021-11-06T11:52:34.000Z\" >05:22 pm</span> on <span class=\"date\">06 Nov</span>\\n    </div>\\n  </div>\\n  \\n    <div class=\"news-card-footer news-right-box\">\\n      <div class=\"read-more\">read more at <a class=\"source\" onclick=\"track_GA_Mixpanel({\\'hitType\\': \\'event\\', \\'category\\': \\'ReadMore\\', \\'action\\': \\'clicked\\', \\'label\\': \\'Reuters\\' });\" target=\"_blank\" href=\"https://www.reuters.com/world/africa/twitter-temporarily-disables-its-trends-section-ethiopia-2021-11-06/?utm_campaign=fullarticle&amp;utm_medium=referral&amp;utm_source=inshorts \">Reuters</a></div>\\n    </div>\\n  \\n\\n</div>\\n\\n  \\n</div>\\n\\n\\n\\n\\n<div class=\"\">\\n<div class=\"news-card z-depth-1\" itemscope itemtype=\"http://schema.org/NewsArticle\">\\n  <span content=\"\" itemscope itemprop=\"mainEntityOfPage\" itemType=\"https://schema.org/WebPage\" itemid=\"https://inshorts.com/en/news/teslarival-nikola-may-pay-$125-mn-to-settle-fraud-charges-in-us-1636110113268\"></span>\\n  <span itemtype=\"https://schema.org/Person\" itemscope=\"itemscope\" itemprop=\"author\">\\n    <span itemprop=\"name\" content=\"Aishwarya Awasthi\"></span>\\n  </span>\\n  <span itemprop=\"description\" content=\"Tesla-rival Nikola may pay $125 mn to settle fraud charges in US\"></span>\\n  <span itemprop=\"image\" itemscope itemtype=\"https://schema.org/ImageObject\">\\n    <meta itemprop=\"url\" content=\"https://static.inshorts.com/inshorts/images/v1/variants/jpg/m/2021/11_nov/5_fri/img_1636108026808_649.jpg?\"></meta>\\n    <meta itemprop=\"width\" content=\"864\"></meta>\\n    <meta itemprop=\"height\" content=\"483\"></meta>\\n  </span>\\n  <span itemtype=\"https://schema.org/Organization\" itemscope=\"itemscope\" itemprop=\"publisher\">\\n    <span itemprop=\"url\" content=\"https://inshorts.com/\"></span>\\n    <span itemprop=\"name\" content=\"Inshorts\"></span>\\n    <span itemprop=\"logo\" itemscope itemtype=\"https://schema.org/ImageObject\">\\n      <span itemprop=\"url\" content=\"https://assets.inshorts.com/inshorts/images/v1/variants/jpg/m/2018/11_nov/21_wed/img_1542823931298_497.jpg\"></span>\\n      <meta itemprop=\"width\" content=\"400\"></meta>\\n      <meta itemprop=\"height\" content=\"60\"></meta>\\n    </span>\\n  </span>\\n  <div class=\"news-card-image\" style= \"background-image: url(\\'https://static.inshorts.com/inshorts/images/v1/variants/jpg/m/2021/11_nov/5_fri/img_1636108026808_649.jpg?\\')\">\\n  </div>\\n  <div class=\"news-card-title news-right-box\">\\n    <a class=\"clickable\" onclick=\"track_GA_Mixpanel({\\'hitType\\': \\'event\\', \\'category\\': \\'TitleOfNews\\', \\'action\\': \\'clicked\\', \\'label\\': \\'Tesla-rival%20Nikola%20may%20pay%20%24125%20mn%20to%20settle%20fraud%20charges%20in%20US)\\' });\"  style=\"color:#44444d!important\" href=\"/en/news/teslarival-nikola-may-pay-$125-mn-to-settle-fraud-charges-in-us-1636110113268\">\\n      <span itemprop=\"headline\">Tesla-rival Nikola may pay $125 mn to settle fraud charges in US</span>\\n    </a>\\n    <div class=\"news-card-author-time news-card-author-time-in-title\">\\n      <a href=\"/prev/en/news/teslarival-nikola-may-pay-$125-mn-to-settle-fraud-charges-in-us-1636110113268\"><span class=\"short\">short</span></a> by <span class=\"author\">Aishwarya Awasthi</span> / \\n      <span class=\"time\" itemprop=\"datePublished\" content=\"2021-11-05T11:01:53.000Z\">04:31 pm</span> on <span clas=\"date\">05 Nov 2021,Friday</span>\\n    </div>\\n  </div>\\n  <div class=\"news-card-content news-right-box\">\\n    <div itemprop=\"articleBody\">Electric truck maker Nikola is in talks with the US SEC to pay a $125 million civil penalty under a proposed deal to settle civil fraud charges for allegedly misleading investors. The Tesla-rival said if the resolution is approved, the $125-million penalty will be paid in instalments over two years. The penalty amount is Nikola&#39;s &#34;best estimate&#34; of the penalty.</div>\\n    <div class=\"news-card-author-time news-card-author-time-in-content\">\\n      <a href=\"/prev/en/news/teslarival-nikola-may-pay-$125-mn-to-settle-fraud-charges-in-us-1636110113268\"><span class=\"short\">short</span></a> by <span class=\"author\">Aishwarya Awasthi</span> / \\n      <span class=\"time\" itemprop=\"dateModified\" content=\"2021-11-05T11:01:53.000Z\" >04:31 pm</span> on <span class=\"date\">05 Nov</span>\\n    </div>\\n  </div>\\n  \\n    <div class=\"news-card-footer news-right-box\">\\n      <div class=\"read-more\">read more at <a class=\"source\" onclick=\"track_GA_Mixpanel({\\'hitType\\': \\'event\\', \\'category\\': \\'ReadMore\\', \\'action\\': \\'clicked\\', \\'label\\': \\'TechCrunch\\' });\" target=\"_blank\" href=\"https://techcrunch.com/2021/11/04/nikola-sets-aside-125-million-to-settle-with-sec/amp/?utm_campaign=fullarticle&amp;utm_medium=referral&amp;utm_source=inshorts \">TechCrunch</a></div>\\n    </div>\\n  \\n\\n</div>\\n\\n  \\n</div>\\n\\n      </div>\\n      \\n      \\n      <div class=\"load-more-wrapper\">\\n        <div id=\"load-more-btn\" onclick=\"loadMoreNews()\" class=\"clickable unselectable load-more z-depth-1 hoverable\">Load More</div>\\n        <div id=\"load-more-gif\" style=\"display:none;\" class=\"clickable unselectable load-more\"><img id=\"load-more-gif\" src=\"https://assets.inshorts.com/website_assets/images/ajax-loader.gif\"/></div>\\n      </div>\\n      \\n\\n      \\n      <div class=\"my-red app-download-pane  hide-on-large-only\">\\n        <div class=\"container\">\\n          <div class=\"row\">\\n            <div class=\"col s12 center\" style=\"color:white;font-weight: 300;font-size:14px;margin-top: 28px;margin-bottom: 18px;\">\\n              For the best experience use <a target=\"_blank\" href=\"/mobile\" style=\"color:white;appearance: none;font-weight: 500;\">inshorts</a> app on your smartphone\\n            </div>\\n            \\n            \\n          </div>\\n        </div>\\n      </div>\\n      \\n\\n    </div>\\n  </div>\\n  <!-- BODY END -->\\n  <footer class=\"page-footer teals\"> \\n  <div class=\"container\">\\n    <div class=\"row\" style=\"margin-bottom: 0px; padding-bottom: 5px;\">\\n\\n      <div class=\"col offset-l3 l3 m4 s12 right social-admin\">\\n        <div class=\"social-share\"><a onclick=\"track_GA_Mixpanel({\\'hitType\\': \\'event\\', \\'category\\': \\'LinkToFaceBookPage\\', \\'action\\': \\'clicked\\', \\'label\\': \\'RedirectedToFaceBook\\' });\" target=\"_blank\" href=\"https://www.facebook.com/inshortsapp\"><img src=\"https://assets.inshorts.com/website_assets/images/facebook.png\"/></a></div>\\n        <div class=\"social-share\"><a onclick=\"track_GA_Mixpanel({\\'hitType\\': \\'event\\', \\'category\\': \\'LinkToTwitterPage\\', \\'action\\': \\'clicked\\', \\'label\\': \\'RedirectedToTwitter\\' });\" target=\"_blank\" href=\"https://twitter.com/inshorts\"><img src=\"https://assets.inshorts.com/website_assets/images/twitter.png\"/></a></div>\\n        <div class=\"social-share\"><a onclick=\"track_GA_Mixpanel({\\'hitType\\': \\'event\\', \\'category\\': \\'LinkToLinkedinPage\\', \\'action\\': \\'clicked\\', \\'label\\': \\'RedirectedToLinkedin\\' });\" target=\"_blank\" href=\"https://www.linkedin.com/company/news-in-shorts\"><img src=\"https://assets.inshorts.com/website_assets/images/linkedin.png\"/></a></div>\\n      </div>\\n\\n\\n      <div class=\"col m4 l3 s6 footer-left-pane\">\\n        <div class=\"right\"><img width=\"160px\" height=\"48px\" src=\"https://assets.inshorts.com/website_assets/images/logo_footer.png\"/></div>\\n\\n        <div class=\"copy-text\" >\\n          <span><span style=\"color:#cfcfcf;font-family: \\'Conv_ClanPro-Bold\\'\">inshorts</span> medialabs pvt. ltd.</span><br/>\\n          &copy;<span style=\"font-size:12px\">COPYRIGHT 2021</span>\\n        </div>\\n      </div>\\n      <div class=\"col m4 l3 s6 footer-right-pane\">\\n        <div id=\"contactUsBtn\" class=\"left clickable\" style=\"margin-top: -5px;\"><img width=\"132px\" height=\"48px\" src=\"https://assets.inshorts.com/website_assets/images/contact_icon.png\"/></div>              \\n        <div class=\"terms-text\">\\n          <a class=\"tnc\" style=\"color: #fff;\" onclick=\"track_GA_Mixpanel({\\'hitType\\': \\'event\\', \\'category\\': \\'LinkToTermsAndConditionsAndPP\\', \\'action\\': \\'clicked\\', \\'label\\': \\'RedirectedToTermsAndConditions\\' });\" target=\"_blank\" href=\"/tnc\"><span>Terms &amp; conditions</span><br/>\\n          <span>Privacy Policies</span>\\n          </a>\\n        </div>\\n      </div>\\n    </div>\\n  </div>\\n  <div id=\"contactUsModal\" class=\"modal_contact row\">\\n    <!-- Modal content -->\\n      <div class=\"modal-content col l4 m4 s8 offset-s2 offset-l4 offset-m4\">\\n        <span class=\"close\">&times;</span>\\n        <div class=\"contact\">\\n          <a target=\"_blank\" href=\"mailto:careers@inshorts.com?subject=Inshorts%20website%20contact%20form\">\\n            <button id=\"myBtn\">Contact Hiring Team</button>\\n          </a>\\n        </div>\\n        <div class=\"contact\">\\n          <a target=\"_blank\" href=\"mailto:Admin@inshorts.com?subject=Inshorts%20website%20contact%20form\">\\n            <button id=\"myBtn\">Contact Admin Team</button>\\n          </a>\\n        </div>\\n        <div class=\"contact\">\\n          <a target=\"_blank\" href=\"mailto:Marketing@inshorts.com?subject=Inshorts%20website%20contact%20form\">\\n            <button id=\"myBtn\">Contact Marketing Team</button>\\n          </a>\\n        </div>\\n        <div class=\"contact\">\\n          <a target=\"_blank\" href=\"mailto:Editorial@inshorts.com?subject=Inshorts%20website%20contact%20form\">\\n            <button id=\"myBtn\">Contact Editorial Team</button>\\n          </a>\\n        </div>\\n        <div class=\"contact\">\\n          <a target=\"_blank\" href=\"mailto:Sales@inshorts.com?subject=Inshorts%20website%20contact%20form\">\\n            <button id=\"myBtn\">Contact Sales Team</button>\\n          </a>\\n        </div>\\n        <div class=\"contact\">\\n          <a target=\"_blank\" href=\"mailto:Contact@inshorts.com?subject=Inshorts%20website%20contact%20form\">\\n            <button id=\"myBtn\">Contact For Any Other Query</button>\\n          </a>\\n        </div>\\n      </div>\\n  </div>\\n</footer>\\n<script>\\nvar modal = document.getElementById(\\'contactUsModal\\');\\n\\n// Get the button that opens the modal\\nvar btn = document.getElementById(\"contactUsBtn\");\\n\\n// Get the <span> element that closes the modal\\nvar span = document.getElementsByClassName(\"close\")[0];\\n\\n// When the user clicks on the button, open the modal \\nbtn.onclick = function() {\\n    modal.style.display = \"block\";\\n}\\n\\n// When the user clicks on <span> (x), close the modal\\nspan.onclick = function() {\\n    modal.style.display = \"none\";\\n}\\n\\n// When the user clicks anywhere outside of the modal, close it\\nwindow.onclick = function(event) {\\n    if (event.target == modal) {\\n        modal.style.display = \"none\";\\n    }\\n}\\n</script>\\n\\n\\n  <!-- Eliminate render-blocking JavaScript and CSS in above-the-fold content -->\\n  <script src=\"https://ajax.googleapis.com/ajax/libs/jquery/1.8/jquery.min.js\"></script>\\n  <script src=\"https://cdnjs.cloudflare.com/ajax/libs/materialize/0.97.0/js/materialize.min.js\"></script>\\n  \\n  <script type=\"text/javascript\" src=\"/dist/scripts/index.js\"></script>\\n  <script type=\"text/javascript\" src=\"/dist/scripts/read.js\"></script>\\n  <script src=\"/dist/scripts/jquery.scrolldepth.min.js\"></script>\\n  <script type=\"text/javascript\">\\n\\n    var min_news_id = \"310rpwox-1\";\\n    function loadMoreNews(){\\n      $(\"#load-more-btn\").hide();\\n      $(\"#load-more-gif\").show();\\n      $.post(\"/en/ajax/more_news\",{\\'category\\':\\'technology\\',\\'news_offset\\':min_news_id},function(data){\\n          data = JSON.parse(data);\\n          min_news_id = data.min_news_id||min_news_id;\\n          $(\".card-stack\").append(data.html);\\n      })\\n      .fail(function(){alert(\"Error : unable to load more news\");})\\n      .always(function(){$(\"#load-more-btn\").show();$(\"#load-more-gif\").hide();});\\n    }\\n    jQuery.scrollDepth();\\n  </script>\\n\\n  <!-- Eliminate render-blocking JavaScript and CSS in above-the-fold content -->\\n\\n</body>\\n</html>\\n'"
      ]
     },
     "execution_count": 6,
     "metadata": {},
     "output_type": "execute_result"
    }
   ],
   "source": [
    "data = requests.get(url)\n",
    "data.content"
   ]
  },
  {
   "cell_type": "code",
   "execution_count": 7,
   "metadata": {
    "id": "4yYF84oFPYK_"
   },
   "outputs": [],
   "source": [
    "soup = BeautifulSoup(data.content, 'html.parser')"
   ]
  },
  {
   "cell_type": "code",
   "execution_count": 8,
   "metadata": {
    "id": "Hv1Q0eW5PYLA"
   },
   "outputs": [],
   "source": [
    "news_articles = [{'news_headline': headline.find('span', attrs={'itemprop': 'headline'}).string,\n",
    "                  'news_article': article.find('div', attrs={'itemprop': 'articleBody'}).string,\n",
    "                  'news_category': news_category} \n",
    "                 for headline, article in zip(soup.find_all('div', \n",
    "                                                            class_ = ['news-card-title news-right-box']), \n",
    "                                              soup.find_all('div', class_=['news-card-content news-right-box']))]"
   ]
  },
  {
   "cell_type": "code",
   "execution_count": 9,
   "metadata": {
    "id": "-gVA9kMUPYLA",
    "outputId": "79ae3bb5-61a4-4411-86fd-8a01698bba5c"
   },
   "outputs": [
    {
     "data": {
      "text/plain": [
       "[{'news_headline': \"Amitabh Bachchan's NFT collection sold at record ₹7 crore in India\",\n",
       "  'news_article': \"Amitabh Bachchan's NFT collection has been sold at $966,000 (₹7.18 crore) following the highest-ever NFT bidding in India. The Madhushala NFTs, a collection of his father's poems recorded in the actor's own voice, fetched a total of $756,000 (₹5.6 crore). NFTs of Bachchan signing his movies' original posters in a video, along with their physical copies, fetched $94,052 (₹69.7 lakh).\",\n",
       "  'news_category': 'technology'},\n",
       " {'news_headline': '907-kg tungsten cube NFT sells for ₹1.8 cr, buyer can visit it once a year',\n",
       "  'news_article': 'An NFT (non-fungible token) of a 907-kg tungsten cube has been sold to a group of anonymous crypto investors for roughly $250,000 (₹1.8 crore). The NFT represents a real-world physical cube that will be stored at Midwest Tungsten Service in Illinois. The owner of the NFT can visit the headquarters once a year to see, photograph, or touch the cube.',\n",
       "  'news_category': 'technology'},\n",
       " {'news_headline': \"Astronauts to return to Earth wearing diapers due to SpaceX capsule's broken toilet\",\n",
       "  'news_article': 'Four astronauts, who will leave the International Space Station on November 8, will have to use diapers due to their SpaceX capsule\\'s broken toilet. The crew will spend 20 hours in the capsule before splashing down off the Florida coast. \"This is just one more [challenge]...we\\'ll encounter and take care of in our mission,\" astronaut Megan McArthur said.',\n",
       "  'news_category': 'technology'},\n",
       " {'news_headline': \"Steve Jobs' letter about his plans to visit Kumbh Mela sells for $500,312\",\n",
       "  'news_article': \"Apple's late Co-founder Steve Jobs' handwritten letter from 1974 featuring his plans to travel to India to attend the Kumbh Mela was auctioned by Bonhams for $500,312. The letter is postmarked a day before Jobs' 19th birthday and is addressed to his childhood friend Tim Brown. Jobs came to India for seven months in 1974 in search of spiritual enlightenment.\",\n",
       "  'news_category': 'technology'},\n",
       " {'news_headline': \"Tesla's market value surpasses an entire energy sector index\",\n",
       "  'news_article': \"Elon Musk-led Tesla's market value has surpassed that of an entire energy sector index, according to Bloomberg. The market capitalisation of the electric carmaker, headed by the world's richest person, hit $1.2 trillion following a 43% surge in October. This is higher than the $1.1 trillion market value of the US equity benchmark index S&P 500's energy sector. \",\n",
       "  'news_category': 'technology'},\n",
       " {'news_headline': \"Alternate name for Tesla was 'Faraday': Musk on how the company bought its name\",\n",
       "  'news_article': 'Tesla CEO Elon Musk responded to a Twitter user who shared a video of Musk revealing he bought the company\\'s name, which was already owned by a firm in US\\' Sacramento, for $75,000. \"The top alternate name, if we couldn\\'t acquire the Tesla Motors trademark, was Faraday, which a competitor ended up using,\" Musk said.',\n",
       "  'news_category': 'technology'},\n",
       " {'news_headline': 'McAfee nears deal to sell itself to Advent for over $10 bn: Report',\n",
       "  'news_article': 'Cyber security firm McAfee is nearing a deal to sell itself to US private equity firm Advent International for over $10 billion, media reports said. The deal could be announced on Monday, however the talks could still fall apart. Shares of McAfee closed up 20% at $25.46, giving the company a market valuation of $11 billion.',\n",
       "  'news_category': 'technology'},\n",
       " {'news_headline': 'After NYC Mayor-elect, Tampa Mayor to accept paycheck in Bitcoin',\n",
       "  'news_article': \"After NYC Mayor-elect Eric Adams announced plans to take his first three paychecks in Bitcoin, Florida's Tampa city Mayor Jane Castor said she'll also accept her paycheck in Bitcoin. Earlier, Miami Mayor Francis Suarez said he'll take his next paycheck in Bitcoin, while Scott Conger, the Mayor of City of Jackson, announced he will convert his next paycheck to Bitcoin.\",\n",
       "  'news_category': 'technology'},\n",
       " {'news_headline': 'Musk sought as witness in Tesla crash trial in US: Filings',\n",
       "  'news_article': \"Tesla CEO Elon Musk has been listed as potential witness in a trial to determine whether Tesla's Autopilot tech led to a fatal car crash in the US, filings revealed. The lawyers of the family of Jeremy Banner, who died in 2019 when his Tesla collided with a semi-trailer truck, have listed Musk. The trial could take place in January.\",\n",
       "  'news_category': 'technology'},\n",
       " {'news_headline': 'Tesla opens battery manufacturing equipment plant in Canada',\n",
       "  'news_article': 'Tesla has opened a factory to produce battery manufacturing equipment in the Canadian city of Markham, Ontario, the city\\'s Mayor revealed. \"The facility...will produce state-of-the-art manufacturing equipment to be used at the Gigafactories located around the world in the production of batteries,\" the Mayor said. City official Bryan Frois told Reuters the Markham facility opened this summer.',\n",
       "  'news_category': 'technology'},\n",
       " {'news_headline': \"SpaceX's Starlink to discuss collaboration with Indian telecos: India head\",\n",
       "  'news_article': \"SpaceX's Starlink Country Director India Sanjay Bhargava has said the firm will discuss collaboration with telecom companies in India in future. He said the discussions will start once the 12 Phase-1 aspirational districts are identified by the NITI Aayog. The firm will also see the interest levels of various players and the USOF (Universal Service Obligation Fund).\",\n",
       "  'news_category': 'technology'},\n",
       " {'news_headline': \"Kroger says press release about accepting Bitcoin Cash 'fraudulent'\",\n",
       "  'news_article': 'US retail firm Kroger has called a press release that claimed it will accept Bitcoin at its stores \"fraudulent\". The release appeared on Kroger\\'s investor relations page and was later deleted. The company said the page, which gets automatically updated, receives a direct feed from PR Newswire. Kroger has launched a probe into the release.',\n",
       "  'news_category': 'technology'},\n",
       " {'news_headline': 'Google parent launches new company that uses AI to create new drugs',\n",
       "  'news_article': \"Google's parent company Alphabet said it has launched a new company called Isomorphic Labs in the UK. The company plans to use artificial intelligence (AI) software to create new drugs and medicines and will build on research carried out by another Alphabet subsidiary DeepMind. Demis Hassabis, the CEO of DeepMind, said he will serve as CEO for Isomorphic's initial phase.\",\n",
       "  'news_category': 'technology'},\n",
       " {'news_headline': 'BMW pulls touchscreen features from some cars amid chip shortage',\n",
       "  'news_article': \"BMW is temporarily removing touchscreen functions from several models due to global chip shortage, the company told AutoBlog. Customers who receive delivery of BMW cars without touchscreen will be given a $500 credit. Further, some cars will reportedly lose access to BMW's Backup Assistant feature, which automatically reverses the car along the path along which it drove into a spot.\",\n",
       "  'news_category': 'technology'},\n",
       " {'news_headline': 'Meta sued by defunct startup Phhhoto for allegedly copying its app',\n",
       "  'news_article': 'Defunct photo-app startup Phhhoto has filed an antitrust lawsuit against Meta, alleging Facebook feigned interest in working with it, copied its main feature and launched it as \\'Boomerang\\' on Instagram. It accuses Facebook of suppressing Phhhoto\\'s content within Instagram and \"destroying Phhhoto as a viable business\". Calling the suit meritless, Meta said it will defend itself \"vigorously\".',\n",
       "  'news_category': 'technology'},\n",
       " {'news_headline': 'Meta plans to open retail stores to showcase its products: Report',\n",
       "  'news_article': 'Meta, formerly Facebook, is discussing opening its retail stores, according to The New York Times. This would mark the social media company\\'s first physical store. The stores would be used to showcase the company\\'s devices, such as virtual reality headsets and upcoming augmented reality glasses, the report said. Before rebranding, it had settled on calling the retail locations \"Facebook Store\".',\n",
       "  'news_category': 'technology'},\n",
       " {'news_headline': 'Scammers use Google Ads to steal crypto worth $500,000 in days: Report',\n",
       "  'news_article': \"Scammers used Google Ads to steal cryptocurrency worth $500,000 in a matter of days, Check Point said. They purchased Google Ads placement for their fake websites that imitated popular wallets, such as Phantom App. Scammers' ads appeared first on a search query related to the wallets. The malicious links that appeared as Google Ads directed victims to a phishing website.\",\n",
       "  'news_category': 'technology'},\n",
       " {'news_headline': 'Microsoft fixes Windows 11 features failing due to expired certificate',\n",
       "  'news_article': 'Microsoft has fixed several Windows 11 features failing to load after an expired certificate was discovered earlier this week. Earlier, users had not been able to open apps like the Snipping Tool, touch keyboard, or emoji panel since a certificate expired on October 31. Microsoft had earlier warned users of the issues and has now released an out-of-band update.',\n",
       "  'news_category': 'technology'},\n",
       " {'news_headline': 'Pretty desperate: SpaceX ex-exec on Blue Origin suing NASA, SpaceX',\n",
       "  'news_article': 'SpaceX\\'s former Senior Advisor Hans Koenigsmann told Insider that Blue Origin suing NASA for awarding a $2.9 billion lunar lander contract to SpaceX \"looks pretty desperate\". \"Suing is always the last resort,\" he added. Koenigsmann, who worked at SpaceX for 19 years, also said Blue Origin \"comes up\" in SpaceX\\'s meetings, but \"there\\'s anything we need to beat them at\".',\n",
       "  'news_category': 'technology'},\n",
       " {'news_headline': \"It's my task to assess competition: CEO on comparing VW with Tesla\",\n",
       "  'news_article': 'Volkswagen CEO Herbert Diess addressed thousands of workers at the German carmaker\\'s Wolfsburg plant, where he said that he\\'s often asked why he keeps comparing Volkswagen with Tesla. \"I know it\\'s annoying some people...But it\\'s my task and that of the entire management to assess the competition correctly, to prepare the group for it and make it future-proof,\" he explained.',\n",
       "  'news_category': 'technology'},\n",
       " {'news_headline': 'iPhone X with modded USB-C port listed on eBay hits $100,100 bid',\n",
       "  'news_article': 'Swiss engineering student Ken Pillonel who modified an iPhone X with a USB-C charging port has listed the phone on eBay for auction and as of Saturday, it has received bids as high as $100,100. While Pillonel claims that the iPhone is a working one, he has prohibited the buyer from using it as a \"daily phone\" or opening it.',\n",
       "  'news_category': 'technology'},\n",
       " {'news_headline': 'Amazon seeks US FCC nod to launch 4,538 broadband satellites',\n",
       "  'news_article': \"Amazon's Project Kuiper has asked the US Federal Communications Commission's (FCC) permission to launch another 4,538 broadband satellites. This would take the total number of satellites in Kuiper's constellation to 7,774. Kuiper is aiming to launch its first two prototype satellites by the end of next year. Meanwhile, its rival company SpaceX has launched more than 1,700 satellites to date.\",\n",
       "  'news_category': 'technology'},\n",
       " {'news_headline': 'Apple hires former Tesla engineer for its self-driving car: Report',\n",
       "  'news_article': \"Apple has hired former Tesla engineer CJ Moore for its team working on a self-driving car, Bloomberg reported. Moore is working on the car's software and reporting to Stuart Bowers, former Tesla executive who joined Apple in 2020. Earlier this year, Moore implied that CEO Elon Musk had overstated the capabilities of the Autopilot software.\",\n",
       "  'news_category': 'technology'},\n",
       " {'news_headline': 'Twitter temporarily suspends Trends in Ethiopia amid conflict',\n",
       "  'news_article': 'Twitter has temporarily disabled Trends section in Africa\\'s conflict-hit nation of Ethiopia over threats of physical harm. \"Inciting violence...is against our rules...Given the imminent threat of physical harm, we\\'ve...temporarily disabled Trends in Ethiopia,\" the platform said. The Ethiopian government had declared a state of emergency as Tigrayan rebels threatened to march towards the capital.',\n",
       "  'news_category': 'technology'},\n",
       " {'news_headline': 'Tesla-rival Nikola may pay $125 mn to settle fraud charges in US',\n",
       "  'news_article': 'Electric truck maker Nikola is in talks with the US SEC to pay a $125 million civil penalty under a proposed deal to settle civil fraud charges for allegedly misleading investors. The Tesla-rival said if the resolution is approved, the $125-million penalty will be paid in instalments over two years. The penalty amount is Nikola\\'s \"best estimate\" of the penalty.',\n",
       "  'news_category': 'technology'}]"
      ]
     },
     "execution_count": 9,
     "metadata": {},
     "output_type": "execute_result"
    }
   ],
   "source": [
    "news_data.extend(news_articles)\n",
    "news_data"
   ]
  },
  {
   "cell_type": "code",
   "execution_count": 10,
   "metadata": {
    "id": "RO7VtkJ5PYLB"
   },
   "outputs": [],
   "source": [
    "df = pd.DataFrame(news_data)"
   ]
  },
  {
   "cell_type": "code",
   "execution_count": 11,
   "metadata": {},
   "outputs": [
    {
     "data": {
      "text/html": [
       "<div>\n",
       "<style scoped>\n",
       "    .dataframe tbody tr th:only-of-type {\n",
       "        vertical-align: middle;\n",
       "    }\n",
       "\n",
       "    .dataframe tbody tr th {\n",
       "        vertical-align: top;\n",
       "    }\n",
       "\n",
       "    .dataframe thead th {\n",
       "        text-align: right;\n",
       "    }\n",
       "</style>\n",
       "<table border=\"1\" class=\"dataframe\">\n",
       "  <thead>\n",
       "    <tr style=\"text-align: right;\">\n",
       "      <th></th>\n",
       "      <th>news_headline</th>\n",
       "      <th>news_article</th>\n",
       "      <th>news_category</th>\n",
       "    </tr>\n",
       "  </thead>\n",
       "  <tbody>\n",
       "    <tr>\n",
       "      <th>0</th>\n",
       "      <td>Amitabh Bachchan's NFT collection sold at reco...</td>\n",
       "      <td>Amitabh Bachchan's NFT collection has been sol...</td>\n",
       "      <td>technology</td>\n",
       "    </tr>\n",
       "    <tr>\n",
       "      <th>1</th>\n",
       "      <td>907-kg tungsten cube NFT sells for ₹1.8 cr, bu...</td>\n",
       "      <td>An NFT (non-fungible token) of a 907-kg tungst...</td>\n",
       "      <td>technology</td>\n",
       "    </tr>\n",
       "    <tr>\n",
       "      <th>2</th>\n",
       "      <td>Astronauts to return to Earth wearing diapers ...</td>\n",
       "      <td>Four astronauts, who will leave the Internatio...</td>\n",
       "      <td>technology</td>\n",
       "    </tr>\n",
       "    <tr>\n",
       "      <th>3</th>\n",
       "      <td>Steve Jobs' letter about his plans to visit Ku...</td>\n",
       "      <td>Apple's late Co-founder Steve Jobs' handwritte...</td>\n",
       "      <td>technology</td>\n",
       "    </tr>\n",
       "    <tr>\n",
       "      <th>4</th>\n",
       "      <td>Tesla's market value surpasses an entire energ...</td>\n",
       "      <td>Elon Musk-led Tesla's market value has surpass...</td>\n",
       "      <td>technology</td>\n",
       "    </tr>\n",
       "  </tbody>\n",
       "</table>\n",
       "</div>"
      ],
      "text/plain": [
       "                                       news_headline  \\\n",
       "0  Amitabh Bachchan's NFT collection sold at reco...   \n",
       "1  907-kg tungsten cube NFT sells for ₹1.8 cr, bu...   \n",
       "2  Astronauts to return to Earth wearing diapers ...   \n",
       "3  Steve Jobs' letter about his plans to visit Ku...   \n",
       "4  Tesla's market value surpasses an entire energ...   \n",
       "\n",
       "                                        news_article news_category  \n",
       "0  Amitabh Bachchan's NFT collection has been sol...    technology  \n",
       "1  An NFT (non-fungible token) of a 907-kg tungst...    technology  \n",
       "2  Four astronauts, who will leave the Internatio...    technology  \n",
       "3  Apple's late Co-founder Steve Jobs' handwritte...    technology  \n",
       "4  Elon Musk-led Tesla's market value has surpass...    technology  "
      ]
     },
     "execution_count": 11,
     "metadata": {},
     "output_type": "execute_result"
    }
   ],
   "source": [
    "df.head()"
   ]
  },
  {
   "cell_type": "code",
   "execution_count": 12,
   "metadata": {
    "id": "jFOFBn2hPYLB"
   },
   "outputs": [],
   "source": [
    "df = df[['news_headline', 'news_article', 'news_category']]"
   ]
  },
  {
   "cell_type": "code",
   "execution_count": 13,
   "metadata": {
    "id": "NfpIC2ngPYLB",
    "outputId": "41432c20-6e5c-4291-eb48-4456c6aa290f"
   },
   "outputs": [
    {
     "data": {
      "text/html": [
       "<div>\n",
       "<style scoped>\n",
       "    .dataframe tbody tr th:only-of-type {\n",
       "        vertical-align: middle;\n",
       "    }\n",
       "\n",
       "    .dataframe tbody tr th {\n",
       "        vertical-align: top;\n",
       "    }\n",
       "\n",
       "    .dataframe thead th {\n",
       "        text-align: right;\n",
       "    }\n",
       "</style>\n",
       "<table border=\"1\" class=\"dataframe\">\n",
       "  <thead>\n",
       "    <tr style=\"text-align: right;\">\n",
       "      <th></th>\n",
       "      <th>news_headline</th>\n",
       "      <th>news_article</th>\n",
       "      <th>news_category</th>\n",
       "    </tr>\n",
       "  </thead>\n",
       "  <tbody>\n",
       "    <tr>\n",
       "      <th>0</th>\n",
       "      <td>Amitabh Bachchan's NFT collection sold at reco...</td>\n",
       "      <td>Amitabh Bachchan's NFT collection has been sol...</td>\n",
       "      <td>technology</td>\n",
       "    </tr>\n",
       "    <tr>\n",
       "      <th>1</th>\n",
       "      <td>907-kg tungsten cube NFT sells for ₹1.8 cr, bu...</td>\n",
       "      <td>An NFT (non-fungible token) of a 907-kg tungst...</td>\n",
       "      <td>technology</td>\n",
       "    </tr>\n",
       "    <tr>\n",
       "      <th>2</th>\n",
       "      <td>Astronauts to return to Earth wearing diapers ...</td>\n",
       "      <td>Four astronauts, who will leave the Internatio...</td>\n",
       "      <td>technology</td>\n",
       "    </tr>\n",
       "  </tbody>\n",
       "</table>\n",
       "</div>"
      ],
      "text/plain": [
       "                                       news_headline  \\\n",
       "0  Amitabh Bachchan's NFT collection sold at reco...   \n",
       "1  907-kg tungsten cube NFT sells for ₹1.8 cr, bu...   \n",
       "2  Astronauts to return to Earth wearing diapers ...   \n",
       "\n",
       "                                        news_article news_category  \n",
       "0  Amitabh Bachchan's NFT collection has been sol...    technology  \n",
       "1  An NFT (non-fungible token) of a 907-kg tungst...    technology  \n",
       "2  Four astronauts, who will leave the Internatio...    technology  "
      ]
     },
     "execution_count": 13,
     "metadata": {},
     "output_type": "execute_result"
    }
   ],
   "source": [
    "df.head(3)"
   ]
  },
  {
   "cell_type": "code",
   "execution_count": 14,
   "metadata": {},
   "outputs": [
    {
     "data": {
      "text/plain": [
       "(25, 3)"
      ]
     },
     "execution_count": 14,
     "metadata": {},
     "output_type": "execute_result"
    }
   ],
   "source": [
    "df.shape"
   ]
  },
  {
   "cell_type": "markdown",
   "metadata": {
    "id": "ZS1G_liPPYLC"
   },
   "source": [
    "# Prepare user defined function to extract data from inshorts.com"
   ]
  },
  {
   "cell_type": "code",
   "execution_count": 15,
   "metadata": {
    "id": "DFoaQIW2PYLC"
   },
   "outputs": [],
   "source": [
    "urls_list = ['https://inshorts.com/en/read/technology',\n",
    "             'https://inshorts.com/en/read/sports',\n",
    "             'https://inshorts.com/en/read/world']"
   ]
  },
  {
   "cell_type": "code",
   "execution_count": 16,
   "metadata": {
    "id": "w9ZZFk40PYLC"
   },
   "outputs": [],
   "source": [
    "def datasetPrepare(urls_list):\n",
    "    news_data = []\n",
    "    for url in urls_list:\n",
    "        news_category = url.split('/')[-1]\n",
    "        data = requests.get(url)\n",
    "        soup = BeautifulSoup(data.content, 'html.parser')\n",
    "        news_articles = [{'news_headline': headline.find('span', attrs={\"itemprop\": \"headline\"}).string,\n",
    "                          'news_article': article.find('div', attrs={\"itemprop\": \"articleBody\"}).string,\n",
    "                          'news_category': news_category}\n",
    "                         \n",
    "                            for headline, article in \n",
    "                             zip(soup.find_all('div', class_=[\"news-card-title news-right-box\"]),\n",
    "                                 soup.find_all('div', class_=[\"news-card-content news-right-box\"]))\n",
    "                        ]\n",
    "        news_data.extend(news_articles) \n",
    "    df =  pd.DataFrame(news_data)\n",
    "    df = df[['news_headline', 'news_article', 'news_category']]\n",
    "    return df    "
   ]
  },
  {
   "cell_type": "code",
   "execution_count": 17,
   "metadata": {
    "id": "EqwMiaYrPYLC"
   },
   "outputs": [],
   "source": [
    "news_df = datasetPrepare(urls_list)"
   ]
  },
  {
   "cell_type": "code",
   "execution_count": 18,
   "metadata": {
    "id": "vxSTzNgePYLD",
    "outputId": "3f3c8696-932f-4d5d-f21c-a32b0ac2d204"
   },
   "outputs": [
    {
     "name": "stdout",
     "output_type": "stream",
     "text": [
      "<class 'pandas.core.frame.DataFrame'>\n",
      "RangeIndex: 75 entries, 0 to 74\n",
      "Data columns (total 3 columns):\n",
      " #   Column         Non-Null Count  Dtype \n",
      "---  ------         --------------  ----- \n",
      " 0   news_headline  75 non-null     object\n",
      " 1   news_article   75 non-null     object\n",
      " 2   news_category  75 non-null     object\n",
      "dtypes: object(3)\n",
      "memory usage: 1.9+ KB\n"
     ]
    }
   ],
   "source": [
    "news_df.info()"
   ]
  },
  {
   "cell_type": "code",
   "execution_count": 19,
   "metadata": {
    "id": "JbFIqdczPYLD",
    "outputId": "91813c54-9e7a-4f1b-e442-9bf2b984bfef"
   },
   "outputs": [
    {
     "data": {
      "text/html": [
       "<div>\n",
       "<style scoped>\n",
       "    .dataframe tbody tr th:only-of-type {\n",
       "        vertical-align: middle;\n",
       "    }\n",
       "\n",
       "    .dataframe tbody tr th {\n",
       "        vertical-align: top;\n",
       "    }\n",
       "\n",
       "    .dataframe thead th {\n",
       "        text-align: right;\n",
       "    }\n",
       "</style>\n",
       "<table border=\"1\" class=\"dataframe\">\n",
       "  <thead>\n",
       "    <tr style=\"text-align: right;\">\n",
       "      <th></th>\n",
       "      <th>news_headline</th>\n",
       "      <th>news_article</th>\n",
       "      <th>news_category</th>\n",
       "    </tr>\n",
       "  </thead>\n",
       "  <tbody>\n",
       "    <tr>\n",
       "      <th>0</th>\n",
       "      <td>Amitabh Bachchan's NFT collection sold at reco...</td>\n",
       "      <td>Amitabh Bachchan's NFT collection has been sol...</td>\n",
       "      <td>technology</td>\n",
       "    </tr>\n",
       "    <tr>\n",
       "      <th>1</th>\n",
       "      <td>Alternate name for Tesla was 'Faraday': Musk o...</td>\n",
       "      <td>Tesla CEO Elon Musk responded to a Twitter use...</td>\n",
       "      <td>technology</td>\n",
       "    </tr>\n",
       "    <tr>\n",
       "      <th>2</th>\n",
       "      <td>McAfee nears deal to sell itself to Advent for...</td>\n",
       "      <td>Cyber security firm McAfee is nearing a deal t...</td>\n",
       "      <td>technology</td>\n",
       "    </tr>\n",
       "    <tr>\n",
       "      <th>3</th>\n",
       "      <td>Steve Jobs' letter about his plans to visit Ku...</td>\n",
       "      <td>Apple's late Co-founder Steve Jobs' handwritte...</td>\n",
       "      <td>technology</td>\n",
       "    </tr>\n",
       "    <tr>\n",
       "      <th>4</th>\n",
       "      <td>Astronauts to return to Earth wearing diapers ...</td>\n",
       "      <td>Four astronauts, who will leave the Internatio...</td>\n",
       "      <td>technology</td>\n",
       "    </tr>\n",
       "  </tbody>\n",
       "</table>\n",
       "</div>"
      ],
      "text/plain": [
       "                                       news_headline  \\\n",
       "0  Amitabh Bachchan's NFT collection sold at reco...   \n",
       "1  Alternate name for Tesla was 'Faraday': Musk o...   \n",
       "2  McAfee nears deal to sell itself to Advent for...   \n",
       "3  Steve Jobs' letter about his plans to visit Ku...   \n",
       "4  Astronauts to return to Earth wearing diapers ...   \n",
       "\n",
       "                                        news_article news_category  \n",
       "0  Amitabh Bachchan's NFT collection has been sol...    technology  \n",
       "1  Tesla CEO Elon Musk responded to a Twitter use...    technology  \n",
       "2  Cyber security firm McAfee is nearing a deal t...    technology  \n",
       "3  Apple's late Co-founder Steve Jobs' handwritte...    technology  \n",
       "4  Four astronauts, who will leave the Internatio...    technology  "
      ]
     },
     "execution_count": 19,
     "metadata": {},
     "output_type": "execute_result"
    }
   ],
   "source": [
    "news_df.head(5)"
   ]
  },
  {
   "cell_type": "code",
   "execution_count": 20,
   "metadata": {
    "id": "W1e1_NwAPYLD",
    "outputId": "73a291fa-da28-463a-b7d5-13e14cc6b709"
   },
   "outputs": [
    {
     "data": {
      "text/plain": [
       "world         25\n",
       "technology    25\n",
       "sports        25\n",
       "Name: news_category, dtype: int64"
      ]
     },
     "execution_count": 20,
     "metadata": {},
     "output_type": "execute_result"
    }
   ],
   "source": [
    "news_df.news_category.value_counts()"
   ]
  },
  {
   "cell_type": "markdown",
   "metadata": {
    "id": "U-mLVhKJPYLD"
   },
   "source": [
    "# Text Wrangling and Pre-processing"
   ]
  },
  {
   "cell_type": "code",
   "execution_count": 21,
   "metadata": {
    "id": "WIiQ9gviPYLE"
   },
   "outputs": [
    {
     "ename": "ModuleNotFoundError",
     "evalue": "No module named 'spacy'",
     "output_type": "error",
     "traceback": [
      "\u001b[1;31m---------------------------------------------------------------------------\u001b[0m",
      "\u001b[1;31mModuleNotFoundError\u001b[0m                       Traceback (most recent call last)",
      "\u001b[1;32m<ipython-input-21-ceeb82b09ee6>\u001b[0m in \u001b[0;36m<module>\u001b[1;34m\u001b[0m\n\u001b[1;32m----> 1\u001b[1;33m \u001b[1;32mimport\u001b[0m \u001b[0mspacy\u001b[0m\u001b[1;33m\u001b[0m\u001b[1;33m\u001b[0m\u001b[0m\n\u001b[0m\u001b[0;32m      2\u001b[0m \u001b[1;32mimport\u001b[0m \u001b[0mnltk\u001b[0m\u001b[1;33m\u001b[0m\u001b[1;33m\u001b[0m\u001b[0m\n\u001b[0;32m      3\u001b[0m \u001b[1;32mfrom\u001b[0m \u001b[0mnltk\u001b[0m\u001b[1;33m.\u001b[0m\u001b[0mtokenize\u001b[0m\u001b[1;33m.\u001b[0m\u001b[0mtoktok\u001b[0m \u001b[1;32mimport\u001b[0m \u001b[0mToktokTokenizer\u001b[0m\u001b[1;33m\u001b[0m\u001b[1;33m\u001b[0m\u001b[0m\n\u001b[0;32m      4\u001b[0m \u001b[1;32mimport\u001b[0m \u001b[0mre\u001b[0m\u001b[1;33m\u001b[0m\u001b[1;33m\u001b[0m\u001b[0m\n\u001b[0;32m      5\u001b[0m \u001b[1;32mimport\u001b[0m \u001b[0municodedata\u001b[0m\u001b[1;33m\u001b[0m\u001b[1;33m\u001b[0m\u001b[0m\n",
      "\u001b[1;31mModuleNotFoundError\u001b[0m: No module named 'spacy'"
     ]
    }
   ],
   "source": [
    "import spacy\n",
    "import nltk\n",
    "from nltk.tokenize.toktok import ToktokTokenizer\n",
    "import re\n",
    "import unicodedata"
   ]
  },
  {
   "cell_type": "code",
   "execution_count": null,
   "metadata": {
    "id": "xIA55Q7iPYLE"
   },
   "outputs": [],
   "source": [
    "nlp = spacy.load('en')"
   ]
  },
  {
   "cell_type": "code",
   "execution_count": null,
   "metadata": {
    "id": "AhGwcuOOPYLE",
    "outputId": "fb6d7d71-127b-4040-d51c-6b064e632652"
   },
   "outputs": [
    {
     "name": "stdout",
     "output_type": "stream",
     "text": [
      "[nltk_data] Downloading package stopwords to\n",
      "[nltk_data]     C:\\Users\\Narayana_GLB\\AppData\\Roaming\\nltk_data...\n",
      "[nltk_data]   Package stopwords is already up-to-date!\n"
     ]
    },
    {
     "data": {
      "text/plain": [
       "True"
      ]
     },
     "execution_count": 26,
     "metadata": {
      "tags": []
     },
     "output_type": "execute_result"
    }
   ],
   "source": [
    "nltk.download('stopwords')"
   ]
  },
  {
   "cell_type": "code",
   "execution_count": null,
   "metadata": {
    "id": "kgBW5j9hPYLE"
   },
   "outputs": [],
   "source": [
    "tokenizer = ToktokTokenizer()\n",
    "stopword_list = nltk.corpus.stopwords.words('english')\n",
    "stopword_list.remove('no')\n",
    "stopword_list.remove('not')"
   ]
  },
  {
   "cell_type": "markdown",
   "metadata": {
    "id": "I5cAK0-XPYLE"
   },
   "source": [
    "## Remove HTML tags"
   ]
  },
  {
   "cell_type": "code",
   "execution_count": null,
   "metadata": {
    "id": "PSd_fPt_PYLF",
    "outputId": "1f1feba9-986b-4caf-f082-c920e4972691"
   },
   "outputs": [
    {
     "data": {
      "text/plain": [
       "'Some important text'"
      ]
     },
     "execution_count": 28,
     "metadata": {
      "tags": []
     },
     "output_type": "execute_result"
    }
   ],
   "source": [
    "def strip_html_tags(text):\n",
    "    soup = BeautifulSoup(text, \"html.parser\")\n",
    "    stripped_text = soup.get_text()\n",
    "    return stripped_text\n",
    "\n",
    "strip_html_tags('<html><h2>Some important text</h2></html>')"
   ]
  },
  {
   "cell_type": "markdown",
   "metadata": {
    "id": "W5-kB8FRPYLF"
   },
   "source": [
    "## Remove accented characters"
   ]
  },
  {
   "cell_type": "code",
   "execution_count": null,
   "metadata": {
    "id": "jSbA4FVJPYLF",
    "outputId": "84a693ec-8032-4000-fb18-0568640e3b44"
   },
   "outputs": [
    {
     "data": {
      "text/plain": [
       "'Some Accented text'"
      ]
     },
     "execution_count": 29,
     "metadata": {
      "tags": []
     },
     "output_type": "execute_result"
    }
   ],
   "source": [
    "def remove_accented_chars(text):\n",
    "    text = unicodedata.normalize('NFKD', text).encode('ascii', 'ignore').decode('utf-8', 'ignore')\n",
    "    return text\n",
    "\n",
    "remove_accented_chars('Sómě Áccěntěd těxt')"
   ]
  },
  {
   "cell_type": "markdown",
   "metadata": {
    "id": "ovOYOExBPYLG"
   },
   "source": [
    "## Remove special characters"
   ]
  },
  {
   "cell_type": "code",
   "execution_count": null,
   "metadata": {
    "id": "4H1oxAPfPYLG"
   },
   "outputs": [],
   "source": [
    "def remove_special_characters(text, remove_digits=False):\n",
    "    pattern = r'[^a-zA-z0-9\\s]' if not remove_digits else r'[^a-zA-z\\s]'\n",
    "    text = re.sub(pattern, '', text)\n",
    "    return text"
   ]
  },
  {
   "cell_type": "code",
   "execution_count": null,
   "metadata": {
    "id": "gjBI9CyGPYLG",
    "outputId": "1bb7c61a-87e2-4c0e-c059-466909bfbbf7"
   },
   "outputs": [
    {
     "data": {
      "text/plain": [
       "'Well this was fun What do you think '"
      ]
     },
     "execution_count": 31,
     "metadata": {
      "tags": []
     },
     "output_type": "execute_result"
    }
   ],
   "source": [
    "remove_special_characters(\"Well this was fun! What do you think? 123#@!\", remove_digits=True)"
   ]
  },
  {
   "cell_type": "markdown",
   "metadata": {
    "id": "L6CsW6-aPYLG"
   },
   "source": [
    "## Text lemmatization"
   ]
  },
  {
   "cell_type": "code",
   "execution_count": null,
   "metadata": {
    "id": "hROQJE1UPYLG"
   },
   "outputs": [],
   "source": [
    "def lemmatize_text(text):\n",
    "    text = nlp(text)\n",
    "    text = ' '.join([word.lemma_ if word.lemma_ != '-PRON-' else word.text for word in text])\n",
    "    return text"
   ]
  },
  {
   "cell_type": "code",
   "execution_count": null,
   "metadata": {
    "id": "9s7XqHQUPYLH",
    "outputId": "4bacec09-8c58-449e-bed2-286f37f5c09e"
   },
   "outputs": [
    {
     "data": {
      "text/plain": [
       "'My system keep crash ! his crashed yesterday , ours crash daily'"
      ]
     },
     "execution_count": 33,
     "metadata": {
      "tags": []
     },
     "output_type": "execute_result"
    }
   ],
   "source": [
    "lemmatize_text(\"My system keeps crashing! his crashed yesterday, ours crashes daily\")"
   ]
  },
  {
   "cell_type": "markdown",
   "metadata": {
    "id": "24YusLMbPYLH"
   },
   "source": [
    "## Text stemming"
   ]
  },
  {
   "cell_type": "code",
   "execution_count": null,
   "metadata": {
    "id": "0jqfIXQLPYLH",
    "outputId": "1c831708-b59b-4be6-8e6f-61e7b6e2174b"
   },
   "outputs": [
    {
     "data": {
      "text/plain": [
       "'My system keep crash hi crash yesterday, our crash daili'"
      ]
     },
     "execution_count": 34,
     "metadata": {
      "tags": []
     },
     "output_type": "execute_result"
    }
   ],
   "source": [
    "def simple_stemmer(text):\n",
    "    ps = nltk.porter.PorterStemmer()\n",
    "    text = ' '.join([ps.stem(word) for word in text.split()])\n",
    "    return text\n",
    "\n",
    "simple_stemmer(\"My system keeps crashing his crashed yesterday, ours crashes daily\")"
   ]
  },
  {
   "cell_type": "markdown",
   "metadata": {
    "id": "2SsGCHgLPYLI"
   },
   "source": [
    "## Remove stopwords"
   ]
  },
  {
   "cell_type": "code",
   "execution_count": null,
   "metadata": {
    "id": "VVUcSm_UPYLI",
    "outputId": "46d809ed-6634-4d4a-e75e-d1ae8460fb71"
   },
   "outputs": [
    {
     "data": {
      "text/plain": [
       "', , stopwords , computer not'"
      ]
     },
     "execution_count": 35,
     "metadata": {
      "tags": []
     },
     "output_type": "execute_result"
    }
   ],
   "source": [
    "def remove_stopwords(text, is_lower_case=False):\n",
    "    tokens = tokenizer.tokenize(text)\n",
    "    tokens = [token.strip() for token in tokens]\n",
    "    if is_lower_case:\n",
    "        filtered_tokens = [token for token in tokens if token not in stopword_list]\n",
    "    else:\n",
    "        filtered_tokens = [token for token in tokens if token.lower() not in stopword_list]\n",
    "    filtered_text = ' '.join(filtered_tokens)    \n",
    "    return filtered_text\n",
    "\n",
    "remove_stopwords(\"The, and, if are stopwords, computer is not\")"
   ]
  },
  {
   "cell_type": "markdown",
   "metadata": {
    "id": "YCz0rw5qPYLI"
   },
   "source": [
    "## Building a text normalizer"
   ]
  },
  {
   "cell_type": "code",
   "execution_count": null,
   "metadata": {
    "id": "npE2eF2TPYLJ"
   },
   "outputs": [],
   "source": [
    "def normalize_corpus(corpus, html_stripping=True, contraction_expansion=True,\n",
    "                     accented_char_removal=True, text_lower_case=True, \n",
    "                     text_lemmatization=True, special_char_removal=True, \n",
    "                     stopword_removal=True, remove_digits=True):\n",
    "    \n",
    "    normalized_corpus = []\n",
    "    # normalize each document in the corpus\n",
    "    for doc in corpus:\n",
    "        # strip HTML\n",
    "        if html_stripping:\n",
    "            doc = strip_html_tags(doc)\n",
    "        # remove accented characters\n",
    "        if accented_char_removal:\n",
    "            doc = remove_accented_chars(doc)\n",
    "        # lowercase the text    \n",
    "        if text_lower_case:\n",
    "            doc = doc.lower()\n",
    "        # remove extra newlines\n",
    "        doc = re.sub(r'[\\r|\\n|\\r\\n]+', ' ',doc)\n",
    "        # lemmatize text\n",
    "        if text_lemmatization:\n",
    "            doc = lemmatize_text(doc)\n",
    "        # remove special characters and\\or digits    \n",
    "        if special_char_removal:\n",
    "            # insert spaces between special characters to isolate them    \n",
    "            special_char_pattern = re.compile(r'([{.(-)!}])')\n",
    "            doc = special_char_pattern.sub(\" \\\\1 \", doc)\n",
    "            doc = remove_special_characters(doc, remove_digits=remove_digits)  \n",
    "        # remove extra whitespace\n",
    "        doc = re.sub(' +', ' ', doc)\n",
    "        # remove stopwords\n",
    "        if stopword_removal:\n",
    "            doc = remove_stopwords(doc, is_lower_case=text_lower_case)\n",
    "            \n",
    "        normalized_corpus.append(doc)\n",
    "        \n",
    "    return normalized_corpus"
   ]
  },
  {
   "cell_type": "markdown",
   "metadata": {
    "id": "Nlq-ZxLqPYLK"
   },
   "source": [
    "## Pre-process and normalize news articles"
   ]
  },
  {
   "cell_type": "code",
   "execution_count": null,
   "metadata": {
    "id": "CU1dQVGWPYLL"
   },
   "outputs": [],
   "source": [
    "news_df['full_text'] = news_df[\"news_headline\"].map(str)+ '. ' + news_df[\"news_article\"]"
   ]
  },
  {
   "cell_type": "code",
   "execution_count": null,
   "metadata": {
    "id": "WNkrsAlRPYLM",
    "outputId": "c02a24c8-0245-44ec-f67b-690560ae74a9"
   },
   "outputs": [
    {
     "data": {
      "text/plain": [
       "{'full_text': \"US charges Facebook over racial discrimination in housing ads. The US Department of Housing and Urban Development (HUD) has charged Facebook for violating the Fair Housing Act by encouraging, enabling and causing housing discrimination in advertising on its platforms. HUD is seeking damages for any person harmed by Facebook's advertising systems, which allowed employers and landlords to limit audiences on the basis of race, ethnicity and gender.\",\n",
       " 'clean_text': 'us charge facebook racial discrimination housing ad us department housing urban development hud charge facebook violate fair housing act encourage enable cause housing discrimination advertising platform hud seek damage person harm facebook advertising system allow employer landlord limit audience basis race ethnicity gender'}"
      ]
     },
     "execution_count": 38,
     "metadata": {
      "tags": []
     },
     "output_type": "execute_result"
    }
   ],
   "source": [
    "news_df['clean_text'] = normalize_corpus(news_df['full_text'])\n",
    "norm_corpus = list(news_df['clean_text'])\n",
    "news_df.iloc[1][['full_text', 'clean_text']].to_dict()"
   ]
  },
  {
   "cell_type": "markdown",
   "metadata": {
    "id": "2TCjX2vpPYLM"
   },
   "source": [
    "# Save the news articles"
   ]
  },
  {
   "cell_type": "code",
   "execution_count": null,
   "metadata": {
    "id": "PqfNTUc7PYLN"
   },
   "outputs": [],
   "source": [
    "news_df.to_csv('news.csv', index=False, encoding='utf-8')"
   ]
  },
  {
   "cell_type": "markdown",
   "metadata": {
    "id": "7wWC6vaePYLN"
   },
   "source": [
    "# Tagging Parts of Speech"
   ]
  },
  {
   "cell_type": "code",
   "execution_count": null,
   "metadata": {
    "id": "dB7hLIa_PYLN"
   },
   "outputs": [],
   "source": [
    "news_df = pd.read_csv('news.csv')"
   ]
  },
  {
   "cell_type": "code",
   "execution_count": null,
   "metadata": {
    "id": "Cff5OY4TPYLO"
   },
   "outputs": [],
   "source": [
    "corpus = normalize_corpus(news_df['full_text'], text_lower_case=False, \n",
    "                          text_lemmatization=False, special_char_removal=False)\n",
    "\n",
    "sentence = str(news_df.iloc[1].news_headline)\n",
    "sentence_nlp = nlp(sentence)"
   ]
  },
  {
   "cell_type": "code",
   "execution_count": null,
   "metadata": {
    "id": "knYSspLDPYLO",
    "outputId": "97649694-66e9-4300-d0f9-3889bd28a45e"
   },
   "outputs": [
    {
     "data": {
      "text/html": [
       "<div>\n",
       "<style scoped>\n",
       "    .dataframe tbody tr th:only-of-type {\n",
       "        vertical-align: middle;\n",
       "    }\n",
       "\n",
       "    .dataframe tbody tr th {\n",
       "        vertical-align: top;\n",
       "    }\n",
       "\n",
       "    .dataframe thead th {\n",
       "        text-align: right;\n",
       "    }\n",
       "</style>\n",
       "<table border=\"1\" class=\"dataframe\">\n",
       "  <thead>\n",
       "    <tr style=\"text-align: right;\">\n",
       "      <th></th>\n",
       "      <th>Word</th>\n",
       "      <th>POS tag</th>\n",
       "      <th>Tag type</th>\n",
       "    </tr>\n",
       "  </thead>\n",
       "  <tbody>\n",
       "    <tr>\n",
       "      <th>0</th>\n",
       "      <td>US</td>\n",
       "      <td>NNP</td>\n",
       "      <td>PROPN</td>\n",
       "    </tr>\n",
       "    <tr>\n",
       "      <th>1</th>\n",
       "      <td>charges</td>\n",
       "      <td>VBZ</td>\n",
       "      <td>VERB</td>\n",
       "    </tr>\n",
       "    <tr>\n",
       "      <th>2</th>\n",
       "      <td>Facebook</td>\n",
       "      <td>NNP</td>\n",
       "      <td>PROPN</td>\n",
       "    </tr>\n",
       "    <tr>\n",
       "      <th>3</th>\n",
       "      <td>over</td>\n",
       "      <td>IN</td>\n",
       "      <td>ADP</td>\n",
       "    </tr>\n",
       "    <tr>\n",
       "      <th>4</th>\n",
       "      <td>racial</td>\n",
       "      <td>JJ</td>\n",
       "      <td>ADJ</td>\n",
       "    </tr>\n",
       "    <tr>\n",
       "      <th>5</th>\n",
       "      <td>discrimination</td>\n",
       "      <td>NN</td>\n",
       "      <td>NOUN</td>\n",
       "    </tr>\n",
       "    <tr>\n",
       "      <th>6</th>\n",
       "      <td>in</td>\n",
       "      <td>IN</td>\n",
       "      <td>ADP</td>\n",
       "    </tr>\n",
       "    <tr>\n",
       "      <th>7</th>\n",
       "      <td>housing</td>\n",
       "      <td>NN</td>\n",
       "      <td>NOUN</td>\n",
       "    </tr>\n",
       "    <tr>\n",
       "      <th>8</th>\n",
       "      <td>ads</td>\n",
       "      <td>NNS</td>\n",
       "      <td>NOUN</td>\n",
       "    </tr>\n",
       "  </tbody>\n",
       "</table>\n",
       "</div>"
      ],
      "text/plain": [
       "             Word POS tag Tag type\n",
       "0              US     NNP    PROPN\n",
       "1         charges     VBZ     VERB\n",
       "2        Facebook     NNP    PROPN\n",
       "3            over      IN      ADP\n",
       "4          racial      JJ      ADJ\n",
       "5  discrimination      NN     NOUN\n",
       "6              in      IN      ADP\n",
       "7         housing      NN     NOUN\n",
       "8             ads     NNS     NOUN"
      ]
     },
     "execution_count": 42,
     "metadata": {
      "tags": []
     },
     "output_type": "execute_result"
    }
   ],
   "source": [
    "spacy_pos_tagged = [(word, word.tag_, word.pos_) for word in sentence_nlp]\n",
    "pd.DataFrame(spacy_pos_tagged, columns=['Word', 'POS tag', 'Tag type'])"
   ]
  },
  {
   "cell_type": "code",
   "execution_count": null,
   "metadata": {
    "id": "f08EmXgcPYLP",
    "outputId": "ed551304-511d-4f83-a7e3-924b9e71f057"
   },
   "outputs": [
    {
     "name": "stdout",
     "output_type": "stream",
     "text": [
      "[nltk_data] Downloading package punkt to\n",
      "[nltk_data]     C:\\Users\\Narayana_GLB\\AppData\\Roaming\\nltk_data...\n",
      "[nltk_data]   Package punkt is already up-to-date!\n"
     ]
    },
    {
     "data": {
      "text/plain": [
       "True"
      ]
     },
     "execution_count": 46,
     "metadata": {
      "tags": []
     },
     "output_type": "execute_result"
    }
   ],
   "source": [
    "nltk.download('punkt')"
   ]
  },
  {
   "cell_type": "code",
   "execution_count": null,
   "metadata": {
    "id": "BlVJkrb7PYLQ",
    "outputId": "7a9c13af-f872-4a14-cb68-e7b131403b8f"
   },
   "outputs": [
    {
     "name": "stdout",
     "output_type": "stream",
     "text": [
      "[nltk_data] Downloading package maxent_treebank_pos_tagger to\n",
      "[nltk_data]     C:\\Users\\Narayana_GLB\\AppData\\Roaming\\nltk_data...\n",
      "[nltk_data]   Package maxent_treebank_pos_tagger is already up-to-\n",
      "[nltk_data]       date!\n"
     ]
    },
    {
     "data": {
      "text/plain": [
       "True"
      ]
     },
     "execution_count": 47,
     "metadata": {
      "tags": []
     },
     "output_type": "execute_result"
    }
   ],
   "source": [
    "nltk.download('maxent_treebank_pos_tagger')"
   ]
  },
  {
   "cell_type": "code",
   "execution_count": null,
   "metadata": {
    "id": "rc0_t01GPYLQ",
    "outputId": "29c2d67b-d286-4e3d-b142-98576e0c0a2b"
   },
   "outputs": [
    {
     "name": "stdout",
     "output_type": "stream",
     "text": [
      "[nltk_data] Downloading package averaged_perceptron_tagger to\n",
      "[nltk_data]     C:\\Users\\Narayana_GLB\\AppData\\Roaming\\nltk_data...\n",
      "[nltk_data]   Package averaged_perceptron_tagger is already up-to-\n",
      "[nltk_data]       date!\n"
     ]
    },
    {
     "data": {
      "text/plain": [
       "True"
      ]
     },
     "execution_count": 48,
     "metadata": {
      "tags": []
     },
     "output_type": "execute_result"
    }
   ],
   "source": [
    "nltk.download('averaged_perceptron_tagger')"
   ]
  },
  {
   "cell_type": "code",
   "execution_count": null,
   "metadata": {
    "id": "kpn5bIB5PYLR"
   },
   "outputs": [],
   "source": [
    "nltk_pos_tagged = nltk.pos_tag(sentence.split())"
   ]
  },
  {
   "cell_type": "code",
   "execution_count": null,
   "metadata": {
    "id": "VWs-YhajPYLR",
    "outputId": "06a7001a-518d-4ac3-8a4e-36e499873004"
   },
   "outputs": [
    {
     "data": {
      "text/html": [
       "<div>\n",
       "<style scoped>\n",
       "    .dataframe tbody tr th:only-of-type {\n",
       "        vertical-align: middle;\n",
       "    }\n",
       "\n",
       "    .dataframe tbody tr th {\n",
       "        vertical-align: top;\n",
       "    }\n",
       "\n",
       "    .dataframe thead th {\n",
       "        text-align: right;\n",
       "    }\n",
       "</style>\n",
       "<table border=\"1\" class=\"dataframe\">\n",
       "  <thead>\n",
       "    <tr style=\"text-align: right;\">\n",
       "      <th></th>\n",
       "      <th>Word</th>\n",
       "      <th>POS tag</th>\n",
       "    </tr>\n",
       "  </thead>\n",
       "  <tbody>\n",
       "    <tr>\n",
       "      <th>0</th>\n",
       "      <td>US</td>\n",
       "      <td>NN</td>\n",
       "    </tr>\n",
       "    <tr>\n",
       "      <th>1</th>\n",
       "      <td>charges</td>\n",
       "      <td>NNS</td>\n",
       "    </tr>\n",
       "    <tr>\n",
       "      <th>2</th>\n",
       "      <td>Facebook</td>\n",
       "      <td>NNP</td>\n",
       "    </tr>\n",
       "    <tr>\n",
       "      <th>3</th>\n",
       "      <td>over</td>\n",
       "      <td>IN</td>\n",
       "    </tr>\n",
       "    <tr>\n",
       "      <th>4</th>\n",
       "      <td>racial</td>\n",
       "      <td>JJ</td>\n",
       "    </tr>\n",
       "    <tr>\n",
       "      <th>5</th>\n",
       "      <td>discrimination</td>\n",
       "      <td>NN</td>\n",
       "    </tr>\n",
       "    <tr>\n",
       "      <th>6</th>\n",
       "      <td>in</td>\n",
       "      <td>IN</td>\n",
       "    </tr>\n",
       "    <tr>\n",
       "      <th>7</th>\n",
       "      <td>housing</td>\n",
       "      <td>NN</td>\n",
       "    </tr>\n",
       "    <tr>\n",
       "      <th>8</th>\n",
       "      <td>ads</td>\n",
       "      <td>NNS</td>\n",
       "    </tr>\n",
       "  </tbody>\n",
       "</table>\n",
       "</div>"
      ],
      "text/plain": [
       "             Word POS tag\n",
       "0              US      NN\n",
       "1         charges     NNS\n",
       "2        Facebook     NNP\n",
       "3            over      IN\n",
       "4          racial      JJ\n",
       "5  discrimination      NN\n",
       "6              in      IN\n",
       "7         housing      NN\n",
       "8             ads     NNS"
      ]
     },
     "execution_count": 50,
     "metadata": {
      "tags": []
     },
     "output_type": "execute_result"
    }
   ],
   "source": [
    "pd.DataFrame(nltk_pos_tagged, columns=['Word', 'POS tag'])"
   ]
  },
  {
   "cell_type": "markdown",
   "metadata": {
    "id": "wrKbQwrCPYLS"
   },
   "source": [
    "# Named Entity Recognition"
   ]
  },
  {
   "cell_type": "code",
   "execution_count": null,
   "metadata": {
    "id": "ebvblkiiPYLS"
   },
   "outputs": [],
   "source": [
    "sentence = str(news_df.iloc[1].full_text)"
   ]
  },
  {
   "cell_type": "code",
   "execution_count": null,
   "metadata": {
    "id": "yU0mfse3PYLT",
    "outputId": "359f8002-bde4-4367-aa68-7a46efa3d101"
   },
   "outputs": [
    {
     "data": {
      "text/plain": [
       "\"US charges Facebook over racial discrimination in housing ads. The US Department of Housing and Urban Development (HUD) has charged Facebook for violating the Fair Housing Act by encouraging, enabling and causing housing discrimination in advertising on its platforms. HUD is seeking damages for any person harmed by Facebook's advertising systems, which allowed employers and landlords to limit audiences on the basis of race, ethnicity and gender.\""
      ]
     },
     "execution_count": 63,
     "metadata": {
      "tags": []
     },
     "output_type": "execute_result"
    }
   ],
   "source": [
    "sentence"
   ]
  },
  {
   "cell_type": "code",
   "execution_count": null,
   "metadata": {
    "id": "ossfC9dKPYLT"
   },
   "outputs": [],
   "source": [
    "sentence_nlp = nlp(sentence)"
   ]
  },
  {
   "cell_type": "code",
   "execution_count": null,
   "metadata": {
    "id": "N5GIgax9PYLT",
    "outputId": "d64a23f8-8c14-47d2-9352-0ba7148b6745"
   },
   "outputs": [
    {
     "data": {
      "text/plain": [
       "US charges Facebook over racial discrimination in housing ads. The US Department of Housing and Urban Development (HUD) has charged Facebook for violating the Fair Housing Act by encouraging, enabling and causing housing discrimination in advertising on its platforms. HUD is seeking damages for any person harmed by Facebook's advertising systems, which allowed employers and landlords to limit audiences on the basis of race, ethnicity and gender."
      ]
     },
     "execution_count": 68,
     "metadata": {
      "tags": []
     },
     "output_type": "execute_result"
    }
   ],
   "source": [
    "sentence_nlp"
   ]
  },
  {
   "cell_type": "code",
   "execution_count": null,
   "metadata": {
    "id": "HOKFeWcXPYLU",
    "outputId": "cb7adfe5-b7f9-4874-b8f5-8043b2bcb41d"
   },
   "outputs": [
    {
     "name": "stdout",
     "output_type": "stream",
     "text": [
      "[(US, 'GPE'), (The, 'ORG'), (US, 'ORG'), (Department, 'ORG'), (of, 'ORG'), (Housing, 'ORG'), (and, 'ORG'), (Urban, 'ORG'), (Development, 'ORG'), (HUD, 'ORG'), (the, 'LAW'), (Fair, 'LAW'), (Housing, 'LAW'), (Act, 'LAW'), (HUD, 'ORG'), (Facebook, 'PERSON')]\n"
     ]
    }
   ],
   "source": [
    "print([(word, word.ent_type_) for word in sentence_nlp if word.ent_type_])"
   ]
  },
  {
   "cell_type": "code",
   "execution_count": null,
   "metadata": {
    "id": "FFpxJkd_PYLU"
   },
   "outputs": [],
   "source": [
    "named_entities = []\n",
    "for sentence in corpus:\n",
    "    temp_entity_name = ''\n",
    "    temp_named_entity = None\n",
    "    sentence = nlp(sentence)\n",
    "    for word in sentence:\n",
    "        term = word.text \n",
    "        tag = word.ent_type_\n",
    "        if tag:\n",
    "            temp_entity_name = ' '.join([temp_entity_name, term]).strip()\n",
    "            temp_named_entity = (temp_entity_name, tag)\n",
    "        else:\n",
    "            if temp_named_entity:\n",
    "                named_entities.append(temp_named_entity)\n",
    "                temp_entity_name = ''\n",
    "                temp_named_entity = None\n",
    "\n",
    "entity_frame = pd.DataFrame(named_entities, \n",
    "                            columns=['Entity Name', 'Entity Type'])"
   ]
  },
  {
   "cell_type": "code",
   "execution_count": null,
   "metadata": {
    "id": "gmEBrBDaPYLV",
    "outputId": "884342d3-d6a9-4eef-b8eb-b44111a07d4d"
   },
   "outputs": [
    {
     "data": {
      "text/html": [
       "<div>\n",
       "<style scoped>\n",
       "    .dataframe tbody tr th:only-of-type {\n",
       "        vertical-align: middle;\n",
       "    }\n",
       "\n",
       "    .dataframe tbody tr th {\n",
       "        vertical-align: top;\n",
       "    }\n",
       "\n",
       "    .dataframe thead th {\n",
       "        text-align: right;\n",
       "    }\n",
       "</style>\n",
       "<table border=\"1\" class=\"dataframe\">\n",
       "  <thead>\n",
       "    <tr style=\"text-align: right;\">\n",
       "      <th></th>\n",
       "      <th>0</th>\n",
       "      <th>1</th>\n",
       "      <th>2</th>\n",
       "      <th>3</th>\n",
       "      <th>4</th>\n",
       "      <th>5</th>\n",
       "      <th>6</th>\n",
       "      <th>7</th>\n",
       "      <th>8</th>\n",
       "      <th>9</th>\n",
       "      <th>10</th>\n",
       "      <th>11</th>\n",
       "      <th>12</th>\n",
       "      <th>13</th>\n",
       "      <th>14</th>\n",
       "    </tr>\n",
       "  </thead>\n",
       "  <tbody>\n",
       "    <tr>\n",
       "      <th>Entity Name</th>\n",
       "      <td>US</td>\n",
       "      <td>Google</td>\n",
       "      <td>China</td>\n",
       "      <td>India</td>\n",
       "      <td>Trump</td>\n",
       "      <td>Pakistan</td>\n",
       "      <td>Apple</td>\n",
       "      <td>first</td>\n",
       "      <td>KXIP</td>\n",
       "      <td>two</td>\n",
       "      <td>six</td>\n",
       "      <td>KKR</td>\n",
       "      <td>IPL</td>\n",
       "      <td>Afghanistan</td>\n",
       "      <td>Pichai</td>\n",
       "    </tr>\n",
       "    <tr>\n",
       "      <th>Entity Type</th>\n",
       "      <td>GPE</td>\n",
       "      <td>ORG</td>\n",
       "      <td>GPE</td>\n",
       "      <td>GPE</td>\n",
       "      <td>ORG</td>\n",
       "      <td>GPE</td>\n",
       "      <td>ORG</td>\n",
       "      <td>ORDINAL</td>\n",
       "      <td>ORG</td>\n",
       "      <td>CARDINAL</td>\n",
       "      <td>CARDINAL</td>\n",
       "      <td>ORG</td>\n",
       "      <td>ORG</td>\n",
       "      <td>GPE</td>\n",
       "      <td>GPE</td>\n",
       "    </tr>\n",
       "    <tr>\n",
       "      <th>Frequency</th>\n",
       "      <td>36</td>\n",
       "      <td>17</td>\n",
       "      <td>15</td>\n",
       "      <td>15</td>\n",
       "      <td>9</td>\n",
       "      <td>8</td>\n",
       "      <td>8</td>\n",
       "      <td>8</td>\n",
       "      <td>8</td>\n",
       "      <td>8</td>\n",
       "      <td>7</td>\n",
       "      <td>7</td>\n",
       "      <td>7</td>\n",
       "      <td>6</td>\n",
       "      <td>6</td>\n",
       "    </tr>\n",
       "  </tbody>\n",
       "</table>\n",
       "</div>"
      ],
      "text/plain": [
       "              0       1      2      3      4         5      6        7     8   \\\n",
       "Entity Name   US  Google  China  India  Trump  Pakistan  Apple    first  KXIP   \n",
       "Entity Type  GPE     ORG    GPE    GPE    ORG       GPE    ORG  ORDINAL   ORG   \n",
       "Frequency     36      17     15     15      9         8      8        8     8   \n",
       "\n",
       "                   9         10   11   12           13      14  \n",
       "Entity Name       two       six  KKR  IPL  Afghanistan  Pichai  \n",
       "Entity Type  CARDINAL  CARDINAL  ORG  ORG          GPE     GPE  \n",
       "Frequency           8         7    7    7            6       6  "
      ]
     },
     "execution_count": 72,
     "metadata": {
      "tags": []
     },
     "output_type": "execute_result"
    }
   ],
   "source": [
    "top_entities = (entity_frame.groupby(by=['Entity Name', 'Entity Type'])\n",
    "                           .size()\n",
    "                           .sort_values(ascending=False)\n",
    "                           .reset_index().rename(columns={0 : 'Frequency'}))\n",
    "top_entities.T.iloc[:,:15]"
   ]
  },
  {
   "cell_type": "code",
   "execution_count": null,
   "metadata": {
    "id": "8XI2QI-iPYLV",
    "outputId": "a3e27d9f-0762-49d0-c530-81588374b22d"
   },
   "outputs": [
    {
     "data": {
      "text/html": [
       "<div>\n",
       "<style scoped>\n",
       "    .dataframe tbody tr th:only-of-type {\n",
       "        vertical-align: middle;\n",
       "    }\n",
       "\n",
       "    .dataframe tbody tr th {\n",
       "        vertical-align: top;\n",
       "    }\n",
       "\n",
       "    .dataframe thead th {\n",
       "        text-align: right;\n",
       "    }\n",
       "</style>\n",
       "<table border=\"1\" class=\"dataframe\">\n",
       "  <thead>\n",
       "    <tr style=\"text-align: right;\">\n",
       "      <th></th>\n",
       "      <th>0</th>\n",
       "      <th>1</th>\n",
       "      <th>2</th>\n",
       "      <th>3</th>\n",
       "      <th>4</th>\n",
       "      <th>5</th>\n",
       "      <th>6</th>\n",
       "      <th>7</th>\n",
       "      <th>8</th>\n",
       "      <th>9</th>\n",
       "      <th>10</th>\n",
       "      <th>11</th>\n",
       "      <th>12</th>\n",
       "      <th>13</th>\n",
       "      <th>14</th>\n",
       "    </tr>\n",
       "  </thead>\n",
       "  <tbody>\n",
       "    <tr>\n",
       "      <th>Entity Type</th>\n",
       "      <td>ORG</td>\n",
       "      <td>PERSON</td>\n",
       "      <td>GPE</td>\n",
       "      <td>CARDINAL</td>\n",
       "      <td>DATE</td>\n",
       "      <td>NORP</td>\n",
       "      <td>ORDINAL</td>\n",
       "      <td>LOC</td>\n",
       "      <td>MONEY</td>\n",
       "      <td>PRODUCT</td>\n",
       "      <td>WORK_OF_ART</td>\n",
       "      <td>LAW</td>\n",
       "      <td>TIME</td>\n",
       "      <td>PERCENT</td>\n",
       "      <td>FAC</td>\n",
       "    </tr>\n",
       "    <tr>\n",
       "      <th>Frequency</th>\n",
       "      <td>214</td>\n",
       "      <td>153</td>\n",
       "      <td>137</td>\n",
       "      <td>82</td>\n",
       "      <td>65</td>\n",
       "      <td>44</td>\n",
       "      <td>21</td>\n",
       "      <td>13</td>\n",
       "      <td>8</td>\n",
       "      <td>7</td>\n",
       "      <td>4</td>\n",
       "      <td>2</td>\n",
       "      <td>1</td>\n",
       "      <td>1</td>\n",
       "      <td>1</td>\n",
       "    </tr>\n",
       "  </tbody>\n",
       "</table>\n",
       "</div>"
      ],
      "text/plain": [
       "              0       1    2         3     4     5        6    7      8   \\\n",
       "Entity Type  ORG  PERSON  GPE  CARDINAL  DATE  NORP  ORDINAL  LOC  MONEY   \n",
       "Frequency    214     153  137        82    65    44       21   13      8   \n",
       "\n",
       "                  9            10   11    12       13   14  \n",
       "Entity Type  PRODUCT  WORK_OF_ART  LAW  TIME  PERCENT  FAC  \n",
       "Frequency          7            4    2     1        1    1  "
      ]
     },
     "execution_count": 73,
     "metadata": {
      "tags": []
     },
     "output_type": "execute_result"
    }
   ],
   "source": [
    "top_entities = (entity_frame.groupby(by=['Entity Type'])\n",
    "                           .size()\n",
    "                           .sort_values(ascending=False)\n",
    "                           .reset_index().rename(columns={0 : 'Frequency'}))\n",
    "top_entities.T.iloc[:,:15]"
   ]
  },
  {
   "cell_type": "markdown",
   "metadata": {
    "id": "TkYL18YhPYLW"
   },
   "source": [
    "# Emotion and Sentiment Analysis"
   ]
  },
  {
   "cell_type": "code",
   "execution_count": null,
   "metadata": {
    "id": "pcD64nWaPYLW"
   },
   "outputs": [],
   "source": [
    "from afinn import Afinn"
   ]
  },
  {
   "cell_type": "code",
   "execution_count": null,
   "metadata": {
    "id": "mK0qItTkPYLX"
   },
   "outputs": [],
   "source": [
    "af = Afinn()"
   ]
  },
  {
   "cell_type": "code",
   "execution_count": null,
   "metadata": {
    "id": "ijVaCL2APYLX"
   },
   "outputs": [],
   "source": [
    "sentiment_scores = [af.score(article) for article in corpus]"
   ]
  },
  {
   "cell_type": "code",
   "execution_count": null,
   "metadata": {
    "id": "WjFdGI9fPYLX"
   },
   "outputs": [],
   "source": [
    "sentiment_category = ['positive' if score > 0 \n",
    "                          else 'negative' if score < 0 \n",
    "                              else 'neutral' \n",
    "                                  for score in sentiment_scores]"
   ]
  },
  {
   "cell_type": "code",
   "execution_count": null,
   "metadata": {
    "id": "ct2_s-CrPYLY"
   },
   "outputs": [],
   "source": [
    "df = pd.DataFrame([list(news_df['news_category']), sentiment_scores, sentiment_category]).T"
   ]
  },
  {
   "cell_type": "code",
   "execution_count": null,
   "metadata": {
    "id": "12Ntxol4PYLY"
   },
   "outputs": [],
   "source": [
    "df.columns = ['news_category', 'sentiment_score', 'sentiment_category']"
   ]
  },
  {
   "cell_type": "code",
   "execution_count": null,
   "metadata": {
    "id": "-kj5TaNhPYLZ"
   },
   "outputs": [],
   "source": [
    "df['sentiment_score'] = df.sentiment_score.astype('float')"
   ]
  },
  {
   "cell_type": "code",
   "execution_count": null,
   "metadata": {
    "id": "GeofMqmwPYLZ",
    "outputId": "5d4cb497-f468-47c4-f4c4-29c45f6e47ed"
   },
   "outputs": [
    {
     "data": {
      "text/html": [
       "<div>\n",
       "<style scoped>\n",
       "    .dataframe tbody tr th:only-of-type {\n",
       "        vertical-align: middle;\n",
       "    }\n",
       "\n",
       "    .dataframe tbody tr th {\n",
       "        vertical-align: top;\n",
       "    }\n",
       "\n",
       "    .dataframe thead tr th {\n",
       "        text-align: left;\n",
       "    }\n",
       "\n",
       "    .dataframe thead tr:last-of-type th {\n",
       "        text-align: right;\n",
       "    }\n",
       "</style>\n",
       "<table border=\"1\" class=\"dataframe\">\n",
       "  <thead>\n",
       "    <tr>\n",
       "      <th></th>\n",
       "      <th colspan=\"8\" halign=\"left\">sentiment_score</th>\n",
       "    </tr>\n",
       "    <tr>\n",
       "      <th></th>\n",
       "      <th>count</th>\n",
       "      <th>mean</th>\n",
       "      <th>std</th>\n",
       "      <th>min</th>\n",
       "      <th>25%</th>\n",
       "      <th>50%</th>\n",
       "      <th>75%</th>\n",
       "      <th>max</th>\n",
       "    </tr>\n",
       "    <tr>\n",
       "      <th>news_category</th>\n",
       "      <th></th>\n",
       "      <th></th>\n",
       "      <th></th>\n",
       "      <th></th>\n",
       "      <th></th>\n",
       "      <th></th>\n",
       "      <th></th>\n",
       "      <th></th>\n",
       "    </tr>\n",
       "  </thead>\n",
       "  <tbody>\n",
       "    <tr>\n",
       "      <th>sports</th>\n",
       "      <td>24.0</td>\n",
       "      <td>2.416667</td>\n",
       "      <td>5.800425</td>\n",
       "      <td>-10.0</td>\n",
       "      <td>-1.25</td>\n",
       "      <td>2.5</td>\n",
       "      <td>5.25</td>\n",
       "      <td>12.0</td>\n",
       "    </tr>\n",
       "    <tr>\n",
       "      <th>technology</th>\n",
       "      <td>25.0</td>\n",
       "      <td>-0.280000</td>\n",
       "      <td>6.400000</td>\n",
       "      <td>-10.0</td>\n",
       "      <td>-5.00</td>\n",
       "      <td>0.0</td>\n",
       "      <td>4.00</td>\n",
       "      <td>14.0</td>\n",
       "    </tr>\n",
       "    <tr>\n",
       "      <th>world</th>\n",
       "      <td>25.0</td>\n",
       "      <td>-1.920000</td>\n",
       "      <td>5.801724</td>\n",
       "      <td>-17.0</td>\n",
       "      <td>-5.00</td>\n",
       "      <td>0.0</td>\n",
       "      <td>2.00</td>\n",
       "      <td>6.0</td>\n",
       "    </tr>\n",
       "  </tbody>\n",
       "</table>\n",
       "</div>"
      ],
      "text/plain": [
       "              sentiment_score                                                 \n",
       "                        count      mean       std   min   25%  50%   75%   max\n",
       "news_category                                                                 \n",
       "sports                   24.0  2.416667  5.800425 -10.0 -1.25  2.5  5.25  12.0\n",
       "technology               25.0 -0.280000  6.400000 -10.0 -5.00  0.0  4.00  14.0\n",
       "world                    25.0 -1.920000  5.801724 -17.0 -5.00  0.0  2.00   6.0"
      ]
     },
     "execution_count": 81,
     "metadata": {
      "tags": []
     },
     "output_type": "execute_result"
    }
   ],
   "source": [
    "df.groupby(by=['news_category']).describe()"
   ]
  },
  {
   "cell_type": "code",
   "execution_count": null,
   "metadata": {
    "id": "dbewuqPEPYLZ",
    "outputId": "aeb4a058-11c5-453d-d55f-2d8c356eed4a"
   },
   "outputs": [
    {
     "data": {
      "image/png": "[encoded data removed]",
      "text/plain": [
       "<Figure size 1008x288 with 2 Axes>"
      ]
     },
     "metadata": {
      "needs_background": "light",
      "tags": []
     },
     "output_type": "display_data"
    }
   ],
   "source": [
    "f, (ax1, ax2) = plt.subplots(1, 2, figsize=(14, 4))\n",
    "sp = sns.stripplot(x='news_category', y=\"sentiment_score\",  hue='news_category', data=df, ax=ax1)\n",
    "bp = sns.boxplot(x='news_category', y=\"sentiment_score\", hue='news_category', data=df, palette=\"Set2\", ax=ax2)\n",
    "t = f.suptitle('Visualizing News Sentiment', fontsize=14)"
   ]
  },
  {
   "cell_type": "code",
   "execution_count": null,
   "metadata": {
    "id": "rVCsOcufPYLa",
    "outputId": "057f361e-a078-4ca4-e922-493e33d87a2d"
   },
   "outputs": [
    {
     "name": "stderr",
     "output_type": "stream",
     "text": [
      "C:\\ProgramData\\Anaconda3\\lib\\site-packages\\seaborn\\categorical.py:3666: UserWarning: The `factorplot` function has been renamed to `catplot`. The original name will be removed in a future release. Please update your code. Note that the default `kind` in `factorplot` (`'point'`) has changed `'strip'` in `catplot`.\n",
      "  warnings.warn(msg)\n"
     ]
    },
    {
     "data": {
      "image/png": "[encoded data removed]",
      "text/plain": [
       "<Figure size 467.5x360 with 1 Axes>"
      ]
     },
     "metadata": {
      "needs_background": "light",
      "tags": []
     },
     "output_type": "display_data"
    }
   ],
   "source": [
    "fc = sns.factorplot(x=\"news_category\", hue=\"sentiment_category\", \n",
    "                    data=df, kind=\"count\", \n",
    "                    palette={\"negative\": \"#FE2020\", \n",
    "                             \"positive\": \"#BADD07\", \n",
    "                             \"neutral\": \"#68BFF5\"})"
   ]
  },
  {
   "cell_type": "code",
   "execution_count": null,
   "metadata": {
    "id": "1CBSw6u6PYLa"
   },
   "outputs": [],
   "source": [
    "pos_idx = df[(df.news_category=='technology') & (df.sentiment_score == 2)].index[0]"
   ]
  },
  {
   "cell_type": "code",
   "execution_count": null,
   "metadata": {
    "id": "7C7v1uOLPYLb"
   },
   "outputs": [],
   "source": [
    "neg_idx = df[(df.news_category=='technology') & (df.sentiment_score == -2)].index[0]"
   ]
  },
  {
   "cell_type": "code",
   "execution_count": null,
   "metadata": {
    "id": "PqS3_XUBPYLb",
    "outputId": "2808c4d0-e163-4771-c245-e0641b067e7c"
   },
   "outputs": [
    {
     "name": "stdout",
     "output_type": "stream",
     "text": [
      "Most Negative Tech News Article: Elon Musk-led Tesla said it has built Asia's largest energy storage system at Osaka train station in Japan. The 7 MWh system with 42 Powerpack battery units can provide energy to move a train and its passengers for up to 30 minutes to the nearest station during a power failure, Tesla said, adding its hardware was installed in two days.\n",
      "\n",
      "Most Positive Tech News Article: Facebook is introducing a new feature, 'Candidate Connect', to let 2019 Lok Sabha election candidates make 20-second videos to connect with voters. In the videos, to be grouped by constituencies, candidates will answer a set of questions, which Facebook said are outcomes of local consumer research. The videos will appear at the top of a user's 'News Feed'.\n"
     ]
    }
   ],
   "source": [
    "print('Most Negative Tech News Article:', news_df.iloc[neg_idx][['news_article']][0])\n",
    "print()\n",
    "print('Most Positive Tech News Article:', news_df.iloc[pos_idx][['news_article']][0])"
   ]
  },
  {
   "cell_type": "code",
   "execution_count": null,
   "metadata": {
    "id": "7ltDSDo3PYLb",
    "outputId": "ec38e873-d62d-427a-e5b1-a55b89c241df"
   },
   "outputs": [
    {
     "data": {
      "text/plain": [
       "array([ -4.,   4.,  -8.,   1.,   6.,  -3.,   0., -12.,   5.,   2.,  -5.,\n",
       "       -17.,  -6.])"
      ]
     },
     "execution_count": 100,
     "metadata": {
      "tags": []
     },
     "output_type": "execute_result"
    }
   ],
   "source": [
    "df1 = df[df.news_category=='world']\n",
    "pd.unique(df1.sentiment_score)"
   ]
  },
  {
   "cell_type": "code",
   "execution_count": null,
   "metadata": {
    "id": "b7yRRhVBPYLb",
    "outputId": "8c5d136f-66a0-473e-f7a1-1c9ef20f78ce"
   },
   "outputs": [
    {
     "name": "stdout",
     "output_type": "stream",
     "text": [
      "Most Negative World News Article: Pakistan has said it has examined the 22 pin locations of alleged training camps shared by India and said no such camps exist. \"Pakistan is willing to allow visits, on request, to these locations,\" the statement added. It also stated that 54 people are being probed in connection with the Pulwama attack, but no link has been found so far.\n",
      "\n",
      "Most Positive World News Article: The US Ambassador to Afghanistan, John R Bass, has criticised Pakistan PM Imran Khan over his comments suggesting Afghanistan should set up an interim government to facilitate US-Taliban talks. \"Some aspects of cricket apply well in diplomacy, some do not. [It's] important to resist the temptation to ball-tamper with the Afghanistan peace process and its internal affairs,\" Bass tweeted.\n"
     ]
    }
   ],
   "source": [
    "pos_idx = df[(df.news_category=='world') & (df.sentiment_score == 4)].index[0]\n",
    "neg_idx = df[(df.news_category=='world') & (df.sentiment_score == -4.)].index[0]\n",
    "\n",
    "print('Most Negative World News Article:', news_df.iloc[neg_idx][['news_article']][0])\n",
    "print()\n",
    "print('Most Positive World News Article:', news_df.iloc[pos_idx][['news_article']][0])"
   ]
  },
  {
   "cell_type": "code",
   "execution_count": null,
   "metadata": {
    "id": "6mtuWDLfPYLc"
   },
   "outputs": [],
   "source": [
    "from textblob import TextBlob"
   ]
  },
  {
   "cell_type": "code",
   "execution_count": null,
   "metadata": {
    "id": "ghDoj7aNPYLc"
   },
   "outputs": [],
   "source": [
    "sentiment_scores_tb = [round(TextBlob(article).sentiment.polarity, 3) for article in news_df['clean_text']]"
   ]
  },
  {
   "cell_type": "code",
   "execution_count": null,
   "metadata": {
    "id": "MqNktuadPYLc"
   },
   "outputs": [],
   "source": [
    "sentiment_category_tb = ['positive' if score > 0 \n",
    "                             else 'negative' if score < 0 \n",
    "                                 else 'neutral' \n",
    "                                     for score in sentiment_scores_tb]"
   ]
  },
  {
   "cell_type": "code",
   "execution_count": null,
   "metadata": {
    "id": "-475pMIAPYLc",
    "outputId": "a8561f7e-feac-4d6b-fb9d-2d16ad9291d7"
   },
   "outputs": [
    {
     "data": {
      "text/html": [
       "<div>\n",
       "<style scoped>\n",
       "    .dataframe tbody tr th:only-of-type {\n",
       "        vertical-align: middle;\n",
       "    }\n",
       "\n",
       "    .dataframe tbody tr th {\n",
       "        vertical-align: top;\n",
       "    }\n",
       "\n",
       "    .dataframe thead tr th {\n",
       "        text-align: left;\n",
       "    }\n",
       "\n",
       "    .dataframe thead tr:last-of-type th {\n",
       "        text-align: right;\n",
       "    }\n",
       "</style>\n",
       "<table border=\"1\" class=\"dataframe\">\n",
       "  <thead>\n",
       "    <tr>\n",
       "      <th></th>\n",
       "      <th colspan=\"8\" halign=\"left\">sentiment_score</th>\n",
       "    </tr>\n",
       "    <tr>\n",
       "      <th></th>\n",
       "      <th>count</th>\n",
       "      <th>mean</th>\n",
       "      <th>std</th>\n",
       "      <th>min</th>\n",
       "      <th>25%</th>\n",
       "      <th>50%</th>\n",
       "      <th>75%</th>\n",
       "      <th>max</th>\n",
       "    </tr>\n",
       "    <tr>\n",
       "      <th>news_category</th>\n",
       "      <th></th>\n",
       "      <th></th>\n",
       "      <th></th>\n",
       "      <th></th>\n",
       "      <th></th>\n",
       "      <th></th>\n",
       "      <th></th>\n",
       "      <th></th>\n",
       "    </tr>\n",
       "  </thead>\n",
       "  <tbody>\n",
       "    <tr>\n",
       "      <th>sports</th>\n",
       "      <td>24.0</td>\n",
       "      <td>0.109833</td>\n",
       "      <td>0.264403</td>\n",
       "      <td>-0.60</td>\n",
       "      <td>0.037</td>\n",
       "      <td>0.100</td>\n",
       "      <td>0.2525</td>\n",
       "      <td>0.767</td>\n",
       "    </tr>\n",
       "    <tr>\n",
       "      <th>technology</th>\n",
       "      <td>25.0</td>\n",
       "      <td>0.079640</td>\n",
       "      <td>0.160765</td>\n",
       "      <td>-0.25</td>\n",
       "      <td>-0.019</td>\n",
       "      <td>0.067</td>\n",
       "      <td>0.1500</td>\n",
       "      <td>0.533</td>\n",
       "    </tr>\n",
       "    <tr>\n",
       "      <th>world</th>\n",
       "      <td>25.0</td>\n",
       "      <td>0.010960</td>\n",
       "      <td>0.199371</td>\n",
       "      <td>-0.80</td>\n",
       "      <td>-0.044</td>\n",
       "      <td>0.050</td>\n",
       "      <td>0.0830</td>\n",
       "      <td>0.350</td>\n",
       "    </tr>\n",
       "  </tbody>\n",
       "</table>\n",
       "</div>"
      ],
      "text/plain": [
       "              sentiment_score                                                  \\\n",
       "                        count      mean       std   min    25%    50%     75%   \n",
       "news_category                                                                   \n",
       "sports                   24.0  0.109833  0.264403 -0.60  0.037  0.100  0.2525   \n",
       "technology               25.0  0.079640  0.160765 -0.25 -0.019  0.067  0.1500   \n",
       "world                    25.0  0.010960  0.199371 -0.80 -0.044  0.050  0.0830   \n",
       "\n",
       "                      \n",
       "                 max  \n",
       "news_category         \n",
       "sports         0.767  \n",
       "technology     0.533  \n",
       "world          0.350  "
      ]
     },
     "execution_count": 105,
     "metadata": {
      "tags": []
     },
     "output_type": "execute_result"
    }
   ],
   "source": [
    "df = pd.DataFrame([list(news_df['news_category']), sentiment_scores_tb, sentiment_category_tb]).T\n",
    "df.columns = ['news_category', 'sentiment_score', 'sentiment_category']\n",
    "df['sentiment_score'] = df.sentiment_score.astype('float')\n",
    "df.groupby(by=['news_category']).describe()"
   ]
  },
  {
   "cell_type": "code",
   "execution_count": null,
   "metadata": {
    "id": "4tueRVdSPYLd",
    "outputId": "7e15b9fa-11bc-41d3-edef-1546093ff7e9"
   },
   "outputs": [
    {
     "data": {
      "text/html": [
       "<div>\n",
       "<style scoped>\n",
       "    .dataframe tbody tr th:only-of-type {\n",
       "        vertical-align: middle;\n",
       "    }\n",
       "\n",
       "    .dataframe tbody tr th {\n",
       "        vertical-align: top;\n",
       "    }\n",
       "\n",
       "    .dataframe thead th {\n",
       "        text-align: right;\n",
       "    }\n",
       "</style>\n",
       "<table border=\"1\" class=\"dataframe\">\n",
       "  <thead>\n",
       "    <tr style=\"text-align: right;\">\n",
       "      <th></th>\n",
       "      <th>news_category</th>\n",
       "      <th>sentiment_score</th>\n",
       "      <th>sentiment_category</th>\n",
       "    </tr>\n",
       "  </thead>\n",
       "  <tbody>\n",
       "    <tr>\n",
       "      <th>0</th>\n",
       "      <td>technology</td>\n",
       "      <td>0.069</td>\n",
       "      <td>positive</td>\n",
       "    </tr>\n",
       "    <tr>\n",
       "      <th>1</th>\n",
       "      <td>technology</td>\n",
       "      <td>0.533</td>\n",
       "      <td>positive</td>\n",
       "    </tr>\n",
       "    <tr>\n",
       "      <th>2</th>\n",
       "      <td>technology</td>\n",
       "      <td>-0.040</td>\n",
       "      <td>negative</td>\n",
       "    </tr>\n",
       "    <tr>\n",
       "      <th>3</th>\n",
       "      <td>technology</td>\n",
       "      <td>-0.025</td>\n",
       "      <td>negative</td>\n",
       "    </tr>\n",
       "    <tr>\n",
       "      <th>4</th>\n",
       "      <td>technology</td>\n",
       "      <td>0.053</td>\n",
       "      <td>positive</td>\n",
       "    </tr>\n",
       "  </tbody>\n",
       "</table>\n",
       "</div>"
      ],
      "text/plain": [
       "  news_category  sentiment_score sentiment_category\n",
       "0    technology            0.069           positive\n",
       "1    technology            0.533           positive\n",
       "2    technology           -0.040           negative\n",
       "3    technology           -0.025           negative\n",
       "4    technology            0.053           positive"
      ]
     },
     "execution_count": 106,
     "metadata": {
      "tags": []
     },
     "output_type": "execute_result"
    }
   ],
   "source": [
    "df.head()"
   ]
  },
  {
   "cell_type": "code",
   "execution_count": null,
   "metadata": {
    "id": "qPwfGcIwPYLd",
    "outputId": "02b00dee-9699-47f4-def4-1fce37c8478a"
   },
   "outputs": [
    {
     "name": "stderr",
     "output_type": "stream",
     "text": [
      "C:\\ProgramData\\Anaconda3\\lib\\site-packages\\seaborn\\categorical.py:3666: UserWarning: The `factorplot` function has been renamed to `catplot`. The original name will be removed in a future release. Please update your code. Note that the default `kind` in `factorplot` (`'point'`) has changed `'strip'` in `catplot`.\n",
      "  warnings.warn(msg)\n"
     ]
    },
    {
     "data": {
      "image/png": "[encoded data removed]",
      "text/plain": [
       "<Figure size 467.5x360 with 1 Axes>"
      ]
     },
     "metadata": {
      "needs_background": "light",
      "tags": []
     },
     "output_type": "display_data"
    }
   ],
   "source": [
    "fc = sns.factorplot(x=\"news_category\", hue=\"sentiment_category\", \n",
    "                    data=df, kind=\"count\", \n",
    "                    palette={\"negative\": \"#FE2020\", \n",
    "                             \"positive\": \"#BADD07\", \n",
    "                             \"neutral\": \"#68BFF5\"})"
   ]
  },
  {
   "cell_type": "code",
   "execution_count": null,
   "metadata": {
    "id": "1nk3TDtLPYLe",
    "outputId": "4e8ea480-4a2c-4f5d-9de4-7f1031a5487c"
   },
   "outputs": [
    {
     "name": "stdout",
     "output_type": "stream",
     "text": [
      "Most Negative World News Article: The US Ambassador to Afghanistan, John R Bass, has criticised Pakistan PM Imran Khan over his comments suggesting Afghanistan should set up an interim government to facilitate US-Taliban talks. \"Some aspects of cricket apply well in diplomacy, some do not. [It's] important to resist the temptation to ball-tamper with the Afghanistan peace process and its internal affairs,\" Bass tweeted.\n",
      "\n",
      "Most Positive World News Article: Pakistan has said it has examined the 22 pin locations of alleged training camps shared by India and said no such camps exist. \"Pakistan is willing to allow visits, on request, to these locations,\" the statement added. It also stated that 54 people are being probed in connection with the Pulwama attack, but no link has been found so far.\n"
     ]
    }
   ],
   "source": [
    "pos_idx = df[(df.news_category=='world') & (df.sentiment_score > 0.)].index[0]\n",
    "neg_idx = df[(df.news_category=='world') & (df.sentiment_score < -0.)].index[0]\n",
    "\n",
    "print('Most Negative World News Article:', news_df.iloc[neg_idx][['news_article']][0])\n",
    "print()\n",
    "print('Most Positive World News Article:', news_df.iloc[pos_idx][['news_article']][0])"
   ]
  },
  {
   "cell_type": "code",
   "execution_count": null,
   "metadata": {
    "id": "qGgUm2opPYLe",
    "outputId": "e875d51b-6251-430e-e0e6-d6c34eaa1660"
   },
   "outputs": [
    {
     "name": "stderr",
     "output_type": "stream",
     "text": [
      "D:\\courses\\PGPAIML\\statisticalNLP\\aimlBlrSept2018\\model_evaluation_utils.py:76: FutureWarning: the 'labels' keyword is deprecated, use 'codes' instead\n",
      "  labels=level_labels),\n",
      "D:\\courses\\PGPAIML\\statisticalNLP\\aimlBlrSept2018\\model_evaluation_utils.py:78: FutureWarning: the 'labels' keyword is deprecated, use 'codes' instead\n",
      "  labels=level_labels))\n"
     ]
    },
    {
     "data": {
      "text/html": [
       "<div>\n",
       "<style scoped>\n",
       "    .dataframe tbody tr th:only-of-type {\n",
       "        vertical-align: middle;\n",
       "    }\n",
       "\n",
       "    .dataframe tbody tr th {\n",
       "        vertical-align: top;\n",
       "    }\n",
       "\n",
       "    .dataframe thead tr th {\n",
       "        text-align: left;\n",
       "    }\n",
       "</style>\n",
       "<table border=\"1\" class=\"dataframe\">\n",
       "  <thead>\n",
       "    <tr>\n",
       "      <th></th>\n",
       "      <th></th>\n",
       "      <th colspan=\"3\" halign=\"left\">Predicted:</th>\n",
       "    </tr>\n",
       "    <tr>\n",
       "      <th></th>\n",
       "      <th></th>\n",
       "      <th>negative</th>\n",
       "      <th>neutral</th>\n",
       "      <th>positive</th>\n",
       "    </tr>\n",
       "  </thead>\n",
       "  <tbody>\n",
       "    <tr>\n",
       "      <th rowspan=\"3\" valign=\"top\">Actual:</th>\n",
       "      <th>negative</th>\n",
       "      <td>14</td>\n",
       "      <td>2</td>\n",
       "      <td>15</td>\n",
       "    </tr>\n",
       "    <tr>\n",
       "      <th>neutral</th>\n",
       "      <td>0</td>\n",
       "      <td>1</td>\n",
       "      <td>4</td>\n",
       "    </tr>\n",
       "    <tr>\n",
       "      <th>positive</th>\n",
       "      <td>7</td>\n",
       "      <td>2</td>\n",
       "      <td>29</td>\n",
       "    </tr>\n",
       "  </tbody>\n",
       "</table>\n",
       "</div>"
      ],
      "text/plain": [
       "                 Predicted:                 \n",
       "                   negative neutral positive\n",
       "Actual: negative         14       2       15\n",
       "        neutral           0       1        4\n",
       "        positive          7       2       29"
      ]
     },
     "execution_count": 109,
     "metadata": {
      "tags": []
     },
     "output_type": "execute_result"
    }
   ],
   "source": [
    "import model_evaluation_utils as meu\n",
    "meu.display_confusion_matrix_pretty(true_labels=sentiment_category, \n",
    "                                    predicted_labels=sentiment_category_tb, \n",
    "                                    classes=['negative', 'neutral', 'positive'])"
   ]
  },
  {
   "cell_type": "code",
   "execution_count": null,
   "metadata": {
    "id": "RFomuf8BPYLe"
   },
   "outputs": [],
   "source": []
  },
  {
   "cell_type": "code",
   "execution_count": null,
   "metadata": {
    "collapsed": true,
    "id": "h2GS2T43PYLf"
   },
   "outputs": [],
   "source": []
  }
 ],
 "metadata": {
  "anaconda-cloud": {},
  "colab": {
   "name": "DataScraping_NER_SentimentAnalysis.ipynb",
   "provenance": []
  },
  "kernelspec": {
   "display_name": "Python 3",
   "language": "python",
   "name": "python3"
  },
  "language_info": {
   "codemirror_mode": {
    "name": "ipython",
    "version": 3
   },
   "file_extension": ".py",
   "mimetype": "text/x-python",
   "name": "python",
   "nbconvert_exporter": "python",
   "pygments_lexer": "ipython3",
   "version": "3.8.5"
  }
 },
 "nbformat": 4,
 "nbformat_minor": 1
}
