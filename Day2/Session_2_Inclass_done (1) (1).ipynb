{
 "cells": [
  {
   "cell_type": "markdown",
   "metadata": {
    "_uuid": "3c77d7291ae3aff7ea714d3b19d708d455de016c",
    "id": "lSY4R5Pa4Zs2"
   },
   "source": [
    "We cannot work with the text data in machine learning so we need to convert them into numerical vectors, As a part of this practice exercise you will implement different techniques to do the same."
   ]
  },
  {
   "cell_type": "markdown",
   "metadata": {
    "_uuid": "4b77a3ffeea9399d8ff4ed783b11d325c8a47ba7",
    "id": "MnEqJoGl4Zs4"
   },
   "source": [
    "In this notebook we are going to understand some basic text cleaning steps and techniques for encoding text data. We are going to learn about\n",
    "1. **Understanding the data** - See what's data is all about. what should be considered for cleaning for data (Punctuations , stopwords etc..).\n",
    "2. **Basic Cleaning** -We will see what parameters need to be considered for cleaning of data (like Punctuations , stopwords etc..)  and its code.\n",
    "3. **Techniques for Encoding** - All the popular techniques that are used for encoding that I personally came across.\n",
    "    *           **Bag of Words**\n",
    "    *           **Binary Bag of Words**\n",
    "    *           **Bigram, Ngram**\n",
    "    *           **TF-IDF**( **T**erm  **F**requency - **I**nverse **D**ocument **F**requency)\n"
   ]
  },
  {
   "cell_type": "markdown",
   "metadata": {
    "_uuid": "3e9b8360f72e16b27f4ba5e353d412900fc4d5be",
    "id": "jplSqGVx4Zs5"
   },
   "source": [
    "# 1.Importing Libraries"
   ]
  },
  {
   "cell_type": "markdown",
   "metadata": {
    "id": "kjyMG_z46P9b"
   },
   "source": [
    "Libraries used in this notebook along with their version:\n",
    "\n",
    "google\t2.0.3\n",
    "\n",
    "nltk\t3.2.5\n",
    "\n",
    "numpy\t1.18.3\n",
    "\n",
    "pandas\t1.0.3"
   ]
  },
  {
   "cell_type": "code",
   "execution_count": 1,
   "metadata": {
    "id": "AFdnXXocGihA"
   },
   "outputs": [],
   "source": [
    "import nltk\n",
    "import numpy as np\n",
    "import pandas as pd"
   ]
  },
  {
   "cell_type": "code",
   "execution_count": 2,
   "metadata": {
    "colab": {
     "base_uri": "https://localhost:8080/"
    },
    "id": "355C5mwHxmDy",
    "outputId": "a09aafe8-ea81-42b3-a680-66f8277fdc2d"
   },
   "outputs": [
    {
     "name": "stdout",
     "output_type": "stream",
     "text": [
      "Mounted at /content/drive\n"
     ]
    }
   ],
   "source": [
    "from google.colab import drive\n",
    "drive.mount('/content/drive')"
   ]
  },
  {
   "cell_type": "markdown",
   "metadata": {
    "id": "yqD5wboL06eJ"
   },
   "source": [
    "# 2.Reading the data"
   ]
  },
  {
   "cell_type": "markdown",
   "metadata": {
    "id": "VtkF2UiMA7HA"
   },
   "source": [
    "*We* will employ a text categorization dataset based on Reviews. Each article is assigned a specific captegory. \n",
    "###Implement the code to load the dataset.(Hint: Use the pandas library to load the csv file.)"
   ]
  },
  {
   "cell_type": "code",
   "execution_count": 7,
   "metadata": {
    "colab": {
     "base_uri": "https://localhost:8080/",
     "height": 337
    },
    "id": "J9YUPlX1GkMw",
    "outputId": "782f1929-ad9f-47e7-c349-fc802cc21e3d"
   },
   "outputs": [
    {
     "name": "stdout",
     "output_type": "stream",
     "text": [
      "(78720, 9)\n"
     ]
    },
    {
     "data": {
      "text/html": [
       "<div>\n",
       "<style scoped>\n",
       "    .dataframe tbody tr th:only-of-type {\n",
       "        vertical-align: middle;\n",
       "    }\n",
       "\n",
       "    .dataframe tbody tr th {\n",
       "        vertical-align: top;\n",
       "    }\n",
       "\n",
       "    .dataframe thead th {\n",
       "        text-align: right;\n",
       "    }\n",
       "</style>\n",
       "<table border=\"1\" class=\"dataframe\">\n",
       "  <thead>\n",
       "    <tr style=\"text-align: right;\">\n",
       "      <th></th>\n",
       "      <th>ProductId</th>\n",
       "      <th>UserId</th>\n",
       "      <th>ProfileName</th>\n",
       "      <th>HelpfulnessNumerator</th>\n",
       "      <th>HelpfulnessDenominator</th>\n",
       "      <th>Score</th>\n",
       "      <th>Time</th>\n",
       "      <th>Summary</th>\n",
       "      <th>Text</th>\n",
       "    </tr>\n",
       "    <tr>\n",
       "      <th>Id</th>\n",
       "      <th></th>\n",
       "      <th></th>\n",
       "      <th></th>\n",
       "      <th></th>\n",
       "      <th></th>\n",
       "      <th></th>\n",
       "      <th></th>\n",
       "      <th></th>\n",
       "      <th></th>\n",
       "    </tr>\n",
       "  </thead>\n",
       "  <tbody>\n",
       "    <tr>\n",
       "      <th>1</th>\n",
       "      <td>B001E4KFG0</td>\n",
       "      <td>A3SGXH7AUHU8GW</td>\n",
       "      <td>delmartian</td>\n",
       "      <td>1</td>\n",
       "      <td>1</td>\n",
       "      <td>5</td>\n",
       "      <td>1303862400</td>\n",
       "      <td>Good Quality Dog Food</td>\n",
       "      <td>I have bought several of the Vitality canned d...</td>\n",
       "    </tr>\n",
       "    <tr>\n",
       "      <th>2</th>\n",
       "      <td>B00813GRG4</td>\n",
       "      <td>A1D87F6ZCVE5NK</td>\n",
       "      <td>dll pa</td>\n",
       "      <td>0</td>\n",
       "      <td>0</td>\n",
       "      <td>1</td>\n",
       "      <td>1346976000</td>\n",
       "      <td>Not as Advertised</td>\n",
       "      <td>Product arrived labeled as Jumbo Salted Peanut...</td>\n",
       "    </tr>\n",
       "    <tr>\n",
       "      <th>3</th>\n",
       "      <td>B000LQOCH0</td>\n",
       "      <td>ABXLMWJIXXAIN</td>\n",
       "      <td>Natalia Corres \"Natalia Corres\"</td>\n",
       "      <td>1</td>\n",
       "      <td>1</td>\n",
       "      <td>4</td>\n",
       "      <td>1219017600</td>\n",
       "      <td>\"Delight\" says it all</td>\n",
       "      <td>This is a confection that has been around a fe...</td>\n",
       "    </tr>\n",
       "    <tr>\n",
       "      <th>4</th>\n",
       "      <td>B000UA0QIQ</td>\n",
       "      <td>A395BORC6FGVXV</td>\n",
       "      <td>Karl</td>\n",
       "      <td>3</td>\n",
       "      <td>3</td>\n",
       "      <td>2</td>\n",
       "      <td>1307923200</td>\n",
       "      <td>Cough Medicine</td>\n",
       "      <td>If you are looking for the secret ingredient i...</td>\n",
       "    </tr>\n",
       "    <tr>\n",
       "      <th>5</th>\n",
       "      <td>B006K2ZZ7K</td>\n",
       "      <td>A1UQRSCLF8GW1T</td>\n",
       "      <td>Michael D. Bigham \"M. Wassir\"</td>\n",
       "      <td>0</td>\n",
       "      <td>0</td>\n",
       "      <td>5</td>\n",
       "      <td>1350777600</td>\n",
       "      <td>Great taffy</td>\n",
       "      <td>Great taffy at a great price.  There was a wid...</td>\n",
       "    </tr>\n",
       "  </tbody>\n",
       "</table>\n",
       "</div>"
      ],
      "text/plain": [
       "     ProductId  ...                                               Text\n",
       "Id              ...                                                   \n",
       "1   B001E4KFG0  ...  I have bought several of the Vitality canned d...\n",
       "2   B00813GRG4  ...  Product arrived labeled as Jumbo Salted Peanut...\n",
       "3   B000LQOCH0  ...  This is a confection that has been around a fe...\n",
       "4   B000UA0QIQ  ...  If you are looking for the secret ingredient i...\n",
       "5   B006K2ZZ7K  ...  Great taffy at a great price.  There was a wid...\n",
       "\n",
       "[5 rows x 9 columns]"
      ]
     },
     "execution_count": 7,
     "metadata": {},
     "output_type": "execute_result"
    }
   ],
   "source": [
    "data = pd.read_csv(\"/content/drive/MyDrive/NLP/Session1/Reviews.csv\", index_col=0)\n",
    "print(data.shape)\n",
    "data.head()"
   ]
  },
  {
   "cell_type": "markdown",
   "metadata": {
    "_uuid": "8e77faa28f4d4807e716f4bff26f8ff49c3fb2bd",
    "id": "0A1RO0fw4ZtI"
   },
   "source": [
    "1. **Understanding the data**\n",
    "\n",
    "Our main objective from the dataset is to predict whether a review is **Positive** or **Negative** based on the Text.\n",
    " \n",
    "If we see the Score column, it has values 1,2,3,4,5 .  Considering 1, 2 as Negative reviews and 4, 5 as Positive reviews.\n",
    " For Score = 3 we will consider it as Neutral review and lets delete the rows that are neutral, so that we can predict either Positive or Negative\n",
    " \n",
    "HelpfulnessNumerator says about number of people found that review usefull and HelpfulnessDenominator is about usefull review count + not so usefull count.\n",
    "So, from this we can see that HelfulnessNumerator is always less than or equal to HelpfulnesDenominator."
   ]
  },
  {
   "cell_type": "code",
   "execution_count": 8,
   "metadata": {
    "id": "klzR7v6uGoP-"
   },
   "outputs": [],
   "source": [
    "data.drop(data[data.Score == 3].index, inplace=True)"
   ]
  },
  {
   "cell_type": "markdown",
   "metadata": {
    "_uuid": "26eda6bf2503287bf92a5b3139fa3d7a9dd8b101",
    "id": "Yn9k5hzP4ZtM"
   },
   "source": [
    "Converting Score values into class label either Positive or Negative."
   ]
  },
  {
   "cell_type": "code",
   "execution_count": 9,
   "metadata": {
    "id": "1XTy80ShGprW"
   },
   "outputs": [],
   "source": [
    "data[\"label\"] = data.Score.map({4:'Positive',5:'Positive',1:'Negative' , 2:'Negative'})"
   ]
  },
  {
   "cell_type": "code",
   "execution_count": 10,
   "metadata": {
    "colab": {
     "base_uri": "https://localhost:8080/",
     "height": 223
    },
    "id": "PTR_BbG90Shu",
    "outputId": "e01d2aa4-8a6a-4187-def5-f9e98f7d67eb"
   },
   "outputs": [
    {
     "data": {
      "text/html": [
       "<div>\n",
       "<style scoped>\n",
       "    .dataframe tbody tr th:only-of-type {\n",
       "        vertical-align: middle;\n",
       "    }\n",
       "\n",
       "    .dataframe tbody tr th {\n",
       "        vertical-align: top;\n",
       "    }\n",
       "\n",
       "    .dataframe thead th {\n",
       "        text-align: right;\n",
       "    }\n",
       "</style>\n",
       "<table border=\"1\" class=\"dataframe\">\n",
       "  <thead>\n",
       "    <tr style=\"text-align: right;\">\n",
       "      <th></th>\n",
       "      <th>ProductId</th>\n",
       "      <th>UserId</th>\n",
       "      <th>ProfileName</th>\n",
       "      <th>HelpfulnessNumerator</th>\n",
       "      <th>HelpfulnessDenominator</th>\n",
       "      <th>Score</th>\n",
       "      <th>Time</th>\n",
       "      <th>Summary</th>\n",
       "      <th>Text</th>\n",
       "      <th>label</th>\n",
       "    </tr>\n",
       "    <tr>\n",
       "      <th>Id</th>\n",
       "      <th></th>\n",
       "      <th></th>\n",
       "      <th></th>\n",
       "      <th></th>\n",
       "      <th></th>\n",
       "      <th></th>\n",
       "      <th></th>\n",
       "      <th></th>\n",
       "      <th></th>\n",
       "      <th></th>\n",
       "    </tr>\n",
       "  </thead>\n",
       "  <tbody>\n",
       "    <tr>\n",
       "      <th>9828</th>\n",
       "      <td>B001EQ5CK2</td>\n",
       "      <td>APIIRLP1JR2VI</td>\n",
       "      <td>spunky_m0nkey</td>\n",
       "      <td>0</td>\n",
       "      <td>0</td>\n",
       "      <td>5</td>\n",
       "      <td>1295913600</td>\n",
       "      <td>Great coffee, great price!</td>\n",
       "      <td>This has become our new coffee of choice for t...</td>\n",
       "      <td>Positive</td>\n",
       "    </tr>\n",
       "    <tr>\n",
       "      <th>16428</th>\n",
       "      <td>B007TJGZ54</td>\n",
       "      <td>A3V0B6OPOQZNDK</td>\n",
       "      <td>Elisa Veneziano \"EV\"</td>\n",
       "      <td>0</td>\n",
       "      <td>0</td>\n",
       "      <td>4</td>\n",
       "      <td>1351036800</td>\n",
       "      <td>Morning coffee</td>\n",
       "      <td>I use this as my morning coffee wake up call. ...</td>\n",
       "      <td>Positive</td>\n",
       "    </tr>\n",
       "    <tr>\n",
       "      <th>43392</th>\n",
       "      <td>B0038QXXNO</td>\n",
       "      <td>A1N7XTAFCDJEU7</td>\n",
       "      <td>Cynthia A</td>\n",
       "      <td>2</td>\n",
       "      <td>4</td>\n",
       "      <td>5</td>\n",
       "      <td>1318896000</td>\n",
       "      <td>Cheese Heads I love you!</td>\n",
       "      <td>I love Cheese Heads and I love Wisconsin White...</td>\n",
       "      <td>Positive</td>\n",
       "    </tr>\n",
       "  </tbody>\n",
       "</table>\n",
       "</div>"
      ],
      "text/plain": [
       "        ProductId  ...     label\n",
       "Id                 ...          \n",
       "9828   B001EQ5CK2  ...  Positive\n",
       "16428  B007TJGZ54  ...  Positive\n",
       "43392  B0038QXXNO  ...  Positive\n",
       "\n",
       "[3 rows x 10 columns]"
      ]
     },
     "execution_count": 10,
     "metadata": {},
     "output_type": "execute_result"
    }
   ],
   "source": [
    "data.sample(3)"
   ]
  },
  {
   "cell_type": "markdown",
   "metadata": {
    "_uuid": "11da101e437e715e7e900eae0daf683fa5129140",
    "id": "44rlIgeA4ZtR"
   },
   "source": [
    "2. **Basic Cleaning**\n",
    " \n",
    "**Deduplication** means removing duplicate rows, It is necessary to remove duplicates in order to get unbaised results. Checking duplicates based on UserId, ProfileName, Time, Text. If all these values are equal then we will remove those records. (No user can type a review on same exact time for different products.)\n",
    "\n",
    "\n",
    "We have seen that HelpfulnessNumerator should always be less than or equal to HelpfulnessDenominator so checking this condition and removing those records also.\n"
   ]
  },
  {
   "cell_type": "code",
   "execution_count": 11,
   "metadata": {
    "colab": {
     "base_uri": "https://localhost:8080/",
     "height": 668
    },
    "id": "mHCQeMoyGrSx",
    "outputId": "6b4380d7-576b-4dcd-e645-73c17ae30515"
   },
   "outputs": [
    {
     "data": {
      "text/html": [
       "<div>\n",
       "<style scoped>\n",
       "    .dataframe tbody tr th:only-of-type {\n",
       "        vertical-align: middle;\n",
       "    }\n",
       "\n",
       "    .dataframe tbody tr th {\n",
       "        vertical-align: top;\n",
       "    }\n",
       "\n",
       "    .dataframe thead th {\n",
       "        text-align: right;\n",
       "    }\n",
       "</style>\n",
       "<table border=\"1\" class=\"dataframe\">\n",
       "  <thead>\n",
       "    <tr style=\"text-align: right;\">\n",
       "      <th></th>\n",
       "      <th>ProductId</th>\n",
       "      <th>UserId</th>\n",
       "      <th>ProfileName</th>\n",
       "      <th>HelpfulnessNumerator</th>\n",
       "      <th>HelpfulnessDenominator</th>\n",
       "      <th>Score</th>\n",
       "      <th>Time</th>\n",
       "      <th>Summary</th>\n",
       "      <th>Text</th>\n",
       "      <th>label</th>\n",
       "    </tr>\n",
       "    <tr>\n",
       "      <th>Id</th>\n",
       "      <th></th>\n",
       "      <th></th>\n",
       "      <th></th>\n",
       "      <th></th>\n",
       "      <th></th>\n",
       "      <th></th>\n",
       "      <th></th>\n",
       "      <th></th>\n",
       "      <th></th>\n",
       "      <th></th>\n",
       "    </tr>\n",
       "  </thead>\n",
       "  <tbody>\n",
       "    <tr>\n",
       "      <th>30</th>\n",
       "      <td>B0001PB9FY</td>\n",
       "      <td>A3HDKO7OW0QNK4</td>\n",
       "      <td>Canadian Fan</td>\n",
       "      <td>1</td>\n",
       "      <td>1</td>\n",
       "      <td>5</td>\n",
       "      <td>1107820800</td>\n",
       "      <td>The Best Hot Sauce in the World</td>\n",
       "      <td>I don't know if it's the cactus or the tequila...</td>\n",
       "      <td>Positive</td>\n",
       "    </tr>\n",
       "    <tr>\n",
       "      <th>241</th>\n",
       "      <td>B001EO5ZMY</td>\n",
       "      <td>AF72GTWZGAC61</td>\n",
       "      <td>Pinkhat</td>\n",
       "      <td>3</td>\n",
       "      <td>3</td>\n",
       "      <td>5</td>\n",
       "      <td>1330732800</td>\n",
       "      <td>Excellent loose tea.</td>\n",
       "      <td>If you like the Ceylon tea variety, you will c...</td>\n",
       "      <td>Positive</td>\n",
       "    </tr>\n",
       "    <tr>\n",
       "      <th>427</th>\n",
       "      <td>B000G6RYNE</td>\n",
       "      <td>A1Y3XPZK9ZADFW</td>\n",
       "      <td>albinocrow</td>\n",
       "      <td>0</td>\n",
       "      <td>0</td>\n",
       "      <td>4</td>\n",
       "      <td>1334016000</td>\n",
       "      <td>pretty good, could be better</td>\n",
       "      <td>Glad to find these in a one ounce size but the...</td>\n",
       "      <td>Positive</td>\n",
       "    </tr>\n",
       "    <tr>\n",
       "      <th>430</th>\n",
       "      <td>B000G6RYNE</td>\n",
       "      <td>A1IRN1M05TPOVT</td>\n",
       "      <td>Sharon M. Helfand \"Scrapper\"</td>\n",
       "      <td>0</td>\n",
       "      <td>0</td>\n",
       "      <td>5</td>\n",
       "      <td>1331078400</td>\n",
       "      <td>Kettle potato chips:  Sweet onion</td>\n",
       "      <td>WOW!  I have eaten quite a few potato chips in...</td>\n",
       "      <td>Positive</td>\n",
       "    </tr>\n",
       "    <tr>\n",
       "      <th>436</th>\n",
       "      <td>B000G6RYNE</td>\n",
       "      <td>A15USNEAJUXOSH</td>\n",
       "      <td>L. Schrank</td>\n",
       "      <td>0</td>\n",
       "      <td>0</td>\n",
       "      <td>5</td>\n",
       "      <td>1326067200</td>\n",
       "      <td>Delicious</td>\n",
       "      <td>I love these chips, I buy the 24 pack once a m...</td>\n",
       "      <td>Positive</td>\n",
       "    </tr>\n",
       "    <tr>\n",
       "      <th>...</th>\n",
       "      <td>...</td>\n",
       "      <td>...</td>\n",
       "      <td>...</td>\n",
       "      <td>...</td>\n",
       "      <td>...</td>\n",
       "      <td>...</td>\n",
       "      <td>...</td>\n",
       "      <td>...</td>\n",
       "      <td>...</td>\n",
       "      <td>...</td>\n",
       "    </tr>\n",
       "    <tr>\n",
       "      <th>78716</th>\n",
       "      <td>B00472I5A4</td>\n",
       "      <td>A1JBB01LAK69LV</td>\n",
       "      <td>Rubyred</td>\n",
       "      <td>1</td>\n",
       "      <td>1</td>\n",
       "      <td>4</td>\n",
       "      <td>1212105600</td>\n",
       "      <td>The chip with a kiss of salt</td>\n",
       "      <td>These chips are delectably delicious. I am on ...</td>\n",
       "      <td>Positive</td>\n",
       "    </tr>\n",
       "    <tr>\n",
       "      <th>78717</th>\n",
       "      <td>B00472I5A4</td>\n",
       "      <td>AKMEY1BSHSDG7</td>\n",
       "      <td>J. Arena</td>\n",
       "      <td>1</td>\n",
       "      <td>1</td>\n",
       "      <td>5</td>\n",
       "      <td>1202774400</td>\n",
       "      <td>Crunch. Wow!</td>\n",
       "      <td>Not too salty like regular supermarket chips, ...</td>\n",
       "      <td>Positive</td>\n",
       "    </tr>\n",
       "    <tr>\n",
       "      <th>78718</th>\n",
       "      <td>B00472I5A4</td>\n",
       "      <td>A2F7GUZ4UMVHFL</td>\n",
       "      <td>James Walters</td>\n",
       "      <td>1</td>\n",
       "      <td>1</td>\n",
       "      <td>5</td>\n",
       "      <td>1186876800</td>\n",
       "      <td>Great strong flavor</td>\n",
       "      <td>I agree with the company motto \"A Natural Obse...</td>\n",
       "      <td>Positive</td>\n",
       "    </tr>\n",
       "    <tr>\n",
       "      <th>78719</th>\n",
       "      <td>B00472I5A4</td>\n",
       "      <td>A3RO3CGZ9MWA1I</td>\n",
       "      <td>L. Cabrera</td>\n",
       "      <td>1</td>\n",
       "      <td>1</td>\n",
       "      <td>5</td>\n",
       "      <td>1178236800</td>\n",
       "      <td>yummy for your tummy</td>\n",
       "      <td>The New York Cheddar flavor is my favorite of ...</td>\n",
       "      <td>Positive</td>\n",
       "    </tr>\n",
       "    <tr>\n",
       "      <th>78720</th>\n",
       "      <td>B00472I5A4</td>\n",
       "      <td>A37D5847LN3WQ</td>\n",
       "      <td>Wildcat Fan</td>\n",
       "      <td>3</td>\n",
       "      <td>4</td>\n",
       "      <td>4</td>\n",
       "      <td>121141440</td>\n",
       "      <td>NaN</td>\n",
       "      <td>NaN</td>\n",
       "      <td>Positive</td>\n",
       "    </tr>\n",
       "  </tbody>\n",
       "</table>\n",
       "<p>18446 rows × 10 columns</p>\n",
       "</div>"
      ],
      "text/plain": [
       "        ProductId  ...     label\n",
       "Id                 ...          \n",
       "30     B0001PB9FY  ...  Positive\n",
       "241    B001EO5ZMY  ...  Positive\n",
       "427    B000G6RYNE  ...  Positive\n",
       "430    B000G6RYNE  ...  Positive\n",
       "436    B000G6RYNE  ...  Positive\n",
       "...           ...  ...       ...\n",
       "78716  B00472I5A4  ...  Positive\n",
       "78717  B00472I5A4  ...  Positive\n",
       "78718  B00472I5A4  ...  Positive\n",
       "78719  B00472I5A4  ...  Positive\n",
       "78720  B00472I5A4  ...  Positive\n",
       "\n",
       "[18446 rows x 10 columns]"
      ]
     },
     "execution_count": 11,
     "metadata": {},
     "output_type": "execute_result"
    }
   ],
   "source": [
    "data[data.duplicated(subset='UserId')]"
   ]
  },
  {
   "cell_type": "markdown",
   "metadata": {
    "_uuid": "1b0ead76f4f3eeb725cdad927053df4bda1efea3",
    "id": "4duJnJXk4Ztb"
   },
   "source": [
    "Converting all words to lowercase and removing punctuations and html tags if any\n",
    "\n",
    "**Stemming**- Converting the words into their base word or stem word ( Ex - tastefully, tasty,  these words are converted to stem word called 'tasti'). This reduces the vector dimension because we dont consider all similar words  \n",
    "\n",
    "**Stopwords** - Stopwords are the unnecessary words that even if they are removed the sentiment of the sentence dosent change.\n",
    "\n",
    "Ex -    This pasta is so tasty ==> pasta tasty    ( This , is, so are stopwords so they are removed)\n",
    "\n",
    "To see all the stopwords see the below code cell."
   ]
  },
  {
   "cell_type": "markdown",
   "metadata": {
    "id": "I0QdvtLFA7HF"
   },
   "source": [
    "###Create a function called \"complaint_to_words\" to convert each consumer complaint narrative to individual tokens.(Hint: Use regular expression based tokenizer.)"
   ]
  },
  {
   "cell_type": "code",
   "execution_count": 12,
   "metadata": {
    "colab": {
     "base_uri": "https://localhost:8080/"
    },
    "id": "RNP1I1X7Gs0j",
    "outputId": "d960e3c3-c8b1-4f70-8987-48397318df6d"
   },
   "outputs": [
    {
     "data": {
      "text/plain": [
       "Id\n",
       "1        I have bought several of the Vitality canned d...\n",
       "2        Product arrived labeled as Jumbo Salted Peanut...\n",
       "3        This is a confection that has been around a fe...\n",
       "4        If you are looking for the secret ingredient i...\n",
       "5        Great taffy at a great price.  There was a wid...\n",
       "                               ...                        \n",
       "78716    These chips are delectably delicious. I am on ...\n",
       "78717    Not too salty like regular supermarket chips, ...\n",
       "78718    I agree with the company motto \"A Natural Obse...\n",
       "78719    The New York Cheddar flavor is my favorite of ...\n",
       "78720                                                  NaN\n",
       "Name: Text, Length: 72322, dtype: object"
      ]
     },
     "execution_count": 12,
     "metadata": {},
     "output_type": "execute_result"
    }
   ],
   "source": [
    "complaint = data[\"Text\"]\n",
    "complaint"
   ]
  },
  {
   "cell_type": "code",
   "execution_count": 13,
   "metadata": {
    "id": "DKeYDWe_97XZ"
   },
   "outputs": [],
   "source": [
    "complaint = complaint[:1000]"
   ]
  },
  {
   "cell_type": "markdown",
   "metadata": {
    "id": "lwVN_hQ_09r0"
   },
   "source": [
    "# 3.Basic Cleaning"
   ]
  },
  {
   "cell_type": "markdown",
   "metadata": {
    "id": "mlUDtA7hA7HG"
   },
   "source": [
    "We will use the above function here to create a list of list that will store each complaint tokenized into separate words."
   ]
  },
  {
   "cell_type": "markdown",
   "metadata": {
    "id": "bPJesTws2BN6"
   },
   "source": [
    "## 3.1.Tokenize"
   ]
  },
  {
   "cell_type": "code",
   "execution_count": 14,
   "metadata": {
    "colab": {
     "base_uri": "https://localhost:8080/"
    },
    "id": "-4hWeGZF3jcy",
    "outputId": "2151a31e-b001-4ded-ddb2-789200946408"
   },
   "outputs": [
    {
     "name": "stdout",
     "output_type": "stream",
     "text": [
      "[nltk_data] Downloading package stopwords to /root/nltk_data...\n",
      "[nltk_data]   Unzipping corpora/stopwords.zip.\n",
      "[nltk_data] Downloading package punkt to /root/nltk_data...\n",
      "[nltk_data]   Unzipping tokenizers/punkt.zip.\n"
     ]
    },
    {
     "data": {
      "text/plain": [
       "True"
      ]
     },
     "execution_count": 14,
     "metadata": {},
     "output_type": "execute_result"
    }
   ],
   "source": [
    "from six import string_types\n",
    "from string import punctuation\n",
    "from nltk.corpus import stopwords\n",
    "from nltk import word_tokenize\n",
    "\n",
    "nltk.download('stopwords') # Downloading stopwords\n",
    "nltk.download('punkt') # Downloading tokenizer"
   ]
  },
  {
   "cell_type": "code",
   "execution_count": 15,
   "metadata": {
    "colab": {
     "base_uri": "https://localhost:8080/"
    },
    "id": "ba6QhP9XGt9T",
    "outputId": "adfbb0c4-4bb5-472f-9b7f-ce29dc1d51ec"
   },
   "outputs": [
    {
     "data": {
      "text/plain": [
       "87728"
      ]
     },
     "execution_count": 15,
     "metadata": {},
     "output_type": "execute_result"
    }
   ],
   "source": [
    "word = []\n",
    "for i in complaint:\n",
    "  words = word_tokenize(i)\n",
    "  word.extend(words)\n",
    "\n",
    "len(word)"
   ]
  },
  {
   "cell_type": "code",
   "execution_count": 16,
   "metadata": {
    "colab": {
     "base_uri": "https://localhost:8080/"
    },
    "id": "apoKcH113q2z",
    "outputId": "628d647a-5fdd-40bc-d59f-d77cfd3830ae"
   },
   "outputs": [
    {
     "name": "stdout",
     "output_type": "stream",
     "text": [
      "['I', 'have', 'bought', 'several', 'of', 'the', 'Vitality', 'canned', 'dog', 'food', 'products', 'and', 'have', 'found', 'them', 'all', 'to', 'be', 'of', 'good', 'quality', '.', 'The', 'product', 'looks', 'more', 'like', 'a', 'stew', 'than', 'a', 'processed', 'meat', 'and', 'it', 'smells', 'better', '.', 'My', 'Labrador', 'is', 'finicky', 'and', 'she', 'appreciates', 'this', 'product', 'better', 'than', 'most', '.', 'Product', 'arrived', 'labeled', 'as', 'Jumbo', 'Salted', 'Peanuts', '...', 'the', 'peanuts', 'were', 'actually', 'small', 'sized', 'unsalted', '.', 'Not', 'sure', 'if', 'this', 'was', 'an', 'error', 'or', 'if', 'the', 'vendor', 'intended', 'to', 'represent', 'the', 'product', 'as', '``', 'Jumbo', \"''\", '.', 'This', 'is', 'a', 'confection', 'that', 'has', 'been', 'around', 'a', 'few', 'centuries', '.']\n"
     ]
    }
   ],
   "source": [
    "print(word[:100])"
   ]
  },
  {
   "cell_type": "markdown",
   "metadata": {
    "id": "aleHavwG1Ihn"
   },
   "source": [
    "## 3.2.Lower Case"
   ]
  },
  {
   "cell_type": "code",
   "execution_count": 17,
   "metadata": {
    "id": "wPeZ0cqkGvUq"
   },
   "outputs": [],
   "source": [
    "tokens  = [w.lower() for w in word]"
   ]
  },
  {
   "cell_type": "markdown",
   "metadata": {
    "id": "DFzCpnAr9Bw0"
   },
   "source": [
    "## 3.3.Removing Stopwords"
   ]
  },
  {
   "cell_type": "markdown",
   "metadata": {
    "id": "5V3POzrb2hfU"
   },
   "source": [
    "### 3.3.1.Removing Punctuation"
   ]
  },
  {
   "cell_type": "code",
   "execution_count": 18,
   "metadata": {
    "colab": {
     "base_uri": "https://localhost:8080/"
    },
    "id": "_7g7RP7WGwiu",
    "outputId": "8cb7e620-a7d9-4900-8434-bc30fcfa240c"
   },
   "outputs": [
    {
     "name": "stdout",
     "output_type": "stream",
     "text": [
      "['i', 'have', 'bought', 'several', 'of', 'the', 'vitality', 'canned', 'dog', 'food', 'products', 'and', 'have', 'found', 'them', 'all', 'to', 'be', 'of', 'good', 'quality', 'the', 'product', 'looks', 'more', 'like', 'a', 'stew', 'than', 'a', 'processed', 'meat', 'and', 'it', 'smells', 'better', 'my', 'labrador', 'is', 'finicky', 'and', 'she', 'appreciates', 'this', 'product', 'better', 'than', 'most', 'product', 'arrived', 'labeled', 'as', 'jumbo', 'salted', 'peanuts', 'the', 'peanuts', 'were', 'actually', 'small', 'sized', 'unsalted', 'not', 'sure', 'if', 'this', 'was', 'an', 'error', 'or', 'if', 'the', 'vendor', 'intended', 'to', 'represent', 'the', 'product', 'as', 'jumbo', 'this', 'is', 'a', 'confection', 'that', 'has', 'been', 'around', 'a', 'few', 'centuries', 'it', 'is', 'a', 'light', 'pillowy', 'citrus', 'gelatin', 'with', 'nuts']\n"
     ]
    }
   ],
   "source": [
    "punch = [\"''\",\"``\",\"...\",\"-\",\".\",\";\",\":\",\"!\",\"?\",\"/\",\"\\\\\",\",\",\"#\",\"@\",\"$\",\"&\",\")\",\"(\",\"\\\"\"]\n",
    "\n",
    "filter_tokens = [w for w in tokens if not w in punch]\n",
    "\n",
    "print(filter_tokens[:100])"
   ]
  },
  {
   "cell_type": "markdown",
   "metadata": {
    "id": "ZdaaR23Z1Kop"
   },
   "source": [
    "### 3.3.2.Removing the Stop Words"
   ]
  },
  {
   "cell_type": "code",
   "execution_count": 19,
   "metadata": {
    "colab": {
     "base_uri": "https://localhost:8080/"
    },
    "id": "3KX4ANEdGyry",
    "outputId": "ff5add9f-f20a-44aa-c5c8-2abaccb8e107"
   },
   "outputs": [
    {
     "name": "stdout",
     "output_type": "stream",
     "text": [
      "[nltk_data] Downloading package stopwords to /root/nltk_data...\n",
      "[nltk_data]   Package stopwords is already up-to-date!\n"
     ]
    }
   ],
   "source": [
    "import nltk\n",
    "from nltk.corpus import stopwords\n",
    "nltk.download('stopwords')\n",
    "\n",
    "stop_words = set(stopwords.words('english'))\n",
    "filter_token1 = [w for w in filter_tokens if not w in stop_words]"
   ]
  },
  {
   "cell_type": "markdown",
   "metadata": {
    "id": "fnQytxul1N7Z"
   },
   "source": [
    "## 3.4.Stemming & Lemitization"
   ]
  },
  {
   "cell_type": "markdown",
   "metadata": {
    "id": "DOCGBspF1VNJ"
   },
   "source": [
    "### 3.4.1.Stemming"
   ]
  },
  {
   "cell_type": "code",
   "execution_count": 20,
   "metadata": {
    "id": "ud5MmKwbG0wu"
   },
   "outputs": [],
   "source": [
    "from nltk.stem import PorterStemmer\n",
    "\n",
    "port = PorterStemmer()\n",
    "\n",
    "sent = list(map(lambda x: port.stem(x), filter_token1))"
   ]
  },
  {
   "cell_type": "markdown",
   "metadata": {
    "id": "dBHm5uBT1XAQ"
   },
   "source": [
    "### 3.4.2.Lemitization"
   ]
  },
  {
   "cell_type": "code",
   "execution_count": 21,
   "metadata": {
    "id": "TXtHWUN5G2a4"
   },
   "outputs": [],
   "source": [
    "from nltk.stem import LancasterStemmer\n",
    "lancaster=LancasterStemmer()\n",
    "\n",
    "sentence = list(map(lambda x : lancaster.stem(x),sent))"
   ]
  },
  {
   "cell_type": "markdown",
   "metadata": {
    "id": "RiB_pZw61Sb6"
   },
   "source": [
    "## 3.5.PoS"
   ]
  },
  {
   "cell_type": "code",
   "execution_count": 22,
   "metadata": {
    "colab": {
     "base_uri": "https://localhost:8080/"
    },
    "id": "jtuCzOdRG4F4",
    "outputId": "7c84102b-bde0-459e-e3b2-eb812130a03f"
   },
   "outputs": [
    {
     "name": "stdout",
     "output_type": "stream",
     "text": [
      "[nltk_data] Downloading package averaged_perceptron_tagger to\n",
      "[nltk_data]     /root/nltk_data...\n",
      "[nltk_data]   Unzipping taggers/averaged_perceptron_tagger.zip.\n"
     ]
    }
   ],
   "source": [
    "nltk.download('averaged_perceptron_tagger')\n",
    "pos = nltk.pos_tag(sentence)"
   ]
  },
  {
   "cell_type": "markdown",
   "metadata": {
    "id": "fNekLhZNQScM"
   },
   "source": [
    "# Save the data"
   ]
  },
  {
   "cell_type": "code",
   "execution_count": 23,
   "metadata": {
    "colab": {
     "base_uri": "https://localhost:8080/",
     "height": 204
    },
    "id": "gks5nGgTHcbO",
    "outputId": "f5b05a45-16c8-4c63-c51e-dff27f0e7c9b"
   },
   "outputs": [
    {
     "data": {
      "text/html": [
       "<div>\n",
       "<style scoped>\n",
       "    .dataframe tbody tr th:only-of-type {\n",
       "        vertical-align: middle;\n",
       "    }\n",
       "\n",
       "    .dataframe tbody tr th {\n",
       "        vertical-align: top;\n",
       "    }\n",
       "\n",
       "    .dataframe thead th {\n",
       "        text-align: right;\n",
       "    }\n",
       "</style>\n",
       "<table border=\"1\" class=\"dataframe\">\n",
       "  <thead>\n",
       "    <tr style=\"text-align: right;\">\n",
       "      <th></th>\n",
       "      <th>0</th>\n",
       "      <th>1</th>\n",
       "    </tr>\n",
       "  </thead>\n",
       "  <tbody>\n",
       "    <tr>\n",
       "      <th>0</th>\n",
       "      <td>bought</td>\n",
       "      <td>VBN</td>\n",
       "    </tr>\n",
       "    <tr>\n",
       "      <th>1</th>\n",
       "      <td>sev</td>\n",
       "      <td>NNS</td>\n",
       "    </tr>\n",
       "    <tr>\n",
       "      <th>2</th>\n",
       "      <td>vit</td>\n",
       "      <td>NN</td>\n",
       "    </tr>\n",
       "    <tr>\n",
       "      <th>3</th>\n",
       "      <td>can</td>\n",
       "      <td>MD</td>\n",
       "    </tr>\n",
       "    <tr>\n",
       "      <th>4</th>\n",
       "      <td>dog</td>\n",
       "      <td>VB</td>\n",
       "    </tr>\n",
       "  </tbody>\n",
       "</table>\n",
       "</div>"
      ],
      "text/plain": [
       "        0    1\n",
       "0  bought  VBN\n",
       "1     sev  NNS\n",
       "2     vit   NN\n",
       "3     can   MD\n",
       "4     dog   VB"
      ]
     },
     "execution_count": 23,
     "metadata": {},
     "output_type": "execute_result"
    }
   ],
   "source": [
    "posdf = pd.DataFrame(pos)\n",
    "posdf.head()"
   ]
  },
  {
   "cell_type": "markdown",
   "metadata": {
    "id": "8ixroF9NGFvi"
   },
   "source": [
    "# 4.**Techniques for Encoding**"
   ]
  },
  {
   "cell_type": "markdown",
   "metadata": {
    "_uuid": "67431e1466aefbba119b54205893dd0dcdff9f3b",
    "id": "-ZTp3zY-4Ztw"
   },
   "source": [
    "4. **Techniques for Encoding**\n",
    "\n",
    "      **BAG OF WORDS**\n",
    "      \n",
    "      In BoW we construct a dictionary that contains set of all unique words from our text review dataset.The frequency of the word is counted here. if there are **d** unique words in our dictionary then for every sentence or review the vector will be of length **d** and count of word from review is stored at its particular location in vector. The vector will be highly sparse in such case.\n",
    "      \n",
    "      Ex. pasta is tasty and pasta is good\n",
    "      \n",
    "     **[0]....[1]............[1]...........[2]..........[2]............[1]..........**             <== Its vector representation ( remaining all dots will be represented as zeroes)\n",
    "     \n",
    "     **[a]..[and].....[good].......[is].......[pasta]....[tasty].......**            <==This is dictionary\n",
    "      .\n",
    "      \n",
    "    Using scikit-learn's CountVectorizer we can get the BoW and check out all the parameters it consists of, one of them is max_features =5000 it tells about to consider only top 5000 most frequently repeated words to place in a dictionary. so our dictionary length or vector length will be only 5000\n",
    "    \n",
    "\n",
    "\n",
    "   **BINARY BAG OF WORDS**\n",
    "    \n",
    "   In binary BoW, we dont count the frequency of word, we just place **1** if the word appears in the review or else **0**. In CountVectorizer there is a parameter **binary = true** this makes our BoW to binary BoW.\n",
    "   \n",
    "  "
   ]
  },
  {
   "cell_type": "code",
   "execution_count": 24,
   "metadata": {
    "id": "lO5XWjsSHeoY"
   },
   "outputs": [],
   "source": [
    "from sklearn.feature_extraction.text import CountVectorizer\n",
    "toNumeric = CountVectorizer(binary = True)"
   ]
  },
  {
   "cell_type": "code",
   "execution_count": 25,
   "metadata": {
    "id": "zJASXE2f7783"
   },
   "outputs": [],
   "source": [
    "toNumeric.fit(posdf[0])\n",
    "X_train_dtm = toNumeric.transform(posdf[0])"
   ]
  },
  {
   "cell_type": "code",
   "execution_count": 26,
   "metadata": {
    "colab": {
     "base_uri": "https://localhost:8080/"
    },
    "id": "nun82lE677yM",
    "outputId": "d759f9d7-0fe4-4d46-9ada-4303aadcaf40"
   },
   "outputs": [
    {
     "data": {
      "text/plain": [
       "<41723x4223 sparse matrix of type '<class 'numpy.int64'>'\n",
       "\twith 38297 stored elements in Compressed Sparse Row format>"
      ]
     },
     "execution_count": 26,
     "metadata": {},
     "output_type": "execute_result"
    }
   ],
   "source": [
    "X_train_dtm"
   ]
  },
  {
   "cell_type": "code",
   "execution_count": 27,
   "metadata": {
    "colab": {
     "base_uri": "https://localhost:8080/"
    },
    "id": "ulAlh-DT8Odp",
    "outputId": "45e70599-5518-4f4a-db7c-e3b86c5c0c3d"
   },
   "outputs": [
    {
     "data": {
      "text/plain": [
       "array([[0, 0, 0, ..., 0, 0, 0],\n",
       "       [0, 0, 0, ..., 0, 0, 0],\n",
       "       [0, 0, 0, ..., 0, 0, 0],\n",
       "       ...,\n",
       "       [0, 0, 0, ..., 0, 0, 0],\n",
       "       [0, 0, 0, ..., 0, 0, 0],\n",
       "       [0, 0, 0, ..., 0, 0, 0]])"
      ]
     },
     "execution_count": 27,
     "metadata": {},
     "output_type": "execute_result"
    }
   ],
   "source": [
    "X_train_dtm.toarray()"
   ]
  },
  {
   "cell_type": "markdown",
   "metadata": {
    "_uuid": "da9a72410e69708650ccf3263fea6d9b1222147f",
    "id": "Sd74HLAv4Zt1"
   },
   "source": [
    " **Drawbacks of BoW/ Binary BoW**\n",
    " \n",
    " Our main objective in doing these text to vector encodings is that similar meaning text vectors should be close to each other, but in some cases this may not possible for Bow\n",
    " \n",
    "For example, if we consider two reviews **This pasta is very tasty** and **This pasta is not tasty** after stopwords removal both sentences will be converted to **pasta tasty** so both giving exact same meaning.\n",
    "\n",
    "The main problem is here we are not considering the front and back words related to every word, here comes Bigram and Ngram techniques."
   ]
  },
  {
   "cell_type": "markdown",
   "metadata": {
    "id": "LECjIsn5UK7h"
   },
   "source": [
    "## 4.1.N-gram "
   ]
  },
  {
   "cell_type": "markdown",
   "metadata": {
    "_uuid": "a8c25fa64918f9b5129ca8d424684354c29f041d",
    "id": "3fUU4t5M4Zt2"
   },
   "source": [
    "### 4.1.1.**BI-GRAM BOW**\n",
    "\n",
    "Considering pair of words for creating dictionary is Bi-Gram , Tri-Gram means three consecutive words so as NGram.\n",
    "\n",
    "CountVectorizer has a parameter **ngram_range** if assigned to (1,2) it considers Bi-Gram BoW\n",
    "\n",
    "But this massively increases our dictionary size "
   ]
  },
  {
   "cell_type": "code",
   "execution_count": 28,
   "metadata": {
    "colab": {
     "base_uri": "https://localhost:8080/"
    },
    "id": "zYNyQalgHgx4",
    "outputId": "89d5ff2a-14f3-4782-9a1c-1a41d9dd37a9"
   },
   "outputs": [
    {
     "data": {
      "text/plain": [
       "array([[0, 0, 0, ..., 0, 0, 0],\n",
       "       [0, 0, 0, ..., 0, 0, 0],\n",
       "       [0, 0, 0, ..., 0, 0, 0],\n",
       "       ...,\n",
       "       [0, 0, 0, ..., 0, 0, 0],\n",
       "       [0, 0, 0, ..., 0, 0, 0],\n",
       "       [0, 0, 0, ..., 0, 0, 0]])"
      ]
     },
     "execution_count": 28,
     "metadata": {},
     "output_type": "execute_result"
    }
   ],
   "source": [
    "toNumeric = CountVectorizer(binary = True, ngram_range=(1,2))\n",
    "toNumeric.fit(posdf[0])\n",
    "X_train_dtm = toNumeric.transform(posdf[0])\n",
    "X_train_dtm.toarray()"
   ]
  },
  {
   "cell_type": "markdown",
   "metadata": {
    "_uuid": "3d29a0749cc26757d3f311cadee7dfdd97aa7c76",
    "id": "lHcH77Nu4ZuA"
   },
   "source": [
    "## 4.2.**TF-IDF**\n",
    "\n",
    "**Term Frequency -  Inverse Document Frequency** it makes sure that less importance is given to most frequent words and also considers less frequent words.\n",
    "\n",
    "**Term Frequency** is number of times a **particular word(W)** occurs in a review divided by totall number of words **(Wr)** in review. The term frequency value ranges from 0 to 1.\n",
    "\n",
    "**Inverse Document Frequency** is calculated as **log(Total Number of Docs(N) / Number of Docs which contains particular word(n))**. Here Docs referred as Reviews.\n",
    "\n",
    "\n",
    "**TF-IDF** is **TF * IDF** that is **(W/Wr)*LOG(N/n)**\n",
    "\n",
    "\n",
    " Using scikit-learn's tfidfVectorizer we can get the TF-IDF.\n",
    "\n",
    "So even here we get a TF-IDF value for every word and in some cases it may consider different meaning reviews as similar after stopwords removal. so to over come we can use BI-Gram or NGram."
   ]
  },
  {
   "cell_type": "code",
   "execution_count": 29,
   "metadata": {
    "id": "bF2KDPygHiPW"
   },
   "outputs": [],
   "source": [
    "def tf_idf(word, token):\n",
    "    if word not in word_index:\n",
    "        return .0\n",
    "    return word_tf(word, token) * word_idf[word_index[word]]"
   ]
  },
  {
   "cell_type": "markdown",
   "metadata": {
    "id": "bd2IJswwQjxa"
   },
   "source": [
    "## 4.3.Word2Vec"
   ]
  },
  {
   "cell_type": "markdown",
   "metadata": {
    "id": "wpIR5o5zveup"
   },
   "source": [
    "Gensim is a free to use python library. It provides APIs to solve various problems relating to natural language processing. It is fast, scalable and robust.\n",
    "\n",
    "In this practice exercise we will train our own Word2Vec model using gensim Word2Vec API. Objectives of this practice exercise are, \n",
    "\n",
    "\n",
    "1.   Train your word2vec word embedding model.\n",
    "2.   Visualize trained word embedding model using principal component analysis.\n",
    "\n",
    "\n",
    "First step will be to load the corpus, clean it and tokenize it."
   ]
  },
  {
   "cell_type": "markdown",
   "metadata": {
    "id": "KYs5Xlmf6539"
   },
   "source": [
    "Libraries used in this notebook along with their version:\n",
    "\n",
    "google\t2.0.3\n",
    "\n",
    "matplotlib\t3.2.1\n",
    "\n",
    "numpy\t1.18.3\n",
    "\n",
    "pandas\t1.0.3"
   ]
  },
  {
   "cell_type": "code",
   "execution_count": null,
   "metadata": {
    "id": "y5x2UsJBHjfz"
   },
   "outputs": [],
   "source": []
  },
  {
   "cell_type": "markdown",
   "metadata": {
    "id": "B7JLBNQSzibP"
   },
   "source": [
    "Next step is to import the Word2Vec model from gensim."
   ]
  },
  {
   "cell_type": "code",
   "execution_count": null,
   "metadata": {
    "id": "ET56QszJHkz1"
   },
   "outputs": [],
   "source": []
  },
  {
   "cell_type": "markdown",
   "metadata": {
    "id": "eqTRR4O7zymN"
   },
   "source": [
    "##### Create your own model using the data_list defined above and gensim Word2Vec API. (Hint: https://radimrehurek.com/gensim/models/word2vec.html)"
   ]
  },
  {
   "cell_type": "code",
   "execution_count": null,
   "metadata": {
    "id": "JW2iWKa6HmiK"
   },
   "outputs": [],
   "source": []
  },
  {
   "cell_type": "markdown",
   "metadata": {
    "id": "b599Joey0a1W"
   },
   "source": [
    "##### Use PCA algorithm from sklearn to convert high dimesnional word embeddings to two diemnsions and save them in the variable \"results\"."
   ]
  },
  {
   "cell_type": "code",
   "execution_count": null,
   "metadata": {
    "id": "8vB0YScjHn21"
   },
   "outputs": [],
   "source": []
  },
  {
   "cell_type": "markdown",
   "metadata": {
    "id": "c2TT3A0n0u0D"
   },
   "source": [
    "##### Visualizing the word embeddings."
   ]
  },
  {
   "cell_type": "code",
   "execution_count": null,
   "metadata": {
    "id": "MykBfGltHoyv"
   },
   "outputs": [],
   "source": []
  },
  {
   "cell_type": "markdown",
   "metadata": {
    "id": "TkYL18YhPYLW"
   },
   "source": [
    "# 5.Emotion and Sentiment Analysis"
   ]
  },
  {
   "cell_type": "code",
   "execution_count": null,
   "metadata": {
    "id": "HfWFnaytHwrN"
   },
   "outputs": [],
   "source": []
  }
 ],
 "metadata": {
  "accelerator": "GPU",
  "colab": {
   "collapsed_sections": [],
   "name": "Session2_inclass_Bharath_SOL.ipynb",
   "provenance": []
  },
  "kernelspec": {
   "display_name": "Python 3",
   "language": "python",
   "name": "python3"
  },
  "language_info": {
   "codemirror_mode": {
    "name": "ipython",
    "version": 3
   },
   "file_extension": ".py",
   "mimetype": "text/x-python",
   "name": "python",
   "nbconvert_exporter": "python",
   "pygments_lexer": "ipython3",
   "version": "3.8.5"
  }
 },
 "nbformat": 4,
 "nbformat_minor": 1
}
