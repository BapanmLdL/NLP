{
 "cells": [
  {
   "cell_type": "markdown",
   "metadata": {
    "id": "rKqe-5Lpwj7E"
   },
   "source": [
    "# Text Classification"
   ]
  },
  {
   "cell_type": "markdown",
   "metadata": {
    "id": "I7ppUFnNwj7G"
   },
   "source": [
    "## Agenda\n",
    "\n",
    "1. Represent text as numerical data\n",
    "2. Read text dataset into pandas\n",
    "3. Vectorize text dataset ( using both CountVectorizer and TFIDFVectorizer )\n",
    "4. Build and evaluate a model\n",
    "5. Compare multiple models\n",
    "6. Fine tune vectorizer\n",
    "7. Word cloud\n",
    "8. Lemmatization and stemming\n",
    "9. Sentiment calculation"
   ]
  },
  {
   "cell_type": "markdown",
   "metadata": {
    "id": "Pn-BuPr7wj7u"
   },
   "source": [
    "## 1: Represent text as numerical data"
   ]
  },
  {
   "cell_type": "code",
   "execution_count": 2,
   "metadata": {
    "id": "q_Vq68ZUPgp8"
   },
   "outputs": [],
   "source": [
    "import pandas as pd\n",
    "from sklearn.neighbors import KNeighborsClassifier"
   ]
  },
  {
   "cell_type": "code",
   "execution_count": null,
   "metadata": {
    "id": "_h06uXvYwj7u"
   },
   "outputs": [],
   "source": [
    "# Sample text data\n",
    "sampleTrain = ['i will call you tonight', 'please help me...', 'Please call a cab please !']"
   ]
  },
  {
   "cell_type": "code",
   "execution_count": null,
   "metadata": {
    "id": "8bAGvD0Ewj7y"
   },
   "outputs": [],
   "source": [
    "# sample target vector\n",
    "y = [0, 1, 0]"
   ]
  },
  {
   "cell_type": "code",
   "execution_count": null,
   "metadata": {
    "id": "nkY60vxuwj72"
   },
   "outputs": [],
   "source": [
    "from sklearn.feature_extraction.text import CountVectorizer\n",
    "toNumeric = CountVectorizer()"
   ]
  },
  {
   "cell_type": "code",
   "execution_count": null,
   "metadata": {
    "id": "Cb2ZjEI0wj75"
   },
   "outputs": [],
   "source": [
    "#Get the vocabulary(unique words) from training data\n",
    "toNumeric.fit(sampleTrain)"
   ]
  },
  {
   "cell_type": "code",
   "execution_count": null,
   "metadata": {
    "id": "qIdLno1p2ebh"
   },
   "outputs": [],
   "source": [
    "# Test the created vocabulary\n",
    "toNumeric.get_feature_names()"
   ]
  },
  {
   "cell_type": "code",
   "execution_count": null,
   "metadata": {
    "id": "84pqgZ_2wj8F"
   },
   "outputs": [],
   "source": [
    "sampleTrain = ['i will call you tonight', 'please help me...', 'Please call a cab please !']"
   ]
  },
  {
   "cell_type": "code",
   "execution_count": null,
   "metadata": {
    "id": "oChqTznVwj8L"
   },
   "outputs": [],
   "source": [
    "# Convert training data into a 'document-term matrix'\n",
    "sampleTrain_dtm = toNumeric.transform(sampleTrain)\n",
    "sampleTrain_dtm"
   ]
  },
  {
   "cell_type": "code",
   "execution_count": null,
   "metadata": {
    "id": "exi7ZGbAwj8U"
   },
   "outputs": [],
   "source": [
    "# Let's convert sparse matrix to a dense matrix\n",
    "sampleTrain_dtm.toarray()"
   ]
  },
  {
   "cell_type": "code",
   "execution_count": null,
   "metadata": {
    "id": "W7luSn5iwj8n"
   },
   "outputs": [],
   "source": [
    "pd.DataFrame(sampleTrain_dtm.toarray(), columns=toNumeric.get_feature_names())"
   ]
  },
  {
   "cell_type": "code",
   "execution_count": null,
   "metadata": {
    "id": "thmuFLakwj81"
   },
   "outputs": [],
   "source": [
    "# Build a model to predict the target\n",
    "knn = KNeighborsClassifier(n_neighbors=1)\n",
    "knn.fit(sampleTrain_dtm, y)"
   ]
  },
  {
   "cell_type": "code",
   "execution_count": null,
   "metadata": {
    "id": "Uz1jKfKjwj84"
   },
   "outputs": [],
   "source": [
    "# Test text for model validation\n",
    "sampleTest = [\"Don't call please\"]"
   ]
  },
  {
   "cell_type": "markdown",
   "metadata": {
    "id": "jV5GDH6awj86"
   },
   "source": [
    "In order to make a prediction, the new test data must have the same features as the training observations, both in number and meaning."
   ]
  },
  {
   "cell_type": "code",
   "execution_count": null,
   "metadata": {
    "id": "d0uF5VXXwj87"
   },
   "outputs": [],
   "source": [
    "# Transform test data into DTM by using generated vocabulary\n",
    "sampleTest_dtm = toNumeric.transform(sampleTest)\n",
    "sampleTest_dtm.toarray()"
   ]
  },
  {
   "cell_type": "code",
   "execution_count": null,
   "metadata": {
    "id": "FfL2fk2Ewj8_"
   },
   "outputs": [],
   "source": [
    "# Test built model\n",
    "knn.predict(sampleTest_dtm)"
   ]
  },
  {
   "cell_type": "markdown",
   "metadata": {
    "id": "bB6X2lLTwj9F"
   },
   "source": [
    "**Summary:**\n",
    "\n",
    "- `vect.fit(sampleTrain)` **learn the vocabulary** from training data\n",
    "- `vect.transform(sampleTrain)` use the **trained vocabulary** to build DTM from the train data\n",
    "- `vect.transform(sampleTest)` use the **trained vocabulary** to build a DTM from the test data and **ignore vocabulary** it hasn't seen before"
   ]
  },
  {
   "cell_type": "markdown",
   "metadata": {
    "id": "9o187dLswj9F"
   },
   "source": [
    "## 2. Read text dataset into pandas"
   ]
  },
  {
   "cell_type": "code",
   "execution_count": 4,
   "metadata": {
    "id": "yZhqGS4Awj9G"
   },
   "outputs": [],
   "source": [
    "# Read sms data into pandas\n",
    "data = pd.read_table('sms (1).tsv', header=None, names=['label', 'message'])"
   ]
  },
  {
   "cell_type": "code",
   "execution_count": 5,
   "metadata": {
    "id": "rZP6d8_Gwj9I"
   },
   "outputs": [
    {
     "data": {
      "text/plain": [
       "(5572, 2)"
      ]
     },
     "execution_count": 5,
     "metadata": {},
     "output_type": "execute_result"
    }
   ],
   "source": [
    "data.shape"
   ]
  },
  {
   "cell_type": "code",
   "execution_count": 7,
   "metadata": {
    "id": "ZVxk33_zwj9L"
   },
   "outputs": [
    {
     "data": {
      "text/html": [
       "<div>\n",
       "<style scoped>\n",
       "    .dataframe tbody tr th:only-of-type {\n",
       "        vertical-align: middle;\n",
       "    }\n",
       "\n",
       "    .dataframe tbody tr th {\n",
       "        vertical-align: top;\n",
       "    }\n",
       "\n",
       "    .dataframe thead th {\n",
       "        text-align: right;\n",
       "    }\n",
       "</style>\n",
       "<table border=\"1\" class=\"dataframe\">\n",
       "  <thead>\n",
       "    <tr style=\"text-align: right;\">\n",
       "      <th></th>\n",
       "      <th>label</th>\n",
       "      <th>message</th>\n",
       "    </tr>\n",
       "  </thead>\n",
       "  <tbody>\n",
       "    <tr>\n",
       "      <th>0</th>\n",
       "      <td>ham</td>\n",
       "      <td>Go until jurong point, crazy.. Available only ...</td>\n",
       "    </tr>\n",
       "    <tr>\n",
       "      <th>1</th>\n",
       "      <td>ham</td>\n",
       "      <td>Ok lar... Joking wif u oni...</td>\n",
       "    </tr>\n",
       "    <tr>\n",
       "      <th>2</th>\n",
       "      <td>spam</td>\n",
       "      <td>Free entry in 2 a wkly comp to win FA Cup fina...</td>\n",
       "    </tr>\n",
       "    <tr>\n",
       "      <th>3</th>\n",
       "      <td>ham</td>\n",
       "      <td>U dun say so early hor... U c already then say...</td>\n",
       "    </tr>\n",
       "    <tr>\n",
       "      <th>4</th>\n",
       "      <td>ham</td>\n",
       "      <td>Nah I don't think he goes to usf, he lives aro...</td>\n",
       "    </tr>\n",
       "  </tbody>\n",
       "</table>\n",
       "</div>"
      ],
      "text/plain": [
       "  label                                            message\n",
       "0   ham  Go until jurong point, crazy.. Available only ...\n",
       "1   ham                      Ok lar... Joking wif u oni...\n",
       "2  spam  Free entry in 2 a wkly comp to win FA Cup fina...\n",
       "3   ham  U dun say so early hor... U c already then say...\n",
       "4   ham  Nah I don't think he goes to usf, he lives aro..."
      ]
     },
     "execution_count": 7,
     "metadata": {},
     "output_type": "execute_result"
    }
   ],
   "source": [
    "data.head()"
   ]
  },
  {
   "cell_type": "code",
   "execution_count": 8,
   "metadata": {
    "id": "atKpBnMSwj9R"
   },
   "outputs": [],
   "source": [
    "# Target variable 'label' is categorical. Convert it into numeric value\n",
    "data['label_num'] = data.label.map({'ham':0, 'spam':1})"
   ]
  },
  {
   "cell_type": "code",
   "execution_count": 9,
   "metadata": {
    "id": "xN94YTiwwj9T"
   },
   "outputs": [
    {
     "data": {
      "text/html": [
       "<div>\n",
       "<style scoped>\n",
       "    .dataframe tbody tr th:only-of-type {\n",
       "        vertical-align: middle;\n",
       "    }\n",
       "\n",
       "    .dataframe tbody tr th {\n",
       "        vertical-align: top;\n",
       "    }\n",
       "\n",
       "    .dataframe thead th {\n",
       "        text-align: right;\n",
       "    }\n",
       "</style>\n",
       "<table border=\"1\" class=\"dataframe\">\n",
       "  <thead>\n",
       "    <tr style=\"text-align: right;\">\n",
       "      <th></th>\n",
       "      <th>label</th>\n",
       "      <th>message</th>\n",
       "      <th>label_num</th>\n",
       "    </tr>\n",
       "  </thead>\n",
       "  <tbody>\n",
       "    <tr>\n",
       "      <th>0</th>\n",
       "      <td>ham</td>\n",
       "      <td>Go until jurong point, crazy.. Available only ...</td>\n",
       "      <td>0</td>\n",
       "    </tr>\n",
       "    <tr>\n",
       "      <th>1</th>\n",
       "      <td>ham</td>\n",
       "      <td>Ok lar... Joking wif u oni...</td>\n",
       "      <td>0</td>\n",
       "    </tr>\n",
       "    <tr>\n",
       "      <th>2</th>\n",
       "      <td>spam</td>\n",
       "      <td>Free entry in 2 a wkly comp to win FA Cup fina...</td>\n",
       "      <td>1</td>\n",
       "    </tr>\n",
       "    <tr>\n",
       "      <th>3</th>\n",
       "      <td>ham</td>\n",
       "      <td>U dun say so early hor... U c already then say...</td>\n",
       "      <td>0</td>\n",
       "    </tr>\n",
       "    <tr>\n",
       "      <th>4</th>\n",
       "      <td>ham</td>\n",
       "      <td>Nah I don't think he goes to usf, he lives aro...</td>\n",
       "      <td>0</td>\n",
       "    </tr>\n",
       "  </tbody>\n",
       "</table>\n",
       "</div>"
      ],
      "text/plain": [
       "  label                                            message  label_num\n",
       "0   ham  Go until jurong point, crazy.. Available only ...          0\n",
       "1   ham                      Ok lar... Joking wif u oni...          0\n",
       "2  spam  Free entry in 2 a wkly comp to win FA Cup fina...          1\n",
       "3   ham  U dun say so early hor... U c already then say...          0\n",
       "4   ham  Nah I don't think he goes to usf, he lives aro...          0"
      ]
     },
     "execution_count": 9,
     "metadata": {},
     "output_type": "execute_result"
    }
   ],
   "source": [
    "data.head(5)"
   ]
  },
  {
   "cell_type": "code",
   "execution_count": 10,
   "metadata": {
    "id": "_pXAZjENPgqB"
   },
   "outputs": [
    {
     "data": {
      "text/plain": [
       "ham     4825\n",
       "spam     747\n",
       "Name: label, dtype: int64"
      ]
     },
     "execution_count": 10,
     "metadata": {},
     "output_type": "execute_result"
    }
   ],
   "source": [
    "data.label.value_counts()"
   ]
  },
  {
   "cell_type": "code",
   "execution_count": null,
   "metadata": {
    "id": "FPQ7v2X9wj9Z"
   },
   "outputs": [],
   "source": [
    "# Define X and y data sets from'data'\n",
    "X = data.message\n",
    "y = data.label_num\n",
    "print(X.shape)\n",
    "print(y.shape)"
   ]
  },
  {
   "cell_type": "code",
   "execution_count": null,
   "metadata": {
    "id": "iSmW8nyowj9b"
   },
   "outputs": [],
   "source": [
    "from sklearn.model_selection import train_test_split\n",
    "X_train, X_test, y_train, y_test = train_test_split(X, y, random_state=7)"
   ]
  },
  {
   "cell_type": "markdown",
   "metadata": {
    "id": "QxPJo7QWwj9g"
   },
   "source": [
    "##  3. Vectorize text dataset"
   ]
  },
  {
   "cell_type": "code",
   "execution_count": null,
   "metadata": {
    "id": "9LbijRHqwj9i"
   },
   "outputs": [],
   "source": [
    "# call the vectorizer\n",
    "toNumeric = CountVectorizer()"
   ]
  },
  {
   "cell_type": "code",
   "execution_count": null,
   "metadata": {
    "id": "VrTtPc9jwj9k"
   },
   "outputs": [],
   "source": [
    "# creat vocabulary and create document-term matrix\n",
    "toNumeric.fit(X_train)\n",
    "X_train_dtm = toNumeric.transform(X_train)"
   ]
  },
  {
   "cell_type": "code",
   "execution_count": null,
   "metadata": {
    "id": "iPZQi4qGwj9p"
   },
   "outputs": [],
   "source": [
    "X_train_dtm"
   ]
  },
  {
   "cell_type": "code",
   "execution_count": null,
   "metadata": {
    "id": "KKIoa-wDwj9u"
   },
   "outputs": [],
   "source": [
    "# transform test data using fitted vocabulary into DTM\n",
    "X_test_dtm = toNumeric.transform(X_test)\n",
    "X_test_dtm"
   ]
  },
  {
   "cell_type": "markdown",
   "metadata": {
    "id": "vwhAxi3uwj9x"
   },
   "source": [
    "## 4. Build and evaluate a model"
   ]
  },
  {
   "cell_type": "code",
   "execution_count": null,
   "metadata": {
    "id": "Aeb-iaIjwj9y"
   },
   "outputs": [],
   "source": [
    "from sklearn.naive_bayes import MultinomialNB\n",
    "nb = MultinomialNB()"
   ]
  },
  {
   "cell_type": "code",
   "execution_count": null,
   "metadata": {
    "id": "kWZFg-KBwj9z"
   },
   "outputs": [],
   "source": [
    "nb.fit(X_train_dtm, y_train)"
   ]
  },
  {
   "cell_type": "code",
   "execution_count": null,
   "metadata": {
    "id": "E1RGXdo4wj91"
   },
   "outputs": [],
   "source": [
    "y_pred_class = nb.predict(X_test_dtm)"
   ]
  },
  {
   "cell_type": "code",
   "execution_count": null,
   "metadata": {
    "id": "-bWC6LTOwj93"
   },
   "outputs": [],
   "source": [
    "# Accuracy calculation\n",
    "from sklearn import metrics\n",
    "metrics.accuracy_score(y_test, y_pred_class)"
   ]
  },
  {
   "cell_type": "code",
   "execution_count": null,
   "metadata": {
    "id": "8DYFE2uQwj96"
   },
   "outputs": [],
   "source": [
    "metrics.confusion_matrix(y_test, y_pred_class)"
   ]
  },
  {
   "cell_type": "code",
   "execution_count": null,
   "metadata": {
    "id": "Qjw1TsFK3MlC"
   },
   "outputs": [],
   "source": [
    "# Predict probablity for test data instead of labels directly\n",
    "y_pred_prob = nb.predict_proba(X_test_dtm)[:, 1]\n",
    "y_pred_prob"
   ]
  },
  {
   "cell_type": "code",
   "execution_count": null,
   "metadata": {
    "id": "D9tkryYS3LaV"
   },
   "outputs": [],
   "source": [
    "# Calculate AUC-ROC\n",
    "metrics.roc_auc_score(y_test, y_pred_prob)"
   ]
  },
  {
   "cell_type": "markdown",
   "metadata": {
    "id": "X-eTkaSDwj-K"
   },
   "source": [
    "## 5. Compare multiple models"
   ]
  },
  {
   "cell_type": "code",
   "execution_count": null,
   "metadata": {
    "id": "xY7JmPpqwj-K"
   },
   "outputs": [],
   "source": [
    "from sklearn.linear_model import LogisticRegression\n",
    "lr = LogisticRegression()"
   ]
  },
  {
   "cell_type": "code",
   "execution_count": null,
   "metadata": {
    "id": "Rg4rAQj_wj-M"
   },
   "outputs": [],
   "source": [
    "lr.fit(X_train_dtm, y_train)"
   ]
  },
  {
   "cell_type": "code",
   "execution_count": null,
   "metadata": {
    "id": "SX0jxNU5wj-O"
   },
   "outputs": [],
   "source": [
    "y_pred_class = lr.predict(X_test_dtm)"
   ]
  },
  {
   "cell_type": "code",
   "execution_count": null,
   "metadata": {
    "id": "URzGOheGwj-Q"
   },
   "outputs": [],
   "source": [
    "# calculate predicted probabilities for X_test_dtm\n",
    "y_pred_prob = lr.predict_proba(X_test_dtm)[:, 1]\n",
    "y_pred_prob"
   ]
  },
  {
   "cell_type": "code",
   "execution_count": null,
   "metadata": {
    "id": "1wSHsGO5wj-S"
   },
   "outputs": [],
   "source": [
    "metrics.accuracy_score(y_test, y_pred_class)"
   ]
  },
  {
   "cell_type": "code",
   "execution_count": null,
   "metadata": {
    "id": "5ZhV2YAHwj-V"
   },
   "outputs": [],
   "source": [
    "metrics.roc_auc_score(y_test, y_pred_prob)"
   ]
  },
  {
   "cell_type": "markdown",
   "metadata": {
    "id": "0fAMugIPwj-9"
   },
   "source": [
    "## 6. Fine tune vectorizer"
   ]
  },
  {
   "cell_type": "code",
   "execution_count": null,
   "metadata": {
    "id": "9CbGtaqRwj--"
   },
   "outputs": [],
   "source": [
    "# Default parameters for CountVectorizer\n",
    "toNumeric = CountVectorizer()\n",
    "toNumeric"
   ]
  },
  {
   "cell_type": "code",
   "execution_count": null,
   "metadata": {
    "id": "DkCZFIKFwj_A"
   },
   "outputs": [],
   "source": [
    "# Remove English stop words\n",
    "toNumeric = CountVectorizer(stop_words='english')\n",
    "toNumeric.fit(X_train)\n",
    "len(toNumeric.get_feature_names())"
   ]
  },
  {
   "cell_type": "code",
   "execution_count": null,
   "metadata": {
    "id": "zvexuCwFwj_B"
   },
   "outputs": [],
   "source": [
    "# Include 1 and 2-grams\n",
    "toNumeric = CountVectorizer(ngram_range=(1, 2))\n",
    "toNumeric.fit(X_train)\n",
    "len(toNumeric.get_feature_names())"
   ]
  },
  {
   "cell_type": "code",
   "execution_count": null,
   "metadata": {
    "id": "5QB_5WAnwj_D"
   },
   "outputs": [],
   "source": [
    "# Ignore terms that appear in more than 75% of the documents\n",
    "toNumeric = CountVectorizer(max_df=0.75)\n",
    "toNumeric.fit(X_train)\n",
    "len(toNumeric.get_feature_names())"
   ]
  },
  {
   "cell_type": "code",
   "execution_count": null,
   "metadata": {
    "id": "vHC-oizLwj_F"
   },
   "outputs": [],
   "source": [
    "# Keep terms that appear in at least 5 documents\n",
    "toNumeric = CountVectorizer(min_df=2)\n",
    "toNumeric.fit(X_train)\n",
    "len(toNumeric.get_feature_names())"
   ]
  },
  {
   "cell_type": "markdown",
   "metadata": {
    "collapsed": true,
    "id": "YIHaWAagwj_H"
   },
   "source": [
    "## 7. Word Cloud"
   ]
  },
  {
   "cell_type": "code",
   "execution_count": null,
   "metadata": {
    "id": "SAK6X0-jwj_H"
   },
   "outputs": [],
   "source": [
    "import matplotlib.pyplot as plt\n",
    "import seaborn as sns\n",
    "from wordcloud import WordCloud "
   ]
  },
  {
   "cell_type": "code",
   "execution_count": null,
   "metadata": {
    "id": "JjXZV57kwj_J"
   },
   "outputs": [],
   "source": [
    "sms.head(5)"
   ]
  },
  {
   "cell_type": "code",
   "execution_count": null,
   "metadata": {
    "id": "X5ix7Va-wj_M"
   },
   "outputs": [],
   "source": [
    "wc = WordCloud()\n",
    "wc.generate(str(sms['message']))\n",
    "plt.figure(figsize=(20,10), facecolor='k')\n",
    "plt.title(\"Most frequent words in SMS dataset\", fontsize=40,color='white')\n",
    "plt.imshow(wc)\n",
    "plt.show()"
   ]
  },
  {
   "cell_type": "markdown",
   "metadata": {
    "id": "YkaMtij1PgqH"
   },
   "source": [
    "## 8.  Lemmatization and stemming"
   ]
  },
  {
   "cell_type": "code",
   "execution_count": null,
   "metadata": {
    "id": "JKptKdhEPgqH"
   },
   "outputs": [],
   "source": [
    "import nltk"
   ]
  },
  {
   "cell_type": "code",
   "execution_count": null,
   "metadata": {
    "id": "Fb9O1DS9PgqH"
   },
   "outputs": [],
   "source": [
    "nltk.download('punkt')"
   ]
  },
  {
   "cell_type": "code",
   "execution_count": null,
   "metadata": {
    "id": "qezoS8vwPgqH"
   },
   "outputs": [],
   "source": [
    "from nltk.stem import PorterStemmer\n",
    "from nltk.stem import LancasterStemmer"
   ]
  },
  {
   "cell_type": "code",
   "execution_count": null,
   "metadata": {
    "id": "9dHm7T5pPgqH"
   },
   "outputs": [],
   "source": [
    "#create an object of class PorterStemmer\n",
    "porter = PorterStemmer()\n",
    "lancaster=LancasterStemmer()"
   ]
  },
  {
   "cell_type": "markdown",
   "metadata": {
    "id": "hQ88AErhPgqI"
   },
   "source": [
    "#### PorterStemmer\n",
    "\n",
    "- It uses set of rules to decide whether it is wise to strip a suffix. \n",
    "- Quite often does not generate words which are in dictionary.\n",
    "- PorterStemmer is known for its simplicity and speed. "
   ]
  },
  {
   "cell_type": "code",
   "execution_count": null,
   "metadata": {
    "id": "Jvnr4T28PgqI"
   },
   "outputs": [],
   "source": [
    "#proide a word to be stemmed\n",
    "print(porter.stem(\"cats\"))\n",
    "print(porter.stem(\"trouble\"))\n",
    "print(porter.stem(\"troubling\"))\n",
    "print(porter.stem(\"troubled\"))"
   ]
  },
  {
   "cell_type": "markdown",
   "metadata": {
    "id": "iJr5TgVNPgqI"
   },
   "source": [
    "### Sentence stemming"
   ]
  },
  {
   "cell_type": "code",
   "execution_count": null,
   "metadata": {
    "id": "9iabg1dUPgqI"
   },
   "outputs": [],
   "source": [
    "sentence=\"Pythoners are very intelligent and work very pythonly and now they are pythoning their way to success.\"\n",
    "porter.stem(sentence)"
   ]
  },
  {
   "cell_type": "code",
   "execution_count": null,
   "metadata": {
    "id": "FS2uQJcUPgqI"
   },
   "outputs": [],
   "source": [
    "from nltk.tokenize import sent_tokenize, word_tokenize\n",
    "def stemSentence(sentence):\n",
    "    token_words=word_tokenize(sentence)\n",
    "    token_words\n",
    "    stem_sentence=[]\n",
    "    for word in token_words:\n",
    "        stem_sentence.append(porter.stem(word))\n",
    "        stem_sentence.append(\" \")\n",
    "    return \"\".join(stem_sentence)\n",
    "\n",
    "x=stemSentence(sentence)\n",
    "print(x)"
   ]
  },
  {
   "cell_type": "code",
   "execution_count": null,
   "metadata": {
    "id": "eRGgf6-2PgqI"
   },
   "outputs": [],
   "source": [
    "from textblob import TextBlob"
   ]
  },
  {
   "cell_type": "code",
   "execution_count": null,
   "metadata": {
    "id": "2NH7gr4gPgqJ"
   },
   "outputs": [],
   "source": [
    "sent = TextBlob(sentence)"
   ]
  },
  {
   "cell_type": "code",
   "execution_count": null,
   "metadata": {
    "id": "jJsinq3JPgqJ"
   },
   "outputs": [],
   "source": [
    "print(' '.join([porter.stem(word) for word in sent.words]))"
   ]
  },
  {
   "cell_type": "markdown",
   "metadata": {
    "id": "qF1sUvEVPgqJ"
   },
   "source": [
    "## 9.  Sentiment calculation"
   ]
  },
  {
   "cell_type": "code",
   "execution_count": null,
   "metadata": {
    "id": "BtmspGttPgqJ"
   },
   "outputs": [],
   "source": [
    "from textblob import TextBlob"
   ]
  },
  {
   "cell_type": "code",
   "execution_count": null,
   "metadata": {
    "id": "29Fj4DFvPgqJ"
   },
   "outputs": [],
   "source": [
    "text = \"I hate anything that goes in my ear\""
   ]
  },
  {
   "cell_type": "code",
   "execution_count": null,
   "metadata": {
    "id": "_DQWOXTzPgqJ"
   },
   "outputs": [],
   "source": [
    "result = TextBlob(text)"
   ]
  },
  {
   "cell_type": "code",
   "execution_count": null,
   "metadata": {
    "id": "tlbIgXQHPgqK"
   },
   "outputs": [],
   "source": [
    "result.sentiment.polarity"
   ]
  },
  {
   "cell_type": "code",
   "execution_count": null,
   "metadata": {
    "id": "9N2hgoyePgqK"
   },
   "outputs": [],
   "source": []
  }
 ],
 "metadata": {
  "colab": {
   "name": "1. Text Classification - SMS.ipynb",
   "private_outputs": true,
   "provenance": []
  },
  "kernelspec": {
   "display_name": "Python 3",
   "language": "python",
   "name": "python3"
  },
  "language_info": {
   "codemirror_mode": {
    "name": "ipython",
    "version": 3
   },
   "file_extension": ".py",
   "mimetype": "text/x-python",
   "name": "python",
   "nbconvert_exporter": "python",
   "pygments_lexer": "ipython3",
   "version": "3.8.5"
  }
 },
 "nbformat": 4,
 "nbformat_minor": 1
}
